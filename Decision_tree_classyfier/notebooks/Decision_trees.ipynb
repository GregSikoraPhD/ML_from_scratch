{
 "cells": [
  {
   "cell_type": "markdown",
   "metadata": {
    "id": "BJTNodE7M3Np"
   },
   "source": [
    "# Decision tree classifier from scratch"
   ]
  },
  {
   "cell_type": "code",
   "execution_count": 9,
   "metadata": {
    "ExecuteTime": {
     "end_time": "2023-01-03T21:00:43.686454Z",
     "start_time": "2023-01-03T21:00:43.674425Z"
    },
    "id": "Cr0xxqFgMtnd"
   },
   "outputs": [],
   "source": [
    "import matplotlib.pyplot as plt\n",
    "import numpy as np\n",
    "import pandas as pd\n",
    "from collections import Counter\n",
    "from sklearn import datasets\n",
    "from sklearn.inspection import DecisionBoundaryDisplay\n",
    "from sklearn.model_selection import train_test_split\n",
    "from sklearn.tree import DecisionTreeClassifier, export_text, plot_tree, export_graphviz\n",
    "import graphviz\n",
    "import sys\n",
    "sys.path.insert(0, 'C:/Users/grzesiek/Documents/Data Science/PycharmProjects/ML_from_scratch/Decision_tree_classyfier')"
   ]
  },
  {
   "cell_type": "code",
   "execution_count": 2,
   "metadata": {
    "ExecuteTime": {
     "end_time": "2023-01-03T20:54:51.135388Z",
     "start_time": "2023-01-03T20:54:51.111363Z"
    },
    "id": "Nr0TcG0zIsdX"
   },
   "outputs": [],
   "source": [
    "from decision_tree_clf import entropy, accuracy, Node, DecisionTreeCls"
   ]
  },
  {
   "cell_type": "markdown",
   "metadata": {},
   "source": [
    "## Toy dataset"
   ]
  },
  {
   "cell_type": "code",
   "execution_count": 3,
   "metadata": {
    "ExecuteTime": {
     "end_time": "2023-01-03T20:54:53.919755Z",
     "start_time": "2023-01-03T20:54:53.907745Z"
    }
   },
   "outputs": [],
   "source": [
    "X = np.array([[1, 30], [1, 15], [1, 5], [0, 10], [0, 5], [0,15], [0, 20], [0, 25], [0, 30], [0,30]])\n",
    "y = np.array([0, 0, 0, 0, 0, 1, 1, 1, 1, 1])"
   ]
  },
  {
   "cell_type": "code",
   "execution_count": 4,
   "metadata": {
    "ExecuteTime": {
     "end_time": "2023-01-03T20:54:56.670127Z",
     "start_time": "2023-01-03T20:54:56.638132Z"
    }
   },
   "outputs": [
    {
     "name": "stdout",
     "output_type": "stream",
     "text": [
      "Root node: n_samples = 10, \n",
      "            splitting_feature = time_walk, \n",
      "            splitting_threshold = 10\n",
      "|--- Node right: n_samples = 7, \n",
      "            splitting_feature = rain, \n",
      "            splitting_threshold = 0\n",
      "|   |--- Leaf node right: 0\n",
      "|   |--- Leaf node left: 1\n",
      "|--- Leaf node left: 0\n"
     ]
    }
   ],
   "source": [
    "clf = DecisionTreeCls(max_depth=3)\n",
    "clf.fit(X, y)\n",
    "clf.export_text(['rain', 'time_walk'])"
   ]
  },
  {
   "cell_type": "code",
   "execution_count": 38,
   "metadata": {
    "ExecuteTime": {
     "end_time": "2023-01-03T21:22:42.872195Z",
     "start_time": "2023-01-03T21:22:42.692195Z"
    }
   },
   "outputs": [
    {
     "data": {
      "image/png": "[encoded data removed]",
      "text/plain": [
       "<Figure size 640x480 with 1 Axes>"
      ]
     },
     "metadata": {},
     "output_type": "display_data"
    }
   ],
   "source": [
    "feature_1, feature_2 = np.meshgrid(np.linspace(X[:, 0].min()-0.1, X[:, 0].max()+0.1),\n",
    "                                   np.linspace(X[:, 1].min()-2, X[:, 1].max())+1)\n",
    "grid = np.vstack([feature_1.ravel(), feature_2.ravel()]).T\n",
    "tree = clf.fit(X, y)\n",
    "y_pred = np.reshape(clf.predict(grid), feature_1.shape)\n",
    "\n",
    "display = DecisionBoundaryDisplay(xx0=feature_1, xx1=feature_2, response=y_pred, ylabel='time_walk', xlabel='rain')\n",
    "display.plot()\n",
    "display.ax_.scatter(X[:, 0], X[:, 1], c=y, edgecolor=\"black\");"
   ]
  },
  {
   "cell_type": "code",
   "execution_count": 39,
   "metadata": {
    "ExecuteTime": {
     "end_time": "2023-01-03T21:24:52.019839Z",
     "start_time": "2023-01-03T21:24:51.851597Z"
    }
   },
   "outputs": [
    {
     "data": {
      "image/svg+xml": [
       "<?xml version=\"1.0\" encoding=\"UTF-8\" standalone=\"no\"?>\n",
       "<!DOCTYPE svg PUBLIC \"-//W3C//DTD SVG 1.1//EN\"\n",
       " \"http://www.w3.org/Graphics/SVG/1.1/DTD/svg11.dtd\">\n",
       "<!-- Generated by graphviz version 5.0.1 (20220820.1526)\n",
       " -->\n",
       "<!-- Title: Tree Pages: 1 -->\n",
       "<svg width=\"301pt\" height=\"314pt\"\n",
       " viewBox=\"0.00 0.00 301.00 314.00\" xmlns=\"http://www.w3.org/2000/svg\" xmlns:xlink=\"http://www.w3.org/1999/xlink\">\n",
       "<g id=\"graph0\" class=\"graph\" transform=\"scale(1 1) rotate(0) translate(4 310)\">\n",
       "<title>Tree</title>\n",
       "<polygon fill=\"white\" stroke=\"none\" points=\"-4,4 -4,-310 297,-310 297,4 -4,4\"/>\n",
       "<!-- 0 -->\n",
       "<g id=\"node1\" class=\"node\">\n",
       "<title>0</title>\n",
       "<path fill=\"#ffffff\" stroke=\"black\" d=\"M165,-306C165,-306 67,-306 67,-306 61,-306 55,-300 55,-294 55,-294 55,-235 55,-235 55,-229 61,-223 67,-223 67,-223 165,-223 165,-223 171,-223 177,-229 177,-235 177,-235 177,-294 177,-294 177,-300 171,-306 165,-306\"/>\n",
       "<text text-anchor=\"start\" x=\"63\" y=\"-290.8\" font-family=\"Helvetica,sans-Serif\" font-size=\"14.00\">time_walk ≤ 12.5</text>\n",
       "<text text-anchor=\"start\" x=\"87\" y=\"-275.8\" font-family=\"Helvetica,sans-Serif\" font-size=\"14.00\">gini = 0.5</text>\n",
       "<text text-anchor=\"start\" x=\"72.5\" y=\"-260.8\" font-family=\"Helvetica,sans-Serif\" font-size=\"14.00\">samples = 10</text>\n",
       "<text text-anchor=\"start\" x=\"75.5\" y=\"-245.8\" font-family=\"Helvetica,sans-Serif\" font-size=\"14.00\">value = [5, 5]</text>\n",
       "<text text-anchor=\"start\" x=\"69\" y=\"-230.8\" font-family=\"Helvetica,sans-Serif\" font-size=\"14.00\">class = not_go</text>\n",
       "</g>\n",
       "<!-- 1 -->\n",
       "<g id=\"node2\" class=\"node\">\n",
       "<title>1</title>\n",
       "<path fill=\"#e58139\" stroke=\"black\" d=\"M98,-179.5C98,-179.5 12,-179.5 12,-179.5 6,-179.5 0,-173.5 0,-167.5 0,-167.5 0,-123.5 0,-123.5 0,-117.5 6,-111.5 12,-111.5 12,-111.5 98,-111.5 98,-111.5 104,-111.5 110,-117.5 110,-123.5 110,-123.5 110,-167.5 110,-167.5 110,-173.5 104,-179.5 98,-179.5\"/>\n",
       "<text text-anchor=\"start\" x=\"26\" y=\"-164.3\" font-family=\"Helvetica,sans-Serif\" font-size=\"14.00\">gini = 0.0</text>\n",
       "<text text-anchor=\"start\" x=\"15.5\" y=\"-149.3\" font-family=\"Helvetica,sans-Serif\" font-size=\"14.00\">samples = 3</text>\n",
       "<text text-anchor=\"start\" x=\"14.5\" y=\"-134.3\" font-family=\"Helvetica,sans-Serif\" font-size=\"14.00\">value = [3, 0]</text>\n",
       "<text text-anchor=\"start\" x=\"8\" y=\"-119.3\" font-family=\"Helvetica,sans-Serif\" font-size=\"14.00\">class = not_go</text>\n",
       "</g>\n",
       "<!-- 0&#45;&gt;1 -->\n",
       "<g id=\"edge1\" class=\"edge\">\n",
       "<title>0&#45;&gt;1</title>\n",
       "<path fill=\"none\" stroke=\"black\" d=\"M94.84,-222.91C89.08,-211.87 82.84,-199.9 77.04,-188.77\"/>\n",
       "<polygon fill=\"black\" stroke=\"black\" points=\"80.02,-186.92 72.29,-179.67 73.81,-190.15 80.02,-186.92\"/>\n",
       "<text text-anchor=\"middle\" x=\"64.79\" y=\"-199.81\" font-family=\"Helvetica,sans-Serif\" font-size=\"14.00\">True</text>\n",
       "</g>\n",
       "<!-- 2 -->\n",
       "<g id=\"node3\" class=\"node\">\n",
       "<title>2</title>\n",
       "<path fill=\"#88c4ef\" stroke=\"black\" d=\"M213.5,-187C213.5,-187 140.5,-187 140.5,-187 134.5,-187 128.5,-181 128.5,-175 128.5,-175 128.5,-116 128.5,-116 128.5,-110 134.5,-104 140.5,-104 140.5,-104 213.5,-104 213.5,-104 219.5,-104 225.5,-110 225.5,-116 225.5,-116 225.5,-175 225.5,-175 225.5,-181 219.5,-187 213.5,-187\"/>\n",
       "<text text-anchor=\"start\" x=\"148\" y=\"-171.8\" font-family=\"Helvetica,sans-Serif\" font-size=\"14.00\">rain ≤ 0.5</text>\n",
       "<text text-anchor=\"start\" x=\"139.5\" y=\"-156.8\" font-family=\"Helvetica,sans-Serif\" font-size=\"14.00\">gini = 0.408</text>\n",
       "<text text-anchor=\"start\" x=\"137.5\" y=\"-141.8\" font-family=\"Helvetica,sans-Serif\" font-size=\"14.00\">samples = 7</text>\n",
       "<text text-anchor=\"start\" x=\"136.5\" y=\"-126.8\" font-family=\"Helvetica,sans-Serif\" font-size=\"14.00\">value = [2, 5]</text>\n",
       "<text text-anchor=\"start\" x=\"144\" y=\"-111.8\" font-family=\"Helvetica,sans-Serif\" font-size=\"14.00\">class = go</text>\n",
       "</g>\n",
       "<!-- 0&#45;&gt;2 -->\n",
       "<g id=\"edge2\" class=\"edge\">\n",
       "<title>0&#45;&gt;2</title>\n",
       "<path fill=\"none\" stroke=\"black\" d=\"M137.16,-222.91C141.71,-214.2 146.55,-204.9 151.25,-195.89\"/>\n",
       "<polygon fill=\"black\" stroke=\"black\" points=\"154.35,-197.51 155.87,-187.02 148.15,-194.27 154.35,-197.51\"/>\n",
       "<text text-anchor=\"middle\" x=\"163.38\" y=\"-207.17\" font-family=\"Helvetica,sans-Serif\" font-size=\"14.00\">False</text>\n",
       "</g>\n",
       "<!-- 3 -->\n",
       "<g id=\"node4\" class=\"node\">\n",
       "<title>3</title>\n",
       "<path fill=\"#399de5\" stroke=\"black\" d=\"M152.5,-68C152.5,-68 79.5,-68 79.5,-68 73.5,-68 67.5,-62 67.5,-56 67.5,-56 67.5,-12 67.5,-12 67.5,-6 73.5,0 79.5,0 79.5,0 152.5,0 152.5,0 158.5,0 164.5,-6 164.5,-12 164.5,-12 164.5,-56 164.5,-56 164.5,-62 158.5,-68 152.5,-68\"/>\n",
       "<text text-anchor=\"start\" x=\"87\" y=\"-52.8\" font-family=\"Helvetica,sans-Serif\" font-size=\"14.00\">gini = 0.0</text>\n",
       "<text text-anchor=\"start\" x=\"76.5\" y=\"-37.8\" font-family=\"Helvetica,sans-Serif\" font-size=\"14.00\">samples = 5</text>\n",
       "<text text-anchor=\"start\" x=\"75.5\" y=\"-22.8\" font-family=\"Helvetica,sans-Serif\" font-size=\"14.00\">value = [0, 5]</text>\n",
       "<text text-anchor=\"start\" x=\"83\" y=\"-7.8\" font-family=\"Helvetica,sans-Serif\" font-size=\"14.00\">class = go</text>\n",
       "</g>\n",
       "<!-- 2&#45;&gt;3 -->\n",
       "<g id=\"edge3\" class=\"edge\">\n",
       "<title>2&#45;&gt;3</title>\n",
       "<path fill=\"none\" stroke=\"black\" d=\"M154.29,-103.73C149.46,-95.06 144.35,-85.9 139.5,-77.18\"/>\n",
       "<polygon fill=\"black\" stroke=\"black\" points=\"142.47,-75.33 134.55,-68.3 136.36,-78.74 142.47,-75.33\"/>\n",
       "</g>\n",
       "<!-- 4 -->\n",
       "<g id=\"node5\" class=\"node\">\n",
       "<title>4</title>\n",
       "<path fill=\"#e58139\" stroke=\"black\" d=\"M281,-68C281,-68 195,-68 195,-68 189,-68 183,-62 183,-56 183,-56 183,-12 183,-12 183,-6 189,0 195,0 195,0 281,0 281,0 287,0 293,-6 293,-12 293,-12 293,-56 293,-56 293,-62 287,-68 281,-68\"/>\n",
       "<text text-anchor=\"start\" x=\"209\" y=\"-52.8\" font-family=\"Helvetica,sans-Serif\" font-size=\"14.00\">gini = 0.0</text>\n",
       "<text text-anchor=\"start\" x=\"198.5\" y=\"-37.8\" font-family=\"Helvetica,sans-Serif\" font-size=\"14.00\">samples = 2</text>\n",
       "<text text-anchor=\"start\" x=\"197.5\" y=\"-22.8\" font-family=\"Helvetica,sans-Serif\" font-size=\"14.00\">value = [2, 0]</text>\n",
       "<text text-anchor=\"start\" x=\"191\" y=\"-7.8\" font-family=\"Helvetica,sans-Serif\" font-size=\"14.00\">class = not_go</text>\n",
       "</g>\n",
       "<!-- 2&#45;&gt;4 -->\n",
       "<g id=\"edge4\" class=\"edge\">\n",
       "<title>2&#45;&gt;4</title>\n",
       "<path fill=\"none\" stroke=\"black\" d=\"M199.71,-103.73C204.54,-95.06 209.65,-85.9 214.5,-77.18\"/>\n",
       "<polygon fill=\"black\" stroke=\"black\" points=\"217.64,-78.74 219.45,-68.3 211.53,-75.33 217.64,-78.74\"/>\n",
       "</g>\n",
       "</g>\n",
       "</svg>\n"
      ],
      "text/plain": [
       "<graphviz.sources.Source at 0x174d4b1d9a0>"
      ]
     },
     "execution_count": 39,
     "metadata": {},
     "output_type": "execute_result"
    }
   ],
   "source": [
    "# clf_sklearn = DecisionTreeClassifier()\n",
    "clf_sklearn = clf_sklearn.fit(X, y)\n",
    "\n",
    "dot_data = export_graphviz(clf_sklearn, out_file=None, \n",
    "                      feature_names=['rain', 'time_walk'],  \n",
    "                      class_names=['not_go', 'go'],  \n",
    "                      filled=True, rounded=True,  \n",
    "                      special_characters=True)  \n",
    "graph = graphviz.Source(dot_data)\n",
    "graph"
   ]
  },
  {
   "cell_type": "markdown",
   "metadata": {},
   "source": [
    "## Breast_cancer dataset"
   ]
  },
  {
   "cell_type": "code",
   "execution_count": 7,
   "metadata": {
    "ExecuteTime": {
     "end_time": "2022-12-22T21:41:13.211989Z",
     "start_time": "2022-12-22T21:41:13.183970Z"
    },
    "id": "eqv0unwvRsVf"
   },
   "outputs": [],
   "source": [
    "data = datasets.load_breast_cancer()\n",
    "X = data.data\n",
    "y = data.target\n",
    "\n",
    "X_train, X_test, y_train, y_test = train_test_split(X, y, test_size=0.2)"
   ]
  },
  {
   "cell_type": "code",
   "execution_count": 8,
   "metadata": {
    "ExecuteTime": {
     "end_time": "2022-12-22T21:41:32.995608Z",
     "start_time": "2022-12-22T21:41:30.999609Z"
    },
    "colab": {
     "base_uri": "https://localhost:8080/"
    },
    "id": "PoaGVDz-Tr-j",
    "outputId": "23d550c6-4af9-42e2-8813-c554e22b9fc0"
   },
   "outputs": [
    {
     "name": "stdout",
     "output_type": "stream",
     "text": [
      "Root node: n_samples = 455, \n",
      "            splitting_feature = mean concave points, \n",
      "            splitting_threshold = 0.04908\n",
      "|--- Node right: n_samples = 177, \n",
      "            splitting_feature = worst area, \n",
      "            splitting_threshold = 861.5\n",
      "|   |--- Leaf node right: 0\n",
      "|   |--- Node left: n_samples = 48, \n",
      "            splitting_feature = worst texture, \n",
      "            splitting_threshold = 25.4\n",
      "|   |   |--- Leaf node right: 0\n",
      "|   |   |--- Leaf node left: 1\n",
      "|--- Node left: n_samples = 278, \n",
      "            splitting_feature = worst area, \n",
      "            splitting_threshold = 928.2\n",
      "|   |--- Node right: n_samples = 13, \n",
      "            splitting_feature = mean texture, \n",
      "            splitting_threshold = 19.46\n",
      "|   |   |--- Leaf node right: 0\n",
      "|   |   |--- Leaf node left: 1\n",
      "|   |--- Node left: n_samples = 265, \n",
      "            splitting_feature = compactness error, \n",
      "            splitting_threshold = 0.01202\n",
      "|   |   |--- Leaf node right: 1\n",
      "|   |   |--- Leaf node left: 1\n"
     ]
    }
   ],
   "source": [
    "clf = DecisionTreeCls(max_depth=3)\n",
    "clf.fit(X_train, y_train)\n",
    "clf.export_text(data['feature_names'])"
   ]
  },
  {
   "cell_type": "code",
   "execution_count": 9,
   "metadata": {
    "ExecuteTime": {
     "end_time": "2022-12-22T21:42:19.895841Z",
     "start_time": "2022-12-22T21:42:19.804468Z"
    }
   },
   "outputs": [
    {
     "data": {
      "text/html": [
       "<style type=\"text/css\">\n",
       "#T_fe700_row0_col1 {\n",
       "  width: 10em;\n",
       "  background: linear-gradient(90deg, #d65f5f 100.0%, transparent 100.0%);\n",
       "}\n",
       "#T_fe700_row1_col1 {\n",
       "  width: 10em;\n",
       "  background: linear-gradient(90deg, #d65f5f 87.9%, transparent 87.9%);\n",
       "}\n",
       "#T_fe700_row2_col1 {\n",
       "  width: 10em;\n",
       "  background: linear-gradient(90deg, #d65f5f 78.7%, transparent 78.7%);\n",
       "}\n",
       "#T_fe700_row3_col1 {\n",
       "  width: 10em;\n",
       "  background: linear-gradient(90deg, #d65f5f 43.3%, transparent 43.3%);\n",
       "}\n",
       "#T_fe700_row4_col1 {\n",
       "  width: 10em;\n",
       "  background: linear-gradient(90deg, #d65f5f 16.7%, transparent 16.7%);\n",
       "}\n",
       "#T_fe700_row5_col1 {\n",
       "  width: 10em;\n",
       "  background: linear-gradient(90deg, #d65f5f 2.8%, transparent 2.8%);\n",
       "}\n",
       "</style>\n",
       "<table id=\"T_fe700\">\n",
       "  <thead>\n",
       "    <tr>\n",
       "      <th class=\"blank level0\" >&nbsp;</th>\n",
       "      <th id=\"T_fe700_level0_col0\" class=\"col_heading level0 col0\" >feature_name</th>\n",
       "      <th id=\"T_fe700_level0_col1\" class=\"col_heading level0 col1\" >feature_importance</th>\n",
       "    </tr>\n",
       "  </thead>\n",
       "  <tbody>\n",
       "    <tr>\n",
       "      <th id=\"T_fe700_level0_row0\" class=\"row_heading level0 row0\" >4</th>\n",
       "      <td id=\"T_fe700_row0_col0\" class=\"data row0 col0\" >mean texture</td>\n",
       "      <td id=\"T_fe700_row0_col1\" class=\"data row0 col1\" >0.661226</td>\n",
       "    </tr>\n",
       "    <tr>\n",
       "      <th id=\"T_fe700_level0_row1\" class=\"row_heading level0 row1\" >0</th>\n",
       "      <td id=\"T_fe700_row1_col0\" class=\"data row1 col0\" >mean concave points</td>\n",
       "      <td id=\"T_fe700_row1_col1\" class=\"data row1 col1\" >0.581235</td>\n",
       "    </tr>\n",
       "    <tr>\n",
       "      <th id=\"T_fe700_level0_row2\" class=\"row_heading level0 row2\" >2</th>\n",
       "      <td id=\"T_fe700_row2_col0\" class=\"data row2 col0\" >worst texture</td>\n",
       "      <td id=\"T_fe700_row2_col1\" class=\"data row2 col1\" >0.520057</td>\n",
       "    </tr>\n",
       "    <tr>\n",
       "      <th id=\"T_fe700_level0_row3\" class=\"row_heading level0 row3\" >1</th>\n",
       "      <td id=\"T_fe700_row3_col0\" class=\"data row3 col0\" >worst area</td>\n",
       "      <td id=\"T_fe700_row3_col1\" class=\"data row3 col1\" >0.286436</td>\n",
       "    </tr>\n",
       "    <tr>\n",
       "      <th id=\"T_fe700_level0_row4\" class=\"row_heading level0 row4\" >3</th>\n",
       "      <td id=\"T_fe700_row4_col0\" class=\"data row4 col0\" >worst area</td>\n",
       "      <td id=\"T_fe700_row4_col1\" class=\"data row4 col1\" >0.110114</td>\n",
       "    </tr>\n",
       "    <tr>\n",
       "      <th id=\"T_fe700_level0_row5\" class=\"row_heading level0 row5\" >5</th>\n",
       "      <td id=\"T_fe700_row5_col0\" class=\"data row5 col0\" >compactness error</td>\n",
       "      <td id=\"T_fe700_row5_col1\" class=\"data row5 col1\" >0.018576</td>\n",
       "    </tr>\n",
       "  </tbody>\n",
       "</table>\n"
      ],
      "text/plain": [
       "<pandas.io.formats.style.Styler at 0x136f5e06310>"
      ]
     },
     "execution_count": 9,
     "metadata": {},
     "output_type": "execute_result"
    }
   ],
   "source": [
    "clf.feature_importance(data['feature_names']).sort_values(by='feature_importance', ascending=False).style.bar('feature_importance')"
   ]
  },
  {
   "cell_type": "code",
   "execution_count": 10,
   "metadata": {
    "ExecuteTime": {
     "end_time": "2022-12-22T21:43:35.452941Z",
     "start_time": "2022-12-22T21:43:35.445923Z"
    },
    "colab": {
     "base_uri": "https://localhost:8080/"
    },
    "id": "Q9cb4NOQA6XX",
    "outputId": "792896ac-e479-4019-a958-426a4c5c2f46"
   },
   "outputs": [
    {
     "data": {
      "text/plain": [
       "0.9122807017543859"
      ]
     },
     "execution_count": 10,
     "metadata": {},
     "output_type": "execute_result"
    }
   ],
   "source": [
    "y_pred = clf.predict(X_test)\n",
    "accuracy(y_test, y_pred)"
   ]
  },
  {
   "cell_type": "markdown",
   "metadata": {
    "id": "Ibhc3BHyUcFy"
   },
   "source": [
    "# Decision tree classifier from sklearn"
   ]
  },
  {
   "cell_type": "markdown",
   "metadata": {
    "id": "dZDfTT7h-bgm"
   },
   "source": [
    "## Parameters"
   ]
  },
  {
   "cell_type": "code",
   "execution_count": 12,
   "metadata": {
    "ExecuteTime": {
     "end_time": "2022-12-22T21:47:33.140754Z",
     "start_time": "2022-12-22T21:47:33.110543Z"
    },
    "id": "tXaMUW4YUwLT"
   },
   "outputs": [],
   "source": [
    "parameters={\n",
    "    'criterion':'entropy',# {“gini”, “entropy”, “log_loss”}\n",
    "    'splitter':'best', # {“best”, “random”}\n",
    "    'max_depth': 3,\n",
    "    'min_samples_split': 2,\n",
    "    'min_samples_leaf': 1,\n",
    "    'min_weight_fraction_leaf': 0.0,\n",
    "    'max_features': None, # int, float or {“auto”, “sqrt”, “log2”}, default=None\n",
    "    'random_state': None, # int, RandomState instance or None, default=None\n",
    "    'max_leaf_nodes': None, # int, default=None\n",
    "    'min_impurity_decrease': 0.0, # float, default=0.0\n",
    "    'class_weight': None, # dict, list of dict or “balanced”, default=None\n",
    "    'ccp_alpha': 0.0, # non-negative float, default=0.0\n",
    "}\n",
    "\n",
    "clf = DecisionTreeClassifier(\n",
    "    criterion=parameters['criterion'],\n",
    "    splitter=parameters['splitter'], \n",
    "    max_depth=parameters['max_depth'],\n",
    "    min_samples_split=parameters['min_samples_split'],\n",
    "    min_samples_leaf=parameters['min_samples_leaf'],\n",
    "    min_weight_fraction_leaf=parameters['min_weight_fraction_leaf'],\n",
    "    max_features=parameters['max_features'],\n",
    "    random_state=parameters['random_state'],\n",
    "    max_leaf_nodes=parameters['max_leaf_nodes'],\n",
    "    min_impurity_decrease=parameters['min_impurity_decrease'],\n",
    "    class_weight=parameters['class_weight'],\n",
    "    ccp_alpha=parameters['ccp_alpha']\n",
    "    )\n",
    "clf = clf.fit(X_train, y_train)"
   ]
  },
  {
   "cell_type": "markdown",
   "metadata": {
    "id": "N6hFvJfKfPM5"
   },
   "source": [
    "## Attributes"
   ]
  },
  {
   "cell_type": "code",
   "execution_count": 13,
   "metadata": {
    "ExecuteTime": {
     "end_time": "2022-12-22T21:47:46.901818Z",
     "start_time": "2022-12-22T21:47:46.893873Z"
    },
    "colab": {
     "base_uri": "https://localhost:8080/"
    },
    "id": "UQp1zdXLNmVZ",
    "outputId": "1ee1f874-2c8b-4e45-d661-fc49c296d45d"
   },
   "outputs": [
    {
     "name": "stdout",
     "output_type": "stream",
     "text": [
      "Attributes of tree: {'feature_importances_', 'classes_', 'n_classes_', 'max_features_', 'n_features_', 'n_features_in_', 'n_outputs_', 'tree_'}\n"
     ]
    }
   ],
   "source": [
    "# attributes:\n",
    "atts = {att for att in dir(clf) if (att[-1]=='_') & (att[0]!='_')}\n",
    "print('Attributes of tree:', atts)"
   ]
  },
  {
   "cell_type": "code",
   "execution_count": 15,
   "metadata": {
    "ExecuteTime": {
     "end_time": "2022-12-22T21:48:54.736939Z",
     "start_time": "2022-12-22T21:48:54.722892Z"
    },
    "colab": {
     "base_uri": "https://localhost:8080/",
     "height": 332
    },
    "id": "fccniyUROmVq",
    "outputId": "36e415a0-d669-4d58-fa28-d843270a11cb"
   },
   "outputs": [
    {
     "data": {
      "text/html": [
       "<style type=\"text/css\">\n",
       "#T_beb1d_row0_col0 {\n",
       "  width: 10em;\n",
       "  background: linear-gradient(90deg, #d65f5f 100.0%, transparent 100.0%);\n",
       "}\n",
       "#T_beb1d_row1_col0 {\n",
       "  width: 10em;\n",
       "  background: linear-gradient(90deg, #d65f5f 30.7%, transparent 30.7%);\n",
       "}\n",
       "#T_beb1d_row2_col0 {\n",
       "  width: 10em;\n",
       "  background: linear-gradient(90deg, #d65f5f 9.4%, transparent 9.4%);\n",
       "}\n",
       "#T_beb1d_row3_col0 {\n",
       "  width: 10em;\n",
       "  background: linear-gradient(90deg, #d65f5f 3.3%, transparent 3.3%);\n",
       "}\n",
       "#T_beb1d_row4_col0 {\n",
       "  width: 10em;\n",
       "  background: linear-gradient(90deg, #d65f5f 1.9%, transparent 1.9%);\n",
       "}\n",
       "</style>\n",
       "<table id=\"T_beb1d\">\n",
       "  <thead>\n",
       "    <tr>\n",
       "      <th class=\"blank level0\" >&nbsp;</th>\n",
       "      <th id=\"T_beb1d_level0_col0\" class=\"col_heading level0 col0\" >feature_importance</th>\n",
       "    </tr>\n",
       "  </thead>\n",
       "  <tbody>\n",
       "    <tr>\n",
       "      <th id=\"T_beb1d_level0_row0\" class=\"row_heading level0 row0\" >mean concave points</th>\n",
       "      <td id=\"T_beb1d_row0_col0\" class=\"data row0 col0\" >0.688247</td>\n",
       "    </tr>\n",
       "    <tr>\n",
       "      <th id=\"T_beb1d_level0_row1\" class=\"row_heading level0 row1\" >worst area</th>\n",
       "      <td id=\"T_beb1d_row1_col0\" class=\"data row1 col0\" >0.211608</td>\n",
       "    </tr>\n",
       "    <tr>\n",
       "      <th id=\"T_beb1d_level0_row2\" class=\"row_heading level0 row2\" >worst texture</th>\n",
       "      <td id=\"T_beb1d_row2_col0\" class=\"data row2 col0\" >0.064964</td>\n",
       "    </tr>\n",
       "    <tr>\n",
       "      <th id=\"T_beb1d_level0_row3\" class=\"row_heading level0 row3\" >mean texture</th>\n",
       "      <td id=\"T_beb1d_row3_col0\" class=\"data row3 col0\" >0.022370</td>\n",
       "    </tr>\n",
       "    <tr>\n",
       "      <th id=\"T_beb1d_level0_row4\" class=\"row_heading level0 row4\" >compactness error</th>\n",
       "      <td id=\"T_beb1d_row4_col0\" class=\"data row4 col0\" >0.012811</td>\n",
       "    </tr>\n",
       "  </tbody>\n",
       "</table>\n"
      ],
      "text/plain": [
       "<pandas.io.formats.style.Styler at 0x136f7a36910>"
      ]
     },
     "execution_count": 15,
     "metadata": {},
     "output_type": "execute_result"
    }
   ],
   "source": [
    "# feature importance\n",
    "df=pd.DataFrame(np.transpose([clf.feature_importances_]), index=data['feature_names'], columns=['feature_importance'])\n",
    "\n",
    "filt = df['feature_importance']>0\n",
    "(df[filt]).sort_values(by='feature_importance', ascending=False).style.bar(\"feature_importance\")"
   ]
  },
  {
   "cell_type": "code",
   "execution_count": 16,
   "metadata": {
    "ExecuteTime": {
     "end_time": "2022-12-22T21:49:31.473894Z",
     "start_time": "2022-12-22T21:49:31.455139Z"
    },
    "colab": {
     "base_uri": "https://localhost:8080/"
    },
    "id": "Wyb2blE4eyJ9",
    "outputId": "7db1ad63-e25a-4f01-c7d1-7ebd114c223b"
   },
   "outputs": [
    {
     "name": "stdout",
     "output_type": "stream",
     "text": [
      "n_features_in_ = 30\n",
      "n_outputs_ = 1\n",
      "classes_ = [0 1]\n",
      "n_classes_ = 2\n",
      "max_features_ = 30\n"
     ]
    }
   ],
   "source": [
    "# scalar attributes\n",
    "for att, val in clf.__dict__.items():\n",
    "    if att in atts-{'tree_', 'feature_importances_'}:\n",
    "        print(att,'=', val)"
   ]
  },
  {
   "cell_type": "code",
   "execution_count": 18,
   "metadata": {
    "ExecuteTime": {
     "end_time": "2022-09-06T11:30:17.487752Z",
     "start_time": "2022-09-06T11:30:17.475773Z"
    },
    "colab": {
     "base_uri": "https://localhost:8080/"
    },
    "id": "kAIPECivfYxJ",
    "outputId": "8b85a1cb-fc14-455e-8146-e67475c822fa"
   },
   "outputs": [
    {
     "name": "stdout",
     "output_type": "stream",
     "text": [
      "['__class__', '__delattr__', '__dir__', '__doc__', '__eq__', '__format__', '__ge__', '__getattribute__', '__getstate__', '__gt__', '__hash__', '__init__', '__init_subclass__', '__le__', '__lt__', '__ne__', '__new__', '__pyx_vtable__', '__reduce__', '__reduce_ex__', '__repr__', '__setattr__', '__setstate__', '__sizeof__', '__str__', '__subclasshook__', 'apply', 'capacity', 'children_left', 'children_right', 'compute_feature_importances', 'compute_partial_dependence', 'decision_path', 'feature', 'impurity', 'max_depth', 'max_n_classes', 'n_classes', 'n_features', 'n_leaves', 'n_node_samples', 'n_outputs', 'node_count', 'predict', 'threshold', 'value', 'weighted_n_node_samples']\n"
     ]
    }
   ],
   "source": [
    "# tree attributes\n",
    "print(dir(clf.tree_))"
   ]
  },
  {
   "cell_type": "markdown",
   "metadata": {
    "id": "UhEFShjd-1nQ"
   },
   "source": [
    "## Methods"
   ]
  },
  {
   "cell_type": "code",
   "execution_count": 17,
   "metadata": {
    "ExecuteTime": {
     "end_time": "2022-12-22T21:50:06.287541Z",
     "start_time": "2022-12-22T21:50:06.278540Z"
    },
    "colab": {
     "base_uri": "https://localhost:8080/"
    },
    "id": "FkM9PSsGAJlf",
    "outputId": "1cd43f5e-b93c-4fa7-bf9c-e67cde987d7f"
   },
   "outputs": [
    {
     "data": {
      "text/plain": [
       "['apply',\n",
       " 'cost_complexity_pruning_path',\n",
       " 'decision_path',\n",
       " 'get_depth',\n",
       " 'get_n_leaves',\n",
       " 'get_params',\n",
       " 'predict',\n",
       " 'predict_log_proba',\n",
       " 'predict_proba',\n",
       " 'score',\n",
       " 'set_params']"
      ]
     },
     "execution_count": 17,
     "metadata": {},
     "output_type": "execute_result"
    }
   ],
   "source": [
    "meths = ['apply', \n",
    "         'cost_complexity_pruning_path',\n",
    "         'decision_path',\n",
    "         'get_depth', \n",
    "         'get_n_leaves',\n",
    "         'get_params',\n",
    "         'predict',\n",
    "         'predict_log_proba',\n",
    "         'predict_proba',\n",
    "         'score',\n",
    "         'set_params']\n",
    "meths"
   ]
  },
  {
   "cell_type": "code",
   "execution_count": 18,
   "metadata": {
    "ExecuteTime": {
     "end_time": "2022-12-22T21:50:13.418270Z",
     "start_time": "2022-12-22T21:50:13.403239Z"
    },
    "colab": {
     "base_uri": "https://localhost:8080/"
    },
    "id": "QhFxNFVz9clp",
    "outputId": "42d10ba3-f206-4f38-c05f-5a9d3f8f1191"
   },
   "outputs": [
    {
     "data": {
      "text/plain": [
       "array([3], dtype=int64)"
      ]
     },
     "execution_count": 18,
     "metadata": {},
     "output_type": "execute_result"
    }
   ],
   "source": [
    "clf.apply(X_test[[2],:])"
   ]
  },
  {
   "cell_type": "code",
   "execution_count": 19,
   "metadata": {
    "ExecuteTime": {
     "end_time": "2022-12-22T21:50:19.612145Z",
     "start_time": "2022-12-22T21:50:19.600154Z"
    },
    "colab": {
     "base_uri": "https://localhost:8080/"
    },
    "id": "v5N89ZWI9cpD",
    "outputId": "e2a04521-41ac-41bd-94fb-4c570c009231"
   },
   "outputs": [
    {
     "name": "stdout",
     "output_type": "stream",
     "text": [
      "  (0, 0)\t1\n",
      "  (0, 1)\t1\n",
      "  (0, 2)\t1\n",
      "  (0, 3)\t1\n"
     ]
    }
   ],
   "source": [
    "print(clf.decision_path(X_test[[2],:]))"
   ]
  },
  {
   "cell_type": "code",
   "execution_count": 20,
   "metadata": {
    "ExecuteTime": {
     "end_time": "2022-12-22T21:50:22.797368Z",
     "start_time": "2022-12-22T21:50:22.790403Z"
    },
    "colab": {
     "base_uri": "https://localhost:8080/"
    },
    "id": "JjRn6pBiYj4F",
    "outputId": "3ce9c391-23d6-4cf1-fd50-0e33b9939410"
   },
   "outputs": [
    {
     "data": {
      "text/plain": [
       "3"
      ]
     },
     "execution_count": 20,
     "metadata": {},
     "output_type": "execute_result"
    }
   ],
   "source": [
    "clf.get_depth()"
   ]
  },
  {
   "cell_type": "code",
   "execution_count": 21,
   "metadata": {
    "ExecuteTime": {
     "end_time": "2022-12-22T21:50:28.788394Z",
     "start_time": "2022-12-22T21:50:28.770361Z"
    },
    "colab": {
     "base_uri": "https://localhost:8080/"
    },
    "id": "gPsWej3fY63n",
    "outputId": "e717fd33-d651-4e31-8d4f-8f5ac2153d9b"
   },
   "outputs": [
    {
     "data": {
      "text/plain": [
       "7"
      ]
     },
     "execution_count": 21,
     "metadata": {},
     "output_type": "execute_result"
    }
   ],
   "source": [
    "clf.get_n_leaves()"
   ]
  },
  {
   "cell_type": "code",
   "execution_count": 22,
   "metadata": {
    "ExecuteTime": {
     "end_time": "2022-12-22T21:50:35.403020Z",
     "start_time": "2022-12-22T21:50:35.381977Z"
    },
    "colab": {
     "base_uri": "https://localhost:8080/"
    },
    "id": "1IKKTxrDZE42",
    "outputId": "8cedc434-e517-4fa9-f1be-bd19cb90b9f8"
   },
   "outputs": [
    {
     "data": {
      "text/plain": [
       "{'ccp_alpha': 0.0,\n",
       " 'class_weight': None,\n",
       " 'criterion': 'entropy',\n",
       " 'max_depth': 3,\n",
       " 'max_features': None,\n",
       " 'max_leaf_nodes': None,\n",
       " 'min_impurity_decrease': 0.0,\n",
       " 'min_samples_leaf': 1,\n",
       " 'min_samples_split': 2,\n",
       " 'min_weight_fraction_leaf': 0.0,\n",
       " 'random_state': None,\n",
       " 'splitter': 'best'}"
      ]
     },
     "execution_count": 22,
     "metadata": {},
     "output_type": "execute_result"
    }
   ],
   "source": [
    "clf.get_params()"
   ]
  },
  {
   "cell_type": "code",
   "execution_count": 23,
   "metadata": {
    "ExecuteTime": {
     "end_time": "2022-12-22T21:50:40.430511Z",
     "start_time": "2022-12-22T21:50:40.418468Z"
    },
    "colab": {
     "base_uri": "https://localhost:8080/"
    },
    "id": "-ANphLJPZOkU",
    "outputId": "079a8385-4a26-45e1-a336-e3d06438b6ec"
   },
   "outputs": [
    {
     "data": {
      "text/plain": [
       "array([1])"
      ]
     },
     "execution_count": 23,
     "metadata": {},
     "output_type": "execute_result"
    }
   ],
   "source": [
    "clf.predict(X_test[[2],:])"
   ]
  },
  {
   "cell_type": "code",
   "execution_count": 24,
   "metadata": {
    "ExecuteTime": {
     "end_time": "2022-12-22T21:50:54.200328Z",
     "start_time": "2022-12-22T21:50:54.178279Z"
    },
    "colab": {
     "base_uri": "https://localhost:8080/"
    },
    "id": "3k1zL-iBbTaH",
    "outputId": "b89cad45-fd0d-4309-caf4-2d38cb77b1fe"
   },
   "outputs": [
    {
     "data": {
      "text/plain": [
       "array([[-3.35573501, -0.03550669]])"
      ]
     },
     "execution_count": 24,
     "metadata": {},
     "output_type": "execute_result"
    }
   ],
   "source": [
    "clf.predict_log_proba(X_test[[2],:])"
   ]
  },
  {
   "cell_type": "code",
   "execution_count": 25,
   "metadata": {
    "ExecuteTime": {
     "end_time": "2022-12-22T21:51:01.354305Z",
     "start_time": "2022-12-22T21:51:01.334261Z"
    },
    "colab": {
     "base_uri": "https://localhost:8080/"
    },
    "id": "wnk-jTCAaGM0",
    "outputId": "4b656134-5e91-434a-cd4f-adc54317777f"
   },
   "outputs": [
    {
     "data": {
      "text/plain": [
       "array([[0.03488372, 0.96511628],\n",
       "       [0.        , 1.        ]])"
      ]
     },
     "execution_count": 25,
     "metadata": {},
     "output_type": "execute_result"
    }
   ],
   "source": [
    "clf.predict_proba(X_test[[2, 3],:])"
   ]
  },
  {
   "cell_type": "code",
   "execution_count": 26,
   "metadata": {
    "ExecuteTime": {
     "end_time": "2022-12-22T21:51:04.589959Z",
     "start_time": "2022-12-22T21:51:04.580010Z"
    },
    "colab": {
     "base_uri": "https://localhost:8080/"
    },
    "id": "tKCTpW7XblXM",
    "outputId": "1bffeae1-898e-4bda-d809-56609aa3c9f4"
   },
   "outputs": [
    {
     "data": {
      "text/plain": [
       "0.9210526315789473"
      ]
     },
     "execution_count": 26,
     "metadata": {},
     "output_type": "execute_result"
    }
   ],
   "source": [
    "clf.score(X_test,y_test)"
   ]
  },
  {
   "cell_type": "markdown",
   "metadata": {
    "id": "n_rc9JA3cnkI"
   },
   "source": [
    "## Display"
   ]
  },
  {
   "cell_type": "code",
   "execution_count": 27,
   "metadata": {
    "ExecuteTime": {
     "end_time": "2022-12-22T21:51:16.255230Z",
     "start_time": "2022-12-22T21:51:16.247231Z"
    },
    "colab": {
     "base_uri": "https://localhost:8080/"
    },
    "id": "SDVIT7ziNeic",
    "outputId": "0fd79015-9c95-4052-f013-29878c22cb07"
   },
   "outputs": [
    {
     "name": "stdout",
     "output_type": "stream",
     "text": [
      "|--- mean concave points <= 0.05\n",
      "|   |--- worst area <= 929.80\n",
      "|   |   |--- compactness error <= 0.01\n",
      "|   |   |   |--- class: 1\n",
      "|   |   |--- compactness error >  0.01\n",
      "|   |   |   |--- class: 1\n",
      "|   |--- worst area >  929.80\n",
      "|   |   |--- mean texture <= 19.54\n",
      "|   |   |   |--- class: 1\n",
      "|   |   |--- mean texture >  19.54\n",
      "|   |   |   |--- class: 0\n",
      "|--- mean concave points >  0.05\n",
      "|   |--- worst area <= 865.40\n",
      "|   |   |--- worst texture <= 25.62\n",
      "|   |   |   |--- class: 1\n",
      "|   |   |--- worst texture >  25.62\n",
      "|   |   |   |--- class: 0\n",
      "|   |--- worst area >  865.40\n",
      "|   |   |--- class: 0\n",
      "\n"
     ]
    }
   ],
   "source": [
    "text = export_text(clf, feature_names=list(data['feature_names']))\n",
    "print(text)"
   ]
  },
  {
   "cell_type": "code",
   "execution_count": 28,
   "metadata": {
    "ExecuteTime": {
     "end_time": "2022-12-22T21:51:25.636812Z",
     "start_time": "2022-12-22T21:51:25.102784Z"
    },
    "colab": {
     "base_uri": "https://localhost:8080/",
     "height": 248
    },
    "id": "qVn0QJW0airA",
    "outputId": "4640b655-616a-43e3-d281-66ae2df09149",
    "scrolled": false
   },
   "outputs": [
    {
     "data": {
      "image/png": "[encoded data removed]",
      "text/plain": [
       "<Figure size 640x480 with 1 Axes>"
      ]
     },
     "metadata": {},
     "output_type": "display_data"
    }
   ],
   "source": [
    "plot_tree(clf);"
   ]
  },
  {
   "cell_type": "code",
   "execution_count": 29,
   "metadata": {
    "ExecuteTime": {
     "end_time": "2022-12-22T21:51:33.074828Z",
     "start_time": "2022-12-22T21:51:33.061838Z"
    }
   },
   "outputs": [],
   "source": [
    "import os\n",
    "os.environ[\"PATH\"] += os.pathsep + 'C:/Program Files/Graphviz/bin'"
   ]
  },
  {
   "cell_type": "code",
   "execution_count": 30,
   "metadata": {
    "ExecuteTime": {
     "end_time": "2022-12-22T21:51:40.465324Z",
     "start_time": "2022-12-22T21:51:40.339195Z"
    },
    "colab": {
     "base_uri": "https://localhost:8080/",
     "height": 915
    },
    "id": "GhU6KX4VbjIA",
    "outputId": "d5701b39-0031-4a53-e676-328567a98ad9"
   },
   "outputs": [
    {
     "data": {
      "image/svg+xml": [
       "<?xml version=\"1.0\" encoding=\"UTF-8\" standalone=\"no\"?>\n",
       "<!DOCTYPE svg PUBLIC \"-//W3C//DTD SVG 1.1//EN\"\n",
       " \"http://www.w3.org/Graphics/SVG/1.1/DTD/svg11.dtd\">\n",
       "<!-- Generated by graphviz version 5.0.1 (20220820.1526)\n",
       " -->\n",
       "<!-- Title: Tree Pages: 1 -->\n",
       "<svg width=\"820pt\" height=\"433pt\"\n",
       " viewBox=\"0.00 0.00 819.50 433.00\" xmlns=\"http://www.w3.org/2000/svg\" xmlns:xlink=\"http://www.w3.org/1999/xlink\">\n",
       "<g id=\"graph0\" class=\"graph\" transform=\"scale(1 1) rotate(0) translate(4 429)\">\n",
       "<title>Tree</title>\n",
       "<polygon fill=\"white\" stroke=\"none\" points=\"-4,4 -4,-429 815.5,-429 815.5,4 -4,4\"/>\n",
       "<!-- 0 -->\n",
       "<g id=\"node1\" class=\"node\">\n",
       "<title>0</title>\n",
       "<path fill=\"#aad5f4\" stroke=\"black\" d=\"M577.5,-425C577.5,-425 398.5,-425 398.5,-425 392.5,-425 386.5,-419 386.5,-413 386.5,-413 386.5,-354 386.5,-354 386.5,-348 392.5,-342 398.5,-342 398.5,-342 577.5,-342 577.5,-342 583.5,-342 589.5,-348 589.5,-354 589.5,-354 589.5,-413 589.5,-413 589.5,-419 583.5,-425 577.5,-425\"/>\n",
       "<text text-anchor=\"start\" x=\"394.5\" y=\"-409.8\" font-family=\"Helvetica,sans-Serif\" font-size=\"14.00\">mean concave points ≤ 0.049</text>\n",
       "<text text-anchor=\"start\" x=\"438\" y=\"-394.8\" font-family=\"Helvetica,sans-Serif\" font-size=\"14.00\">entropy = 0.945</text>\n",
       "<text text-anchor=\"start\" x=\"440.5\" y=\"-379.8\" font-family=\"Helvetica,sans-Serif\" font-size=\"14.00\">samples = 455</text>\n",
       "<text text-anchor=\"start\" x=\"431\" y=\"-364.8\" font-family=\"Helvetica,sans-Serif\" font-size=\"14.00\">value = [165, 290]</text>\n",
       "<text text-anchor=\"start\" x=\"442\" y=\"-349.8\" font-family=\"Helvetica,sans-Serif\" font-size=\"14.00\">class = benign</text>\n",
       "</g>\n",
       "<!-- 1 -->\n",
       "<g id=\"node2\" class=\"node\">\n",
       "<title>1</title>\n",
       "<path fill=\"#41a1e6\" stroke=\"black\" d=\"M457,-306C457,-306 347,-306 347,-306 341,-306 335,-300 335,-294 335,-294 335,-235 335,-235 335,-229 341,-223 347,-223 347,-223 457,-223 457,-223 463,-223 469,-229 469,-235 469,-235 469,-294 469,-294 469,-300 463,-306 457,-306\"/>\n",
       "<text text-anchor=\"start\" x=\"343\" y=\"-290.8\" font-family=\"Helvetica,sans-Serif\" font-size=\"14.00\">worst area ≤ 929.8</text>\n",
       "<text text-anchor=\"start\" x=\"356\" y=\"-275.8\" font-family=\"Helvetica,sans-Serif\" font-size=\"14.00\">entropy = 0.24</text>\n",
       "<text text-anchor=\"start\" x=\"354.5\" y=\"-260.8\" font-family=\"Helvetica,sans-Serif\" font-size=\"14.00\">samples = 278</text>\n",
       "<text text-anchor=\"start\" x=\"349\" y=\"-245.8\" font-family=\"Helvetica,sans-Serif\" font-size=\"14.00\">value = [11, 267]</text>\n",
       "<text text-anchor=\"start\" x=\"356\" y=\"-230.8\" font-family=\"Helvetica,sans-Serif\" font-size=\"14.00\">class = benign</text>\n",
       "</g>\n",
       "<!-- 0&#45;&gt;1 -->\n",
       "<g id=\"edge1\" class=\"edge\">\n",
       "<title>0&#45;&gt;1</title>\n",
       "<path fill=\"none\" stroke=\"black\" d=\"M458.16,-341.91C451.63,-333.01 444.64,-323.51 437.89,-314.33\"/>\n",
       "<polygon fill=\"black\" stroke=\"black\" points=\"440.53,-312.01 431.78,-306.02 434.89,-316.15 440.53,-312.01\"/>\n",
       "<text text-anchor=\"middle\" x=\"428.01\" y=\"-327.03\" font-family=\"Helvetica,sans-Serif\" font-size=\"14.00\">True</text>\n",
       "</g>\n",
       "<!-- 8 -->\n",
       "<g id=\"node9\" class=\"node\">\n",
       "<title>8</title>\n",
       "<path fill=\"#e99457\" stroke=\"black\" d=\"M649,-306C649,-306 539,-306 539,-306 533,-306 527,-300 527,-294 527,-294 527,-235 527,-235 527,-229 533,-223 539,-223 539,-223 649,-223 649,-223 655,-223 661,-229 661,-235 661,-235 661,-294 661,-294 661,-300 655,-306 649,-306\"/>\n",
       "<text text-anchor=\"start\" x=\"535\" y=\"-290.8\" font-family=\"Helvetica,sans-Serif\" font-size=\"14.00\">worst area ≤ 865.4</text>\n",
       "<text text-anchor=\"start\" x=\"544\" y=\"-275.8\" font-family=\"Helvetica,sans-Serif\" font-size=\"14.00\">entropy = 0.557</text>\n",
       "<text text-anchor=\"start\" x=\"546.5\" y=\"-260.8\" font-family=\"Helvetica,sans-Serif\" font-size=\"14.00\">samples = 177</text>\n",
       "<text text-anchor=\"start\" x=\"541\" y=\"-245.8\" font-family=\"Helvetica,sans-Serif\" font-size=\"14.00\">value = [154, 23]</text>\n",
       "<text text-anchor=\"start\" x=\"539.5\" y=\"-230.8\" font-family=\"Helvetica,sans-Serif\" font-size=\"14.00\">class = malignant</text>\n",
       "</g>\n",
       "<!-- 0&#45;&gt;8 -->\n",
       "<g id=\"edge8\" class=\"edge\">\n",
       "<title>0&#45;&gt;8</title>\n",
       "<path fill=\"none\" stroke=\"black\" d=\"M524.78,-341.91C533.08,-332.74 541.97,-322.93 550.52,-313.49\"/>\n",
       "<polygon fill=\"black\" stroke=\"black\" points=\"553.17,-315.78 557.29,-306.02 547.98,-311.08 553.17,-315.78\"/>\n",
       "<text text-anchor=\"middle\" x=\"558.52\" y=\"-327.29\" font-family=\"Helvetica,sans-Serif\" font-size=\"14.00\">False</text>\n",
       "</g>\n",
       "<!-- 2 -->\n",
       "<g id=\"node3\" class=\"node\">\n",
       "<title>2</title>\n",
       "<path fill=\"#3b9ee5\" stroke=\"black\" d=\"M273,-187C273,-187 109,-187 109,-187 103,-187 97,-181 97,-175 97,-175 97,-116 97,-116 97,-110 103,-104 109,-104 109,-104 273,-104 273,-104 279,-104 285,-110 285,-116 285,-116 285,-175 285,-175 285,-181 279,-187 273,-187\"/>\n",
       "<text text-anchor=\"start\" x=\"105\" y=\"-171.8\" font-family=\"Helvetica,sans-Serif\" font-size=\"14.00\">compactness error ≤ 0.012</text>\n",
       "<text text-anchor=\"start\" x=\"141\" y=\"-156.8\" font-family=\"Helvetica,sans-Serif\" font-size=\"14.00\">entropy = 0.089</text>\n",
       "<text text-anchor=\"start\" x=\"143.5\" y=\"-141.8\" font-family=\"Helvetica,sans-Serif\" font-size=\"14.00\">samples = 265</text>\n",
       "<text text-anchor=\"start\" x=\"142.5\" y=\"-126.8\" font-family=\"Helvetica,sans-Serif\" font-size=\"14.00\">value = [3, 262]</text>\n",
       "<text text-anchor=\"start\" x=\"145\" y=\"-111.8\" font-family=\"Helvetica,sans-Serif\" font-size=\"14.00\">class = benign</text>\n",
       "</g>\n",
       "<!-- 1&#45;&gt;2 -->\n",
       "<g id=\"edge2\" class=\"edge\">\n",
       "<title>1&#45;&gt;2</title>\n",
       "<path fill=\"none\" stroke=\"black\" d=\"M334.95,-226.32C315.29,-215.42 293.57,-203.38 273.09,-192.02\"/>\n",
       "<polygon fill=\"black\" stroke=\"black\" points=\"274.53,-188.82 264.09,-187.03 271.14,-194.94 274.53,-188.82\"/>\n",
       "</g>\n",
       "<!-- 5 -->\n",
       "<g id=\"node6\" class=\"node\">\n",
       "<title>5</title>\n",
       "<path fill=\"#f5d0b5\" stroke=\"black\" d=\"M469,-187C469,-187 335,-187 335,-187 329,-187 323,-181 323,-175 323,-175 323,-116 323,-116 323,-110 329,-104 335,-104 335,-104 469,-104 469,-104 475,-104 481,-110 481,-116 481,-116 481,-175 481,-175 481,-181 475,-187 469,-187\"/>\n",
       "<text text-anchor=\"start\" x=\"331\" y=\"-171.8\" font-family=\"Helvetica,sans-Serif\" font-size=\"14.00\">mean texture ≤ 19.545</text>\n",
       "<text text-anchor=\"start\" x=\"352\" y=\"-156.8\" font-family=\"Helvetica,sans-Serif\" font-size=\"14.00\">entropy = 0.961</text>\n",
       "<text text-anchor=\"start\" x=\"358.5\" y=\"-141.8\" font-family=\"Helvetica,sans-Serif\" font-size=\"14.00\">samples = 13</text>\n",
       "<text text-anchor=\"start\" x=\"361.5\" y=\"-126.8\" font-family=\"Helvetica,sans-Serif\" font-size=\"14.00\">value = [8, 5]</text>\n",
       "<text text-anchor=\"start\" x=\"347.5\" y=\"-111.8\" font-family=\"Helvetica,sans-Serif\" font-size=\"14.00\">class = malignant</text>\n",
       "</g>\n",
       "<!-- 1&#45;&gt;5 -->\n",
       "<g id=\"edge5\" class=\"edge\">\n",
       "<title>1&#45;&gt;5</title>\n",
       "<path fill=\"none\" stroke=\"black\" d=\"M402,-222.91C402,-214.65 402,-205.86 402,-197.3\"/>\n",
       "<polygon fill=\"black\" stroke=\"black\" points=\"405.5,-197.02 402,-187.02 398.5,-197.02 405.5,-197.02\"/>\n",
       "</g>\n",
       "<!-- 3 -->\n",
       "<g id=\"node4\" class=\"node\">\n",
       "<title>3</title>\n",
       "<path fill=\"#40a1e6\" stroke=\"black\" d=\"M104,-68C104,-68 12,-68 12,-68 6,-68 0,-62 0,-56 0,-56 0,-12 0,-12 0,-6 6,0 12,0 12,0 104,0 104,0 110,0 116,-6 116,-12 116,-12 116,-56 116,-56 116,-62 110,-68 104,-68\"/>\n",
       "<text text-anchor=\"start\" x=\"8\" y=\"-52.8\" font-family=\"Helvetica,sans-Serif\" font-size=\"14.00\">entropy = 0.218</text>\n",
       "<text text-anchor=\"start\" x=\"14.5\" y=\"-37.8\" font-family=\"Helvetica,sans-Serif\" font-size=\"14.00\">samples = 86</text>\n",
       "<text text-anchor=\"start\" x=\"13.5\" y=\"-22.8\" font-family=\"Helvetica,sans-Serif\" font-size=\"14.00\">value = [3, 83]</text>\n",
       "<text text-anchor=\"start\" x=\"12\" y=\"-7.8\" font-family=\"Helvetica,sans-Serif\" font-size=\"14.00\">class = benign</text>\n",
       "</g>\n",
       "<!-- 2&#45;&gt;3 -->\n",
       "<g id=\"edge3\" class=\"edge\">\n",
       "<title>2&#45;&gt;3</title>\n",
       "<path fill=\"none\" stroke=\"black\" d=\"M141.48,-103.73C129.95,-94.24 117.7,-84.16 106.24,-74.72\"/>\n",
       "<polygon fill=\"black\" stroke=\"black\" points=\"108.39,-71.95 98.45,-68.3 103.94,-77.36 108.39,-71.95\"/>\n",
       "</g>\n",
       "<!-- 4 -->\n",
       "<g id=\"node5\" class=\"node\">\n",
       "<title>4</title>\n",
       "<path fill=\"#399de5\" stroke=\"black\" d=\"M235.5,-68C235.5,-68 146.5,-68 146.5,-68 140.5,-68 134.5,-62 134.5,-56 134.5,-56 134.5,-12 134.5,-12 134.5,-6 140.5,0 146.5,0 146.5,0 235.5,0 235.5,0 241.5,0 247.5,-6 247.5,-12 247.5,-12 247.5,-56 247.5,-56 247.5,-62 241.5,-68 235.5,-68\"/>\n",
       "<text text-anchor=\"start\" x=\"149\" y=\"-52.8\" font-family=\"Helvetica,sans-Serif\" font-size=\"14.00\">entropy = 0.0</text>\n",
       "<text text-anchor=\"start\" x=\"143.5\" y=\"-37.8\" font-family=\"Helvetica,sans-Serif\" font-size=\"14.00\">samples = 179</text>\n",
       "<text text-anchor=\"start\" x=\"142.5\" y=\"-22.8\" font-family=\"Helvetica,sans-Serif\" font-size=\"14.00\">value = [0, 179]</text>\n",
       "<text text-anchor=\"start\" x=\"145\" y=\"-7.8\" font-family=\"Helvetica,sans-Serif\" font-size=\"14.00\">class = benign</text>\n",
       "</g>\n",
       "<!-- 2&#45;&gt;4 -->\n",
       "<g id=\"edge4\" class=\"edge\">\n",
       "<title>2&#45;&gt;4</title>\n",
       "<path fill=\"none\" stroke=\"black\" d=\"M191,-103.73C191,-95.52 191,-86.86 191,-78.56\"/>\n",
       "<polygon fill=\"black\" stroke=\"black\" points=\"194.5,-78.3 191,-68.3 187.5,-78.3 194.5,-78.3\"/>\n",
       "</g>\n",
       "<!-- 6 -->\n",
       "<g id=\"node7\" class=\"node\">\n",
       "<title>6</title>\n",
       "<path fill=\"#61b1ea\" stroke=\"black\" d=\"M362,-68C362,-68 278,-68 278,-68 272,-68 266,-62 266,-56 266,-56 266,-12 266,-12 266,-6 272,0 278,0 278,0 362,0 362,0 368,0 374,-6 374,-12 374,-12 374,-56 374,-56 374,-62 368,-68 362,-68\"/>\n",
       "<text text-anchor=\"start\" x=\"274\" y=\"-52.8\" font-family=\"Helvetica,sans-Serif\" font-size=\"14.00\">entropy = 0.65</text>\n",
       "<text text-anchor=\"start\" x=\"280.5\" y=\"-37.8\" font-family=\"Helvetica,sans-Serif\" font-size=\"14.00\">samples = 6</text>\n",
       "<text text-anchor=\"start\" x=\"279.5\" y=\"-22.8\" font-family=\"Helvetica,sans-Serif\" font-size=\"14.00\">value = [1, 5]</text>\n",
       "<text text-anchor=\"start\" x=\"274\" y=\"-7.8\" font-family=\"Helvetica,sans-Serif\" font-size=\"14.00\">class = benign</text>\n",
       "</g>\n",
       "<!-- 5&#45;&gt;6 -->\n",
       "<g id=\"edge6\" class=\"edge\">\n",
       "<title>5&#45;&gt;6</title>\n",
       "<path fill=\"none\" stroke=\"black\" d=\"M371.47,-103.73C364.77,-94.79 357.68,-85.32 350.97,-76.36\"/>\n",
       "<polygon fill=\"black\" stroke=\"black\" points=\"353.73,-74.21 344.94,-68.3 348.13,-78.4 353.73,-74.21\"/>\n",
       "</g>\n",
       "<!-- 7 -->\n",
       "<g id=\"node8\" class=\"node\">\n",
       "<title>7</title>\n",
       "<path fill=\"#e58139\" stroke=\"black\" d=\"M505.5,-68C505.5,-68 404.5,-68 404.5,-68 398.5,-68 392.5,-62 392.5,-56 392.5,-56 392.5,-12 392.5,-12 392.5,-6 398.5,0 404.5,0 404.5,0 505.5,0 505.5,0 511.5,0 517.5,-6 517.5,-12 517.5,-12 517.5,-56 517.5,-56 517.5,-62 511.5,-68 505.5,-68\"/>\n",
       "<text text-anchor=\"start\" x=\"413\" y=\"-52.8\" font-family=\"Helvetica,sans-Serif\" font-size=\"14.00\">entropy = 0.0</text>\n",
       "<text text-anchor=\"start\" x=\"415.5\" y=\"-37.8\" font-family=\"Helvetica,sans-Serif\" font-size=\"14.00\">samples = 7</text>\n",
       "<text text-anchor=\"start\" x=\"414.5\" y=\"-22.8\" font-family=\"Helvetica,sans-Serif\" font-size=\"14.00\">value = [7, 0]</text>\n",
       "<text text-anchor=\"start\" x=\"400.5\" y=\"-7.8\" font-family=\"Helvetica,sans-Serif\" font-size=\"14.00\">class = malignant</text>\n",
       "</g>\n",
       "<!-- 5&#45;&gt;7 -->\n",
       "<g id=\"edge7\" class=\"edge\">\n",
       "<title>5&#45;&gt;7</title>\n",
       "<path fill=\"none\" stroke=\"black\" d=\"M421.74,-103.73C425.89,-95.15 430.27,-86.09 434.45,-77.46\"/>\n",
       "<polygon fill=\"black\" stroke=\"black\" points=\"437.68,-78.83 438.88,-68.3 431.38,-75.78 437.68,-78.83\"/>\n",
       "</g>\n",
       "<!-- 9 -->\n",
       "<g id=\"node10\" class=\"node\">\n",
       "<title>9</title>\n",
       "<path fill=\"#fdf5ef\" stroke=\"black\" d=\"M656.5,-187C656.5,-187 531.5,-187 531.5,-187 525.5,-187 519.5,-181 519.5,-175 519.5,-175 519.5,-116 519.5,-116 519.5,-110 525.5,-104 531.5,-104 531.5,-104 656.5,-104 656.5,-104 662.5,-104 668.5,-110 668.5,-116 668.5,-116 668.5,-175 668.5,-175 668.5,-181 662.5,-187 656.5,-187\"/>\n",
       "<text text-anchor=\"start\" x=\"527.5\" y=\"-171.8\" font-family=\"Helvetica,sans-Serif\" font-size=\"14.00\">worst texture ≤ 25.62</text>\n",
       "<text text-anchor=\"start\" x=\"544\" y=\"-156.8\" font-family=\"Helvetica,sans-Serif\" font-size=\"14.00\">entropy = 0.999</text>\n",
       "<text text-anchor=\"start\" x=\"550.5\" y=\"-141.8\" font-family=\"Helvetica,sans-Serif\" font-size=\"14.00\">samples = 48</text>\n",
       "<text text-anchor=\"start\" x=\"545.5\" y=\"-126.8\" font-family=\"Helvetica,sans-Serif\" font-size=\"14.00\">value = [25, 23]</text>\n",
       "<text text-anchor=\"start\" x=\"539.5\" y=\"-111.8\" font-family=\"Helvetica,sans-Serif\" font-size=\"14.00\">class = malignant</text>\n",
       "</g>\n",
       "<!-- 8&#45;&gt;9 -->\n",
       "<g id=\"edge9\" class=\"edge\">\n",
       "<title>8&#45;&gt;9</title>\n",
       "<path fill=\"none\" stroke=\"black\" d=\"M594,-222.91C594,-214.65 594,-205.86 594,-197.3\"/>\n",
       "<polygon fill=\"black\" stroke=\"black\" points=\"597.5,-197.02 594,-187.02 590.5,-197.02 597.5,-197.02\"/>\n",
       "</g>\n",
       "<!-- 12 -->\n",
       "<g id=\"node13\" class=\"node\">\n",
       "<title>12</title>\n",
       "<path fill=\"#e58139\" stroke=\"black\" d=\"M799.5,-179.5C799.5,-179.5 698.5,-179.5 698.5,-179.5 692.5,-179.5 686.5,-173.5 686.5,-167.5 686.5,-167.5 686.5,-123.5 686.5,-123.5 686.5,-117.5 692.5,-111.5 698.5,-111.5 698.5,-111.5 799.5,-111.5 799.5,-111.5 805.5,-111.5 811.5,-117.5 811.5,-123.5 811.5,-123.5 811.5,-167.5 811.5,-167.5 811.5,-173.5 805.5,-179.5 799.5,-179.5\"/>\n",
       "<text text-anchor=\"start\" x=\"707\" y=\"-164.3\" font-family=\"Helvetica,sans-Serif\" font-size=\"14.00\">entropy = 0.0</text>\n",
       "<text text-anchor=\"start\" x=\"701.5\" y=\"-149.3\" font-family=\"Helvetica,sans-Serif\" font-size=\"14.00\">samples = 129</text>\n",
       "<text text-anchor=\"start\" x=\"700.5\" y=\"-134.3\" font-family=\"Helvetica,sans-Serif\" font-size=\"14.00\">value = [129, 0]</text>\n",
       "<text text-anchor=\"start\" x=\"694.5\" y=\"-119.3\" font-family=\"Helvetica,sans-Serif\" font-size=\"14.00\">class = malignant</text>\n",
       "</g>\n",
       "<!-- 8&#45;&gt;12 -->\n",
       "<g id=\"edge12\" class=\"edge\">\n",
       "<title>8&#45;&gt;12</title>\n",
       "<path fill=\"none\" stroke=\"black\" d=\"M647.78,-222.91C663.71,-210.88 681.13,-197.73 696.95,-185.79\"/>\n",
       "<polygon fill=\"black\" stroke=\"black\" points=\"699.19,-188.49 705.06,-179.67 694.97,-182.9 699.19,-188.49\"/>\n",
       "</g>\n",
       "<!-- 10 -->\n",
       "<g id=\"node11\" class=\"node\">\n",
       "<title>10</title>\n",
       "<path fill=\"#55abe9\" stroke=\"black\" d=\"M640,-68C640,-68 548,-68 548,-68 542,-68 536,-62 536,-56 536,-56 536,-12 536,-12 536,-6 542,0 548,0 548,0 640,0 640,0 646,0 652,-6 652,-12 652,-12 652,-56 652,-56 652,-62 646,-68 640,-68\"/>\n",
       "<text text-anchor=\"start\" x=\"544\" y=\"-52.8\" font-family=\"Helvetica,sans-Serif\" font-size=\"14.00\">entropy = 0.544</text>\n",
       "<text text-anchor=\"start\" x=\"550.5\" y=\"-37.8\" font-family=\"Helvetica,sans-Serif\" font-size=\"14.00\">samples = 24</text>\n",
       "<text text-anchor=\"start\" x=\"549.5\" y=\"-22.8\" font-family=\"Helvetica,sans-Serif\" font-size=\"14.00\">value = [3, 21]</text>\n",
       "<text text-anchor=\"start\" x=\"548\" y=\"-7.8\" font-family=\"Helvetica,sans-Serif\" font-size=\"14.00\">class = benign</text>\n",
       "</g>\n",
       "<!-- 9&#45;&gt;10 -->\n",
       "<g id=\"edge10\" class=\"edge\">\n",
       "<title>9&#45;&gt;10</title>\n",
       "<path fill=\"none\" stroke=\"black\" d=\"M594,-103.73C594,-95.52 594,-86.86 594,-78.56\"/>\n",
       "<polygon fill=\"black\" stroke=\"black\" points=\"597.5,-78.3 594,-68.3 590.5,-78.3 597.5,-78.3\"/>\n",
       "</g>\n",
       "<!-- 11 -->\n",
       "<g id=\"node12\" class=\"node\">\n",
       "<title>11</title>\n",
       "<path fill=\"#e78c4b\" stroke=\"black\" d=\"M783.5,-68C783.5,-68 682.5,-68 682.5,-68 676.5,-68 670.5,-62 670.5,-56 670.5,-56 670.5,-12 670.5,-12 670.5,-6 676.5,0 682.5,0 682.5,0 783.5,0 783.5,0 789.5,0 795.5,-6 795.5,-12 795.5,-12 795.5,-56 795.5,-56 795.5,-62 789.5,-68 783.5,-68\"/>\n",
       "<text text-anchor=\"start\" x=\"683\" y=\"-52.8\" font-family=\"Helvetica,sans-Serif\" font-size=\"14.00\">entropy = 0.414</text>\n",
       "<text text-anchor=\"start\" x=\"689.5\" y=\"-37.8\" font-family=\"Helvetica,sans-Serif\" font-size=\"14.00\">samples = 24</text>\n",
       "<text text-anchor=\"start\" x=\"688.5\" y=\"-22.8\" font-family=\"Helvetica,sans-Serif\" font-size=\"14.00\">value = [22, 2]</text>\n",
       "<text text-anchor=\"start\" x=\"678.5\" y=\"-7.8\" font-family=\"Helvetica,sans-Serif\" font-size=\"14.00\">class = malignant</text>\n",
       "</g>\n",
       "<!-- 9&#45;&gt;11 -->\n",
       "<g id=\"edge11\" class=\"edge\">\n",
       "<title>9&#45;&gt;11</title>\n",
       "<path fill=\"none\" stroke=\"black\" d=\"M645.76,-103.73C657.8,-94.24 670.6,-84.16 682.58,-74.72\"/>\n",
       "<polygon fill=\"black\" stroke=\"black\" points=\"685.04,-77.24 690.73,-68.3 680.71,-71.74 685.04,-77.24\"/>\n",
       "</g>\n",
       "</g>\n",
       "</svg>\n"
      ],
      "text/plain": [
       "<graphviz.sources.Source at 0x136f7a5d130>"
      ]
     },
     "execution_count": 30,
     "metadata": {},
     "output_type": "execute_result"
    }
   ],
   "source": [
    "dot_data = export_graphviz(clf, out_file=None, \n",
    "                      feature_names=data.feature_names,  \n",
    "                      class_names=data.target_names,  \n",
    "                      filled=True, rounded=True,  \n",
    "                      special_characters=True)  \n",
    "graph = graphviz.Source(dot_data)\n",
    "graph"
   ]
  },
  {
   "cell_type": "code",
   "execution_count": null,
   "metadata": {
    "id": "0y-YohgcMzmD"
   },
   "outputs": [],
   "source": []
  }
 ],
 "metadata": {
  "colab": {
   "collapsed_sections": [],
   "provenance": []
  },
  "kernelspec": {
   "display_name": "ML_from_scratch_venv",
   "language": "python",
   "name": "ml_from_scratch_venv"
  },
  "language_info": {
   "codemirror_mode": {
    "name": "ipython",
    "version": 3
   },
   "file_extension": ".py",
   "mimetype": "text/x-python",
   "name": "python",
   "nbconvert_exporter": "python",
   "pygments_lexer": "ipython3",
   "version": "3.8.6"
  },
  "toc": {
   "base_numbering": 1,
   "nav_menu": {},
   "number_sections": true,
   "sideBar": true,
   "skip_h1_title": false,
   "title_cell": "Table of Contents",
   "title_sidebar": "Contents",
   "toc_cell": false,
   "toc_position": {
    "height": "calc(100% - 180px)",
    "left": "10px",
    "top": "150px",
    "width": "272px"
   },
   "toc_section_display": true,
   "toc_window_display": true
  }
 },
 "nbformat": 4,
 "nbformat_minor": 1
}
