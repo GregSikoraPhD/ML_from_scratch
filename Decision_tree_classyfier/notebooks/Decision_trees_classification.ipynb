{
 "cells": [
  {
   "cell_type": "markdown",
   "metadata": {
    "id": "BJTNodE7M3Np"
   },
   "source": [
    "# Decision tree classifier from scratch"
   ]
  },
  {
   "cell_type": "code",
   "execution_count": 7,
   "metadata": {
    "ExecuteTime": {
     "end_time": "2023-01-05T10:23:29.171452Z",
     "start_time": "2023-01-05T10:23:29.155412Z"
    },
    "id": "Cr0xxqFgMtnd"
   },
   "outputs": [],
   "source": [
    "import matplotlib.pyplot as plt\n",
    "import numpy as np\n",
    "import pandas as pd\n",
    "from collections import Counter\n",
    "from sklearn import datasets\n",
    "from sklearn.inspection import DecisionBoundaryDisplay\n",
    "from sklearn.model_selection import train_test_split\n",
    "from sklearn.tree import DecisionTreeClassifier, export_text, plot_tree, export_graphviz\n",
    "import graphviz\n",
    "import sys\n",
    "sys.path.insert(0, 'C:/Users/grzesiek/Documents/Data Science/PycharmProjects/ML_from_scratch/Decision_tree_classyfier')"
   ]
  },
  {
   "cell_type": "code",
   "execution_count": 8,
   "metadata": {
    "ExecuteTime": {
     "end_time": "2023-01-05T10:23:32.312764Z",
     "start_time": "2023-01-05T10:23:32.292706Z"
    },
    "id": "Nr0TcG0zIsdX"
   },
   "outputs": [],
   "source": [
    "from decision_tree_cls import entropy, accuracy, Node, DecisionTreeCls"
   ]
  },
  {
   "cell_type": "markdown",
   "metadata": {},
   "source": [
    "## Toy dataset"
   ]
  },
  {
   "cell_type": "code",
   "execution_count": null,
   "metadata": {
    "ExecuteTime": {
     "end_time": "2023-01-03T20:54:53.919755Z",
     "start_time": "2023-01-03T20:54:53.907745Z"
    }
   },
   "outputs": [],
   "source": [
    "X = np.array([[1, 30], [1, 15], [1, 5], [0, 10], [0, 5], [0,15], [0, 20], [0, 25], [0, 30], [0,30]])\n",
    "y = np.array([0, 0, 0, 0, 0, 1, 1, 1, 1, 1])"
   ]
  },
  {
   "cell_type": "code",
   "execution_count": null,
   "metadata": {
    "ExecuteTime": {
     "end_time": "2023-01-03T20:54:56.670127Z",
     "start_time": "2023-01-03T20:54:56.638132Z"
    }
   },
   "outputs": [],
   "source": [
    "clf = DecisionTreeCls(max_depth=3)\n",
    "clf.fit(X, y)\n",
    "clf.export_text(['rain', 'time_walk'])"
   ]
  },
  {
   "cell_type": "code",
   "execution_count": null,
   "metadata": {
    "ExecuteTime": {
     "end_time": "2023-01-03T21:22:42.872195Z",
     "start_time": "2023-01-03T21:22:42.692195Z"
    }
   },
   "outputs": [],
   "source": [
    "feature_1, feature_2 = np.meshgrid(np.linspace(X[:, 0].min()-0.1, X[:, 0].max()+0.1),\n",
    "                                   np.linspace(X[:, 1].min()-2, X[:, 1].max())+1)\n",
    "grid = np.vstack([feature_1.ravel(), feature_2.ravel()]).T\n",
    "tree = clf.fit(X, y)\n",
    "y_pred = np.reshape(clf.predict(grid), feature_1.shape)\n",
    "\n",
    "display = DecisionBoundaryDisplay(xx0=feature_1, xx1=feature_2, response=y_pred, ylabel='time_walk', xlabel='rain')\n",
    "display.plot()\n",
    "display.ax_.scatter(X[:, 0], X[:, 1], c=y, edgecolor=\"black\");"
   ]
  },
  {
   "cell_type": "code",
   "execution_count": null,
   "metadata": {
    "ExecuteTime": {
     "end_time": "2023-01-03T21:24:52.019839Z",
     "start_time": "2023-01-03T21:24:51.851597Z"
    }
   },
   "outputs": [],
   "source": [
    "# clf_sklearn = DecisionTreeClassifier()\n",
    "clf_sklearn = clf_sklearn.fit(X, y)\n",
    "\n",
    "dot_data = export_graphviz(clf_sklearn, out_file=None, \n",
    "                      feature_names=['rain', 'time_walk'],  \n",
    "                      class_names=['not_go', 'go'],  \n",
    "                      filled=True, rounded=True,  \n",
    "                      special_characters=True)  \n",
    "graph = graphviz.Source(dot_data)\n",
    "graph"
   ]
  },
  {
   "cell_type": "markdown",
   "metadata": {},
   "source": [
    "## Breast_cancer dataset"
   ]
  },
  {
   "cell_type": "code",
   "execution_count": null,
   "metadata": {
    "ExecuteTime": {
     "end_time": "2022-12-22T21:41:13.211989Z",
     "start_time": "2022-12-22T21:41:13.183970Z"
    },
    "id": "eqv0unwvRsVf"
   },
   "outputs": [],
   "source": [
    "data = datasets.load_breast_cancer()\n",
    "X = data.data\n",
    "y = data.target\n",
    "\n",
    "X_train, X_test, y_train, y_test = train_test_split(X, y, test_size=0.2)"
   ]
  },
  {
   "cell_type": "code",
   "execution_count": null,
   "metadata": {
    "ExecuteTime": {
     "end_time": "2022-12-22T21:41:32.995608Z",
     "start_time": "2022-12-22T21:41:30.999609Z"
    },
    "colab": {
     "base_uri": "https://localhost:8080/"
    },
    "id": "PoaGVDz-Tr-j",
    "outputId": "23d550c6-4af9-42e2-8813-c554e22b9fc0"
   },
   "outputs": [],
   "source": [
    "clf = DecisionTreeCls(max_depth=3)\n",
    "clf.fit(X_train, y_train)\n",
    "clf.export_text(data['feature_names'])"
   ]
  },
  {
   "cell_type": "code",
   "execution_count": null,
   "metadata": {
    "ExecuteTime": {
     "end_time": "2022-12-22T21:42:19.895841Z",
     "start_time": "2022-12-22T21:42:19.804468Z"
    }
   },
   "outputs": [],
   "source": [
    "clf.feature_importance(data['feature_names']).sort_values(by='feature_importance', ascending=False).style.bar('feature_importance')"
   ]
  },
  {
   "cell_type": "code",
   "execution_count": null,
   "metadata": {
    "ExecuteTime": {
     "end_time": "2022-12-22T21:43:35.452941Z",
     "start_time": "2022-12-22T21:43:35.445923Z"
    },
    "colab": {
     "base_uri": "https://localhost:8080/"
    },
    "id": "Q9cb4NOQA6XX",
    "outputId": "792896ac-e479-4019-a958-426a4c5c2f46"
   },
   "outputs": [],
   "source": [
    "y_pred = clf.predict(X_test)\n",
    "accuracy(y_test, y_pred)"
   ]
  },
  {
   "cell_type": "markdown",
   "metadata": {
    "id": "Ibhc3BHyUcFy"
   },
   "source": [
    "# Decision tree classifier from sklearn"
   ]
  },
  {
   "cell_type": "markdown",
   "metadata": {
    "id": "dZDfTT7h-bgm"
   },
   "source": [
    "## Parameters"
   ]
  },
  {
   "cell_type": "code",
   "execution_count": null,
   "metadata": {
    "ExecuteTime": {
     "end_time": "2022-12-22T21:47:33.140754Z",
     "start_time": "2022-12-22T21:47:33.110543Z"
    },
    "id": "tXaMUW4YUwLT"
   },
   "outputs": [],
   "source": [
    "parameters={\n",
    "    'criterion':'entropy',# {“gini”, “entropy”, “log_loss”}\n",
    "    'splitter':'best', # {“best”, “random”}\n",
    "    'max_depth': 3,\n",
    "    'min_samples_split': 2,\n",
    "    'min_samples_leaf': 1,\n",
    "    'min_weight_fraction_leaf': 0.0,\n",
    "    'max_features': None, # int, float or {“auto”, “sqrt”, “log2”}, default=None\n",
    "    'random_state': None, # int, RandomState instance or None, default=None\n",
    "    'max_leaf_nodes': None, # int, default=None\n",
    "    'min_impurity_decrease': 0.0, # float, default=0.0\n",
    "    'class_weight': None, # dict, list of dict or “balanced”, default=None\n",
    "    'ccp_alpha': 0.0, # non-negative float, default=0.0\n",
    "}\n",
    "\n",
    "clf = DecisionTreeClassifier(\n",
    "    criterion=parameters['criterion'],\n",
    "    splitter=parameters['splitter'], \n",
    "    max_depth=parameters['max_depth'],\n",
    "    min_samples_split=parameters['min_samples_split'],\n",
    "    min_samples_leaf=parameters['min_samples_leaf'],\n",
    "    min_weight_fraction_leaf=parameters['min_weight_fraction_leaf'],\n",
    "    max_features=parameters['max_features'],\n",
    "    random_state=parameters['random_state'],\n",
    "    max_leaf_nodes=parameters['max_leaf_nodes'],\n",
    "    min_impurity_decrease=parameters['min_impurity_decrease'],\n",
    "    class_weight=parameters['class_weight'],\n",
    "    ccp_alpha=parameters['ccp_alpha']\n",
    "    )\n",
    "clf = clf.fit(X_train, y_train)"
   ]
  },
  {
   "cell_type": "markdown",
   "metadata": {
    "id": "N6hFvJfKfPM5"
   },
   "source": [
    "## Attributes"
   ]
  },
  {
   "cell_type": "code",
   "execution_count": null,
   "metadata": {
    "ExecuteTime": {
     "end_time": "2022-12-22T21:47:46.901818Z",
     "start_time": "2022-12-22T21:47:46.893873Z"
    },
    "colab": {
     "base_uri": "https://localhost:8080/"
    },
    "id": "UQp1zdXLNmVZ",
    "outputId": "1ee1f874-2c8b-4e45-d661-fc49c296d45d"
   },
   "outputs": [],
   "source": [
    "# attributes:\n",
    "atts = {att for att in dir(clf) if (att[-1]=='_') & (att[0]!='_')}\n",
    "print('Attributes of tree:', atts)"
   ]
  },
  {
   "cell_type": "code",
   "execution_count": null,
   "metadata": {
    "ExecuteTime": {
     "end_time": "2022-12-22T21:48:54.736939Z",
     "start_time": "2022-12-22T21:48:54.722892Z"
    },
    "colab": {
     "base_uri": "https://localhost:8080/",
     "height": 332
    },
    "id": "fccniyUROmVq",
    "outputId": "36e415a0-d669-4d58-fa28-d843270a11cb"
   },
   "outputs": [],
   "source": [
    "# feature importance\n",
    "df=pd.DataFrame(np.transpose([clf.feature_importances_]), index=data['feature_names'], columns=['feature_importance'])\n",
    "\n",
    "filt = df['feature_importance']>0\n",
    "(df[filt]).sort_values(by='feature_importance', ascending=False).style.bar(\"feature_importance\")"
   ]
  },
  {
   "cell_type": "code",
   "execution_count": null,
   "metadata": {
    "ExecuteTime": {
     "end_time": "2022-12-22T21:49:31.473894Z",
     "start_time": "2022-12-22T21:49:31.455139Z"
    },
    "colab": {
     "base_uri": "https://localhost:8080/"
    },
    "id": "Wyb2blE4eyJ9",
    "outputId": "7db1ad63-e25a-4f01-c7d1-7ebd114c223b"
   },
   "outputs": [],
   "source": [
    "# scalar attributes\n",
    "for att, val in clf.__dict__.items():\n",
    "    if att in atts-{'tree_', 'feature_importances_'}:\n",
    "        print(att,'=', val)"
   ]
  },
  {
   "cell_type": "code",
   "execution_count": null,
   "metadata": {
    "ExecuteTime": {
     "end_time": "2022-09-06T11:30:17.487752Z",
     "start_time": "2022-09-06T11:30:17.475773Z"
    },
    "colab": {
     "base_uri": "https://localhost:8080/"
    },
    "id": "kAIPECivfYxJ",
    "outputId": "8b85a1cb-fc14-455e-8146-e67475c822fa"
   },
   "outputs": [],
   "source": [
    "# tree attributes\n",
    "print(dir(clf.tree_))"
   ]
  },
  {
   "cell_type": "markdown",
   "metadata": {
    "id": "UhEFShjd-1nQ"
   },
   "source": [
    "## Methods"
   ]
  },
  {
   "cell_type": "code",
   "execution_count": null,
   "metadata": {
    "ExecuteTime": {
     "end_time": "2022-12-22T21:50:06.287541Z",
     "start_time": "2022-12-22T21:50:06.278540Z"
    },
    "colab": {
     "base_uri": "https://localhost:8080/"
    },
    "id": "FkM9PSsGAJlf",
    "outputId": "1cd43f5e-b93c-4fa7-bf9c-e67cde987d7f"
   },
   "outputs": [],
   "source": [
    "meths = ['apply', \n",
    "         'cost_complexity_pruning_path',\n",
    "         'decision_path',\n",
    "         'get_depth', \n",
    "         'get_n_leaves',\n",
    "         'get_params',\n",
    "         'predict',\n",
    "         'predict_log_proba',\n",
    "         'predict_proba',\n",
    "         'score',\n",
    "         'set_params']\n",
    "meths"
   ]
  },
  {
   "cell_type": "code",
   "execution_count": null,
   "metadata": {
    "ExecuteTime": {
     "end_time": "2022-12-22T21:50:13.418270Z",
     "start_time": "2022-12-22T21:50:13.403239Z"
    },
    "colab": {
     "base_uri": "https://localhost:8080/"
    },
    "id": "QhFxNFVz9clp",
    "outputId": "42d10ba3-f206-4f38-c05f-5a9d3f8f1191"
   },
   "outputs": [],
   "source": [
    "clf.apply(X_test[[2],:])"
   ]
  },
  {
   "cell_type": "code",
   "execution_count": null,
   "metadata": {
    "ExecuteTime": {
     "end_time": "2022-12-22T21:50:19.612145Z",
     "start_time": "2022-12-22T21:50:19.600154Z"
    },
    "colab": {
     "base_uri": "https://localhost:8080/"
    },
    "id": "v5N89ZWI9cpD",
    "outputId": "e2a04521-41ac-41bd-94fb-4c570c009231"
   },
   "outputs": [],
   "source": [
    "print(clf.decision_path(X_test[[2],:]))"
   ]
  },
  {
   "cell_type": "code",
   "execution_count": null,
   "metadata": {
    "ExecuteTime": {
     "end_time": "2022-12-22T21:50:22.797368Z",
     "start_time": "2022-12-22T21:50:22.790403Z"
    },
    "colab": {
     "base_uri": "https://localhost:8080/"
    },
    "id": "JjRn6pBiYj4F",
    "outputId": "3ce9c391-23d6-4cf1-fd50-0e33b9939410"
   },
   "outputs": [],
   "source": [
    "clf.get_depth()"
   ]
  },
  {
   "cell_type": "code",
   "execution_count": null,
   "metadata": {
    "ExecuteTime": {
     "end_time": "2022-12-22T21:50:28.788394Z",
     "start_time": "2022-12-22T21:50:28.770361Z"
    },
    "colab": {
     "base_uri": "https://localhost:8080/"
    },
    "id": "gPsWej3fY63n",
    "outputId": "e717fd33-d651-4e31-8d4f-8f5ac2153d9b"
   },
   "outputs": [],
   "source": [
    "clf.get_n_leaves()"
   ]
  },
  {
   "cell_type": "code",
   "execution_count": null,
   "metadata": {
    "ExecuteTime": {
     "end_time": "2022-12-22T21:50:35.403020Z",
     "start_time": "2022-12-22T21:50:35.381977Z"
    },
    "colab": {
     "base_uri": "https://localhost:8080/"
    },
    "id": "1IKKTxrDZE42",
    "outputId": "8cedc434-e517-4fa9-f1be-bd19cb90b9f8"
   },
   "outputs": [],
   "source": [
    "clf.get_params()"
   ]
  },
  {
   "cell_type": "code",
   "execution_count": null,
   "metadata": {
    "ExecuteTime": {
     "end_time": "2022-12-22T21:50:40.430511Z",
     "start_time": "2022-12-22T21:50:40.418468Z"
    },
    "colab": {
     "base_uri": "https://localhost:8080/"
    },
    "id": "-ANphLJPZOkU",
    "outputId": "079a8385-4a26-45e1-a336-e3d06438b6ec"
   },
   "outputs": [],
   "source": [
    "clf.predict(X_test[[2],:])"
   ]
  },
  {
   "cell_type": "code",
   "execution_count": null,
   "metadata": {
    "ExecuteTime": {
     "end_time": "2022-12-22T21:50:54.200328Z",
     "start_time": "2022-12-22T21:50:54.178279Z"
    },
    "colab": {
     "base_uri": "https://localhost:8080/"
    },
    "id": "3k1zL-iBbTaH",
    "outputId": "b89cad45-fd0d-4309-caf4-2d38cb77b1fe"
   },
   "outputs": [],
   "source": [
    "clf.predict_log_proba(X_test[[2],:])"
   ]
  },
  {
   "cell_type": "code",
   "execution_count": null,
   "metadata": {
    "ExecuteTime": {
     "end_time": "2022-12-22T21:51:01.354305Z",
     "start_time": "2022-12-22T21:51:01.334261Z"
    },
    "colab": {
     "base_uri": "https://localhost:8080/"
    },
    "id": "wnk-jTCAaGM0",
    "outputId": "4b656134-5e91-434a-cd4f-adc54317777f"
   },
   "outputs": [],
   "source": [
    "clf.predict_proba(X_test[[2, 3],:])"
   ]
  },
  {
   "cell_type": "code",
   "execution_count": null,
   "metadata": {
    "ExecuteTime": {
     "end_time": "2022-12-22T21:51:04.589959Z",
     "start_time": "2022-12-22T21:51:04.580010Z"
    },
    "colab": {
     "base_uri": "https://localhost:8080/"
    },
    "id": "tKCTpW7XblXM",
    "outputId": "1bffeae1-898e-4bda-d809-56609aa3c9f4"
   },
   "outputs": [],
   "source": [
    "clf.score(X_test,y_test)"
   ]
  },
  {
   "cell_type": "markdown",
   "metadata": {
    "id": "n_rc9JA3cnkI"
   },
   "source": [
    "## Display"
   ]
  },
  {
   "cell_type": "code",
   "execution_count": null,
   "metadata": {
    "ExecuteTime": {
     "end_time": "2022-12-22T21:51:16.255230Z",
     "start_time": "2022-12-22T21:51:16.247231Z"
    },
    "colab": {
     "base_uri": "https://localhost:8080/"
    },
    "id": "SDVIT7ziNeic",
    "outputId": "0fd79015-9c95-4052-f013-29878c22cb07"
   },
   "outputs": [],
   "source": [
    "text = export_text(clf, feature_names=list(data['feature_names']))\n",
    "print(text)"
   ]
  },
  {
   "cell_type": "code",
   "execution_count": null,
   "metadata": {
    "ExecuteTime": {
     "end_time": "2022-12-22T21:51:25.636812Z",
     "start_time": "2022-12-22T21:51:25.102784Z"
    },
    "colab": {
     "base_uri": "https://localhost:8080/",
     "height": 248
    },
    "id": "qVn0QJW0airA",
    "outputId": "4640b655-616a-43e3-d281-66ae2df09149",
    "scrolled": false
   },
   "outputs": [],
   "source": [
    "plot_tree(clf);"
   ]
  },
  {
   "cell_type": "code",
   "execution_count": null,
   "metadata": {
    "ExecuteTime": {
     "end_time": "2022-12-22T21:51:33.074828Z",
     "start_time": "2022-12-22T21:51:33.061838Z"
    }
   },
   "outputs": [],
   "source": [
    "import os\n",
    "os.environ[\"PATH\"] += os.pathsep + 'C:/Program Files/Graphviz/bin'"
   ]
  },
  {
   "cell_type": "code",
   "execution_count": null,
   "metadata": {
    "ExecuteTime": {
     "end_time": "2022-12-22T21:51:40.465324Z",
     "start_time": "2022-12-22T21:51:40.339195Z"
    },
    "colab": {
     "base_uri": "https://localhost:8080/",
     "height": 915
    },
    "id": "GhU6KX4VbjIA",
    "outputId": "d5701b39-0031-4a53-e676-328567a98ad9"
   },
   "outputs": [],
   "source": [
    "dot_data = export_graphviz(clf, out_file=None, \n",
    "                      feature_names=data.feature_names,  \n",
    "                      class_names=data.target_names,  \n",
    "                      filled=True, rounded=True,  \n",
    "                      special_characters=True)  \n",
    "graph = graphviz.Source(dot_data)\n",
    "graph"
   ]
  },
  {
   "cell_type": "code",
   "execution_count": null,
   "metadata": {
    "id": "0y-YohgcMzmD"
   },
   "outputs": [],
   "source": []
  }
 ],
 "metadata": {
  "colab": {
   "collapsed_sections": [],
   "provenance": []
  },
  "kernelspec": {
   "display_name": "ML_from_scratch_venv",
   "language": "python",
   "name": "ml_from_scratch_venv"
  },
  "language_info": {
   "codemirror_mode": {
    "name": "ipython",
    "version": 3
   },
   "file_extension": ".py",
   "mimetype": "text/x-python",
   "name": "python",
   "nbconvert_exporter": "python",
   "pygments_lexer": "ipython3",
   "version": "3.8.6"
  },
  "toc": {
   "base_numbering": 1,
   "nav_menu": {},
   "number_sections": true,
   "sideBar": true,
   "skip_h1_title": false,
   "title_cell": "Table of Contents",
   "title_sidebar": "Contents",
   "toc_cell": false,
   "toc_position": {
    "height": "calc(100% - 180px)",
    "left": "10px",
    "top": "150px",
    "width": "272px"
   },
   "toc_section_display": true,
   "toc_window_display": true
  }
 },
 "nbformat": 4,
 "nbformat_minor": 1
}
