{
 "cells": [
  {
   "cell_type": "markdown",
   "metadata": {
    "id": "BJTNodE7M3Np"
   },
   "source": [
    "# Decision tree classifier from scratch"
   ]
  },
  {
   "cell_type": "code",
   "execution_count": 2,
   "metadata": {
    "ExecuteTime": {
     "end_time": "2022-09-03T21:16:42.498100Z",
     "start_time": "2022-09-03T21:16:42.065373Z"
    },
    "id": "Cr0xxqFgMtnd"
   },
   "outputs": [],
   "source": [
    "import numpy as np\n",
    "import pandas as pd\n",
    "from collections import Counter\n",
    "from sklearn import datasets\n",
    "from sklearn.model_selection import train_test_split\n",
    "import sys\n",
    "sys.path.insert(0, 'C:/Users/grzesiek/Documents/Data Science/PycharmProjects/ML_from_scratch/Decision_tree_clf')"
   ]
  },
  {
   "cell_type": "code",
   "execution_count": 3,
   "metadata": {
    "ExecuteTime": {
     "end_time": "2022-09-03T21:16:44.659574Z",
     "start_time": "2022-09-03T21:16:44.641548Z"
    },
    "id": "Nr0TcG0zIsdX"
   },
   "outputs": [],
   "source": [
    "from decision_tree_clf import entropy, accuracy, Node, DecisionTreeCls"
   ]
  },
  {
   "cell_type": "code",
   "execution_count": 4,
   "metadata": {
    "ExecuteTime": {
     "end_time": "2022-09-03T21:16:47.047825Z",
     "start_time": "2022-09-03T21:16:47.031781Z"
    },
    "id": "eqv0unwvRsVf"
   },
   "outputs": [],
   "source": [
    "data = datasets.load_breast_cancer()\n",
    "X = data.data\n",
    "y = data.target\n",
    "\n",
    "X_train, X_test, y_train, y_test = train_test_split(X, y, test_size=0.2)"
   ]
  },
  {
   "cell_type": "code",
   "execution_count": 5,
   "metadata": {
    "ExecuteTime": {
     "end_time": "2022-09-03T21:16:51.729178Z",
     "start_time": "2022-09-03T21:16:49.677859Z"
    },
    "colab": {
     "base_uri": "https://localhost:8080/"
    },
    "id": "PoaGVDz-Tr-j",
    "outputId": "23d550c6-4af9-42e2-8813-c554e22b9fc0"
   },
   "outputs": [
    {
     "name": "stdout",
     "output_type": "stream",
     "text": [
      "Root node: n_samples = 455, \n",
      "            splitting_feature = mean concave points, \n",
      "            splitting_threshold = 0.05102\n",
      "|--- Node right: n_samples = 178, \n",
      "            splitting_feature = worst perimeter, \n",
      "            splitting_threshold = 114.3\n",
      "|   |--- Leaf node right: 0\n",
      "|   |--- Node left: n_samples = 42, \n",
      "            splitting_feature = worst texture, \n",
      "            splitting_threshold = 25.47\n",
      "|   |   |--- Leaf node right: 0\n",
      "|   |   |--- Leaf node left: 1\n",
      "|--- Node left: n_samples = 277, \n",
      "            splitting_feature = worst area, \n",
      "            splitting_threshold = 760.2\n",
      "|   |--- Node right: n_samples = 38, \n",
      "            splitting_feature = mean texture, \n",
      "            splitting_threshold = 18.77\n",
      "|   |   |--- Leaf node right: 0\n",
      "|   |   |--- Leaf node left: 1\n",
      "|   |--- Node left: n_samples = 239, \n",
      "            splitting_feature = area error, \n",
      "            splitting_threshold = 44.96\n",
      "|   |   |--- Leaf node right: 1\n",
      "|   |   |--- Leaf node left: 1\n"
     ]
    }
   ],
   "source": [
    "clf = DecisionTreeCls(max_depth=3)\n",
    "clf.fit(X_train, y_train)\n",
    "clf.export_text(data['feature_names'])"
   ]
  },
  {
   "cell_type": "code",
   "execution_count": 6,
   "metadata": {
    "ExecuteTime": {
     "end_time": "2022-09-03T21:16:56.192089Z",
     "start_time": "2022-09-03T21:16:56.178074Z"
    },
    "colab": {
     "base_uri": "https://localhost:8080/"
    },
    "id": "Q9cb4NOQA6XX",
    "outputId": "792896ac-e479-4019-a958-426a4c5c2f46"
   },
   "outputs": [
    {
     "data": {
      "text/plain": [
       "0.9210526315789473"
      ]
     },
     "execution_count": 6,
     "metadata": {},
     "output_type": "execute_result"
    }
   ],
   "source": [
    "y_pred = clf.predict(X_test)\n",
    "accuracy(y_test, y_pred)"
   ]
  },
  {
   "cell_type": "markdown",
   "metadata": {
    "id": "Ibhc3BHyUcFy"
   },
   "source": [
    "# Decision tree classifier from sklearn"
   ]
  },
  {
   "cell_type": "markdown",
   "metadata": {
    "id": "dZDfTT7h-bgm"
   },
   "source": [
    "## Parameters"
   ]
  },
  {
   "cell_type": "code",
   "execution_count": 1,
   "metadata": {
    "ExecuteTime": {
     "end_time": "2022-09-03T21:16:35.985303Z",
     "start_time": "2022-09-03T21:16:35.052300Z"
    },
    "id": "pyUMZGjJUhza"
   },
   "outputs": [],
   "source": [
    "from sklearn.tree import DecisionTreeClassifier, export_text, plot_tree, export_graphviz\n",
    "import graphviz"
   ]
  },
  {
   "cell_type": "code",
   "execution_count": 7,
   "metadata": {
    "ExecuteTime": {
     "end_time": "2022-09-03T21:23:57.374375Z",
     "start_time": "2022-09-03T21:23:57.355377Z"
    },
    "id": "tXaMUW4YUwLT"
   },
   "outputs": [],
   "source": [
    "parameters={\n",
    "    'criterion':'entropy',# {“gini”, “entropy”, “log_loss”}\n",
    "    'splitter':'best', # {“best”, “random”}\n",
    "    'max_depth': 5,\n",
    "    'min_samples_split': 2,\n",
    "    'min_samples_leaf': 1,\n",
    "    'min_weight_fraction_leaf': 0.0,\n",
    "    'max_features': None, # int, float or {“auto”, “sqrt”, “log2”}, default=None\n",
    "    'random_state': None, # int, RandomState instance or None, default=None\n",
    "    'max_leaf_nodes': None, # int, default=None\n",
    "    'min_impurity_decrease': 0.0, # float, default=0.0\n",
    "    'class_weight': None, # dict, list of dict or “balanced”, default=None\n",
    "    'ccp_alpha': 0.0, # non-negative float, default=0.0\n",
    "}\n",
    "\n",
    "clf = DecisionTreeClassifier(\n",
    "    criterion=parameters['criterion'],\n",
    "    splitter=parameters['splitter'], \n",
    "    max_depth=parameters['max_depth'],\n",
    "    min_samples_split=parameters['min_samples_split'],\n",
    "    min_samples_leaf=parameters['min_samples_leaf'],\n",
    "    min_weight_fraction_leaf=parameters['min_weight_fraction_leaf'],\n",
    "    max_features=parameters['max_features'],\n",
    "    random_state=parameters['random_state'],\n",
    "    max_leaf_nodes=parameters['max_leaf_nodes'],\n",
    "    min_impurity_decrease=parameters['min_impurity_decrease'],\n",
    "    class_weight=parameters['class_weight'],\n",
    "    ccp_alpha=parameters['ccp_alpha']\n",
    "    )\n",
    "clf = clf.fit(X_train, y_train)"
   ]
  },
  {
   "cell_type": "markdown",
   "metadata": {
    "id": "N6hFvJfKfPM5"
   },
   "source": [
    "## Attributes"
   ]
  },
  {
   "cell_type": "code",
   "execution_count": 8,
   "metadata": {
    "ExecuteTime": {
     "end_time": "2022-09-03T21:24:05.563183Z",
     "start_time": "2022-09-03T21:24:05.550223Z"
    },
    "colab": {
     "base_uri": "https://localhost:8080/"
    },
    "id": "UQp1zdXLNmVZ",
    "outputId": "1ee1f874-2c8b-4e45-d661-fc49c296d45d"
   },
   "outputs": [
    {
     "name": "stdout",
     "output_type": "stream",
     "text": [
      "Attributes of tree: {'feature_importances_', 'n_features_in_', 'tree_', 'classes_', 'n_classes_', 'max_features_', 'n_features_', 'n_outputs_'}\n"
     ]
    }
   ],
   "source": [
    "# attributes:\n",
    "atts = {att for att in dir(clf) if (att[-1]=='_') & (att[0]!='_')}\n",
    "print('Attributes of tree:', atts)"
   ]
  },
  {
   "cell_type": "code",
   "execution_count": 15,
   "metadata": {
    "ExecuteTime": {
     "end_time": "2022-09-03T21:26:06.433482Z",
     "start_time": "2022-09-03T21:26:06.325772Z"
    },
    "colab": {
     "base_uri": "https://localhost:8080/",
     "height": 332
    },
    "id": "fccniyUROmVq",
    "outputId": "36e415a0-d669-4d58-fa28-d843270a11cb"
   },
   "outputs": [
    {
     "data": {
      "text/html": [
       "<style type=\"text/css\">\n",
       "#T_e58de_row0_col0 {\n",
       "  width: 10em;\n",
       "  background: linear-gradient(90deg, #d65f5f 100.0%, transparent 100.0%);\n",
       "}\n",
       "#T_e58de_row1_col0 {\n",
       "  width: 10em;\n",
       "  background: linear-gradient(90deg, #d65f5f 17.1%, transparent 17.1%);\n",
       "}\n",
       "#T_e58de_row2_col0 {\n",
       "  width: 10em;\n",
       "  background: linear-gradient(90deg, #d65f5f 15.9%, transparent 15.9%);\n",
       "}\n",
       "#T_e58de_row3_col0 {\n",
       "  width: 10em;\n",
       "  background: linear-gradient(90deg, #d65f5f 11.4%, transparent 11.4%);\n",
       "}\n",
       "#T_e58de_row4_col0 {\n",
       "  width: 10em;\n",
       "  background: linear-gradient(90deg, #d65f5f 2.3%, transparent 2.3%);\n",
       "}\n",
       "#T_e58de_row5_col0 {\n",
       "  width: 10em;\n",
       "  background: linear-gradient(90deg, #d65f5f 2.0%, transparent 2.0%);\n",
       "}\n",
       "#T_e58de_row6_col0 {\n",
       "  width: 10em;\n",
       "  background: linear-gradient(90deg, #d65f5f 1.9%, transparent 1.9%);\n",
       "}\n",
       "#T_e58de_row7_col0 {\n",
       "  width: 10em;\n",
       "  background: linear-gradient(90deg, #d65f5f 1.3%, transparent 1.3%);\n",
       "}\n",
       "#T_e58de_row8_col0, #T_e58de_row9_col0 {\n",
       "  width: 10em;\n",
       "  background: linear-gradient(90deg, #d65f5f 0.7%, transparent 0.7%);\n",
       "}\n",
       "</style>\n",
       "<table id=\"T_e58de\">\n",
       "  <thead>\n",
       "    <tr>\n",
       "      <th class=\"blank level0\" >&nbsp;</th>\n",
       "      <th id=\"T_e58de_level0_col0\" class=\"col_heading level0 col0\" >feature_importance</th>\n",
       "    </tr>\n",
       "  </thead>\n",
       "  <tbody>\n",
       "    <tr>\n",
       "      <th id=\"T_e58de_level0_row0\" class=\"row_heading level0 row0\" >mean concave points</th>\n",
       "      <td id=\"T_e58de_row0_col0\" class=\"data row0 col0\" >0.652594</td>\n",
       "    </tr>\n",
       "    <tr>\n",
       "      <th id=\"T_e58de_level0_row1\" class=\"row_heading level0 row1\" >worst perimeter</th>\n",
       "      <td id=\"T_e58de_row1_col0\" class=\"data row1 col0\" >0.111520</td>\n",
       "    </tr>\n",
       "    <tr>\n",
       "      <th id=\"T_e58de_level0_row2\" class=\"row_heading level0 row2\" >worst texture</th>\n",
       "      <td id=\"T_e58de_row2_col0\" class=\"data row2 col0\" >0.103498</td>\n",
       "    </tr>\n",
       "    <tr>\n",
       "      <th id=\"T_e58de_level0_row3\" class=\"row_heading level0 row3\" >worst area</th>\n",
       "      <td id=\"T_e58de_row3_col0\" class=\"data row3 col0\" >0.074447</td>\n",
       "    </tr>\n",
       "    <tr>\n",
       "      <th id=\"T_e58de_level0_row4\" class=\"row_heading level0 row4\" >mean symmetry</th>\n",
       "      <td id=\"T_e58de_row4_col0\" class=\"data row4 col0\" >0.015175</td>\n",
       "    </tr>\n",
       "    <tr>\n",
       "      <th id=\"T_e58de_level0_row5\" class=\"row_heading level0 row5\" >worst smoothness</th>\n",
       "      <td id=\"T_e58de_row5_col0\" class=\"data row5 col0\" >0.012761</td>\n",
       "    </tr>\n",
       "    <tr>\n",
       "      <th id=\"T_e58de_level0_row6\" class=\"row_heading level0 row6\" >area error</th>\n",
       "      <td id=\"T_e58de_row6_col0\" class=\"data row6 col0\" >0.012341</td>\n",
       "    </tr>\n",
       "    <tr>\n",
       "      <th id=\"T_e58de_level0_row7\" class=\"row_heading level0 row7\" >perimeter error</th>\n",
       "      <td id=\"T_e58de_row7_col0\" class=\"data row7 col0\" >0.008430</td>\n",
       "    </tr>\n",
       "    <tr>\n",
       "      <th id=\"T_e58de_level0_row8\" class=\"row_heading level0 row8\" >smoothness error</th>\n",
       "      <td id=\"T_e58de_row8_col0\" class=\"data row8 col0\" >0.004617</td>\n",
       "    </tr>\n",
       "    <tr>\n",
       "      <th id=\"T_e58de_level0_row9\" class=\"row_heading level0 row9\" >worst concavity</th>\n",
       "      <td id=\"T_e58de_row9_col0\" class=\"data row9 col0\" >0.004617</td>\n",
       "    </tr>\n",
       "  </tbody>\n",
       "</table>\n"
      ],
      "text/plain": [
       "<pandas.io.formats.style.Styler at 0x29086af3d30>"
      ]
     },
     "execution_count": 15,
     "metadata": {},
     "output_type": "execute_result"
    }
   ],
   "source": [
    "# feature importance\n",
    "df=pd.DataFrame(np.transpose([clf.feature_importances_]), index=data['feature_names'], columns=['feature_importance'])\n",
    "(df[df['feature_importance']>0]).sort_values(by='feature_importance', ascending=False).style.bar(\"feature_importance\")"
   ]
  },
  {
   "cell_type": "code",
   "execution_count": 10,
   "metadata": {
    "ExecuteTime": {
     "end_time": "2022-09-03T21:24:37.141222Z",
     "start_time": "2022-09-03T21:24:37.134223Z"
    },
    "colab": {
     "base_uri": "https://localhost:8080/"
    },
    "id": "Wyb2blE4eyJ9",
    "outputId": "7db1ad63-e25a-4f01-c7d1-7ebd114c223b"
   },
   "outputs": [
    {
     "name": "stdout",
     "output_type": "stream",
     "text": [
      "n_features_in_ = 30\n",
      "n_outputs_ = 1\n",
      "classes_ = [0 1]\n",
      "n_classes_ = 2\n",
      "max_features_ = 30\n"
     ]
    }
   ],
   "source": [
    "# scalar attributes\n",
    "for att, val in clf.__dict__.items():\n",
    "  if att in atts-{'tree_', 'feature_importances_'}:\n",
    "    print(att,'=', val)"
   ]
  },
  {
   "cell_type": "code",
   "execution_count": 11,
   "metadata": {
    "ExecuteTime": {
     "end_time": "2022-09-03T21:24:40.430478Z",
     "start_time": "2022-09-03T21:24:40.413477Z"
    },
    "colab": {
     "base_uri": "https://localhost:8080/"
    },
    "id": "kAIPECivfYxJ",
    "outputId": "8b85a1cb-fc14-455e-8146-e67475c822fa"
   },
   "outputs": [
    {
     "name": "stdout",
     "output_type": "stream",
     "text": [
      "['__class__', '__delattr__', '__dir__', '__doc__', '__eq__', '__format__', '__ge__', '__getattribute__', '__getstate__', '__gt__', '__hash__', '__init__', '__init_subclass__', '__le__', '__lt__', '__ne__', '__new__', '__pyx_vtable__', '__reduce__', '__reduce_ex__', '__repr__', '__setattr__', '__setstate__', '__sizeof__', '__str__', '__subclasshook__', 'apply', 'capacity', 'children_left', 'children_right', 'compute_feature_importances', 'compute_partial_dependence', 'decision_path', 'feature', 'impurity', 'max_depth', 'max_n_classes', 'n_classes', 'n_features', 'n_leaves', 'n_node_samples', 'n_outputs', 'node_count', 'predict', 'threshold', 'value', 'weighted_n_node_samples']\n"
     ]
    }
   ],
   "source": [
    "# tree attributes\n",
    "print(dir(clf.tree_))"
   ]
  },
  {
   "cell_type": "markdown",
   "metadata": {
    "heading_collapsed": true,
    "id": "UhEFShjd-1nQ"
   },
   "source": [
    "## Methods"
   ]
  },
  {
   "cell_type": "code",
   "execution_count": null,
   "metadata": {
    "colab": {
     "base_uri": "https://localhost:8080/"
    },
    "hidden": true,
    "id": "FkM9PSsGAJlf",
    "outputId": "1cd43f5e-b93c-4fa7-bf9c-e67cde987d7f"
   },
   "outputs": [],
   "source": [
    "meths = ['apply', \n",
    "         'cost_complexity_pruning_path',\n",
    "         'decision_path',\n",
    "         'get_depth', \n",
    "         'get_n_leaves',\n",
    "         'get_params',\n",
    "         'predict',\n",
    "         'predict_log_proba',\n",
    "         'predict_proba',\n",
    "         'score',\n",
    "         'set_params']\n",
    "meths"
   ]
  },
  {
   "cell_type": "code",
   "execution_count": null,
   "metadata": {
    "colab": {
     "base_uri": "https://localhost:8080/"
    },
    "hidden": true,
    "id": "QhFxNFVz9clp",
    "outputId": "42d10ba3-f206-4f38-c05f-5a9d3f8f1191"
   },
   "outputs": [],
   "source": [
    "clf.apply(X_test[[2],:])"
   ]
  },
  {
   "cell_type": "code",
   "execution_count": null,
   "metadata": {
    "colab": {
     "base_uri": "https://localhost:8080/"
    },
    "hidden": true,
    "id": "v5N89ZWI9cpD",
    "outputId": "e2a04521-41ac-41bd-94fb-4c570c009231"
   },
   "outputs": [],
   "source": [
    "print(clf.decision_path(X_test[[2],:]))"
   ]
  },
  {
   "cell_type": "code",
   "execution_count": null,
   "metadata": {
    "colab": {
     "base_uri": "https://localhost:8080/"
    },
    "hidden": true,
    "id": "JjRn6pBiYj4F",
    "outputId": "3ce9c391-23d6-4cf1-fd50-0e33b9939410"
   },
   "outputs": [],
   "source": [
    "clf.get_depth()"
   ]
  },
  {
   "cell_type": "code",
   "execution_count": null,
   "metadata": {
    "colab": {
     "base_uri": "https://localhost:8080/"
    },
    "hidden": true,
    "id": "gPsWej3fY63n",
    "outputId": "e717fd33-d651-4e31-8d4f-8f5ac2153d9b"
   },
   "outputs": [],
   "source": [
    "clf.get_n_leaves()"
   ]
  },
  {
   "cell_type": "code",
   "execution_count": null,
   "metadata": {
    "colab": {
     "base_uri": "https://localhost:8080/"
    },
    "hidden": true,
    "id": "1IKKTxrDZE42",
    "outputId": "8cedc434-e517-4fa9-f1be-bd19cb90b9f8"
   },
   "outputs": [],
   "source": [
    "clf.get_params()"
   ]
  },
  {
   "cell_type": "code",
   "execution_count": null,
   "metadata": {
    "colab": {
     "base_uri": "https://localhost:8080/"
    },
    "hidden": true,
    "id": "-ANphLJPZOkU",
    "outputId": "079a8385-4a26-45e1-a336-e3d06438b6ec"
   },
   "outputs": [],
   "source": [
    "clf.predict(X_test[[2],:])"
   ]
  },
  {
   "cell_type": "code",
   "execution_count": null,
   "metadata": {
    "colab": {
     "base_uri": "https://localhost:8080/"
    },
    "hidden": true,
    "id": "3k1zL-iBbTaH",
    "outputId": "b89cad45-fd0d-4309-caf4-2d38cb77b1fe"
   },
   "outputs": [],
   "source": [
    "clf.predict_log_proba(X_test[[2],:])"
   ]
  },
  {
   "cell_type": "code",
   "execution_count": null,
   "metadata": {
    "colab": {
     "base_uri": "https://localhost:8080/"
    },
    "hidden": true,
    "id": "wnk-jTCAaGM0",
    "outputId": "4b656134-5e91-434a-cd4f-adc54317777f"
   },
   "outputs": [],
   "source": [
    "clf.predict_proba(X_test[[2, 3],:])"
   ]
  },
  {
   "cell_type": "code",
   "execution_count": null,
   "metadata": {
    "colab": {
     "base_uri": "https://localhost:8080/"
    },
    "hidden": true,
    "id": "tKCTpW7XblXM",
    "outputId": "1bffeae1-898e-4bda-d809-56609aa3c9f4"
   },
   "outputs": [],
   "source": [
    "clf.score(X_test,y_test)"
   ]
  },
  {
   "cell_type": "markdown",
   "metadata": {
    "heading_collapsed": true,
    "id": "n_rc9JA3cnkI"
   },
   "source": [
    "## Display"
   ]
  },
  {
   "cell_type": "code",
   "execution_count": null,
   "metadata": {
    "colab": {
     "base_uri": "https://localhost:8080/"
    },
    "hidden": true,
    "id": "SDVIT7ziNeic",
    "outputId": "0fd79015-9c95-4052-f013-29878c22cb07"
   },
   "outputs": [],
   "source": [
    "text = export_text(clf, feature_names=list(data['feature_names']))\n",
    "print(text)"
   ]
  },
  {
   "cell_type": "code",
   "execution_count": null,
   "metadata": {
    "colab": {
     "base_uri": "https://localhost:8080/",
     "height": 248
    },
    "hidden": true,
    "id": "qVn0QJW0airA",
    "outputId": "4640b655-616a-43e3-d281-66ae2df09149"
   },
   "outputs": [],
   "source": [
    "plot_tree(clf);"
   ]
  },
  {
   "cell_type": "code",
   "execution_count": null,
   "metadata": {
    "colab": {
     "base_uri": "https://localhost:8080/",
     "height": 915
    },
    "hidden": true,
    "id": "GhU6KX4VbjIA",
    "outputId": "d5701b39-0031-4a53-e676-328567a98ad9"
   },
   "outputs": [],
   "source": [
    "dot_data = export_graphviz(clf, out_file=None, \n",
    "                      feature_names=data.feature_names,  \n",
    "                      class_names=data.target_names,  \n",
    "                      filled=True, rounded=True,  \n",
    "                      special_characters=True)  \n",
    "graph = graphviz.Source(dot_data)\n",
    "graph"
   ]
  },
  {
   "cell_type": "code",
   "execution_count": null,
   "metadata": {
    "hidden": true,
    "id": "0y-YohgcMzmD"
   },
   "outputs": [],
   "source": []
  }
 ],
 "metadata": {
  "colab": {
   "collapsed_sections": [],
   "provenance": []
  },
  "kernelspec": {
   "display_name": "Python 3 (ipykernel)",
   "language": "python",
   "name": "python3"
  },
  "language_info": {
   "codemirror_mode": {
    "name": "ipython",
    "version": 3
   },
   "file_extension": ".py",
   "mimetype": "text/x-python",
   "name": "python",
   "nbconvert_exporter": "python",
   "pygments_lexer": "ipython3",
   "version": "3.8.6"
  },
  "toc": {
   "base_numbering": 1,
   "nav_menu": {},
   "number_sections": true,
   "sideBar": true,
   "skip_h1_title": false,
   "title_cell": "Table of Contents",
   "title_sidebar": "Contents",
   "toc_cell": false,
   "toc_position": {},
   "toc_section_display": true,
   "toc_window_display": true
  }
 },
 "nbformat": 4,
 "nbformat_minor": 1
}
