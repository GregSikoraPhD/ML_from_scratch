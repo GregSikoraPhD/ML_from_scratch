{
 "cells": [
  {
   "cell_type": "markdown",
   "metadata": {
    "id": "BJTNodE7M3Np"
   },
   "source": [
    "# Decision tree classifier from scratch"
   ]
  },
  {
   "cell_type": "code",
   "execution_count": 1,
   "metadata": {
    "ExecuteTime": {
     "end_time": "2023-01-06T20:13:18.410476Z",
     "start_time": "2023-01-06T20:13:14.365124Z"
    },
    "id": "Cr0xxqFgMtnd"
   },
   "outputs": [],
   "source": [
    "import matplotlib.pyplot as plt\n",
    "import numpy as np\n",
    "import pandas as pd\n",
    "from collections import Counter\n",
    "from sklearn import datasets\n",
    "from sklearn.inspection import DecisionBoundaryDisplay\n",
    "from sklearn.model_selection import train_test_split\n",
    "from sklearn.tree import DecisionTreeClassifier, export_text, plot_tree, export_graphviz\n",
    "import graphviz\n",
    "import sys\n",
    "sys.path.insert(0, 'C:/Users/grzesiek/Documents/Data Science/PycharmProjects/ML_from_scratch/decision_tree_classyfier')"
   ]
  },
  {
   "cell_type": "code",
   "execution_count": 2,
   "metadata": {
    "ExecuteTime": {
     "end_time": "2023-01-06T20:13:18.426412Z",
     "start_time": "2023-01-06T20:13:18.410476Z"
    },
    "id": "Nr0TcG0zIsdX"
   },
   "outputs": [],
   "source": [
    "from decision_tree_cls import entropy, accuracy, Node, DecisionTreeCls"
   ]
  },
  {
   "cell_type": "markdown",
   "metadata": {},
   "source": [
    "## Toy dataset"
   ]
  },
  {
   "cell_type": "code",
   "execution_count": null,
   "metadata": {
    "ExecuteTime": {
     "end_time": "2023-01-03T20:54:53.919755Z",
     "start_time": "2023-01-03T20:54:53.907745Z"
    }
   },
   "outputs": [],
   "source": [
    "X = np.array([[1, 30], [1, 15], [1, 5], [0, 10], [0, 5], [0,15], [0, 20], [0, 25], [0, 30], [0,30]])\n",
    "y = np.array([0, 0, 0, 0, 0, 1, 1, 1, 1, 1])"
   ]
  },
  {
   "cell_type": "code",
   "execution_count": null,
   "metadata": {
    "ExecuteTime": {
     "end_time": "2023-01-03T20:54:56.670127Z",
     "start_time": "2023-01-03T20:54:56.638132Z"
    }
   },
   "outputs": [],
   "source": [
    "clf = DecisionTreeCls(max_depth=3)\n",
    "clf.fit(X, y)\n",
    "clf.export_text(['rain', 'time_walk'])"
   ]
  },
  {
   "cell_type": "code",
   "execution_count": null,
   "metadata": {
    "ExecuteTime": {
     "end_time": "2023-01-03T21:22:42.872195Z",
     "start_time": "2023-01-03T21:22:42.692195Z"
    }
   },
   "outputs": [],
   "source": [
    "feature_1, feature_2 = np.meshgrid(np.linspace(X[:, 0].min()-0.1, X[:, 0].max()+0.1),\n",
    "                                   np.linspace(X[:, 1].min()-2, X[:, 1].max())+1)\n",
    "grid = np.vstack([feature_1.ravel(), feature_2.ravel()]).T\n",
    "tree = clf.fit(X, y)\n",
    "y_pred = np.reshape(clf.predict(grid), feature_1.shape)\n",
    "\n",
    "display = DecisionBoundaryDisplay(xx0=feature_1, xx1=feature_2, response=y_pred, ylabel='time_walk', xlabel='rain')\n",
    "display.plot()\n",
    "display.ax_.scatter(X[:, 0], X[:, 1], c=y, edgecolor=\"black\");"
   ]
  },
  {
   "cell_type": "code",
   "execution_count": null,
   "metadata": {
    "ExecuteTime": {
     "end_time": "2023-01-03T21:24:52.019839Z",
     "start_time": "2023-01-03T21:24:51.851597Z"
    }
   },
   "outputs": [],
   "source": [
    "# clf_sklearn = DecisionTreeClassifier()\n",
    "clf_sklearn = clf_sklearn.fit(X, y)\n",
    "\n",
    "dot_data = export_graphviz(clf_sklearn, out_file=None, \n",
    "                      feature_names=['rain', 'time_walk'],  \n",
    "                      class_names=['not_go', 'go'],  \n",
    "                      filled=True, rounded=True,  \n",
    "                      special_characters=True)  \n",
    "graph = graphviz.Source(dot_data)\n",
    "graph"
   ]
  },
  {
   "cell_type": "markdown",
   "metadata": {},
   "source": [
    "## Breast_cancer dataset"
   ]
  },
  {
   "cell_type": "code",
   "execution_count": 3,
   "metadata": {
    "ExecuteTime": {
     "end_time": "2023-01-06T20:13:29.002278Z",
     "start_time": "2023-01-06T20:13:28.974281Z"
    },
    "id": "eqv0unwvRsVf"
   },
   "outputs": [],
   "source": [
    "data = datasets.load_breast_cancer()\n",
    "X = data.data\n",
    "y = data.target\n",
    "\n",
    "X_train, X_test, y_train, y_test = train_test_split(X, y, test_size=0.2)"
   ]
  },
  {
   "cell_type": "code",
   "execution_count": 4,
   "metadata": {
    "ExecuteTime": {
     "end_time": "2023-01-06T20:13:32.886612Z",
     "start_time": "2023-01-06T20:13:30.540480Z"
    },
    "colab": {
     "base_uri": "https://localhost:8080/"
    },
    "id": "PoaGVDz-Tr-j",
    "outputId": "23d550c6-4af9-42e2-8813-c554e22b9fc0"
   },
   "outputs": [
    {
     "name": "stdout",
     "output_type": "stream",
     "text": [
      "Root node: n_samples = 455, \n",
      "            splitting_feature = worst concave points, \n",
      "            splitting_threshold = 0.1416\n",
      "|--- Node right: n_samples = 155, \n",
      "            splitting_feature = area error, \n",
      "            splitting_threshold = 24.87\n",
      "|   |--- Leaf node right: 0\n",
      "|   |--- Node left: n_samples = 21, \n",
      "            splitting_feature = worst texture, \n",
      "            splitting_threshold = 27.2\n",
      "|   |   |--- Leaf node right: 0\n",
      "|   |   |--- Leaf node left: 1\n",
      "|--- Node left: n_samples = 300, \n",
      "            splitting_feature = worst perimeter, \n",
      "            splitting_threshold = 101.7\n",
      "|   |--- Node right: n_samples = 57, \n",
      "            splitting_feature = worst area, \n",
      "            splitting_threshold = 947.9\n",
      "|   |   |--- Leaf node right: 0\n",
      "|   |   |--- Leaf node left: 1\n",
      "|   |--- Node left: n_samples = 243, \n",
      "            splitting_feature = area error, \n",
      "            splitting_threshold = 48.84\n",
      "|   |   |--- Leaf node right: 0\n",
      "|   |   |--- Leaf node left: 1\n"
     ]
    }
   ],
   "source": [
    "clf = DecisionTreeCls(max_depth=3)\n",
    "clf.fit(X_train, y_train)\n",
    "clf.export_text(data['feature_names'])"
   ]
  },
  {
   "cell_type": "code",
   "execution_count": 7,
   "metadata": {
    "ExecuteTime": {
     "end_time": "2023-01-06T20:13:55.105638Z",
     "start_time": "2023-01-06T20:13:54.985568Z"
    }
   },
   "outputs": [
    {
     "ename": "TypeError",
     "evalue": "'>=' not supported between instances of 'numpy.str_' and 'int'",
     "output_type": "error",
     "traceback": [
      "\u001b[1;31m---------------------------------------------------------------------------\u001b[0m",
      "\u001b[1;31mTypeError\u001b[0m                                 Traceback (most recent call last)",
      "File \u001b[1;32mc:\\users\\grzesiek\\documents\\data science\\virtualenvironments\\ml_from_scratch_venv\\lib\\site-packages\\IPython\\core\\formatters.py:343\u001b[0m, in \u001b[0;36mBaseFormatter.__call__\u001b[1;34m(self, obj)\u001b[0m\n\u001b[0;32m    341\u001b[0m     method \u001b[38;5;241m=\u001b[39m get_real_method(obj, \u001b[38;5;28mself\u001b[39m\u001b[38;5;241m.\u001b[39mprint_method)\n\u001b[0;32m    342\u001b[0m     \u001b[38;5;28;01mif\u001b[39;00m method \u001b[38;5;129;01mis\u001b[39;00m \u001b[38;5;129;01mnot\u001b[39;00m \u001b[38;5;28;01mNone\u001b[39;00m:\n\u001b[1;32m--> 343\u001b[0m         \u001b[38;5;28;01mreturn\u001b[39;00m \u001b[43mmethod\u001b[49m\u001b[43m(\u001b[49m\u001b[43m)\u001b[49m\n\u001b[0;32m    344\u001b[0m     \u001b[38;5;28;01mreturn\u001b[39;00m \u001b[38;5;28;01mNone\u001b[39;00m\n\u001b[0;32m    345\u001b[0m \u001b[38;5;28;01melse\u001b[39;00m:\n",
      "File \u001b[1;32mc:\\users\\grzesiek\\documents\\data science\\virtualenvironments\\ml_from_scratch_venv\\lib\\site-packages\\pandas\\io\\formats\\style.py:272\u001b[0m, in \u001b[0;36mStyler._repr_html_\u001b[1;34m(self)\u001b[0m\n\u001b[0;32m    267\u001b[0m \u001b[38;5;124;03m\"\"\"\u001b[39;00m\n\u001b[0;32m    268\u001b[0m \u001b[38;5;124;03mHooks into Jupyter notebook rich display system, which calls _repr_html_ by\u001b[39;00m\n\u001b[0;32m    269\u001b[0m \u001b[38;5;124;03mdefault if an object is returned at the end of a cell.\u001b[39;00m\n\u001b[0;32m    270\u001b[0m \u001b[38;5;124;03m\"\"\"\u001b[39;00m\n\u001b[0;32m    271\u001b[0m \u001b[38;5;28;01mif\u001b[39;00m get_option(\u001b[38;5;124m\"\u001b[39m\u001b[38;5;124mstyler.render.repr\u001b[39m\u001b[38;5;124m\"\u001b[39m) \u001b[38;5;241m==\u001b[39m \u001b[38;5;124m\"\u001b[39m\u001b[38;5;124mhtml\u001b[39m\u001b[38;5;124m\"\u001b[39m:\n\u001b[1;32m--> 272\u001b[0m     \u001b[38;5;28;01mreturn\u001b[39;00m \u001b[38;5;28;43mself\u001b[39;49m\u001b[38;5;241;43m.\u001b[39;49m\u001b[43mto_html\u001b[49m\u001b[43m(\u001b[49m\u001b[43m)\u001b[49m\n\u001b[0;32m    273\u001b[0m \u001b[38;5;28;01mreturn\u001b[39;00m \u001b[38;5;28;01mNone\u001b[39;00m\n",
      "File \u001b[1;32mc:\\users\\grzesiek\\documents\\data science\\virtualenvironments\\ml_from_scratch_venv\\lib\\site-packages\\pandas\\io\\formats\\style.py:1179\u001b[0m, in \u001b[0;36mStyler.to_html\u001b[1;34m(self, buf, table_uuid, table_attributes, sparse_index, sparse_columns, bold_headers, caption, max_rows, max_columns, encoding, doctype_html, exclude_styles, **kwargs)\u001b[0m\n\u001b[0;32m   1176\u001b[0m     obj\u001b[38;5;241m.\u001b[39mset_caption(caption)\n\u001b[0;32m   1178\u001b[0m \u001b[38;5;66;03m# Build HTML string..\u001b[39;00m\n\u001b[1;32m-> 1179\u001b[0m html \u001b[38;5;241m=\u001b[39m \u001b[43mobj\u001b[49m\u001b[38;5;241;43m.\u001b[39;49m\u001b[43m_render_html\u001b[49m\u001b[43m(\u001b[49m\n\u001b[0;32m   1180\u001b[0m \u001b[43m    \u001b[49m\u001b[43msparse_index\u001b[49m\u001b[38;5;241;43m=\u001b[39;49m\u001b[43msparse_index\u001b[49m\u001b[43m,\u001b[49m\n\u001b[0;32m   1181\u001b[0m \u001b[43m    \u001b[49m\u001b[43msparse_columns\u001b[49m\u001b[38;5;241;43m=\u001b[39;49m\u001b[43msparse_columns\u001b[49m\u001b[43m,\u001b[49m\n\u001b[0;32m   1182\u001b[0m \u001b[43m    \u001b[49m\u001b[43mmax_rows\u001b[49m\u001b[38;5;241;43m=\u001b[39;49m\u001b[43mmax_rows\u001b[49m\u001b[43m,\u001b[49m\n\u001b[0;32m   1183\u001b[0m \u001b[43m    \u001b[49m\u001b[43mmax_cols\u001b[49m\u001b[38;5;241;43m=\u001b[39;49m\u001b[43mmax_columns\u001b[49m\u001b[43m,\u001b[49m\n\u001b[0;32m   1184\u001b[0m \u001b[43m    \u001b[49m\u001b[43mexclude_styles\u001b[49m\u001b[38;5;241;43m=\u001b[39;49m\u001b[43mexclude_styles\u001b[49m\u001b[43m,\u001b[49m\n\u001b[0;32m   1185\u001b[0m \u001b[43m    \u001b[49m\u001b[43mencoding\u001b[49m\u001b[38;5;241;43m=\u001b[39;49m\u001b[43mencoding\u001b[49m\u001b[43m \u001b[49m\u001b[38;5;129;43;01mor\u001b[39;49;00m\u001b[43m \u001b[49m\u001b[43mget_option\u001b[49m\u001b[43m(\u001b[49m\u001b[38;5;124;43m\"\u001b[39;49m\u001b[38;5;124;43mstyler.render.encoding\u001b[39;49m\u001b[38;5;124;43m\"\u001b[39;49m\u001b[43m)\u001b[49m\u001b[43m,\u001b[49m\n\u001b[0;32m   1186\u001b[0m \u001b[43m    \u001b[49m\u001b[43mdoctype_html\u001b[49m\u001b[38;5;241;43m=\u001b[39;49m\u001b[43mdoctype_html\u001b[49m\u001b[43m,\u001b[49m\n\u001b[0;32m   1187\u001b[0m \u001b[43m    \u001b[49m\u001b[38;5;241;43m*\u001b[39;49m\u001b[38;5;241;43m*\u001b[39;49m\u001b[43mkwargs\u001b[49m\u001b[43m,\u001b[49m\n\u001b[0;32m   1188\u001b[0m \u001b[43m\u001b[49m\u001b[43m)\u001b[49m\n\u001b[0;32m   1190\u001b[0m \u001b[38;5;28;01mreturn\u001b[39;00m save_to_buffer(\n\u001b[0;32m   1191\u001b[0m     html, buf\u001b[38;5;241m=\u001b[39mbuf, encoding\u001b[38;5;241m=\u001b[39m(encoding \u001b[38;5;28;01mif\u001b[39;00m buf \u001b[38;5;129;01mis\u001b[39;00m \u001b[38;5;129;01mnot\u001b[39;00m \u001b[38;5;28;01mNone\u001b[39;00m \u001b[38;5;28;01melse\u001b[39;00m \u001b[38;5;28;01mNone\u001b[39;00m)\n\u001b[0;32m   1192\u001b[0m )\n",
      "File \u001b[1;32mc:\\users\\grzesiek\\documents\\data science\\virtualenvironments\\ml_from_scratch_venv\\lib\\site-packages\\pandas\\io\\formats\\style_render.py:162\u001b[0m, in \u001b[0;36mStylerRenderer._render_html\u001b[1;34m(self, sparse_index, sparse_columns, max_rows, max_cols, **kwargs)\u001b[0m\n\u001b[0;32m    150\u001b[0m \u001b[38;5;28;01mdef\u001b[39;00m \u001b[38;5;21m_render_html\u001b[39m(\n\u001b[0;32m    151\u001b[0m     \u001b[38;5;28mself\u001b[39m,\n\u001b[0;32m    152\u001b[0m     sparse_index: \u001b[38;5;28mbool\u001b[39m,\n\u001b[1;32m   (...)\u001b[0m\n\u001b[0;32m    156\u001b[0m     \u001b[38;5;241m*\u001b[39m\u001b[38;5;241m*\u001b[39mkwargs,\n\u001b[0;32m    157\u001b[0m ) \u001b[38;5;241m-\u001b[39m\u001b[38;5;241m>\u001b[39m \u001b[38;5;28mstr\u001b[39m:\n\u001b[0;32m    158\u001b[0m     \u001b[38;5;124;03m\"\"\"\u001b[39;00m\n\u001b[0;32m    159\u001b[0m \u001b[38;5;124;03m    Renders the ``Styler`` including all applied styles to HTML.\u001b[39;00m\n\u001b[0;32m    160\u001b[0m \u001b[38;5;124;03m    Generates a dict with necessary kwargs passed to jinja2 template.\u001b[39;00m\n\u001b[0;32m    161\u001b[0m \u001b[38;5;124;03m    \"\"\"\u001b[39;00m\n\u001b[1;32m--> 162\u001b[0m     \u001b[38;5;28;43mself\u001b[39;49m\u001b[38;5;241;43m.\u001b[39;49m\u001b[43m_compute\u001b[49m\u001b[43m(\u001b[49m\u001b[43m)\u001b[49m\n\u001b[0;32m    163\u001b[0m     \u001b[38;5;66;03m# TODO: namespace all the pandas keys\u001b[39;00m\n\u001b[0;32m    164\u001b[0m     d \u001b[38;5;241m=\u001b[39m \u001b[38;5;28mself\u001b[39m\u001b[38;5;241m.\u001b[39m_translate(sparse_index, sparse_columns, max_rows, max_cols)\n",
      "File \u001b[1;32mc:\\users\\grzesiek\\documents\\data science\\virtualenvironments\\ml_from_scratch_venv\\lib\\site-packages\\pandas\\io\\formats\\style_render.py:205\u001b[0m, in \u001b[0;36mStylerRenderer._compute\u001b[1;34m(self)\u001b[0m\n\u001b[0;32m    203\u001b[0m r \u001b[38;5;241m=\u001b[39m \u001b[38;5;28mself\u001b[39m\n\u001b[0;32m    204\u001b[0m \u001b[38;5;28;01mfor\u001b[39;00m func, args, kwargs \u001b[38;5;129;01min\u001b[39;00m \u001b[38;5;28mself\u001b[39m\u001b[38;5;241m.\u001b[39m_todo:\n\u001b[1;32m--> 205\u001b[0m     r \u001b[38;5;241m=\u001b[39m \u001b[43mfunc\u001b[49m\u001b[43m(\u001b[49m\u001b[38;5;28;43mself\u001b[39;49m\u001b[43m)\u001b[49m\u001b[43m(\u001b[49m\u001b[38;5;241;43m*\u001b[39;49m\u001b[43margs\u001b[49m\u001b[43m,\u001b[49m\u001b[43m \u001b[49m\u001b[38;5;241;43m*\u001b[39;49m\u001b[38;5;241;43m*\u001b[39;49m\u001b[43mkwargs\u001b[49m\u001b[43m)\u001b[49m\n\u001b[0;32m    206\u001b[0m \u001b[38;5;28;01mreturn\u001b[39;00m r\n",
      "File \u001b[1;32mc:\\users\\grzesiek\\documents\\data science\\virtualenvironments\\ml_from_scratch_venv\\lib\\site-packages\\pandas\\io\\formats\\style.py:1442\u001b[0m, in \u001b[0;36mStyler._apply\u001b[1;34m(self, func, axis, subset, **kwargs)\u001b[0m\n\u001b[0;32m   1440\u001b[0m axis \u001b[38;5;241m=\u001b[39m \u001b[38;5;28mself\u001b[39m\u001b[38;5;241m.\u001b[39mdata\u001b[38;5;241m.\u001b[39m_get_axis_number(axis)\n\u001b[0;32m   1441\u001b[0m \u001b[38;5;28;01mif\u001b[39;00m axis \u001b[38;5;241m==\u001b[39m \u001b[38;5;241m0\u001b[39m:\n\u001b[1;32m-> 1442\u001b[0m     result \u001b[38;5;241m=\u001b[39m \u001b[43mdata\u001b[49m\u001b[38;5;241;43m.\u001b[39;49m\u001b[43mapply\u001b[49m\u001b[43m(\u001b[49m\u001b[43mfunc\u001b[49m\u001b[43m,\u001b[49m\u001b[43m \u001b[49m\u001b[43maxis\u001b[49m\u001b[38;5;241;43m=\u001b[39;49m\u001b[38;5;241;43m0\u001b[39;49m\u001b[43m,\u001b[49m\u001b[43m \u001b[49m\u001b[38;5;241;43m*\u001b[39;49m\u001b[38;5;241;43m*\u001b[39;49m\u001b[43mkwargs\u001b[49m\u001b[43m)\u001b[49m\n\u001b[0;32m   1443\u001b[0m \u001b[38;5;28;01melse\u001b[39;00m:\n\u001b[0;32m   1444\u001b[0m     result \u001b[38;5;241m=\u001b[39m data\u001b[38;5;241m.\u001b[39mT\u001b[38;5;241m.\u001b[39mapply(func, axis\u001b[38;5;241m=\u001b[39m\u001b[38;5;241m0\u001b[39m, \u001b[38;5;241m*\u001b[39m\u001b[38;5;241m*\u001b[39mkwargs)\u001b[38;5;241m.\u001b[39mT  \u001b[38;5;66;03m# see GH 42005\u001b[39;00m\n",
      "File \u001b[1;32mc:\\users\\grzesiek\\documents\\data science\\virtualenvironments\\ml_from_scratch_venv\\lib\\site-packages\\pandas\\core\\frame.py:8848\u001b[0m, in \u001b[0;36mDataFrame.apply\u001b[1;34m(self, func, axis, raw, result_type, args, **kwargs)\u001b[0m\n\u001b[0;32m   8837\u001b[0m \u001b[38;5;28;01mfrom\u001b[39;00m \u001b[38;5;21;01mpandas\u001b[39;00m\u001b[38;5;21;01m.\u001b[39;00m\u001b[38;5;21;01mcore\u001b[39;00m\u001b[38;5;21;01m.\u001b[39;00m\u001b[38;5;21;01mapply\u001b[39;00m \u001b[38;5;28;01mimport\u001b[39;00m frame_apply\n\u001b[0;32m   8839\u001b[0m op \u001b[38;5;241m=\u001b[39m frame_apply(\n\u001b[0;32m   8840\u001b[0m     \u001b[38;5;28mself\u001b[39m,\n\u001b[0;32m   8841\u001b[0m     func\u001b[38;5;241m=\u001b[39mfunc,\n\u001b[1;32m   (...)\u001b[0m\n\u001b[0;32m   8846\u001b[0m     kwargs\u001b[38;5;241m=\u001b[39mkwargs,\n\u001b[0;32m   8847\u001b[0m )\n\u001b[1;32m-> 8848\u001b[0m \u001b[38;5;28;01mreturn\u001b[39;00m \u001b[43mop\u001b[49m\u001b[38;5;241;43m.\u001b[39;49m\u001b[43mapply\u001b[49m\u001b[43m(\u001b[49m\u001b[43m)\u001b[49m\u001b[38;5;241m.\u001b[39m__finalize__(\u001b[38;5;28mself\u001b[39m, method\u001b[38;5;241m=\u001b[39m\u001b[38;5;124m\"\u001b[39m\u001b[38;5;124mapply\u001b[39m\u001b[38;5;124m\"\u001b[39m)\n",
      "File \u001b[1;32mc:\\users\\grzesiek\\documents\\data science\\virtualenvironments\\ml_from_scratch_venv\\lib\\site-packages\\pandas\\core\\apply.py:733\u001b[0m, in \u001b[0;36mFrameApply.apply\u001b[1;34m(self)\u001b[0m\n\u001b[0;32m    730\u001b[0m \u001b[38;5;28;01melif\u001b[39;00m \u001b[38;5;28mself\u001b[39m\u001b[38;5;241m.\u001b[39mraw:\n\u001b[0;32m    731\u001b[0m     \u001b[38;5;28;01mreturn\u001b[39;00m \u001b[38;5;28mself\u001b[39m\u001b[38;5;241m.\u001b[39mapply_raw()\n\u001b[1;32m--> 733\u001b[0m \u001b[38;5;28;01mreturn\u001b[39;00m \u001b[38;5;28;43mself\u001b[39;49m\u001b[38;5;241;43m.\u001b[39;49m\u001b[43mapply_standard\u001b[49m\u001b[43m(\u001b[49m\u001b[43m)\u001b[49m\n",
      "File \u001b[1;32mc:\\users\\grzesiek\\documents\\data science\\virtualenvironments\\ml_from_scratch_venv\\lib\\site-packages\\pandas\\core\\apply.py:857\u001b[0m, in \u001b[0;36mFrameApply.apply_standard\u001b[1;34m(self)\u001b[0m\n\u001b[0;32m    856\u001b[0m \u001b[38;5;28;01mdef\u001b[39;00m \u001b[38;5;21mapply_standard\u001b[39m(\u001b[38;5;28mself\u001b[39m):\n\u001b[1;32m--> 857\u001b[0m     results, res_index \u001b[38;5;241m=\u001b[39m \u001b[38;5;28;43mself\u001b[39;49m\u001b[38;5;241;43m.\u001b[39;49m\u001b[43mapply_series_generator\u001b[49m\u001b[43m(\u001b[49m\u001b[43m)\u001b[49m\n\u001b[0;32m    859\u001b[0m     \u001b[38;5;66;03m# wrap results\u001b[39;00m\n\u001b[0;32m    860\u001b[0m     \u001b[38;5;28;01mreturn\u001b[39;00m \u001b[38;5;28mself\u001b[39m\u001b[38;5;241m.\u001b[39mwrap_results(results, res_index)\n",
      "File \u001b[1;32mc:\\users\\grzesiek\\documents\\data science\\virtualenvironments\\ml_from_scratch_venv\\lib\\site-packages\\pandas\\core\\apply.py:873\u001b[0m, in \u001b[0;36mFrameApply.apply_series_generator\u001b[1;34m(self)\u001b[0m\n\u001b[0;32m    870\u001b[0m \u001b[38;5;28;01mwith\u001b[39;00m option_context(\u001b[38;5;124m\"\u001b[39m\u001b[38;5;124mmode.chained_assignment\u001b[39m\u001b[38;5;124m\"\u001b[39m, \u001b[38;5;28;01mNone\u001b[39;00m):\n\u001b[0;32m    871\u001b[0m     \u001b[38;5;28;01mfor\u001b[39;00m i, v \u001b[38;5;129;01min\u001b[39;00m \u001b[38;5;28menumerate\u001b[39m(series_gen):\n\u001b[0;32m    872\u001b[0m         \u001b[38;5;66;03m# ignore SettingWithCopy here in case the user mutates\u001b[39;00m\n\u001b[1;32m--> 873\u001b[0m         results[i] \u001b[38;5;241m=\u001b[39m \u001b[38;5;28;43mself\u001b[39;49m\u001b[38;5;241;43m.\u001b[39;49m\u001b[43mf\u001b[49m\u001b[43m(\u001b[49m\u001b[43mv\u001b[49m\u001b[43m)\u001b[49m\n\u001b[0;32m    874\u001b[0m         \u001b[38;5;28;01mif\u001b[39;00m \u001b[38;5;28misinstance\u001b[39m(results[i], ABCSeries):\n\u001b[0;32m    875\u001b[0m             \u001b[38;5;66;03m# If we have a view on v, we need to make a copy because\u001b[39;00m\n\u001b[0;32m    876\u001b[0m             \u001b[38;5;66;03m#  series_generator will swap out the underlying data\u001b[39;00m\n\u001b[0;32m    877\u001b[0m             results[i] \u001b[38;5;241m=\u001b[39m results[i]\u001b[38;5;241m.\u001b[39mcopy(deep\u001b[38;5;241m=\u001b[39m\u001b[38;5;28;01mFalse\u001b[39;00m)\n",
      "File \u001b[1;32mc:\\users\\grzesiek\\documents\\data science\\virtualenvironments\\ml_from_scratch_venv\\lib\\site-packages\\pandas\\core\\apply.py:138\u001b[0m, in \u001b[0;36mApply.__init__.<locals>.f\u001b[1;34m(x)\u001b[0m\n\u001b[0;32m    137\u001b[0m \u001b[38;5;28;01mdef\u001b[39;00m \u001b[38;5;21mf\u001b[39m(x):\n\u001b[1;32m--> 138\u001b[0m     \u001b[38;5;28;01mreturn\u001b[39;00m \u001b[43mfunc\u001b[49m\u001b[43m(\u001b[49m\u001b[43mx\u001b[49m\u001b[43m,\u001b[49m\u001b[43m \u001b[49m\u001b[38;5;241;43m*\u001b[39;49m\u001b[43margs\u001b[49m\u001b[43m,\u001b[49m\u001b[43m \u001b[49m\u001b[38;5;241;43m*\u001b[39;49m\u001b[38;5;241;43m*\u001b[39;49m\u001b[43mkwargs\u001b[49m\u001b[43m)\u001b[49m\n",
      "File \u001b[1;32mc:\\users\\grzesiek\\documents\\data science\\virtualenvironments\\ml_from_scratch_venv\\lib\\site-packages\\pandas\\io\\formats\\style.py:3815\u001b[0m, in \u001b[0;36m_bar\u001b[1;34m(data, align, colors, cmap, width, height, vmin, vmax, base_css)\u001b[0m\n\u001b[0;32m   3812\u001b[0m z: \u001b[38;5;28mfloat\u001b[39m \u001b[38;5;241m=\u001b[39m \u001b[38;5;241m0\u001b[39m  \u001b[38;5;66;03m# adjustment to translate data\u001b[39;00m\n\u001b[0;32m   3814\u001b[0m \u001b[38;5;28;01mif\u001b[39;00m align \u001b[38;5;241m==\u001b[39m \u001b[38;5;124m\"\u001b[39m\u001b[38;5;124mmid\u001b[39m\u001b[38;5;124m\"\u001b[39m:\n\u001b[1;32m-> 3815\u001b[0m     \u001b[38;5;28;01mif\u001b[39;00m \u001b[43mleft\u001b[49m\u001b[43m \u001b[49m\u001b[38;5;241;43m>\u001b[39;49m\u001b[38;5;241;43m=\u001b[39;49m\u001b[43m \u001b[49m\u001b[38;5;241;43m0\u001b[39;49m:  \u001b[38;5;66;03m# \"mid\" is documented to act as \"left\" if all values positive\u001b[39;00m\n\u001b[0;32m   3816\u001b[0m         align, left \u001b[38;5;241m=\u001b[39m \u001b[38;5;124m\"\u001b[39m\u001b[38;5;124mleft\u001b[39m\u001b[38;5;124m\"\u001b[39m, \u001b[38;5;241m0\u001b[39m \u001b[38;5;28;01mif\u001b[39;00m vmin \u001b[38;5;129;01mis\u001b[39;00m \u001b[38;5;28;01mNone\u001b[39;00m \u001b[38;5;28;01melse\u001b[39;00m vmin\n\u001b[0;32m   3817\u001b[0m     \u001b[38;5;28;01melif\u001b[39;00m right \u001b[38;5;241m<\u001b[39m\u001b[38;5;241m=\u001b[39m \u001b[38;5;241m0\u001b[39m:  \u001b[38;5;66;03m# \"mid\" is documented to act as \"right\" if all values negative\u001b[39;00m\n",
      "\u001b[1;31mTypeError\u001b[0m: '>=' not supported between instances of 'numpy.str_' and 'int'"
     ]
    },
    {
     "data": {
      "text/plain": [
       "<pandas.io.formats.style.Styler at 0x16dbd3e60a0>"
      ]
     },
     "execution_count": 7,
     "metadata": {},
     "output_type": "execute_result"
    }
   ],
   "source": [
    "clf.feature_importance(data['feature_names']).sort_values(by='feature_importance', ascending=False).style.bar('feature_importance')"
   ]
  },
  {
   "cell_type": "code",
   "execution_count": 6,
   "metadata": {
    "ExecuteTime": {
     "end_time": "2023-01-06T20:13:45.540603Z",
     "start_time": "2023-01-06T20:13:45.516593Z"
    },
    "colab": {
     "base_uri": "https://localhost:8080/"
    },
    "id": "Q9cb4NOQA6XX",
    "outputId": "792896ac-e479-4019-a958-426a4c5c2f46"
   },
   "outputs": [
    {
     "data": {
      "text/plain": [
       "0.9385964912280702"
      ]
     },
     "execution_count": 6,
     "metadata": {},
     "output_type": "execute_result"
    }
   ],
   "source": [
    "y_pred = clf.predict(X_test)\n",
    "accuracy(y_test, y_pred)"
   ]
  },
  {
   "cell_type": "markdown",
   "metadata": {
    "id": "Ibhc3BHyUcFy"
   },
   "source": [
    "# Decision tree classifier from sklearn"
   ]
  },
  {
   "cell_type": "markdown",
   "metadata": {
    "id": "dZDfTT7h-bgm"
   },
   "source": [
    "## Parameters"
   ]
  },
  {
   "cell_type": "code",
   "execution_count": 8,
   "metadata": {
    "ExecuteTime": {
     "end_time": "2023-01-06T20:14:04.870264Z",
     "start_time": "2023-01-06T20:14:04.846269Z"
    },
    "id": "tXaMUW4YUwLT"
   },
   "outputs": [],
   "source": [
    "parameters={\n",
    "    'criterion':'entropy',# {“gini”, “entropy”, “log_loss”}\n",
    "    'splitter':'best', # {“best”, “random”}\n",
    "    'max_depth': 3,\n",
    "    'min_samples_split': 2,\n",
    "    'min_samples_leaf': 1,\n",
    "    'min_weight_fraction_leaf': 0.0,\n",
    "    'max_features': None, # int, float or {“auto”, “sqrt”, “log2”}, default=None\n",
    "    'random_state': None, # int, RandomState instance or None, default=None\n",
    "    'max_leaf_nodes': None, # int, default=None\n",
    "    'min_impurity_decrease': 0.0, # float, default=0.0\n",
    "    'class_weight': None, # dict, list of dict or “balanced”, default=None\n",
    "    'ccp_alpha': 0.0, # non-negative float, default=0.0\n",
    "}\n",
    "\n",
    "clf = DecisionTreeClassifier(\n",
    "    criterion=parameters['criterion'],\n",
    "    splitter=parameters['splitter'], \n",
    "    max_depth=parameters['max_depth'],\n",
    "    min_samples_split=parameters['min_samples_split'],\n",
    "    min_samples_leaf=parameters['min_samples_leaf'],\n",
    "    min_weight_fraction_leaf=parameters['min_weight_fraction_leaf'],\n",
    "    max_features=parameters['max_features'],\n",
    "    random_state=parameters['random_state'],\n",
    "    max_leaf_nodes=parameters['max_leaf_nodes'],\n",
    "    min_impurity_decrease=parameters['min_impurity_decrease'],\n",
    "    class_weight=parameters['class_weight'],\n",
    "    ccp_alpha=parameters['ccp_alpha']\n",
    "    )\n",
    "clf = clf.fit(X_train, y_train)"
   ]
  },
  {
   "cell_type": "markdown",
   "metadata": {
    "id": "N6hFvJfKfPM5"
   },
   "source": [
    "## Attributes"
   ]
  },
  {
   "cell_type": "code",
   "execution_count": 9,
   "metadata": {
    "ExecuteTime": {
     "end_time": "2023-01-06T20:14:07.696578Z",
     "start_time": "2023-01-06T20:14:07.684580Z"
    },
    "colab": {
     "base_uri": "https://localhost:8080/"
    },
    "id": "UQp1zdXLNmVZ",
    "outputId": "1ee1f874-2c8b-4e45-d661-fc49c296d45d"
   },
   "outputs": [
    {
     "name": "stdout",
     "output_type": "stream",
     "text": [
      "Attributes of tree: {'feature_importances_', 'tree_', 'max_features_', 'n_classes_', 'n_features_in_', 'classes_', 'n_outputs_', 'n_features_'}\n"
     ]
    }
   ],
   "source": [
    "# attributes:\n",
    "atts = {att for att in dir(clf) if (att[-1]=='_') & (att[0]!='_')}\n",
    "print('Attributes of tree:', atts)"
   ]
  },
  {
   "cell_type": "code",
   "execution_count": 10,
   "metadata": {
    "ExecuteTime": {
     "end_time": "2023-01-06T20:14:26.069724Z",
     "start_time": "2023-01-06T20:14:26.041701Z"
    },
    "colab": {
     "base_uri": "https://localhost:8080/",
     "height": 332
    },
    "id": "fccniyUROmVq",
    "outputId": "36e415a0-d669-4d58-fa28-d843270a11cb"
   },
   "outputs": [
    {
     "data": {
      "text/html": [
       "<style type=\"text/css\">\n",
       "#T_22b6d_row0_col0 {\n",
       "  width: 10em;\n",
       "  background: linear-gradient(90deg, #d65f5f 100.0%, transparent 100.0%);\n",
       "}\n",
       "#T_22b6d_row1_col0 {\n",
       "  width: 10em;\n",
       "  background: linear-gradient(90deg, #d65f5f 19.0%, transparent 19.0%);\n",
       "}\n",
       "#T_22b6d_row2_col0 {\n",
       "  width: 10em;\n",
       "  background: linear-gradient(90deg, #d65f5f 12.6%, transparent 12.6%);\n",
       "}\n",
       "#T_22b6d_row3_col0 {\n",
       "  width: 10em;\n",
       "  background: linear-gradient(90deg, #d65f5f 5.7%, transparent 5.7%);\n",
       "}\n",
       "#T_22b6d_row4_col0 {\n",
       "  width: 10em;\n",
       "  background: linear-gradient(90deg, #d65f5f 5.1%, transparent 5.1%);\n",
       "}\n",
       "#T_22b6d_row5_col0 {\n",
       "  width: 10em;\n",
       "  background: linear-gradient(90deg, #d65f5f 2.1%, transparent 2.1%);\n",
       "}\n",
       "</style>\n",
       "<table id=\"T_22b6d\">\n",
       "  <thead>\n",
       "    <tr>\n",
       "      <th class=\"blank level0\" >&nbsp;</th>\n",
       "      <th id=\"T_22b6d_level0_col0\" class=\"col_heading level0 col0\" >feature_importance</th>\n",
       "    </tr>\n",
       "  </thead>\n",
       "  <tbody>\n",
       "    <tr>\n",
       "      <th id=\"T_22b6d_level0_row0\" class=\"row_heading level0 row0\" >worst concave points</th>\n",
       "      <td id=\"T_22b6d_row0_col0\" class=\"data row0 col0\" >0.692410</td>\n",
       "    </tr>\n",
       "    <tr>\n",
       "      <th id=\"T_22b6d_level0_row1\" class=\"row_heading level0 row1\" >worst perimeter</th>\n",
       "      <td id=\"T_22b6d_row1_col0\" class=\"data row1 col0\" >0.131281</td>\n",
       "    </tr>\n",
       "    <tr>\n",
       "      <th id=\"T_22b6d_level0_row2\" class=\"row_heading level0 row2\" >area error</th>\n",
       "      <td id=\"T_22b6d_row2_col0\" class=\"data row2 col0\" >0.086991</td>\n",
       "    </tr>\n",
       "    <tr>\n",
       "      <th id=\"T_22b6d_level0_row3\" class=\"row_heading level0 row3\" >worst area</th>\n",
       "      <td id=\"T_22b6d_row3_col0\" class=\"data row3 col0\" >0.039746</td>\n",
       "    </tr>\n",
       "    <tr>\n",
       "      <th id=\"T_22b6d_level0_row4\" class=\"row_heading level0 row4\" >worst texture</th>\n",
       "      <td id=\"T_22b6d_row4_col0\" class=\"data row4 col0\" >0.035209</td>\n",
       "    </tr>\n",
       "    <tr>\n",
       "      <th id=\"T_22b6d_level0_row5\" class=\"row_heading level0 row5\" >radius error</th>\n",
       "      <td id=\"T_22b6d_row5_col0\" class=\"data row5 col0\" >0.014363</td>\n",
       "    </tr>\n",
       "  </tbody>\n",
       "</table>\n"
      ],
      "text/plain": [
       "<pandas.io.formats.style.Styler at 0x16dc1113250>"
      ]
     },
     "execution_count": 10,
     "metadata": {},
     "output_type": "execute_result"
    }
   ],
   "source": [
    "# feature importance\n",
    "df=pd.DataFrame(np.transpose([clf.feature_importances_]), index=data['feature_names'], columns=['feature_importance'])\n",
    "\n",
    "filt = df['feature_importance']>0\n",
    "(df[filt]).sort_values(by='feature_importance', ascending=False).style.bar(\"feature_importance\")"
   ]
  },
  {
   "cell_type": "code",
   "execution_count": 11,
   "metadata": {
    "ExecuteTime": {
     "end_time": "2023-01-06T20:14:28.843978Z",
     "start_time": "2023-01-06T20:14:28.820037Z"
    },
    "colab": {
     "base_uri": "https://localhost:8080/"
    },
    "id": "Wyb2blE4eyJ9",
    "outputId": "7db1ad63-e25a-4f01-c7d1-7ebd114c223b"
   },
   "outputs": [
    {
     "name": "stdout",
     "output_type": "stream",
     "text": [
      "n_features_in_ = 30\n",
      "n_outputs_ = 1\n",
      "classes_ = [0 1]\n",
      "n_classes_ = 2\n",
      "max_features_ = 30\n"
     ]
    }
   ],
   "source": [
    "# scalar attributes\n",
    "for att, val in clf.__dict__.items():\n",
    "    if att in atts-{'tree_', 'feature_importances_'}:\n",
    "        print(att,'=', val)"
   ]
  },
  {
   "cell_type": "code",
   "execution_count": 12,
   "metadata": {
    "ExecuteTime": {
     "end_time": "2023-01-06T20:14:32.864643Z",
     "start_time": "2023-01-06T20:14:32.840678Z"
    },
    "colab": {
     "base_uri": "https://localhost:8080/"
    },
    "id": "kAIPECivfYxJ",
    "outputId": "8b85a1cb-fc14-455e-8146-e67475c822fa"
   },
   "outputs": [
    {
     "name": "stdout",
     "output_type": "stream",
     "text": [
      "['__class__', '__delattr__', '__dir__', '__doc__', '__eq__', '__format__', '__ge__', '__getattribute__', '__getstate__', '__gt__', '__hash__', '__init__', '__init_subclass__', '__le__', '__lt__', '__ne__', '__new__', '__pyx_vtable__', '__reduce__', '__reduce_ex__', '__repr__', '__setattr__', '__setstate__', '__sizeof__', '__str__', '__subclasshook__', 'apply', 'capacity', 'children_left', 'children_right', 'compute_feature_importances', 'compute_partial_dependence', 'decision_path', 'feature', 'impurity', 'max_depth', 'max_n_classes', 'n_classes', 'n_features', 'n_leaves', 'n_node_samples', 'n_outputs', 'node_count', 'predict', 'threshold', 'value', 'weighted_n_node_samples']\n"
     ]
    }
   ],
   "source": [
    "# tree attributes\n",
    "print(dir(clf.tree_))"
   ]
  },
  {
   "cell_type": "code",
   "execution_count": 13,
   "metadata": {
    "ExecuteTime": {
     "end_time": "2023-01-06T20:15:12.901580Z",
     "start_time": "2023-01-06T20:15:12.884609Z"
    }
   },
   "outputs": [
    {
     "data": {
      "text/plain": [
       "array([ 1.41999997e-01,  1.01949997e+02,  6.43099993e-01, -2.00000000e+00,\n",
       "       -2.00000000e+00,  9.57450012e+02, -2.00000000e+00, -2.00000000e+00,\n",
       "        2.48900003e+01,  2.73850002e+01, -2.00000000e+00, -2.00000000e+00,\n",
       "       -2.00000000e+00])"
      ]
     },
     "execution_count": 13,
     "metadata": {},
     "output_type": "execute_result"
    }
   ],
   "source": [
    "clf.tree_.threshold"
   ]
  },
  {
   "cell_type": "markdown",
   "metadata": {
    "id": "UhEFShjd-1nQ"
   },
   "source": [
    "## Methods"
   ]
  },
  {
   "cell_type": "code",
   "execution_count": null,
   "metadata": {
    "ExecuteTime": {
     "end_time": "2022-12-22T21:50:06.287541Z",
     "start_time": "2022-12-22T21:50:06.278540Z"
    },
    "colab": {
     "base_uri": "https://localhost:8080/"
    },
    "id": "FkM9PSsGAJlf",
    "outputId": "1cd43f5e-b93c-4fa7-bf9c-e67cde987d7f"
   },
   "outputs": [],
   "source": [
    "meths = ['apply', \n",
    "         'cost_complexity_pruning_path',\n",
    "         'decision_path',\n",
    "         'get_depth', \n",
    "         'get_n_leaves',\n",
    "         'get_params',\n",
    "         'predict',\n",
    "         'predict_log_proba',\n",
    "         'predict_proba',\n",
    "         'score',\n",
    "         'set_params']\n",
    "meths"
   ]
  },
  {
   "cell_type": "code",
   "execution_count": null,
   "metadata": {
    "ExecuteTime": {
     "end_time": "2022-12-22T21:50:13.418270Z",
     "start_time": "2022-12-22T21:50:13.403239Z"
    },
    "colab": {
     "base_uri": "https://localhost:8080/"
    },
    "id": "QhFxNFVz9clp",
    "outputId": "42d10ba3-f206-4f38-c05f-5a9d3f8f1191"
   },
   "outputs": [],
   "source": [
    "clf.apply(X_test[[2],:])"
   ]
  },
  {
   "cell_type": "code",
   "execution_count": null,
   "metadata": {
    "ExecuteTime": {
     "end_time": "2022-12-22T21:50:19.612145Z",
     "start_time": "2022-12-22T21:50:19.600154Z"
    },
    "colab": {
     "base_uri": "https://localhost:8080/"
    },
    "id": "v5N89ZWI9cpD",
    "outputId": "e2a04521-41ac-41bd-94fb-4c570c009231"
   },
   "outputs": [],
   "source": [
    "print(clf.decision_path(X_test[[2],:]))"
   ]
  },
  {
   "cell_type": "code",
   "execution_count": null,
   "metadata": {
    "ExecuteTime": {
     "end_time": "2022-12-22T21:50:22.797368Z",
     "start_time": "2022-12-22T21:50:22.790403Z"
    },
    "colab": {
     "base_uri": "https://localhost:8080/"
    },
    "id": "JjRn6pBiYj4F",
    "outputId": "3ce9c391-23d6-4cf1-fd50-0e33b9939410"
   },
   "outputs": [],
   "source": [
    "clf.get_depth()"
   ]
  },
  {
   "cell_type": "code",
   "execution_count": null,
   "metadata": {
    "ExecuteTime": {
     "end_time": "2022-12-22T21:50:28.788394Z",
     "start_time": "2022-12-22T21:50:28.770361Z"
    },
    "colab": {
     "base_uri": "https://localhost:8080/"
    },
    "id": "gPsWej3fY63n",
    "outputId": "e717fd33-d651-4e31-8d4f-8f5ac2153d9b"
   },
   "outputs": [],
   "source": [
    "clf.get_n_leaves()"
   ]
  },
  {
   "cell_type": "code",
   "execution_count": null,
   "metadata": {
    "ExecuteTime": {
     "end_time": "2022-12-22T21:50:35.403020Z",
     "start_time": "2022-12-22T21:50:35.381977Z"
    },
    "colab": {
     "base_uri": "https://localhost:8080/"
    },
    "id": "1IKKTxrDZE42",
    "outputId": "8cedc434-e517-4fa9-f1be-bd19cb90b9f8"
   },
   "outputs": [],
   "source": [
    "clf.get_params()"
   ]
  },
  {
   "cell_type": "code",
   "execution_count": null,
   "metadata": {
    "ExecuteTime": {
     "end_time": "2022-12-22T21:50:40.430511Z",
     "start_time": "2022-12-22T21:50:40.418468Z"
    },
    "colab": {
     "base_uri": "https://localhost:8080/"
    },
    "id": "-ANphLJPZOkU",
    "outputId": "079a8385-4a26-45e1-a336-e3d06438b6ec"
   },
   "outputs": [],
   "source": [
    "clf.predict(X_test[[2],:])"
   ]
  },
  {
   "cell_type": "code",
   "execution_count": null,
   "metadata": {
    "ExecuteTime": {
     "end_time": "2022-12-22T21:50:54.200328Z",
     "start_time": "2022-12-22T21:50:54.178279Z"
    },
    "colab": {
     "base_uri": "https://localhost:8080/"
    },
    "id": "3k1zL-iBbTaH",
    "outputId": "b89cad45-fd0d-4309-caf4-2d38cb77b1fe"
   },
   "outputs": [],
   "source": [
    "clf.predict_log_proba(X_test[[2],:])"
   ]
  },
  {
   "cell_type": "code",
   "execution_count": null,
   "metadata": {
    "ExecuteTime": {
     "end_time": "2022-12-22T21:51:01.354305Z",
     "start_time": "2022-12-22T21:51:01.334261Z"
    },
    "colab": {
     "base_uri": "https://localhost:8080/"
    },
    "id": "wnk-jTCAaGM0",
    "outputId": "4b656134-5e91-434a-cd4f-adc54317777f"
   },
   "outputs": [],
   "source": [
    "clf.predict_proba(X_test[[2, 3],:])"
   ]
  },
  {
   "cell_type": "code",
   "execution_count": null,
   "metadata": {
    "ExecuteTime": {
     "end_time": "2022-12-22T21:51:04.589959Z",
     "start_time": "2022-12-22T21:51:04.580010Z"
    },
    "colab": {
     "base_uri": "https://localhost:8080/"
    },
    "id": "tKCTpW7XblXM",
    "outputId": "1bffeae1-898e-4bda-d809-56609aa3c9f4"
   },
   "outputs": [],
   "source": [
    "clf.score(X_test,y_test)"
   ]
  },
  {
   "cell_type": "markdown",
   "metadata": {
    "id": "n_rc9JA3cnkI"
   },
   "source": [
    "## Display"
   ]
  },
  {
   "cell_type": "code",
   "execution_count": null,
   "metadata": {
    "ExecuteTime": {
     "end_time": "2022-12-22T21:51:16.255230Z",
     "start_time": "2022-12-22T21:51:16.247231Z"
    },
    "colab": {
     "base_uri": "https://localhost:8080/"
    },
    "id": "SDVIT7ziNeic",
    "outputId": "0fd79015-9c95-4052-f013-29878c22cb07"
   },
   "outputs": [],
   "source": [
    "text = export_text(clf, feature_names=list(data['feature_names']))\n",
    "print(text)"
   ]
  },
  {
   "cell_type": "code",
   "execution_count": null,
   "metadata": {
    "ExecuteTime": {
     "end_time": "2022-12-22T21:51:25.636812Z",
     "start_time": "2022-12-22T21:51:25.102784Z"
    },
    "colab": {
     "base_uri": "https://localhost:8080/",
     "height": 248
    },
    "id": "qVn0QJW0airA",
    "outputId": "4640b655-616a-43e3-d281-66ae2df09149",
    "scrolled": false
   },
   "outputs": [],
   "source": [
    "plot_tree(clf);"
   ]
  },
  {
   "cell_type": "code",
   "execution_count": null,
   "metadata": {
    "ExecuteTime": {
     "end_time": "2022-12-22T21:51:33.074828Z",
     "start_time": "2022-12-22T21:51:33.061838Z"
    }
   },
   "outputs": [],
   "source": [
    "import os\n",
    "os.environ[\"PATH\"] += os.pathsep + 'C:/Program Files/Graphviz/bin'"
   ]
  },
  {
   "cell_type": "code",
   "execution_count": null,
   "metadata": {
    "ExecuteTime": {
     "end_time": "2022-12-22T21:51:40.465324Z",
     "start_time": "2022-12-22T21:51:40.339195Z"
    },
    "colab": {
     "base_uri": "https://localhost:8080/",
     "height": 915
    },
    "id": "GhU6KX4VbjIA",
    "outputId": "d5701b39-0031-4a53-e676-328567a98ad9"
   },
   "outputs": [],
   "source": [
    "dot_data = export_graphviz(clf, out_file=None, \n",
    "                      feature_names=data.feature_names,  \n",
    "                      class_names=data.target_names,  \n",
    "                      filled=True, rounded=True,  \n",
    "                      special_characters=True)  \n",
    "graph = graphviz.Source(dot_data)\n",
    "graph"
   ]
  },
  {
   "cell_type": "code",
   "execution_count": null,
   "metadata": {
    "id": "0y-YohgcMzmD"
   },
   "outputs": [],
   "source": []
  }
 ],
 "metadata": {
  "colab": {
   "collapsed_sections": [],
   "provenance": []
  },
  "kernelspec": {
   "display_name": "ML_from_scratch_venv",
   "language": "python",
   "name": "ml_from_scratch_venv"
  },
  "language_info": {
   "codemirror_mode": {
    "name": "ipython",
    "version": 3
   },
   "file_extension": ".py",
   "mimetype": "text/x-python",
   "name": "python",
   "nbconvert_exporter": "python",
   "pygments_lexer": "ipython3",
   "version": "3.8.6"
  },
  "toc": {
   "base_numbering": 1,
   "nav_menu": {},
   "number_sections": true,
   "sideBar": true,
   "skip_h1_title": false,
   "title_cell": "Table of Contents",
   "title_sidebar": "Contents",
   "toc_cell": false,
   "toc_position": {
    "height": "calc(100% - 180px)",
    "left": "10px",
    "top": "150px",
    "width": "272px"
   },
   "toc_section_display": true,
   "toc_window_display": true
  }
 },
 "nbformat": 4,
 "nbformat_minor": 1
}
