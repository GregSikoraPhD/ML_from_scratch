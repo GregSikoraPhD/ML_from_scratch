{
 "cells": [
  {
   "cell_type": "code",
   "execution_count": 47,
   "id": "5034b1bb",
   "metadata": {
    "ExecuteTime": {
     "end_time": "2023-01-25T15:31:16.561675Z",
     "start_time": "2023-01-25T15:31:16.535649Z"
    }
   },
   "outputs": [],
   "source": [
    "import matplotlib.pyplot as plt\n",
    "import plotly.graph_objects as go\n",
    "import numpy as np\n",
    "import pandas as pd\n",
    "from collections import Counter\n",
    "from sklearn import datasets\n",
    "from sklearn.inspection import DecisionBoundaryDisplay\n",
    "from sklearn.model_selection import train_test_split\n",
    "from sklearn.ensemble import AdaBoostClassifier\n",
    "import graphviz\n",
    "import sys\n",
    "sys.path.insert(0, 'C:/Users/grzesiek/Documents/Data Science/PycharmProjects/ML_from_scratch/adaboost_classifier')"
   ]
  },
  {
   "cell_type": "markdown",
   "id": "696fc873",
   "metadata": {},
   "source": [
    "# AdaBoost from scratch"
   ]
  },
  {
   "cell_type": "code",
   "execution_count": 17,
   "id": "7b562308",
   "metadata": {
    "ExecuteTime": {
     "end_time": "2023-01-25T13:54:59.094931Z",
     "start_time": "2023-01-25T13:54:59.078890Z"
    }
   },
   "outputs": [],
   "source": [
    "from adaboost_cls import accuracy, AdaboostCls"
   ]
  },
  {
   "cell_type": "code",
   "execution_count": 18,
   "id": "0ec865eb",
   "metadata": {
    "ExecuteTime": {
     "end_time": "2023-01-25T13:55:01.936119Z",
     "start_time": "2023-01-25T13:55:01.912452Z"
    }
   },
   "outputs": [],
   "source": [
    "data = datasets.load_breast_cancer()\n",
    "X = data.data\n",
    "y = data.target\n",
    "\n",
    "y[y == 0] = -1\n",
    "X_train, X_test, y_train, y_test = train_test_split(X, y, test_size=0.2, random_state=5)"
   ]
  },
  {
   "cell_type": "code",
   "execution_count": 19,
   "id": "70b63f11",
   "metadata": {
    "ExecuteTime": {
     "end_time": "2023-01-25T13:55:14.451723Z",
     "start_time": "2023-01-25T13:55:03.838415Z"
    }
   },
   "outputs": [],
   "source": [
    "cls = AdaboostCls(n_cls=30)\n",
    "cls.fit(X_train, y_train)\n",
    "y_pred = cls.predict(X_test)"
   ]
  },
  {
   "cell_type": "code",
   "execution_count": 20,
   "id": "8f876a98",
   "metadata": {
    "ExecuteTime": {
     "end_time": "2023-01-25T13:55:15.655102Z",
     "start_time": "2023-01-25T13:55:15.648075Z"
    }
   },
   "outputs": [
    {
     "name": "stdout",
     "output_type": "stream",
     "text": [
      "Accuracy: 0.956140350877193\n"
     ]
    }
   ],
   "source": [
    "acc = accuracy(y_test, y_pred)\n",
    "print('Accuracy:', acc)"
   ]
  },
  {
   "cell_type": "markdown",
   "id": "ab24ee6e",
   "metadata": {},
   "source": [
    "# AdaBoost from sklearn"
   ]
  },
  {
   "cell_type": "code",
   "execution_count": 23,
   "id": "f7c9e1aa",
   "metadata": {
    "ExecuteTime": {
     "end_time": "2023-01-25T13:56:48.798300Z",
     "start_time": "2023-01-25T13:56:48.685904Z"
    }
   },
   "outputs": [],
   "source": [
    "parameters={\n",
    "    'estimator': None,\n",
    "    'n_estimators': 50,\n",
    "    'learning_rate': 1,\n",
    "    'algorithm': 'SAMME.R', # {‘SAMME’, ‘SAMME.R’}\n",
    "    'random_state': None,\n",
    "    'base_estimator': None\n",
    "}\n",
    "\n",
    "clf = AdaBoostClassifier(\n",
    "    n_estimators=parameters['n_estimators'], \n",
    "    learning_rate=parameters['learning_rate'],\n",
    "    algorithm=parameters['algorithm'],\n",
    "    random_state=parameters['random_state'],\n",
    "    base_estimator=parameters['base_estimator'],\n",
    "    )\n",
    "clf = clf.fit(X_train, y_train)"
   ]
  },
  {
   "cell_type": "markdown",
   "id": "dde34025",
   "metadata": {
    "ExecuteTime": {
     "end_time": "2023-01-25T14:02:17.204765Z",
     "start_time": "2023-01-25T14:02:17.194767Z"
    }
   },
   "source": [
    "## Attributes"
   ]
  },
  {
   "cell_type": "code",
   "execution_count": 27,
   "id": "9c2da527",
   "metadata": {
    "ExecuteTime": {
     "end_time": "2023-01-25T14:02:47.009317Z",
     "start_time": "2023-01-25T14:02:47.002324Z"
    }
   },
   "outputs": [
    {
     "name": "stdout",
     "output_type": "stream",
     "text": [
      "Attributes of AdaBoost: {'n_classes_', 'estimator_weights_', 'base_estimator_', 'estimator_errors_', 'classes_', 'n_features_in_', 'feature_importances_', 'estimators_'}\n"
     ]
    }
   ],
   "source": [
    "# attributes:\n",
    "atts = {att for att in dir(clf) if (att[-1]=='_') & (att[0]!='_')}\n",
    "print('Attributes of AdaBoost:', atts)"
   ]
  },
  {
   "cell_type": "code",
   "execution_count": 28,
   "id": "6d0e9e7f",
   "metadata": {
    "ExecuteTime": {
     "end_time": "2023-01-25T14:03:21.738307Z",
     "start_time": "2023-01-25T14:03:21.527149Z"
    }
   },
   "outputs": [
    {
     "data": {
      "text/html": [
       "<style type=\"text/css\">\n",
       "#T_099ae_row0_col0 {\n",
       "  width: 10em;\n",
       "  background: linear-gradient(90deg, #d65f5f 100.0%, transparent 100.0%);\n",
       "}\n",
       "#T_099ae_row1_col0, #T_099ae_row2_col0, #T_099ae_row3_col0, #T_099ae_row4_col0 {\n",
       "  width: 10em;\n",
       "  background: linear-gradient(90deg, #d65f5f 80.0%, transparent 80.0%);\n",
       "}\n",
       "#T_099ae_row5_col0, #T_099ae_row6_col0, #T_099ae_row7_col0, #T_099ae_row8_col0, #T_099ae_row9_col0 {\n",
       "  width: 10em;\n",
       "  background: linear-gradient(90deg, #d65f5f 60.0%, transparent 60.0%);\n",
       "}\n",
       "#T_099ae_row10_col0, #T_099ae_row11_col0, #T_099ae_row12_col0, #T_099ae_row13_col0, #T_099ae_row14_col0, #T_099ae_row15_col0 {\n",
       "  width: 10em;\n",
       "  background: linear-gradient(90deg, #d65f5f 40.0%, transparent 40.0%);\n",
       "}\n",
       "#T_099ae_row16_col0, #T_099ae_row17_col0 {\n",
       "  width: 10em;\n",
       "  background: linear-gradient(90deg, #d65f5f 20.0%, transparent 20.0%);\n",
       "}\n",
       "</style>\n",
       "<table id=\"T_099ae\">\n",
       "  <thead>\n",
       "    <tr>\n",
       "      <th class=\"blank level0\" >&nbsp;</th>\n",
       "      <th id=\"T_099ae_level0_col0\" class=\"col_heading level0 col0\" >feature_importance</th>\n",
       "    </tr>\n",
       "  </thead>\n",
       "  <tbody>\n",
       "    <tr>\n",
       "      <th id=\"T_099ae_level0_row0\" class=\"row_heading level0 row0\" >mean texture</th>\n",
       "      <td id=\"T_099ae_row0_col0\" class=\"data row0 col0\" >0.100000</td>\n",
       "    </tr>\n",
       "    <tr>\n",
       "      <th id=\"T_099ae_level0_row1\" class=\"row_heading level0 row1\" >area error</th>\n",
       "      <td id=\"T_099ae_row1_col0\" class=\"data row1 col0\" >0.080000</td>\n",
       "    </tr>\n",
       "    <tr>\n",
       "      <th id=\"T_099ae_level0_row2\" class=\"row_heading level0 row2\" >worst area</th>\n",
       "      <td id=\"T_099ae_row2_col0\" class=\"data row2 col0\" >0.080000</td>\n",
       "    </tr>\n",
       "    <tr>\n",
       "      <th id=\"T_099ae_level0_row3\" class=\"row_heading level0 row3\" >fractal dimension error</th>\n",
       "      <td id=\"T_099ae_row3_col0\" class=\"data row3 col0\" >0.080000</td>\n",
       "    </tr>\n",
       "    <tr>\n",
       "      <th id=\"T_099ae_level0_row4\" class=\"row_heading level0 row4\" >worst concave points</th>\n",
       "      <td id=\"T_099ae_row4_col0\" class=\"data row4 col0\" >0.080000</td>\n",
       "    </tr>\n",
       "    <tr>\n",
       "      <th id=\"T_099ae_level0_row5\" class=\"row_heading level0 row5\" >mean symmetry</th>\n",
       "      <td id=\"T_099ae_row5_col0\" class=\"data row5 col0\" >0.060000</td>\n",
       "    </tr>\n",
       "    <tr>\n",
       "      <th id=\"T_099ae_level0_row6\" class=\"row_heading level0 row6\" >mean concave points</th>\n",
       "      <td id=\"T_099ae_row6_col0\" class=\"data row6 col0\" >0.060000</td>\n",
       "    </tr>\n",
       "    <tr>\n",
       "      <th id=\"T_099ae_level0_row7\" class=\"row_heading level0 row7\" >worst smoothness</th>\n",
       "      <td id=\"T_099ae_row7_col0\" class=\"data row7 col0\" >0.060000</td>\n",
       "    </tr>\n",
       "    <tr>\n",
       "      <th id=\"T_099ae_level0_row8\" class=\"row_heading level0 row8\" >worst concavity</th>\n",
       "      <td id=\"T_099ae_row8_col0\" class=\"data row8 col0\" >0.060000</td>\n",
       "    </tr>\n",
       "    <tr>\n",
       "      <th id=\"T_099ae_level0_row9\" class=\"row_heading level0 row9\" >compactness error</th>\n",
       "      <td id=\"T_099ae_row9_col0\" class=\"data row9 col0\" >0.060000</td>\n",
       "    </tr>\n",
       "    <tr>\n",
       "      <th id=\"T_099ae_level0_row10\" class=\"row_heading level0 row10\" >perimeter error</th>\n",
       "      <td id=\"T_099ae_row10_col0\" class=\"data row10 col0\" >0.040000</td>\n",
       "    </tr>\n",
       "    <tr>\n",
       "      <th id=\"T_099ae_level0_row11\" class=\"row_heading level0 row11\" >mean area</th>\n",
       "      <td id=\"T_099ae_row11_col0\" class=\"data row11 col0\" >0.040000</td>\n",
       "    </tr>\n",
       "    <tr>\n",
       "      <th id=\"T_099ae_level0_row12\" class=\"row_heading level0 row12\" >symmetry error</th>\n",
       "      <td id=\"T_099ae_row12_col0\" class=\"data row12 col0\" >0.040000</td>\n",
       "    </tr>\n",
       "    <tr>\n",
       "      <th id=\"T_099ae_level0_row13\" class=\"row_heading level0 row13\" >worst texture</th>\n",
       "      <td id=\"T_099ae_row13_col0\" class=\"data row13 col0\" >0.040000</td>\n",
       "    </tr>\n",
       "    <tr>\n",
       "      <th id=\"T_099ae_level0_row14\" class=\"row_heading level0 row14\" >worst perimeter</th>\n",
       "      <td id=\"T_099ae_row14_col0\" class=\"data row14 col0\" >0.040000</td>\n",
       "    </tr>\n",
       "    <tr>\n",
       "      <th id=\"T_099ae_level0_row15\" class=\"row_heading level0 row15\" >mean smoothness</th>\n",
       "      <td id=\"T_099ae_row15_col0\" class=\"data row15 col0\" >0.040000</td>\n",
       "    </tr>\n",
       "    <tr>\n",
       "      <th id=\"T_099ae_level0_row16\" class=\"row_heading level0 row16\" >mean fractal dimension</th>\n",
       "      <td id=\"T_099ae_row16_col0\" class=\"data row16 col0\" >0.020000</td>\n",
       "    </tr>\n",
       "    <tr>\n",
       "      <th id=\"T_099ae_level0_row17\" class=\"row_heading level0 row17\" >radius error</th>\n",
       "      <td id=\"T_099ae_row17_col0\" class=\"data row17 col0\" >0.020000</td>\n",
       "    </tr>\n",
       "  </tbody>\n",
       "</table>\n"
      ],
      "text/plain": [
       "<pandas.io.formats.style.Styler at 0x264c6ea5c10>"
      ]
     },
     "execution_count": 28,
     "metadata": {},
     "output_type": "execute_result"
    }
   ],
   "source": [
    "# feature importance\n",
    "df=pd.DataFrame(np.transpose([clf.feature_importances_]), index=data['feature_names'], columns=['feature_importance'])\n",
    "\n",
    "filt = df['feature_importance']>0\n",
    "(df[filt]).sort_values(by='feature_importance', ascending=False).style.bar(\"feature_importance\")"
   ]
  },
  {
   "cell_type": "code",
   "execution_count": 29,
   "id": "4c5264eb",
   "metadata": {
    "ExecuteTime": {
     "end_time": "2023-01-25T14:03:44.963224Z",
     "start_time": "2023-01-25T14:03:44.940234Z"
    }
   },
   "outputs": [
    {
     "name": "stdout",
     "output_type": "stream",
     "text": [
      "n_features_in_ = 30\n",
      "base_estimator_ = DecisionTreeClassifier(max_depth=1)\n",
      "estimators_ = [DecisionTreeClassifier(max_depth=1, random_state=829105117), DecisionTreeClassifier(max_depth=1, random_state=402503606), DecisionTreeClassifier(max_depth=1, random_state=1889183905), DecisionTreeClassifier(max_depth=1, random_state=228316965), DecisionTreeClassifier(max_depth=1, random_state=635024101), DecisionTreeClassifier(max_depth=1, random_state=1251262236), DecisionTreeClassifier(max_depth=1, random_state=1603722564), DecisionTreeClassifier(max_depth=1, random_state=158813545), DecisionTreeClassifier(max_depth=1, random_state=403080719), DecisionTreeClassifier(max_depth=1, random_state=158288437), DecisionTreeClassifier(max_depth=1, random_state=135415228), DecisionTreeClassifier(max_depth=1, random_state=1611461270), DecisionTreeClassifier(max_depth=1, random_state=1683075054), DecisionTreeClassifier(max_depth=1, random_state=683384947), DecisionTreeClassifier(max_depth=1, random_state=1083696367), DecisionTreeClassifier(max_depth=1, random_state=902592584), DecisionTreeClassifier(max_depth=1, random_state=1383399554), DecisionTreeClassifier(max_depth=1, random_state=1507945215), DecisionTreeClassifier(max_depth=1, random_state=2040273527), DecisionTreeClassifier(max_depth=1, random_state=1889010377), DecisionTreeClassifier(max_depth=1, random_state=830998873), DecisionTreeClassifier(max_depth=1, random_state=458011899), DecisionTreeClassifier(max_depth=1, random_state=205934610), DecisionTreeClassifier(max_depth=1, random_state=1342651813), DecisionTreeClassifier(max_depth=1, random_state=887359076), DecisionTreeClassifier(max_depth=1, random_state=625904173), DecisionTreeClassifier(max_depth=1, random_state=2010495668), DecisionTreeClassifier(max_depth=1, random_state=705134912), DecisionTreeClassifier(max_depth=1, random_state=18579003), DecisionTreeClassifier(max_depth=1, random_state=1283573074), DecisionTreeClassifier(max_depth=1, random_state=563767351), DecisionTreeClassifier(max_depth=1, random_state=181816855), DecisionTreeClassifier(max_depth=1, random_state=635004742), DecisionTreeClassifier(max_depth=1, random_state=99497928), DecisionTreeClassifier(max_depth=1, random_state=607138829), DecisionTreeClassifier(max_depth=1, random_state=1113502443), DecisionTreeClassifier(max_depth=1, random_state=1229321884), DecisionTreeClassifier(max_depth=1, random_state=1073194085), DecisionTreeClassifier(max_depth=1, random_state=2036576404), DecisionTreeClassifier(max_depth=1, random_state=1566547935), DecisionTreeClassifier(max_depth=1, random_state=1106759334), DecisionTreeClassifier(max_depth=1, random_state=235798074), DecisionTreeClassifier(max_depth=1, random_state=1810253122), DecisionTreeClassifier(max_depth=1, random_state=823751374), DecisionTreeClassifier(max_depth=1, random_state=1016811740), DecisionTreeClassifier(max_depth=1, random_state=747206867), DecisionTreeClassifier(max_depth=1, random_state=755370589), DecisionTreeClassifier(max_depth=1, random_state=568251919), DecisionTreeClassifier(max_depth=1, random_state=455736024), DecisionTreeClassifier(max_depth=1, random_state=2128460377)]\n",
      "estimator_weights_ = [1. 1. 1. 1. 1. 1. 1. 1. 1. 1. 1. 1. 1. 1. 1. 1. 1. 1. 1. 1. 1. 1. 1. 1.\n",
      " 1. 1. 1. 1. 1. 1. 1. 1. 1. 1. 1. 1. 1. 1. 1. 1. 1. 1. 1. 1. 1. 1. 1. 1.\n",
      " 1. 1.]\n",
      "estimator_errors_ = [0.07912088 0.126316   0.18520297 0.22070239 0.24773737 0.24056942\n",
      " 0.30622408 0.27035103 0.27454968 0.24088815 0.29276855 0.23617945\n",
      " 0.28593586 0.27612426 0.29815594 0.28180004 0.35786545 0.31485747\n",
      " 0.30397532 0.34433162 0.37722841 0.24732603 0.25477286 0.23806305\n",
      " 0.28702908 0.30169224 0.30578016 0.36086756 0.30578571 0.29172758\n",
      " 0.29867181 0.30375872 0.30617044 0.35768555 0.35606298 0.26762682\n",
      " 0.28813779 0.33957394 0.31898196 0.29447515 0.32025689 0.27614501\n",
      " 0.3266087  0.25961185 0.29744955 0.35341314 0.35392483 0.31467159\n",
      " 0.34119595 0.27933186]\n",
      "classes_ = [-1  1]\n",
      "n_classes_ = 2\n"
     ]
    }
   ],
   "source": [
    "# scalar attributes\n",
    "for att, val in clf.__dict__.items():\n",
    "    if att in atts-{'tree_', 'feature_importances_'}:\n",
    "        print(att,'=', val)"
   ]
  },
  {
   "cell_type": "markdown",
   "id": "032c0802",
   "metadata": {
    "ExecuteTime": {
     "end_time": "2023-01-25T14:04:49.226305Z",
     "start_time": "2023-01-25T14:04:49.216306Z"
    }
   },
   "source": [
    "## Methods"
   ]
  },
  {
   "cell_type": "code",
   "execution_count": 31,
   "id": "309cca3a",
   "metadata": {
    "ExecuteTime": {
     "end_time": "2023-01-25T14:11:42.130024Z",
     "start_time": "2023-01-25T14:11:42.109983Z"
    }
   },
   "outputs": [
    {
     "data": {
      "text/plain": [
       "['decision_function',\n",
       " 'fit',\n",
       " 'get_params',\n",
       " 'predict',\n",
       " 'predict_log_proba',\n",
       " 'predict_proba',\n",
       " 'score',\n",
       " 'set_params',\n",
       " 'staged_decision_function',\n",
       " 'staged_predict',\n",
       " 'staged_predict_proba',\n",
       " 'staged_score']"
      ]
     },
     "execution_count": 31,
     "metadata": {},
     "output_type": "execute_result"
    }
   ],
   "source": [
    "meths = ['decision_function', \n",
    "         'fit',\n",
    "         'get_params',\n",
    "         'predict',\n",
    "         'predict_log_proba',\n",
    "         'predict_proba',\n",
    "         'score',\n",
    "         'set_params',\n",
    "         'staged_decision_function',\n",
    "         'staged_predict',\n",
    "         'staged_predict_proba',\n",
    "         'staged_score' ]\n",
    "meths"
   ]
  },
  {
   "cell_type": "code",
   "execution_count": 32,
   "id": "6e628c34",
   "metadata": {
    "ExecuteTime": {
     "end_time": "2023-01-25T14:12:07.374738Z",
     "start_time": "2023-01-25T14:12:07.357667Z"
    }
   },
   "outputs": [
    {
     "data": {
      "text/plain": [
       "array([-1.55036455,  0.41101858,  0.18727399,  0.64056842,  0.45948474,\n",
       "       -1.5921498 ,  0.44506692,  1.02308231,  0.1399459 ,  0.67740464,\n",
       "        0.44367462,  0.35549207, -1.55272949,  0.44000427,  0.5677652 ,\n",
       "        0.88604292, -0.46261554,  0.88875922,  0.3715552 ,  0.61216621,\n",
       "       -0.97971997,  0.59666867,  0.66345596,  0.51999269,  0.34694698,\n",
       "        0.54472906,  0.24773741, -1.39246299,  0.10098022, -1.25439832,\n",
       "       -1.36162732, -1.37771662, -0.15966279, -1.14957802,  0.62862368,\n",
       "        0.68600867, -0.30729471,  0.72433571,  0.42501674, -1.3581228 ,\n",
       "        0.572812  ,  0.65770335,  0.68324742, -1.22689351,  0.71984692,\n",
       "        0.28612479, -1.23416629, -0.52777081,  0.6076521 , -1.42547559,\n",
       "        0.42410433,  0.87019689,  0.57700591,  0.37257976,  0.27429953,\n",
       "       -1.44246359, -1.19404481, -1.36162732,  0.59084669, -0.615924  ,\n",
       "       -0.44729423, -0.39981545,  0.46483061,  0.62405114,  0.66867138,\n",
       "        0.3050768 ,  0.32317353,  0.41503696,  0.34773586, -1.21427684,\n",
       "        0.76817347, -1.3623367 ,  0.99101081,  0.39199481,  0.46641338,\n",
       "        0.79645771, -0.57656677,  0.78204757, -1.43477908, -0.40683266,\n",
       "       -1.65759354,  0.75876073, -0.58276825, -0.45389134, -0.41938781,\n",
       "        0.79567828, -1.3341225 ,  0.42885924, -1.46062478, -1.16579385,\n",
       "       -1.43655309, -1.3623367 ,  0.3888787 ,  0.08637354, -1.47792217,\n",
       "       -1.34398503,  1.03972473,  0.61490311,  0.78887926,  0.87612984,\n",
       "        0.97654748, -0.46074882,  0.51848194,  0.56570857, -1.25603008,\n",
       "       -1.50028292,  0.32656765, -1.36162732,  0.74598555, -0.05151982,\n",
       "        0.43634741, -0.52972455, -0.7823114 , -0.14529366])"
      ]
     },
     "execution_count": 32,
     "metadata": {},
     "output_type": "execute_result"
    }
   ],
   "source": [
    "clf.decision_function(X_test)"
   ]
  },
  {
   "cell_type": "code",
   "execution_count": 33,
   "id": "44356b53",
   "metadata": {
    "ExecuteTime": {
     "end_time": "2023-01-25T14:15:52.878660Z",
     "start_time": "2023-01-25T14:15:52.866660Z"
    }
   },
   "outputs": [
    {
     "data": {
      "text/plain": [
       "{'algorithm': 'SAMME.R',\n",
       " 'base_estimator': None,\n",
       " 'learning_rate': 1,\n",
       " 'n_estimators': 50,\n",
       " 'random_state': None}"
      ]
     },
     "execution_count": 33,
     "metadata": {},
     "output_type": "execute_result"
    }
   ],
   "source": [
    "clf.get_params()"
   ]
  },
  {
   "cell_type": "code",
   "execution_count": 36,
   "id": "dd74937d",
   "metadata": {
    "ExecuteTime": {
     "end_time": "2023-01-25T14:16:44.395177Z",
     "start_time": "2023-01-25T14:16:44.375192Z"
    }
   },
   "outputs": [
    {
     "data": {
      "text/plain": [
       "array([[-0.19241265, -1.74277719],\n",
       "       [-0.91962652, -0.50860793]])"
      ]
     },
     "execution_count": 36,
     "metadata": {},
     "output_type": "execute_result"
    }
   ],
   "source": [
    "clf.predict_log_proba(X_test[0:2])"
   ]
  },
  {
   "cell_type": "code",
   "execution_count": 39,
   "id": "37a841a7",
   "metadata": {
    "ExecuteTime": {
     "end_time": "2023-01-25T14:18:01.028346Z",
     "start_time": "2023-01-25T14:18:01.009343Z"
    }
   },
   "outputs": [
    {
     "data": {
      "text/plain": [
       "array([[0.82496638, 0.17503362]])"
      ]
     },
     "execution_count": 39,
     "metadata": {},
     "output_type": "execute_result"
    }
   ],
   "source": [
    "clf.predict_proba(X_test[0:1])"
   ]
  },
  {
   "cell_type": "code",
   "execution_count": 42,
   "id": "68b2e1ca",
   "metadata": {
    "ExecuteTime": {
     "end_time": "2023-01-25T14:20:16.580396Z",
     "start_time": "2023-01-25T14:20:16.561397Z"
    }
   },
   "outputs": [
    {
     "data": {
      "text/plain": [
       "[array([-1]),\n",
       " array([-1]),\n",
       " array([-1]),\n",
       " array([-1]),\n",
       " array([-1]),\n",
       " array([-1]),\n",
       " array([-1]),\n",
       " array([-1]),\n",
       " array([-1]),\n",
       " array([-1]),\n",
       " array([-1]),\n",
       " array([-1]),\n",
       " array([-1]),\n",
       " array([-1]),\n",
       " array([-1]),\n",
       " array([-1]),\n",
       " array([-1]),\n",
       " array([-1]),\n",
       " array([-1]),\n",
       " array([-1]),\n",
       " array([-1]),\n",
       " array([-1]),\n",
       " array([-1]),\n",
       " array([-1]),\n",
       " array([-1]),\n",
       " array([-1]),\n",
       " array([-1]),\n",
       " array([-1]),\n",
       " array([-1]),\n",
       " array([-1]),\n",
       " array([-1]),\n",
       " array([-1]),\n",
       " array([-1]),\n",
       " array([-1]),\n",
       " array([-1]),\n",
       " array([-1]),\n",
       " array([-1]),\n",
       " array([-1]),\n",
       " array([-1]),\n",
       " array([-1]),\n",
       " array([-1]),\n",
       " array([-1]),\n",
       " array([-1]),\n",
       " array([-1]),\n",
       " array([-1]),\n",
       " array([-1]),\n",
       " array([-1]),\n",
       " array([-1]),\n",
       " array([-1]),\n",
       " array([-1])]"
      ]
     },
     "execution_count": 42,
     "metadata": {},
     "output_type": "execute_result"
    }
   ],
   "source": [
    "list(clf.staged_predict(X_test[0:1]))"
   ]
  },
  {
   "cell_type": "code",
   "execution_count": 55,
   "id": "114d8bdf",
   "metadata": {
    "ExecuteTime": {
     "end_time": "2023-01-25T15:41:53.158435Z",
     "start_time": "2023-01-25T15:41:53.096385Z"
    }
   },
   "outputs": [
    {
     "data": {
      "text/plain": [
       "[array([ 1,  1,  1, -1, -1,  1,  1,  1, -1,  1, -1,  1, -1,  1, -1, -1,  1,\n",
       "         1,  1,  1,  1, -1,  1,  1,  1,  1,  1,  1,  1, -1,  1,  1,  1, -1,\n",
       "         1,  1,  1, -1,  1,  1,  1, -1,  1,  1,  1,  1,  1,  1,  1,  1, -1,\n",
       "        -1,  1,  1,  1,  1,  1, -1,  1, -1,  1,  1,  1,  1,  1,  1,  1,  1,\n",
       "         1, -1, -1, -1,  1,  1,  1,  1,  1, -1, -1,  1, -1,  1,  1,  1, -1,\n",
       "        -1, -1, -1,  1,  1,  1, -1,  1,  1, -1,  1,  1,  1,  1,  1,  1,  1,\n",
       "         1,  1, -1,  1,  1,  1,  1, -1, -1,  1,  1,  1, -1, -1,  1, -1,  1,\n",
       "         1,  1,  1,  1,  1, -1,  1, -1, -1,  1, -1,  1,  1, -1,  1,  1,  1,\n",
       "         1, -1,  1,  1,  1,  1,  1,  1,  1,  1, -1,  1,  1, -1,  1,  1,  1,\n",
       "         1,  1, -1,  1,  1,  1,  1, -1, -1,  1, -1,  1,  1, -1, -1,  1,  1,\n",
       "        -1, -1, -1,  1,  1,  1,  1,  1,  1, -1,  1, -1, -1,  1,  1,  1,  1,\n",
       "         1,  1, -1, -1,  1,  1,  1,  1, -1, -1,  1,  1,  1, -1,  1,  1,  1,\n",
       "         1,  1, -1,  1, -1,  1,  1, -1,  1, -1,  1,  1,  1,  1, -1, -1,  1,\n",
       "         1,  1, -1,  1, -1,  1,  1,  1,  1, -1, -1,  1,  1,  1, -1, -1, -1,\n",
       "        -1, -1,  1,  1,  1,  1,  1,  1,  1,  1,  1,  1,  1, -1,  1,  1,  1,\n",
       "        -1,  1,  1, -1, -1,  1,  1,  1,  1,  1,  1,  1,  1,  1,  1, -1, -1,\n",
       "         1,  1, -1,  1, -1,  1, -1, -1,  1,  1, -1,  1, -1,  1, -1,  1,  1,\n",
       "         1,  1, -1, -1,  1, -1,  1,  1,  1,  1, -1,  1, -1,  1, -1,  1,  1,\n",
       "        -1,  1,  1,  1,  1,  1,  1, -1, -1, -1,  1,  1, -1,  1, -1,  1, -1,\n",
       "        -1, -1,  1, -1,  1, -1,  1, -1, -1,  1,  1,  1, -1,  1,  1,  1,  1,\n",
       "        -1,  1, -1, -1, -1,  1, -1,  1, -1, -1,  1,  1, -1,  1,  1,  1,  1,\n",
       "        -1, -1,  1,  1, -1,  1,  1,  1,  1,  1,  1, -1,  1,  1,  1,  1, -1,\n",
       "         1, -1,  1,  1,  1,  1,  1,  1,  1, -1, -1, -1, -1,  1, -1,  1,  1,\n",
       "         1,  1,  1,  1, -1,  1, -1, -1,  1,  1,  1, -1,  1, -1,  1, -1, -1,\n",
       "        -1,  1, -1,  1,  1, -1,  1,  1, -1,  1,  1,  1,  1,  1, -1,  1,  1,\n",
       "         1,  1, -1,  1,  1, -1, -1, -1,  1,  1, -1, -1,  1,  1,  1, -1,  1,\n",
       "        -1, -1,  1,  1,  1,  1,  1,  1, -1,  1, -1, -1,  1]),\n",
       " array([ 1,  1,  1, -1, -1,  1,  1,  1, -1,  1, -1,  1, -1,  1, -1, -1,  1,\n",
       "         1,  1,  1,  1, -1,  1,  1,  1,  1,  1,  1,  1, -1,  1,  1,  1, -1,\n",
       "         1,  1,  1, -1,  1,  1,  1, -1,  1,  1,  1,  1,  1,  1,  1,  1, -1,\n",
       "        -1,  1,  1,  1,  1,  1, -1,  1, -1,  1,  1,  1,  1,  1,  1,  1,  1,\n",
       "         1, -1, -1, -1,  1,  1,  1,  1,  1, -1, -1,  1, -1,  1,  1,  1, -1,\n",
       "        -1, -1, -1,  1,  1,  1, -1,  1,  1, -1,  1,  1,  1,  1,  1,  1,  1,\n",
       "         1,  1, -1,  1,  1,  1,  1, -1, -1,  1,  1,  1, -1, -1,  1, -1,  1,\n",
       "         1,  1,  1,  1,  1, -1,  1, -1, -1,  1, -1,  1,  1, -1,  1,  1,  1,\n",
       "         1, -1,  1,  1,  1,  1,  1,  1,  1,  1, -1,  1,  1, -1,  1,  1,  1,\n",
       "         1,  1, -1,  1,  1,  1,  1, -1, -1,  1, -1,  1,  1, -1, -1,  1,  1,\n",
       "        -1, -1, -1,  1,  1,  1,  1,  1,  1, -1,  1, -1, -1,  1,  1,  1,  1,\n",
       "         1,  1, -1, -1,  1,  1,  1,  1, -1, -1,  1,  1,  1, -1,  1,  1,  1,\n",
       "         1,  1, -1,  1, -1,  1,  1, -1,  1, -1,  1,  1,  1,  1, -1, -1,  1,\n",
       "         1,  1, -1,  1, -1,  1,  1,  1,  1, -1, -1,  1,  1,  1, -1, -1, -1,\n",
       "        -1, -1,  1,  1,  1,  1,  1,  1,  1,  1,  1,  1,  1, -1,  1,  1,  1,\n",
       "        -1,  1,  1, -1, -1,  1,  1,  1,  1,  1,  1,  1,  1,  1,  1, -1, -1,\n",
       "         1,  1, -1,  1, -1,  1, -1, -1,  1,  1, -1,  1, -1,  1, -1,  1,  1,\n",
       "         1,  1, -1, -1,  1, -1,  1,  1,  1,  1, -1,  1, -1,  1, -1,  1,  1,\n",
       "        -1,  1,  1,  1,  1,  1,  1, -1, -1, -1,  1,  1, -1,  1, -1,  1, -1,\n",
       "        -1, -1,  1, -1,  1, -1,  1, -1, -1,  1,  1,  1, -1,  1,  1,  1,  1,\n",
       "        -1,  1, -1, -1, -1,  1, -1,  1, -1, -1,  1,  1, -1,  1,  1,  1,  1,\n",
       "        -1, -1,  1,  1, -1,  1,  1,  1,  1,  1,  1, -1,  1,  1,  1,  1, -1,\n",
       "         1, -1,  1,  1,  1,  1,  1,  1,  1, -1, -1, -1, -1,  1, -1,  1,  1,\n",
       "         1,  1,  1,  1, -1,  1, -1, -1,  1,  1,  1, -1,  1, -1,  1, -1, -1,\n",
       "        -1,  1, -1,  1,  1, -1,  1,  1, -1,  1,  1,  1,  1,  1, -1,  1,  1,\n",
       "         1,  1, -1,  1,  1, -1, -1, -1,  1,  1, -1, -1,  1,  1,  1, -1,  1,\n",
       "        -1, -1,  1,  1,  1,  1,  1,  1, -1,  1, -1, -1,  1]),\n",
       " array([ 1,  1, -1, -1, -1,  1,  1,  1, -1,  1, -1,  1, -1,  1,  1, -1,  1,\n",
       "         1,  1,  1,  1, -1,  1,  1,  1,  1,  1, -1,  1, -1,  1,  1,  1, -1,\n",
       "         1,  1,  1, -1,  1,  1,  1, -1,  1,  1,  1,  1,  1,  1,  1,  1, -1,\n",
       "        -1,  1,  1,  1,  1,  1, -1,  1, -1,  1,  1,  1,  1,  1,  1,  1,  1,\n",
       "         1, -1,  1, -1,  1,  1,  1,  1,  1, -1, -1,  1, -1,  1,  1,  1, -1,\n",
       "        -1, -1, -1,  1,  1,  1, -1,  1,  1, -1,  1, -1,  1,  1,  1,  1,  1,\n",
       "         1,  1,  1,  1,  1,  1,  1, -1, -1,  1,  1,  1, -1, -1,  1, -1,  1,\n",
       "         1,  1,  1,  1,  1, -1,  1, -1, -1,  1, -1,  1,  1, -1,  1, -1,  1,\n",
       "         1, -1,  1,  1,  1,  1,  1,  1, -1,  1, -1,  1, -1, -1,  1,  1,  1,\n",
       "        -1,  1,  1,  1,  1,  1,  1, -1, -1,  1, -1,  1, -1, -1, -1,  1,  1,\n",
       "        -1,  1, -1,  1,  1,  1,  1,  1,  1, -1,  1, -1, -1,  1,  1,  1,  1,\n",
       "         1,  1, -1, -1,  1, -1,  1, -1, -1, -1,  1, -1,  1, -1,  1,  1,  1,\n",
       "         1,  1, -1,  1, -1,  1,  1, -1,  1,  1,  1,  1, -1,  1, -1, -1,  1,\n",
       "         1,  1, -1,  1, -1,  1,  1,  1,  1,  1, -1,  1,  1,  1, -1, -1, -1,\n",
       "        -1, -1,  1,  1,  1,  1,  1,  1,  1,  1,  1,  1,  1, -1,  1,  1,  1,\n",
       "        -1,  1,  1, -1, -1,  1,  1,  1,  1,  1, -1,  1,  1, -1,  1, -1, -1,\n",
       "         1,  1, -1,  1, -1,  1, -1, -1,  1,  1, -1,  1, -1,  1, -1,  1,  1,\n",
       "         1, -1, -1, -1,  1, -1,  1,  1,  1,  1, -1,  1, -1,  1, -1,  1,  1,\n",
       "        -1, -1,  1,  1,  1,  1,  1, -1, -1, -1,  1,  1, -1,  1, -1,  1, -1,\n",
       "        -1, -1,  1, -1,  1, -1,  1, -1, -1, -1,  1,  1, -1,  1,  1,  1,  1,\n",
       "        -1,  1, -1, -1, -1,  1, -1,  1, -1, -1,  1,  1, -1,  1, -1,  1,  1,\n",
       "        -1, -1,  1,  1, -1,  1, -1, -1,  1,  1,  1, -1,  1,  1,  1,  1, -1,\n",
       "         1, -1,  1,  1,  1,  1, -1,  1,  1, -1, -1, -1, -1,  1, -1,  1,  1,\n",
       "         1,  1,  1,  1, -1,  1, -1, -1,  1,  1,  1, -1,  1, -1,  1, -1, -1,\n",
       "        -1,  1, -1,  1,  1, -1,  1,  1, -1,  1,  1,  1, -1,  1, -1,  1,  1,\n",
       "         1,  1, -1,  1,  1, -1, -1, -1,  1,  1, -1,  1, -1, -1,  1, -1,  1,\n",
       "        -1, -1,  1,  1,  1,  1,  1,  1, -1,  1, -1, -1,  1]),\n",
       " array([ 1,  1, -1, -1, -1,  1,  1,  1, -1,  1, -1,  1, -1,  1,  1, -1,  1,\n",
       "         1,  1,  1,  1, -1,  1,  1,  1,  1,  1, -1,  1, -1,  1,  1,  1, -1,\n",
       "         1,  1,  1, -1,  1,  1,  1, -1,  1,  1,  1,  1,  1,  1,  1,  1, -1,\n",
       "        -1,  1,  1,  1,  1,  1, -1,  1, -1,  1,  1,  1,  1,  1, -1,  1,  1,\n",
       "         1, -1,  1, -1,  1,  1,  1, -1,  1, -1, -1,  1, -1,  1,  1,  1, -1,\n",
       "        -1, -1, -1,  1,  1,  1, -1,  1,  1, -1,  1, -1,  1,  1,  1,  1,  1,\n",
       "         1,  1,  1,  1,  1,  1,  1, -1, -1,  1,  1,  1, -1, -1,  1, -1,  1,\n",
       "        -1,  1,  1,  1,  1, -1,  1, -1, -1,  1, -1,  1,  1, -1,  1, -1,  1,\n",
       "         1, -1,  1,  1,  1,  1,  1,  1, -1,  1, -1,  1, -1, -1,  1,  1,  1,\n",
       "        -1,  1,  1,  1,  1,  1,  1, -1, -1,  1, -1,  1, -1, -1, -1,  1,  1,\n",
       "        -1,  1, -1,  1,  1,  1,  1,  1,  1, -1, -1, -1, -1,  1,  1,  1,  1,\n",
       "         1,  1, -1, -1,  1, -1,  1, -1, -1, -1,  1, -1,  1, -1, -1,  1,  1,\n",
       "         1,  1, -1,  1, -1,  1,  1, -1,  1,  1,  1,  1, -1,  1, -1, -1,  1,\n",
       "         1,  1, -1,  1, -1, -1,  1,  1,  1,  1, -1,  1,  1,  1, -1, -1, -1,\n",
       "        -1, -1,  1,  1,  1,  1,  1,  1,  1,  1,  1,  1,  1, -1,  1,  1,  1,\n",
       "        -1,  1,  1, -1, -1,  1,  1,  1,  1,  1, -1,  1,  1, -1,  1, -1, -1,\n",
       "         1,  1, -1,  1, -1,  1, -1, -1,  1,  1, -1,  1, -1,  1, -1,  1,  1,\n",
       "         1, -1, -1, -1,  1, -1,  1,  1,  1,  1, -1,  1, -1,  1, -1,  1,  1,\n",
       "        -1, -1, -1,  1,  1,  1,  1, -1, -1, -1,  1,  1, -1,  1, -1,  1, -1,\n",
       "        -1, -1,  1, -1,  1, -1,  1, -1, -1, -1,  1,  1, -1,  1,  1,  1,  1,\n",
       "        -1,  1, -1, -1, -1,  1, -1,  1, -1, -1,  1,  1, -1,  1, -1,  1,  1,\n",
       "        -1, -1,  1,  1, -1,  1, -1, -1,  1,  1,  1, -1,  1,  1,  1,  1, -1,\n",
       "         1, -1,  1,  1,  1,  1, -1,  1,  1, -1, -1, -1, -1,  1, -1,  1,  1,\n",
       "         1,  1,  1,  1, -1,  1, -1, -1,  1,  1,  1, -1,  1, -1,  1, -1, -1,\n",
       "        -1,  1, -1,  1,  1, -1,  1, -1, -1,  1,  1,  1, -1,  1, -1,  1,  1,\n",
       "         1,  1, -1,  1,  1, -1, -1, -1,  1,  1, -1,  1, -1, -1,  1, -1, -1,\n",
       "        -1, -1,  1,  1,  1,  1,  1,  1, -1,  1, -1, -1,  1]),\n",
       " array([ 1,  1, -1,  1, -1,  1,  1,  1, -1,  1, -1,  1, -1,  1,  1, -1,  1,\n",
       "         1,  1,  1,  1, -1,  1,  1,  1,  1,  1,  1,  1, -1,  1,  1,  1, -1,\n",
       "         1,  1,  1, -1,  1,  1,  1, -1,  1,  1,  1,  1,  1,  1,  1,  1, -1,\n",
       "        -1,  1,  1,  1,  1,  1, -1,  1, -1,  1,  1,  1,  1,  1, -1,  1,  1,\n",
       "         1, -1,  1, -1,  1,  1,  1, -1,  1, -1, -1,  1, -1,  1,  1,  1, -1,\n",
       "        -1, -1, -1,  1,  1,  1, -1,  1,  1, -1,  1,  1,  1,  1,  1,  1,  1,\n",
       "         1,  1,  1,  1,  1,  1,  1, -1, -1,  1,  1,  1, -1, -1,  1, -1,  1,\n",
       "        -1,  1,  1,  1,  1, -1,  1, -1, -1,  1, -1,  1,  1, -1,  1, -1,  1,\n",
       "         1, -1,  1,  1,  1,  1,  1,  1, -1,  1, -1,  1, -1, -1,  1,  1,  1,\n",
       "         1,  1,  1,  1,  1,  1,  1, -1, -1,  1, -1,  1, -1, -1, -1,  1,  1,\n",
       "        -1,  1, -1,  1,  1,  1,  1,  1,  1, -1, -1, -1, -1,  1,  1,  1,  1,\n",
       "         1,  1, -1, -1,  1,  1,  1, -1, -1, -1,  1,  1,  1, -1, -1,  1,  1,\n",
       "         1,  1, -1,  1, -1,  1,  1, -1,  1,  1,  1,  1, -1,  1, -1, -1,  1,\n",
       "         1,  1, -1,  1, -1, -1,  1,  1,  1,  1, -1,  1,  1,  1, -1, -1, -1,\n",
       "        -1, -1,  1,  1,  1,  1,  1,  1,  1,  1,  1,  1,  1, -1,  1,  1,  1,\n",
       "        -1,  1,  1, -1, -1,  1,  1,  1,  1,  1, -1,  1,  1,  1,  1, -1, -1,\n",
       "         1,  1, -1,  1, -1,  1, -1, -1,  1,  1, -1,  1, -1,  1, -1,  1,  1,\n",
       "         1,  1, -1, -1,  1, -1,  1,  1,  1,  1, -1,  1, -1,  1, -1,  1,  1,\n",
       "        -1,  1, -1,  1,  1,  1,  1, -1, -1, -1,  1,  1, -1,  1, -1,  1, -1,\n",
       "        -1, -1,  1, -1,  1, -1,  1, -1, -1,  1,  1,  1, -1,  1,  1,  1,  1,\n",
       "        -1,  1, -1, -1, -1,  1, -1,  1, -1, -1,  1,  1, -1,  1,  1,  1,  1,\n",
       "        -1, -1,  1,  1, -1,  1, -1,  1,  1,  1,  1, -1,  1,  1,  1,  1, -1,\n",
       "         1, -1,  1,  1,  1,  1, -1,  1,  1, -1, -1, -1, -1,  1, -1,  1,  1,\n",
       "         1,  1,  1,  1, -1,  1, -1, -1,  1,  1,  1, -1,  1, -1,  1, -1, -1,\n",
       "        -1,  1, -1,  1,  1, -1,  1, -1, -1,  1,  1,  1, -1,  1, -1,  1,  1,\n",
       "         1,  1, -1,  1,  1, -1, -1, -1,  1,  1, -1,  1,  1,  1,  1, -1, -1,\n",
       "        -1, -1,  1,  1,  1,  1,  1,  1, -1,  1, -1, -1,  1]),\n",
       " array([ 1,  1, -1,  1, -1,  1,  1,  1, -1,  1, -1,  1, -1,  1,  1, -1,  1,\n",
       "         1,  1,  1,  1, -1,  1,  1,  1,  1,  1,  1,  1, -1,  1,  1,  1, -1,\n",
       "         1,  1,  1, -1,  1,  1,  1, -1,  1,  1,  1,  1,  1,  1,  1,  1, -1,\n",
       "        -1,  1,  1,  1,  1,  1, -1,  1, -1,  1,  1,  1,  1,  1, -1,  1,  1,\n",
       "         1, -1,  1, -1,  1,  1,  1, -1,  1, -1, -1,  1, -1,  1,  1,  1, -1,\n",
       "        -1, -1, -1,  1,  1,  1, -1,  1,  1, -1,  1,  1,  1,  1,  1,  1,  1,\n",
       "         1,  1,  1,  1,  1,  1,  1, -1, -1,  1,  1,  1, -1, -1,  1, -1,  1,\n",
       "        -1,  1,  1,  1,  1, -1,  1, -1, -1,  1, -1,  1,  1, -1,  1, -1,  1,\n",
       "         1, -1,  1,  1,  1,  1,  1,  1, -1,  1, -1,  1, -1, -1,  1,  1,  1,\n",
       "         1,  1,  1,  1,  1,  1,  1, -1, -1,  1, -1,  1, -1, -1, -1,  1,  1,\n",
       "        -1,  1, -1,  1,  1,  1,  1,  1,  1, -1,  1, -1, -1,  1,  1,  1,  1,\n",
       "         1,  1, -1, -1,  1,  1,  1, -1, -1, -1,  1,  1,  1, -1, -1,  1,  1,\n",
       "         1,  1, -1,  1, -1,  1,  1, -1,  1,  1,  1,  1, -1,  1, -1, -1,  1,\n",
       "         1,  1, -1,  1, -1,  1,  1,  1,  1,  1, -1,  1,  1,  1, -1, -1, -1,\n",
       "        -1, -1,  1,  1,  1,  1,  1,  1,  1,  1,  1,  1,  1, -1,  1,  1,  1,\n",
       "        -1,  1,  1, -1, -1,  1,  1,  1,  1, -1, -1,  1,  1,  1,  1, -1, -1,\n",
       "         1,  1, -1,  1, -1,  1, -1, -1,  1,  1, -1,  1, -1,  1, -1,  1,  1,\n",
       "         1,  1, -1, -1,  1, -1,  1,  1,  1,  1, -1, -1, -1,  1, -1,  1,  1,\n",
       "        -1, -1, -1,  1,  1,  1,  1, -1, -1, -1,  1,  1, -1,  1, -1,  1, -1,\n",
       "        -1, -1,  1, -1,  1, -1,  1, -1, -1,  1,  1,  1, -1,  1,  1,  1,  1,\n",
       "        -1,  1, -1, -1, -1,  1, -1,  1, -1, -1,  1,  1, -1,  1, -1,  1,  1,\n",
       "        -1, -1,  1,  1, -1,  1, -1,  1,  1,  1,  1, -1,  1,  1,  1,  1, -1,\n",
       "         1, -1,  1,  1,  1,  1, -1,  1,  1, -1, -1, -1, -1,  1, -1,  1,  1,\n",
       "         1,  1,  1,  1, -1,  1, -1, -1,  1,  1,  1, -1,  1, -1,  1, -1, -1,\n",
       "        -1,  1, -1,  1,  1, -1,  1, -1, -1,  1,  1,  1, -1,  1, -1,  1,  1,\n",
       "         1,  1, -1,  1,  1, -1, -1, -1,  1,  1, -1,  1, -1,  1,  1, -1, -1,\n",
       "        -1, -1,  1,  1,  1,  1,  1,  1, -1,  1, -1, -1,  1]),\n",
       " array([ 1,  1, -1,  1, -1,  1,  1,  1, -1,  1, -1,  1, -1,  1,  1, -1,  1,\n",
       "         1,  1,  1,  1, -1,  1,  1,  1,  1,  1,  1,  1, -1,  1,  1,  1, -1,\n",
       "         1,  1,  1, -1,  1,  1,  1, -1,  1,  1,  1,  1,  1,  1,  1,  1, -1,\n",
       "        -1,  1,  1,  1,  1,  1, -1,  1, -1,  1,  1,  1,  1,  1, -1,  1,  1,\n",
       "         1, -1,  1, -1,  1,  1,  1, -1,  1, -1,  1,  1, -1,  1,  1,  1, -1,\n",
       "        -1, -1, -1,  1,  1,  1, -1,  1,  1, -1,  1,  1,  1,  1,  1,  1,  1,\n",
       "         1,  1,  1,  1,  1,  1,  1, -1, -1,  1,  1,  1, -1, -1,  1, -1,  1,\n",
       "        -1,  1,  1,  1,  1, -1,  1, -1, -1,  1, -1,  1,  1, -1,  1, -1,  1,\n",
       "         1, -1,  1,  1,  1,  1,  1,  1, -1,  1, -1,  1, -1, -1,  1,  1,  1,\n",
       "         1,  1,  1,  1,  1,  1,  1, -1, -1,  1, -1,  1, -1, -1, -1,  1,  1,\n",
       "        -1,  1, -1,  1,  1,  1,  1,  1,  1, -1, -1, -1, -1,  1,  1,  1,  1,\n",
       "         1,  1, -1, -1,  1,  1,  1, -1, -1, -1,  1,  1,  1, -1, -1,  1,  1,\n",
       "         1,  1, -1,  1, -1,  1,  1, -1,  1,  1,  1,  1, -1,  1, -1, -1,  1,\n",
       "         1,  1, -1,  1, -1, -1,  1,  1,  1,  1, -1,  1,  1,  1, -1, -1, -1,\n",
       "        -1, -1,  1,  1,  1,  1,  1,  1,  1,  1,  1,  1,  1, -1,  1,  1,  1,\n",
       "        -1,  1,  1, -1, -1,  1,  1,  1,  1,  1, -1,  1,  1,  1,  1, -1, -1,\n",
       "         1,  1, -1,  1, -1,  1, -1, -1,  1,  1, -1,  1, -1,  1, -1,  1,  1,\n",
       "         1,  1, -1, -1,  1, -1,  1,  1,  1,  1, -1, -1, -1,  1, -1,  1,  1,\n",
       "        -1, -1, -1,  1,  1,  1,  1, -1, -1, -1,  1,  1,  1,  1, -1,  1, -1,\n",
       "        -1, -1,  1, -1,  1, -1,  1, -1, -1,  1,  1,  1, -1,  1,  1,  1,  1,\n",
       "        -1,  1, -1, -1, -1,  1, -1,  1, -1, -1,  1,  1, -1,  1, -1,  1,  1,\n",
       "        -1, -1,  1,  1, -1,  1, -1,  1,  1,  1,  1, -1,  1,  1,  1,  1, -1,\n",
       "         1, -1,  1,  1,  1,  1, -1,  1,  1, -1, -1, -1, -1,  1, -1,  1,  1,\n",
       "         1,  1,  1,  1, -1,  1, -1, -1,  1,  1,  1, -1,  1, -1,  1, -1, -1,\n",
       "        -1,  1, -1,  1,  1, -1,  1,  1, -1,  1,  1,  1, -1,  1, -1,  1,  1,\n",
       "         1,  1, -1,  1,  1, -1, -1, -1,  1,  1, -1,  1, -1,  1,  1, -1, -1,\n",
       "        -1, -1,  1,  1,  1,  1,  1,  1, -1,  1, -1, -1,  1]),\n",
       " array([ 1,  1, -1, -1, -1,  1,  1,  1, -1,  1, -1,  1, -1,  1,  1, -1,  1,\n",
       "         1,  1,  1,  1, -1,  1,  1,  1,  1,  1,  1,  1, -1,  1,  1,  1, -1,\n",
       "         1,  1,  1, -1,  1,  1,  1, -1,  1,  1,  1,  1,  1,  1,  1,  1, -1,\n",
       "        -1,  1,  1,  1,  1,  1, -1,  1, -1,  1,  1,  1,  1,  1, -1,  1,  1,\n",
       "         1, -1,  1, -1,  1,  1,  1, -1,  1, -1,  1,  1, -1,  1,  1,  1, -1,\n",
       "        -1, -1, -1,  1,  1,  1, -1,  1,  1, -1,  1,  1,  1,  1,  1,  1,  1,\n",
       "         1,  1,  1,  1,  1,  1,  1, -1, -1,  1,  1,  1, -1, -1,  1, -1,  1,\n",
       "        -1,  1,  1,  1,  1, -1,  1, -1, -1,  1, -1,  1,  1, -1,  1, -1,  1,\n",
       "         1, -1,  1,  1,  1,  1,  1,  1, -1,  1, -1,  1, -1, -1,  1,  1,  1,\n",
       "         1,  1,  1,  1,  1,  1,  1, -1, -1,  1, -1,  1, -1, -1, -1,  1,  1,\n",
       "        -1,  1, -1,  1,  1,  1,  1,  1,  1, -1,  1, -1, -1,  1,  1,  1,  1,\n",
       "         1,  1, -1, -1,  1,  1,  1, -1, -1, -1,  1,  1,  1, -1, -1,  1,  1,\n",
       "         1,  1, -1,  1, -1,  1,  1, -1,  1,  1,  1,  1, -1,  1, -1, -1,  1,\n",
       "         1,  1, -1,  1, -1, -1,  1,  1,  1,  1, -1,  1,  1,  1, -1, -1, -1,\n",
       "        -1, -1,  1,  1,  1,  1,  1,  1,  1,  1,  1,  1,  1, -1,  1,  1,  1,\n",
       "        -1,  1,  1, -1, -1,  1,  1,  1,  1,  1, -1,  1,  1,  1,  1,  1, -1,\n",
       "         1,  1, -1,  1, -1,  1, -1, -1,  1,  1, -1,  1, -1,  1, -1,  1,  1,\n",
       "         1,  1, -1, -1,  1, -1,  1,  1,  1,  1, -1, -1, -1,  1, -1,  1,  1,\n",
       "        -1, -1, -1,  1,  1,  1,  1, -1, -1, -1,  1,  1,  1,  1, -1,  1, -1,\n",
       "        -1, -1,  1, -1,  1, -1,  1, -1, -1,  1,  1,  1, -1,  1,  1,  1,  1,\n",
       "        -1,  1, -1, -1, -1,  1, -1,  1, -1, -1,  1,  1, -1,  1, -1,  1,  1,\n",
       "        -1, -1,  1,  1, -1,  1, -1,  1,  1,  1,  1, -1,  1,  1,  1,  1, -1,\n",
       "         1, -1,  1,  1,  1,  1, -1,  1,  1, -1, -1, -1, -1,  1, -1,  1,  1,\n",
       "         1,  1,  1,  1, -1,  1, -1, -1,  1,  1,  1, -1,  1, -1,  1, -1, -1,\n",
       "        -1,  1, -1,  1,  1, -1,  1,  1, -1,  1,  1,  1, -1,  1, -1,  1,  1,\n",
       "         1,  1, -1,  1,  1, -1, -1, -1,  1,  1, -1,  1, -1,  1,  1, -1, -1,\n",
       "        -1, -1,  1,  1,  1,  1,  1,  1, -1,  1, -1, -1,  1]),\n",
       " array([ 1,  1, -1,  1, -1,  1,  1,  1, -1,  1, -1,  1, -1,  1,  1, -1,  1,\n",
       "         1,  1,  1,  1, -1,  1,  1,  1,  1,  1,  1,  1, -1,  1,  1,  1, -1,\n",
       "         1,  1,  1, -1,  1,  1,  1, -1,  1,  1,  1,  1,  1,  1,  1,  1, -1,\n",
       "        -1,  1,  1,  1,  1,  1, -1,  1, -1,  1,  1,  1,  1,  1, -1,  1,  1,\n",
       "         1, -1,  1, -1,  1,  1,  1, -1,  1, -1,  1,  1, -1,  1,  1,  1, -1,\n",
       "        -1, -1, -1,  1,  1,  1, -1,  1,  1, -1,  1,  1,  1,  1,  1,  1,  1,\n",
       "         1,  1,  1,  1,  1,  1,  1, -1, -1,  1,  1,  1, -1, -1,  1, -1,  1,\n",
       "        -1,  1,  1,  1,  1, -1,  1, -1, -1,  1, -1,  1,  1, -1,  1, -1,  1,\n",
       "         1, -1,  1,  1,  1,  1,  1,  1, -1,  1, -1,  1, -1, -1,  1,  1,  1,\n",
       "         1,  1,  1,  1,  1,  1,  1, -1, -1,  1, -1,  1, -1, -1, -1,  1,  1,\n",
       "        -1,  1, -1,  1,  1,  1,  1,  1,  1, -1,  1, -1, -1,  1,  1,  1,  1,\n",
       "         1,  1, -1, -1,  1,  1,  1, -1, -1, -1,  1,  1,  1, -1, -1,  1,  1,\n",
       "         1,  1, -1,  1, -1,  1,  1, -1,  1,  1,  1,  1, -1,  1, -1, -1,  1,\n",
       "         1,  1, -1,  1, -1, -1,  1,  1,  1,  1, -1,  1,  1,  1, -1, -1, -1,\n",
       "        -1, -1,  1,  1,  1,  1,  1,  1,  1,  1,  1,  1,  1, -1,  1,  1,  1,\n",
       "        -1,  1,  1, -1, -1,  1,  1,  1,  1,  1, -1,  1,  1,  1,  1,  1, -1,\n",
       "         1,  1, -1,  1, -1,  1, -1, -1,  1,  1, -1,  1, -1,  1, -1,  1,  1,\n",
       "         1,  1, -1, -1,  1, -1,  1,  1,  1,  1, -1, -1, -1,  1, -1,  1,  1,\n",
       "        -1, -1, -1,  1,  1,  1,  1, -1, -1, -1,  1,  1,  1,  1, -1,  1, -1,\n",
       "        -1, -1,  1, -1,  1, -1,  1, -1, -1,  1,  1,  1, -1,  1,  1,  1,  1,\n",
       "        -1,  1, -1, -1, -1,  1, -1,  1, -1, -1,  1,  1, -1,  1, -1,  1,  1,\n",
       "        -1, -1,  1,  1, -1,  1, -1,  1,  1,  1,  1, -1,  1,  1,  1,  1, -1,\n",
       "         1, -1,  1,  1,  1,  1, -1,  1,  1, -1, -1, -1, -1,  1, -1,  1,  1,\n",
       "         1,  1,  1,  1, -1,  1, -1, -1,  1,  1,  1, -1,  1, -1,  1, -1, -1,\n",
       "        -1,  1, -1,  1,  1, -1,  1,  1, -1,  1,  1,  1, -1,  1, -1,  1,  1,\n",
       "         1,  1, -1,  1,  1, -1, -1, -1,  1,  1, -1,  1, -1,  1,  1, -1, -1,\n",
       "        -1, -1,  1,  1,  1,  1,  1,  1, -1,  1, -1, -1,  1]),\n",
       " array([ 1,  1, -1, -1, -1,  1,  1,  1, -1,  1, -1,  1, -1,  1,  1, -1,  1,\n",
       "         1,  1,  1,  1, -1,  1,  1,  1,  1,  1,  1,  1, -1,  1,  1,  1, -1,\n",
       "         1,  1,  1, -1,  1,  1,  1, -1,  1,  1,  1,  1,  1,  1,  1,  1, -1,\n",
       "        -1,  1,  1,  1,  1,  1, -1,  1, -1,  1,  1,  1,  1,  1, -1,  1,  1,\n",
       "         1, -1,  1, -1,  1,  1,  1, -1,  1, -1,  1,  1, -1,  1,  1,  1, -1,\n",
       "        -1, -1, -1,  1,  1,  1, -1,  1,  1, -1,  1,  1,  1,  1,  1,  1,  1,\n",
       "         1,  1,  1,  1,  1,  1,  1, -1, -1,  1,  1,  1, -1, -1,  1, -1,  1,\n",
       "         1,  1,  1,  1,  1, -1,  1, -1, -1,  1, -1,  1,  1, -1,  1, -1,  1,\n",
       "         1, -1,  1,  1,  1,  1,  1,  1, -1,  1, -1,  1, -1, -1,  1,  1,  1,\n",
       "         1,  1,  1,  1,  1,  1,  1, -1, -1,  1, -1,  1, -1, -1, -1,  1,  1,\n",
       "        -1, -1, -1,  1,  1,  1,  1,  1,  1, -1,  1, -1, -1,  1,  1,  1,  1,\n",
       "         1,  1, -1, -1,  1,  1,  1, -1, -1, -1,  1,  1,  1, -1, -1,  1,  1,\n",
       "         1,  1, -1,  1, -1,  1,  1, -1,  1,  1,  1,  1, -1,  1, -1, -1,  1,\n",
       "         1,  1, -1,  1, -1, -1,  1,  1,  1, -1, -1,  1,  1,  1, -1, -1, -1,\n",
       "        -1, -1,  1,  1,  1,  1,  1,  1,  1,  1,  1,  1,  1, -1,  1,  1,  1,\n",
       "        -1,  1,  1, -1, -1,  1,  1,  1,  1,  1, -1,  1,  1,  1,  1,  1, -1,\n",
       "         1,  1, -1,  1, -1,  1, -1, -1,  1,  1, -1,  1, -1,  1, -1,  1,  1,\n",
       "         1, -1, -1, -1,  1, -1,  1,  1,  1,  1, -1, -1, -1,  1, -1,  1,  1,\n",
       "        -1, -1, -1,  1,  1,  1,  1, -1, -1, -1,  1,  1,  1,  1, -1,  1, -1,\n",
       "        -1, -1,  1, -1,  1, -1,  1, -1, -1,  1,  1,  1, -1,  1,  1,  1,  1,\n",
       "        -1,  1, -1, -1, -1,  1, -1,  1, -1, -1,  1,  1, -1,  1, -1,  1,  1,\n",
       "        -1, -1,  1,  1, -1,  1, -1,  1,  1,  1,  1, -1,  1,  1,  1,  1, -1,\n",
       "         1, -1,  1,  1,  1,  1, -1,  1,  1, -1, -1, -1, -1,  1, -1,  1,  1,\n",
       "         1,  1,  1,  1, -1,  1, -1, -1,  1,  1,  1, -1,  1, -1,  1, -1, -1,\n",
       "        -1,  1, -1,  1,  1, -1,  1,  1, -1,  1,  1,  1, -1,  1, -1,  1,  1,\n",
       "         1,  1, -1,  1,  1, -1, -1, -1,  1,  1, -1, -1, -1,  1,  1, -1, -1,\n",
       "        -1, -1,  1,  1,  1,  1,  1,  1, -1,  1, -1, -1,  1]),\n",
       " array([ 1,  1, -1,  1, -1,  1,  1,  1, -1,  1, -1,  1, -1,  1,  1, -1,  1,\n",
       "         1,  1,  1,  1, -1,  1,  1,  1,  1,  1,  1,  1, -1,  1,  1,  1, -1,\n",
       "         1,  1,  1, -1,  1,  1,  1, -1,  1,  1,  1,  1,  1,  1,  1,  1, -1,\n",
       "        -1,  1,  1,  1,  1,  1, -1,  1, -1,  1,  1,  1,  1,  1, -1,  1,  1,\n",
       "         1, -1,  1, -1,  1,  1,  1, -1,  1, -1,  1,  1, -1,  1,  1,  1, -1,\n",
       "        -1, -1, -1,  1,  1,  1, -1,  1,  1, -1,  1,  1,  1,  1,  1,  1,  1,\n",
       "         1,  1,  1,  1,  1,  1,  1, -1, -1,  1,  1,  1, -1, -1,  1, -1,  1,\n",
       "        -1,  1,  1,  1,  1, -1,  1, -1, -1,  1, -1,  1,  1, -1,  1, -1,  1,\n",
       "         1, -1,  1,  1,  1,  1,  1,  1, -1,  1, -1,  1, -1, -1,  1,  1,  1,\n",
       "         1,  1,  1,  1,  1,  1,  1, -1, -1,  1, -1,  1, -1, -1, -1,  1,  1,\n",
       "        -1,  1, -1,  1,  1,  1,  1,  1,  1, -1,  1, -1, -1,  1,  1,  1,  1,\n",
       "         1,  1, -1, -1,  1,  1,  1, -1, -1, -1,  1,  1,  1, -1, -1,  1,  1,\n",
       "         1,  1, -1,  1, -1,  1,  1, -1,  1,  1,  1,  1, -1,  1, -1, -1,  1,\n",
       "         1,  1, -1,  1, -1, -1,  1,  1,  1,  1, -1,  1,  1,  1, -1, -1, -1,\n",
       "        -1, -1,  1,  1,  1,  1,  1,  1,  1,  1,  1,  1,  1, -1,  1,  1,  1,\n",
       "        -1,  1,  1, -1, -1,  1,  1,  1,  1,  1, -1,  1,  1,  1,  1,  1, -1,\n",
       "         1,  1, -1, -1, -1,  1, -1, -1,  1,  1, -1,  1, -1,  1, -1,  1,  1,\n",
       "         1, -1, -1, -1,  1, -1,  1,  1,  1,  1, -1, -1, -1,  1, -1,  1,  1,\n",
       "        -1, -1, -1,  1,  1,  1,  1, -1, -1, -1,  1,  1,  1,  1, -1,  1, -1,\n",
       "        -1, -1,  1, -1,  1, -1,  1, -1, -1,  1,  1,  1, -1,  1,  1,  1,  1,\n",
       "        -1,  1, -1, -1, -1,  1, -1,  1, -1, -1,  1,  1, -1,  1, -1,  1,  1,\n",
       "        -1, -1,  1,  1, -1,  1, -1,  1,  1,  1,  1, -1,  1,  1,  1,  1, -1,\n",
       "         1, -1,  1,  1,  1,  1, -1,  1,  1, -1, -1, -1, -1,  1, -1,  1,  1,\n",
       "         1,  1,  1,  1, -1,  1, -1, -1,  1,  1,  1, -1,  1, -1,  1, -1, -1,\n",
       "        -1,  1, -1,  1,  1, -1,  1,  1, -1,  1,  1,  1, -1,  1, -1,  1,  1,\n",
       "         1,  1, -1,  1,  1, -1, -1, -1,  1,  1, -1, -1, -1,  1,  1, -1, -1,\n",
       "        -1, -1,  1,  1,  1,  1,  1,  1, -1, -1, -1, -1,  1]),\n",
       " array([ 1,  1, -1,  1, -1,  1,  1,  1, -1,  1, -1,  1, -1,  1,  1, -1,  1,\n",
       "         1,  1,  1,  1, -1,  1,  1,  1,  1,  1,  1,  1, -1,  1,  1,  1, -1,\n",
       "         1,  1,  1, -1,  1,  1,  1, -1,  1,  1,  1,  1,  1,  1,  1,  1, -1,\n",
       "        -1,  1,  1,  1,  1,  1, -1,  1, -1,  1,  1,  1,  1,  1, -1,  1,  1,\n",
       "         1, -1,  1, -1,  1,  1,  1, -1,  1, -1,  1,  1, -1,  1,  1,  1, -1,\n",
       "        -1, -1, -1,  1,  1,  1, -1,  1,  1, -1,  1,  1,  1,  1,  1,  1,  1,\n",
       "         1,  1,  1,  1,  1,  1,  1, -1, -1,  1,  1,  1, -1, -1,  1, -1,  1,\n",
       "         1,  1,  1,  1,  1, -1,  1, -1, -1,  1, -1,  1,  1, -1,  1, -1,  1,\n",
       "         1, -1,  1,  1,  1,  1,  1,  1, -1,  1, -1,  1, -1, -1,  1,  1,  1,\n",
       "         1,  1,  1,  1,  1,  1,  1, -1, -1,  1, -1,  1, -1, -1, -1,  1,  1,\n",
       "        -1,  1, -1,  1,  1,  1,  1,  1,  1, -1,  1, -1, -1,  1,  1,  1,  1,\n",
       "         1,  1, -1, -1,  1,  1,  1, -1, -1, -1,  1,  1,  1, -1, -1,  1,  1,\n",
       "         1,  1, -1,  1, -1,  1,  1, -1,  1,  1,  1,  1, -1,  1, -1, -1,  1,\n",
       "         1,  1, -1,  1, -1, -1,  1,  1,  1,  1, -1,  1,  1,  1, -1, -1, -1,\n",
       "        -1, -1,  1,  1,  1,  1,  1,  1,  1,  1,  1,  1,  1, -1,  1,  1,  1,\n",
       "        -1,  1,  1, -1, -1,  1,  1,  1,  1,  1, -1,  1,  1,  1,  1,  1, -1,\n",
       "         1,  1, -1,  1, -1,  1, -1, -1,  1,  1, -1,  1, -1,  1, -1,  1,  1,\n",
       "         1,  1, -1, -1,  1, -1,  1,  1,  1,  1, -1, -1, -1,  1, -1,  1,  1,\n",
       "        -1, -1, -1,  1,  1,  1,  1, -1, -1, -1,  1,  1,  1,  1, -1,  1, -1,\n",
       "        -1, -1,  1, -1,  1, -1,  1, -1, -1,  1,  1,  1, -1,  1,  1,  1,  1,\n",
       "        -1,  1, -1, -1, -1,  1, -1,  1, -1, -1,  1,  1, -1,  1, -1,  1,  1,\n",
       "        -1, -1,  1,  1, -1,  1, -1,  1,  1,  1,  1, -1,  1,  1,  1,  1, -1,\n",
       "         1, -1,  1,  1,  1,  1, -1,  1,  1, -1, -1, -1, -1,  1, -1,  1,  1,\n",
       "         1,  1,  1,  1, -1,  1, -1, -1,  1,  1,  1, -1,  1, -1,  1, -1, -1,\n",
       "        -1,  1, -1,  1,  1, -1,  1,  1, -1,  1, -1,  1, -1,  1, -1,  1,  1,\n",
       "         1,  1, -1,  1,  1, -1, -1, -1,  1,  1, -1, -1, -1,  1,  1, -1, -1,\n",
       "        -1, -1,  1,  1,  1,  1,  1,  1, -1, -1, -1, -1,  1]),\n",
       " array([ 1,  1, -1,  1, -1,  1,  1,  1, -1,  1, -1,  1, -1,  1,  1, -1,  1,\n",
       "         1,  1,  1,  1, -1,  1,  1,  1,  1,  1,  1,  1, -1,  1,  1,  1, -1,\n",
       "         1,  1,  1, -1,  1,  1,  1, -1,  1,  1,  1,  1,  1,  1,  1,  1, -1,\n",
       "        -1,  1,  1,  1,  1,  1, -1,  1, -1,  1,  1,  1,  1,  1, -1,  1,  1,\n",
       "         1, -1,  1, -1,  1,  1,  1, -1,  1, -1,  1,  1, -1,  1,  1,  1, -1,\n",
       "        -1, -1, -1,  1,  1,  1, -1,  1,  1, -1,  1,  1,  1,  1,  1,  1,  1,\n",
       "         1,  1,  1,  1,  1,  1,  1, -1, -1,  1,  1,  1, -1, -1,  1, -1,  1,\n",
       "         1,  1,  1,  1,  1, -1,  1, -1, -1,  1, -1,  1,  1, -1,  1, -1,  1,\n",
       "         1, -1,  1,  1,  1,  1,  1,  1, -1,  1, -1,  1, -1, -1,  1,  1,  1,\n",
       "         1,  1,  1,  1,  1,  1,  1, -1, -1,  1, -1,  1, -1, -1, -1,  1,  1,\n",
       "        -1,  1, -1,  1,  1,  1,  1,  1,  1, -1,  1, -1, -1,  1,  1,  1,  1,\n",
       "         1,  1, -1, -1,  1,  1,  1, -1, -1, -1,  1,  1,  1, -1, -1,  1,  1,\n",
       "         1,  1, -1,  1, -1,  1,  1, -1,  1,  1,  1,  1, -1,  1, -1, -1,  1,\n",
       "         1,  1, -1,  1, -1, -1,  1,  1,  1,  1, -1,  1,  1,  1, -1, -1, -1,\n",
       "        -1, -1,  1,  1,  1,  1,  1,  1,  1,  1,  1,  1,  1, -1,  1,  1,  1,\n",
       "        -1,  1,  1, -1, -1,  1,  1,  1,  1,  1, -1,  1,  1,  1,  1,  1, -1,\n",
       "         1,  1, -1,  1, -1,  1, -1, -1,  1,  1, -1,  1, -1,  1, -1,  1,  1,\n",
       "         1, -1, -1, -1,  1, -1,  1,  1,  1,  1, -1, -1, -1,  1, -1,  1,  1,\n",
       "        -1, -1, -1,  1,  1,  1,  1, -1, -1, -1,  1,  1,  1,  1, -1,  1, -1,\n",
       "        -1, -1,  1, -1,  1, -1,  1, -1, -1,  1,  1,  1, -1,  1,  1,  1,  1,\n",
       "        -1,  1, -1, -1, -1,  1, -1,  1, -1, -1,  1,  1, -1,  1, -1,  1,  1,\n",
       "        -1, -1,  1,  1, -1,  1, -1,  1,  1,  1,  1, -1,  1,  1,  1,  1, -1,\n",
       "         1, -1,  1,  1,  1,  1, -1,  1,  1, -1, -1, -1, -1,  1, -1,  1,  1,\n",
       "         1,  1,  1,  1, -1,  1, -1, -1,  1,  1,  1, -1,  1, -1,  1, -1, -1,\n",
       "        -1,  1, -1,  1,  1, -1,  1,  1, -1,  1, -1,  1, -1,  1, -1,  1,  1,\n",
       "         1,  1, -1,  1,  1, -1, -1, -1,  1,  1, -1, -1, -1,  1,  1, -1,  1,\n",
       "        -1, -1,  1,  1,  1,  1,  1,  1, -1, -1, -1, -1,  1]),\n",
       " array([ 1,  1, -1,  1, -1,  1,  1,  1, -1,  1, -1,  1, -1,  1,  1, -1,  1,\n",
       "         1,  1,  1,  1, -1,  1,  1,  1,  1,  1,  1,  1, -1,  1,  1,  1, -1,\n",
       "         1,  1,  1, -1,  1,  1,  1, -1,  1,  1,  1,  1,  1,  1,  1,  1, -1,\n",
       "        -1,  1,  1,  1,  1,  1, -1,  1, -1,  1,  1,  1,  1,  1, -1,  1,  1,\n",
       "         1, -1,  1, -1,  1,  1,  1, -1,  1, -1,  1,  1, -1,  1,  1,  1, -1,\n",
       "        -1, -1, -1,  1,  1,  1, -1,  1,  1, -1,  1,  1,  1,  1,  1,  1,  1,\n",
       "         1,  1,  1,  1,  1,  1,  1, -1, -1,  1,  1,  1, -1, -1,  1, -1,  1,\n",
       "         1,  1,  1,  1,  1, -1,  1, -1, -1,  1, -1,  1,  1, -1,  1, -1,  1,\n",
       "         1, -1,  1,  1,  1,  1,  1,  1, -1,  1, -1,  1, -1, -1,  1,  1,  1,\n",
       "         1, -1,  1,  1,  1,  1,  1, -1, -1,  1, -1,  1, -1, -1, -1,  1,  1,\n",
       "        -1,  1, -1,  1,  1,  1,  1,  1,  1, -1,  1, -1, -1,  1,  1,  1,  1,\n",
       "         1,  1, -1, -1,  1,  1,  1, -1, -1, -1,  1,  1,  1, -1, -1,  1,  1,\n",
       "         1,  1, -1,  1, -1,  1,  1, -1,  1,  1,  1,  1, -1,  1, -1, -1,  1,\n",
       "         1,  1, -1,  1, -1, -1,  1,  1,  1,  1, -1,  1,  1,  1, -1, -1, -1,\n",
       "        -1, -1,  1,  1,  1,  1,  1,  1,  1,  1,  1,  1,  1, -1,  1,  1,  1,\n",
       "        -1,  1,  1, -1, -1,  1,  1,  1,  1,  1, -1,  1,  1,  1,  1,  1, -1,\n",
       "         1,  1, -1,  1, -1,  1, -1, -1,  1,  1, -1,  1, -1,  1, -1,  1,  1,\n",
       "         1,  1, -1, -1,  1, -1,  1,  1,  1,  1, -1, -1, -1,  1, -1,  1,  1,\n",
       "        -1, -1, -1,  1,  1,  1,  1, -1, -1, -1,  1,  1,  1,  1, -1,  1, -1,\n",
       "        -1, -1,  1, -1,  1, -1,  1, -1, -1,  1,  1,  1, -1,  1,  1,  1,  1,\n",
       "        -1,  1, -1, -1, -1,  1, -1,  1, -1, -1,  1,  1, -1,  1, -1,  1,  1,\n",
       "        -1, -1,  1,  1, -1,  1, -1,  1,  1,  1,  1, -1,  1,  1,  1,  1, -1,\n",
       "         1, -1,  1,  1,  1,  1, -1,  1,  1, -1, -1, -1, -1,  1, -1,  1,  1,\n",
       "         1,  1,  1,  1, -1,  1, -1, -1,  1,  1,  1, -1,  1, -1,  1, -1, -1,\n",
       "        -1,  1, -1,  1,  1, -1,  1,  1, -1,  1, -1,  1, -1,  1, -1,  1,  1,\n",
       "         1,  1, -1,  1,  1, -1, -1, -1,  1,  1, -1, -1, -1,  1,  1, -1, -1,\n",
       "        -1, -1,  1,  1,  1,  1,  1,  1, -1,  1, -1, -1,  1]),\n",
       " array([ 1,  1, -1,  1, -1,  1,  1,  1, -1,  1, -1,  1, -1,  1,  1, -1,  1,\n",
       "         1,  1,  1,  1, -1,  1,  1,  1,  1,  1,  1,  1, -1,  1,  1,  1, -1,\n",
       "         1,  1,  1, -1,  1,  1,  1, -1,  1,  1,  1,  1,  1,  1,  1,  1, -1,\n",
       "        -1,  1,  1,  1,  1,  1, -1,  1, -1,  1,  1,  1,  1,  1, -1,  1,  1,\n",
       "         1, -1,  1, -1,  1,  1,  1, -1,  1, -1,  1,  1, -1,  1,  1,  1, -1,\n",
       "        -1, -1, -1,  1,  1,  1, -1,  1,  1, -1,  1,  1,  1,  1,  1,  1,  1,\n",
       "         1,  1,  1,  1,  1,  1,  1, -1, -1,  1,  1,  1, -1, -1,  1, -1,  1,\n",
       "         1,  1,  1,  1,  1, -1,  1, -1, -1,  1, -1,  1,  1, -1,  1, -1,  1,\n",
       "         1, -1,  1,  1,  1,  1,  1,  1, -1,  1, -1,  1, -1, -1,  1,  1,  1,\n",
       "         1,  1,  1,  1,  1,  1,  1, -1, -1,  1, -1,  1, -1, -1, -1,  1,  1,\n",
       "        -1,  1, -1,  1,  1,  1,  1,  1,  1, -1,  1, -1, -1,  1,  1,  1,  1,\n",
       "         1,  1, -1, -1,  1,  1,  1, -1, -1, -1,  1,  1,  1, -1, -1,  1,  1,\n",
       "         1,  1, -1,  1, -1,  1,  1, -1,  1,  1,  1,  1, -1,  1, -1, -1,  1,\n",
       "         1,  1, -1,  1, -1, -1,  1,  1,  1,  1, -1,  1,  1,  1, -1, -1, -1,\n",
       "        -1, -1,  1,  1,  1,  1,  1,  1,  1,  1,  1,  1,  1, -1,  1,  1,  1,\n",
       "        -1,  1,  1, -1, -1,  1,  1,  1,  1,  1, -1,  1,  1,  1,  1,  1, -1,\n",
       "         1,  1, -1,  1, -1,  1, -1, -1,  1,  1, -1,  1, -1,  1, -1,  1,  1,\n",
       "         1, -1, -1, -1,  1, -1,  1,  1,  1,  1, -1, -1, -1,  1, -1,  1,  1,\n",
       "        -1, -1, -1,  1,  1,  1,  1, -1, -1, -1,  1,  1,  1,  1, -1,  1, -1,\n",
       "        -1, -1,  1, -1,  1, -1,  1, -1, -1,  1,  1,  1, -1,  1,  1,  1,  1,\n",
       "        -1,  1, -1, -1, -1,  1, -1,  1, -1, -1,  1,  1, -1,  1, -1,  1,  1,\n",
       "        -1, -1,  1,  1, -1,  1, -1,  1,  1,  1,  1, -1,  1,  1,  1,  1, -1,\n",
       "         1, -1,  1,  1,  1,  1, -1,  1,  1, -1, -1, -1, -1,  1, -1,  1,  1,\n",
       "         1,  1,  1,  1, -1,  1, -1, -1,  1,  1,  1, -1,  1, -1,  1, -1, -1,\n",
       "        -1,  1, -1,  1,  1, -1,  1,  1, -1,  1, -1,  1, -1,  1, -1,  1,  1,\n",
       "         1,  1, -1,  1,  1, -1, -1, -1,  1,  1, -1, -1, -1,  1,  1, -1, -1,\n",
       "        -1, -1,  1,  1,  1,  1,  1,  1, -1, -1, -1, -1,  1]),\n",
       " array([ 1,  1, -1,  1, -1,  1,  1,  1, -1,  1, -1,  1, -1,  1,  1, -1,  1,\n",
       "         1,  1,  1,  1, -1,  1,  1,  1,  1,  1,  1,  1, -1,  1,  1,  1, -1,\n",
       "         1,  1,  1, -1,  1,  1,  1, -1,  1,  1,  1,  1,  1,  1,  1,  1, -1,\n",
       "        -1,  1,  1,  1,  1,  1, -1,  1, -1,  1,  1,  1,  1,  1, -1,  1,  1,\n",
       "         1, -1,  1, -1,  1,  1,  1, -1,  1, -1,  1,  1, -1,  1,  1,  1, -1,\n",
       "        -1, -1, -1,  1,  1,  1, -1,  1,  1, -1,  1,  1,  1,  1,  1,  1,  1,\n",
       "         1,  1,  1,  1,  1,  1,  1, -1, -1,  1,  1,  1, -1, -1,  1, -1,  1,\n",
       "         1,  1,  1,  1,  1, -1,  1, -1, -1,  1, -1,  1,  1, -1,  1, -1,  1,\n",
       "         1, -1,  1,  1,  1,  1,  1,  1, -1,  1, -1,  1, -1, -1,  1,  1,  1,\n",
       "         1, -1,  1,  1,  1,  1,  1, -1, -1,  1, -1,  1, -1, -1, -1,  1,  1,\n",
       "        -1,  1, -1,  1,  1,  1,  1,  1,  1, -1,  1, -1, -1,  1,  1,  1,  1,\n",
       "         1,  1, -1, -1,  1,  1,  1, -1, -1, -1,  1,  1,  1, -1, -1,  1,  1,\n",
       "         1,  1, -1,  1, -1,  1,  1, -1,  1,  1,  1,  1, -1,  1, -1, -1,  1,\n",
       "         1,  1, -1,  1, -1, -1,  1,  1,  1,  1, -1,  1,  1,  1, -1, -1, -1,\n",
       "        -1, -1,  1,  1,  1,  1,  1,  1,  1,  1,  1,  1,  1, -1,  1,  1,  1,\n",
       "        -1,  1,  1, -1, -1,  1,  1,  1,  1,  1, -1,  1,  1,  1,  1,  1, -1,\n",
       "         1,  1, -1,  1, -1,  1, -1, -1,  1,  1, -1,  1, -1,  1, -1,  1,  1,\n",
       "         1, -1, -1, -1,  1, -1,  1,  1,  1,  1, -1, -1, -1,  1, -1,  1,  1,\n",
       "        -1, -1, -1,  1,  1,  1,  1, -1, -1, -1,  1,  1,  1,  1, -1,  1, -1,\n",
       "        -1, -1,  1, -1,  1, -1,  1, -1, -1,  1,  1,  1, -1,  1,  1,  1,  1,\n",
       "        -1,  1, -1, -1, -1,  1, -1,  1, -1, -1,  1,  1, -1,  1, -1,  1,  1,\n",
       "        -1, -1,  1,  1, -1,  1, -1,  1,  1,  1,  1, -1,  1,  1,  1,  1, -1,\n",
       "         1, -1,  1,  1,  1,  1, -1,  1,  1, -1, -1, -1, -1,  1, -1,  1,  1,\n",
       "         1,  1,  1,  1, -1,  1, -1, -1,  1,  1,  1, -1,  1, -1,  1, -1, -1,\n",
       "        -1,  1, -1,  1,  1, -1,  1,  1, -1,  1, -1,  1, -1,  1, -1,  1,  1,\n",
       "         1,  1, -1,  1,  1, -1, -1, -1,  1,  1, -1, -1, -1,  1,  1, -1, -1,\n",
       "        -1, -1,  1,  1,  1,  1,  1,  1, -1,  1, -1, -1,  1]),\n",
       " array([ 1,  1, -1,  1, -1,  1,  1,  1, -1,  1, -1,  1, -1,  1,  1, -1,  1,\n",
       "         1,  1,  1,  1, -1,  1,  1,  1,  1,  1,  1,  1, -1,  1,  1,  1, -1,\n",
       "         1,  1,  1, -1,  1,  1,  1, -1,  1,  1,  1,  1,  1,  1,  1,  1, -1,\n",
       "        -1,  1,  1,  1,  1,  1, -1,  1, -1,  1,  1,  1,  1,  1, -1,  1,  1,\n",
       "         1, -1,  1, -1,  1,  1,  1, -1,  1, -1,  1,  1, -1,  1,  1,  1, -1,\n",
       "        -1, -1, -1,  1,  1,  1, -1,  1,  1, -1,  1,  1,  1,  1,  1,  1,  1,\n",
       "         1,  1,  1,  1,  1,  1,  1, -1, -1,  1,  1,  1, -1, -1,  1, -1,  1,\n",
       "         1,  1,  1,  1,  1, -1,  1, -1, -1,  1, -1,  1,  1, -1,  1, -1,  1,\n",
       "         1, -1,  1,  1,  1,  1,  1,  1, -1,  1, -1,  1, -1, -1,  1,  1,  1,\n",
       "         1, -1,  1,  1,  1,  1,  1, -1, -1,  1, -1,  1, -1, -1, -1,  1,  1,\n",
       "        -1,  1, -1,  1,  1,  1,  1,  1,  1, -1,  1, -1, -1,  1,  1,  1,  1,\n",
       "         1,  1, -1, -1,  1,  1,  1, -1, -1, -1,  1,  1,  1, -1, -1,  1,  1,\n",
       "         1,  1, -1,  1, -1,  1,  1, -1,  1,  1,  1,  1, -1,  1, -1, -1,  1,\n",
       "         1,  1, -1,  1, -1, -1,  1,  1,  1,  1, -1,  1,  1,  1, -1, -1, -1,\n",
       "        -1, -1,  1,  1,  1,  1,  1,  1,  1,  1,  1,  1,  1, -1,  1,  1,  1,\n",
       "        -1,  1,  1, -1, -1,  1,  1,  1,  1,  1, -1,  1,  1,  1,  1,  1, -1,\n",
       "         1,  1, -1,  1, -1,  1, -1, -1,  1,  1, -1,  1, -1,  1, -1,  1,  1,\n",
       "         1, -1, -1, -1,  1, -1,  1,  1,  1,  1, -1, -1, -1,  1, -1,  1,  1,\n",
       "        -1, -1, -1,  1,  1,  1,  1, -1, -1, -1,  1,  1,  1,  1, -1,  1, -1,\n",
       "        -1, -1,  1, -1,  1, -1,  1, -1, -1,  1,  1,  1, -1,  1,  1,  1,  1,\n",
       "        -1,  1, -1, -1, -1,  1, -1,  1, -1, -1,  1,  1, -1,  1, -1,  1,  1,\n",
       "        -1, -1,  1,  1, -1,  1, -1,  1,  1,  1,  1, -1,  1,  1,  1,  1, -1,\n",
       "         1, -1,  1,  1,  1,  1, -1,  1,  1, -1, -1, -1, -1,  1, -1,  1,  1,\n",
       "         1,  1,  1,  1, -1,  1, -1, -1,  1,  1,  1, -1,  1, -1,  1, -1, -1,\n",
       "        -1,  1, -1,  1,  1, -1,  1,  1, -1,  1, -1,  1, -1,  1, -1,  1,  1,\n",
       "         1,  1, -1,  1,  1, -1, -1, -1,  1,  1, -1, -1, -1,  1,  1, -1, -1,\n",
       "        -1, -1,  1,  1,  1,  1,  1,  1, -1,  1, -1, -1,  1]),\n",
       " array([ 1,  1, -1,  1, -1,  1,  1,  1, -1,  1, -1,  1, -1,  1,  1, -1,  1,\n",
       "         1,  1,  1,  1, -1,  1,  1,  1,  1,  1,  1,  1, -1,  1,  1,  1, -1,\n",
       "         1,  1,  1, -1,  1,  1,  1, -1,  1,  1,  1,  1,  1,  1,  1,  1, -1,\n",
       "        -1,  1,  1,  1,  1,  1, -1,  1, -1,  1,  1,  1,  1,  1, -1,  1,  1,\n",
       "         1, -1,  1, -1,  1,  1,  1, -1,  1, -1,  1,  1, -1,  1,  1,  1, -1,\n",
       "        -1, -1, -1,  1,  1,  1, -1,  1,  1, -1,  1,  1,  1,  1,  1,  1,  1,\n",
       "         1,  1,  1,  1,  1,  1,  1, -1, -1,  1,  1,  1, -1, -1,  1, -1,  1,\n",
       "         1,  1,  1,  1,  1, -1,  1, -1, -1,  1, -1,  1,  1, -1,  1, -1,  1,\n",
       "         1, -1,  1,  1,  1,  1,  1,  1, -1,  1, -1,  1, -1, -1,  1,  1,  1,\n",
       "         1, -1,  1,  1,  1,  1,  1, -1, -1,  1, -1,  1, -1, -1, -1,  1,  1,\n",
       "        -1,  1, -1,  1,  1,  1,  1,  1,  1, -1,  1, -1, -1,  1,  1,  1,  1,\n",
       "         1,  1, -1, -1,  1,  1,  1, -1, -1, -1,  1,  1,  1, -1, -1,  1,  1,\n",
       "         1,  1, -1,  1, -1,  1,  1, -1,  1,  1,  1,  1, -1,  1, -1, -1,  1,\n",
       "         1,  1, -1,  1, -1, -1,  1,  1,  1,  1, -1,  1,  1,  1, -1, -1, -1,\n",
       "        -1, -1,  1,  1,  1,  1,  1,  1,  1,  1,  1,  1,  1, -1,  1,  1,  1,\n",
       "        -1,  1,  1, -1, -1,  1,  1,  1,  1,  1, -1,  1,  1,  1,  1,  1, -1,\n",
       "         1,  1, -1,  1, -1,  1, -1, -1,  1,  1, -1,  1, -1,  1, -1,  1,  1,\n",
       "         1, -1, -1, -1,  1, -1,  1,  1,  1,  1, -1, -1, -1,  1, -1,  1,  1,\n",
       "        -1, -1, -1,  1,  1,  1,  1, -1, -1, -1,  1,  1,  1,  1, -1,  1, -1,\n",
       "        -1, -1,  1, -1,  1, -1,  1, -1, -1,  1,  1,  1, -1,  1,  1,  1,  1,\n",
       "        -1,  1, -1, -1, -1,  1, -1,  1, -1, -1,  1,  1, -1,  1, -1,  1,  1,\n",
       "        -1, -1,  1,  1, -1,  1, -1,  1,  1,  1,  1, -1,  1,  1,  1,  1, -1,\n",
       "         1, -1,  1,  1,  1,  1, -1,  1,  1, -1, -1, -1, -1,  1, -1,  1,  1,\n",
       "         1,  1,  1,  1, -1,  1, -1, -1,  1,  1,  1, -1,  1, -1,  1, -1, -1,\n",
       "        -1,  1, -1,  1,  1, -1,  1,  1, -1,  1, -1,  1, -1,  1, -1,  1,  1,\n",
       "         1,  1, -1,  1,  1, -1, -1, -1,  1,  1, -1, -1, -1,  1,  1, -1, -1,\n",
       "        -1, -1,  1,  1,  1,  1,  1,  1, -1,  1, -1, -1,  1]),\n",
       " array([ 1,  1, -1,  1, -1,  1,  1,  1, -1,  1, -1,  1, -1,  1,  1, -1,  1,\n",
       "         1,  1,  1,  1, -1,  1,  1,  1,  1,  1,  1,  1, -1,  1,  1,  1, -1,\n",
       "         1,  1,  1, -1,  1,  1,  1, -1,  1,  1,  1,  1,  1,  1,  1,  1, -1,\n",
       "        -1,  1,  1,  1,  1,  1, -1,  1, -1,  1,  1,  1,  1,  1, -1,  1,  1,\n",
       "         1, -1,  1, -1,  1,  1,  1, -1,  1, -1, -1,  1, -1,  1,  1,  1, -1,\n",
       "        -1, -1, -1,  1,  1,  1, -1,  1,  1, -1,  1,  1,  1,  1,  1,  1,  1,\n",
       "         1,  1,  1,  1,  1,  1,  1, -1, -1,  1,  1,  1, -1, -1,  1, -1,  1,\n",
       "         1,  1,  1,  1,  1, -1,  1, -1, -1,  1, -1,  1,  1, -1,  1, -1,  1,\n",
       "         1, -1,  1,  1,  1,  1,  1,  1, -1,  1, -1,  1, -1, -1,  1,  1,  1,\n",
       "         1, -1,  1,  1,  1,  1,  1, -1, -1,  1, -1,  1, -1, -1, -1,  1,  1,\n",
       "        -1,  1, -1,  1,  1,  1,  1,  1,  1, -1,  1, -1, -1,  1,  1,  1,  1,\n",
       "         1,  1, -1, -1,  1,  1,  1, -1, -1, -1,  1,  1,  1, -1, -1,  1,  1,\n",
       "         1,  1, -1,  1, -1,  1,  1, -1,  1,  1,  1,  1, -1,  1, -1, -1,  1,\n",
       "         1,  1, -1,  1, -1, -1,  1,  1,  1,  1, -1,  1,  1,  1, -1, -1, -1,\n",
       "        -1, -1,  1,  1,  1,  1,  1,  1,  1,  1,  1,  1,  1, -1,  1,  1,  1,\n",
       "        -1,  1,  1, -1, -1,  1,  1,  1,  1,  1, -1,  1,  1,  1,  1,  1, -1,\n",
       "         1,  1, -1,  1, -1,  1, -1, -1,  1,  1, -1,  1, -1,  1, -1,  1,  1,\n",
       "         1, -1, -1, -1,  1, -1,  1,  1,  1,  1, -1, -1, -1,  1, -1,  1,  1,\n",
       "        -1, -1, -1,  1,  1,  1,  1, -1, -1, -1,  1,  1,  1,  1, -1,  1, -1,\n",
       "        -1, -1,  1, -1,  1, -1,  1, -1, -1,  1,  1,  1, -1,  1,  1,  1,  1,\n",
       "        -1,  1, -1, -1, -1,  1, -1,  1, -1, -1,  1,  1, -1,  1, -1,  1,  1,\n",
       "        -1, -1,  1,  1, -1,  1, -1,  1,  1,  1,  1, -1,  1,  1,  1,  1, -1,\n",
       "         1, -1,  1,  1,  1,  1, -1,  1,  1, -1, -1, -1, -1,  1, -1,  1,  1,\n",
       "         1,  1,  1,  1, -1,  1, -1, -1,  1,  1,  1, -1,  1, -1,  1, -1, -1,\n",
       "        -1,  1, -1,  1,  1, -1,  1,  1, -1,  1, -1,  1, -1,  1, -1,  1,  1,\n",
       "         1,  1, -1,  1,  1, -1, -1, -1,  1,  1, -1, -1, -1,  1,  1, -1, -1,\n",
       "        -1, -1,  1,  1,  1,  1,  1,  1, -1, -1, -1, -1,  1]),\n",
       " array([ 1,  1, -1,  1, -1,  1,  1,  1, -1,  1, -1,  1, -1,  1,  1, -1,  1,\n",
       "         1,  1,  1,  1, -1,  1,  1,  1,  1,  1,  1,  1, -1,  1,  1,  1, -1,\n",
       "         1,  1,  1, -1,  1,  1,  1, -1,  1,  1,  1,  1,  1,  1,  1,  1, -1,\n",
       "        -1,  1,  1,  1,  1,  1, -1,  1, -1,  1,  1,  1,  1,  1, -1,  1,  1,\n",
       "         1, -1,  1, -1,  1,  1,  1, -1,  1, -1,  1,  1, -1,  1,  1,  1, -1,\n",
       "        -1, -1, -1,  1,  1,  1, -1,  1,  1, -1,  1,  1,  1,  1,  1,  1,  1,\n",
       "         1,  1,  1,  1,  1,  1,  1, -1, -1,  1,  1,  1, -1, -1,  1, -1,  1,\n",
       "         1,  1,  1,  1,  1, -1,  1, -1, -1,  1, -1,  1,  1, -1,  1, -1,  1,\n",
       "         1, -1,  1,  1,  1,  1,  1,  1, -1,  1, -1,  1, -1, -1,  1,  1,  1,\n",
       "         1, -1,  1,  1,  1,  1,  1, -1, -1,  1, -1,  1, -1, -1, -1,  1,  1,\n",
       "        -1,  1, -1,  1,  1,  1,  1,  1,  1, -1,  1, -1, -1,  1,  1,  1,  1,\n",
       "         1,  1, -1, -1,  1,  1,  1, -1, -1, -1,  1,  1,  1, -1, -1,  1,  1,\n",
       "         1,  1, -1,  1, -1,  1,  1, -1,  1,  1,  1,  1, -1,  1, -1, -1,  1,\n",
       "         1,  1, -1,  1, -1, -1,  1,  1,  1,  1, -1,  1,  1,  1, -1, -1, -1,\n",
       "        -1, -1,  1,  1,  1,  1,  1,  1,  1,  1,  1,  1,  1, -1,  1,  1,  1,\n",
       "        -1,  1,  1, -1, -1,  1,  1,  1,  1,  1, -1,  1,  1,  1,  1,  1, -1,\n",
       "         1,  1, -1,  1, -1,  1, -1, -1,  1,  1, -1,  1, -1,  1, -1,  1,  1,\n",
       "         1, -1, -1, -1,  1, -1,  1,  1,  1,  1, -1, -1, -1,  1, -1,  1,  1,\n",
       "        -1, -1, -1,  1,  1,  1,  1, -1, -1, -1,  1,  1,  1,  1, -1,  1, -1,\n",
       "        -1, -1,  1, -1,  1, -1,  1, -1, -1,  1,  1,  1, -1,  1,  1,  1,  1,\n",
       "        -1,  1, -1, -1, -1,  1, -1,  1, -1, -1,  1,  1, -1,  1, -1,  1,  1,\n",
       "        -1, -1,  1,  1, -1,  1, -1,  1,  1,  1,  1, -1,  1,  1,  1,  1, -1,\n",
       "         1, -1,  1,  1,  1,  1, -1,  1,  1, -1, -1, -1, -1,  1, -1,  1,  1,\n",
       "         1,  1,  1,  1, -1,  1, -1, -1,  1,  1,  1, -1,  1, -1,  1, -1, -1,\n",
       "        -1,  1, -1,  1,  1, -1,  1,  1, -1,  1, -1,  1, -1,  1, -1,  1,  1,\n",
       "         1,  1, -1,  1,  1, -1, -1, -1,  1,  1, -1, -1, -1,  1,  1, -1, -1,\n",
       "        -1, -1,  1,  1,  1,  1,  1,  1, -1, -1, -1, -1,  1]),\n",
       " array([ 1,  1, -1,  1, -1,  1,  1,  1, -1,  1, -1,  1, -1,  1,  1, -1,  1,\n",
       "         1,  1,  1,  1, -1,  1,  1,  1,  1,  1,  1,  1, -1,  1,  1,  1, -1,\n",
       "         1,  1,  1, -1,  1,  1,  1, -1,  1,  1,  1,  1,  1,  1,  1,  1, -1,\n",
       "        -1,  1,  1,  1,  1,  1, -1,  1, -1,  1,  1,  1,  1,  1, -1,  1,  1,\n",
       "         1, -1,  1, -1,  1,  1,  1, -1,  1, -1,  1,  1, -1,  1,  1,  1, -1,\n",
       "        -1, -1, -1,  1,  1,  1, -1,  1,  1, -1,  1,  1,  1,  1,  1,  1,  1,\n",
       "         1,  1,  1,  1,  1,  1,  1, -1, -1,  1,  1,  1, -1, -1,  1, -1,  1,\n",
       "         1,  1,  1,  1,  1, -1,  1, -1, -1,  1, -1,  1,  1, -1,  1, -1,  1,\n",
       "         1, -1,  1,  1,  1,  1,  1,  1, -1,  1, -1,  1, -1, -1,  1,  1,  1,\n",
       "         1, -1,  1,  1,  1,  1,  1, -1, -1,  1, -1,  1, -1, -1, -1,  1,  1,\n",
       "        -1,  1, -1,  1,  1,  1,  1,  1,  1, -1,  1, -1, -1,  1,  1,  1,  1,\n",
       "         1,  1, -1, -1,  1,  1,  1, -1, -1, -1,  1,  1,  1, -1, -1,  1,  1,\n",
       "         1,  1, -1,  1, -1,  1,  1, -1,  1,  1,  1,  1, -1,  1, -1, -1,  1,\n",
       "         1,  1, -1,  1, -1, -1,  1,  1,  1,  1, -1,  1,  1,  1, -1, -1, -1,\n",
       "        -1, -1,  1,  1,  1,  1,  1,  1,  1,  1,  1,  1,  1, -1,  1,  1,  1,\n",
       "        -1,  1,  1, -1, -1,  1,  1,  1,  1,  1, -1,  1,  1,  1,  1,  1, -1,\n",
       "         1,  1, -1,  1, -1,  1, -1, -1,  1,  1, -1,  1, -1,  1, -1,  1,  1,\n",
       "         1, -1, -1, -1,  1, -1,  1,  1,  1,  1, -1, -1, -1,  1, -1,  1,  1,\n",
       "        -1, -1, -1,  1,  1,  1,  1, -1, -1, -1,  1,  1,  1,  1, -1,  1, -1,\n",
       "        -1, -1,  1, -1,  1, -1,  1, -1, -1,  1,  1,  1, -1,  1,  1,  1,  1,\n",
       "        -1,  1, -1, -1, -1,  1, -1,  1, -1, -1,  1,  1, -1,  1, -1,  1,  1,\n",
       "        -1, -1,  1,  1, -1,  1, -1,  1,  1,  1,  1, -1,  1,  1,  1,  1, -1,\n",
       "         1, -1,  1,  1,  1,  1, -1,  1,  1, -1, -1, -1, -1,  1, -1,  1,  1,\n",
       "         1,  1,  1,  1, -1,  1, -1, -1,  1,  1,  1, -1,  1, -1,  1, -1, -1,\n",
       "        -1,  1, -1,  1,  1, -1,  1,  1, -1,  1, -1,  1, -1,  1, -1,  1,  1,\n",
       "         1,  1, -1,  1,  1, -1, -1, -1,  1,  1, -1, -1, -1,  1,  1, -1, -1,\n",
       "        -1, -1,  1,  1,  1,  1,  1,  1, -1, -1, -1, -1,  1]),\n",
       " array([ 1,  1, -1,  1, -1,  1,  1,  1, -1,  1, -1,  1, -1,  1,  1, -1,  1,\n",
       "         1,  1,  1,  1, -1,  1,  1,  1,  1,  1,  1,  1, -1,  1,  1,  1, -1,\n",
       "         1,  1,  1, -1,  1,  1,  1, -1,  1,  1,  1,  1,  1,  1,  1,  1, -1,\n",
       "        -1,  1,  1,  1,  1,  1, -1,  1, -1,  1,  1,  1,  1,  1, -1,  1,  1,\n",
       "         1, -1,  1, -1,  1,  1,  1, -1,  1, -1,  1,  1, -1,  1,  1,  1, -1,\n",
       "        -1, -1, -1,  1,  1,  1, -1,  1,  1, -1,  1,  1,  1,  1,  1,  1,  1,\n",
       "         1,  1,  1,  1,  1,  1,  1, -1, -1,  1,  1,  1, -1, -1,  1, -1,  1,\n",
       "         1,  1,  1,  1,  1, -1,  1, -1, -1,  1, -1,  1,  1, -1,  1, -1,  1,\n",
       "         1, -1,  1,  1,  1,  1,  1,  1, -1,  1, -1,  1, -1, -1,  1,  1,  1,\n",
       "         1, -1,  1,  1,  1,  1,  1, -1, -1,  1, -1,  1, -1, -1, -1,  1,  1,\n",
       "        -1,  1, -1,  1,  1,  1,  1,  1,  1, -1,  1, -1, -1,  1,  1,  1,  1,\n",
       "         1,  1, -1, -1,  1,  1,  1, -1, -1, -1,  1,  1,  1, -1, -1,  1,  1,\n",
       "         1,  1, -1,  1, -1,  1,  1, -1,  1,  1,  1,  1, -1,  1, -1, -1,  1,\n",
       "         1,  1, -1,  1, -1, -1,  1,  1,  1,  1, -1,  1,  1,  1, -1, -1, -1,\n",
       "        -1, -1,  1,  1,  1,  1,  1,  1,  1,  1,  1,  1,  1, -1,  1,  1,  1,\n",
       "        -1,  1,  1, -1, -1,  1,  1,  1,  1,  1, -1,  1,  1,  1,  1,  1, -1,\n",
       "         1,  1, -1,  1, -1,  1, -1, -1,  1,  1, -1,  1, -1,  1, -1,  1,  1,\n",
       "         1, -1, -1, -1,  1, -1,  1,  1,  1,  1, -1, -1, -1,  1, -1,  1,  1,\n",
       "        -1, -1, -1,  1,  1,  1,  1, -1, -1, -1,  1,  1,  1,  1, -1,  1, -1,\n",
       "        -1, -1,  1, -1,  1, -1,  1, -1, -1,  1,  1,  1, -1,  1,  1,  1,  1,\n",
       "        -1,  1, -1, -1, -1,  1, -1,  1, -1, -1,  1,  1, -1,  1, -1,  1,  1,\n",
       "        -1, -1,  1,  1, -1,  1, -1,  1,  1,  1,  1, -1,  1,  1,  1,  1, -1,\n",
       "         1, -1,  1,  1,  1,  1, -1,  1,  1, -1, -1, -1, -1,  1, -1,  1,  1,\n",
       "         1,  1,  1,  1, -1,  1, -1, -1,  1,  1,  1, -1,  1, -1,  1, -1, -1,\n",
       "        -1,  1, -1,  1,  1, -1,  1,  1, -1,  1, -1,  1, -1,  1, -1,  1,  1,\n",
       "         1,  1, -1,  1,  1, -1, -1, -1,  1,  1, -1, -1, -1,  1,  1, -1, -1,\n",
       "        -1, -1,  1,  1,  1,  1,  1,  1, -1, -1, -1, -1,  1]),\n",
       " array([ 1,  1, -1,  1, -1,  1,  1,  1, -1,  1, -1,  1, -1,  1,  1, -1,  1,\n",
       "         1,  1,  1,  1, -1,  1,  1,  1,  1,  1,  1,  1, -1,  1,  1,  1, -1,\n",
       "         1,  1,  1, -1,  1,  1,  1, -1,  1,  1,  1,  1,  1,  1,  1,  1, -1,\n",
       "        -1,  1,  1,  1,  1,  1, -1,  1, -1,  1,  1,  1,  1,  1, -1,  1,  1,\n",
       "         1, -1,  1, -1,  1,  1,  1, -1,  1, -1,  1,  1, -1,  1,  1,  1, -1,\n",
       "        -1, -1, -1,  1,  1,  1, -1,  1,  1, -1,  1,  1,  1,  1,  1,  1,  1,\n",
       "         1,  1,  1,  1,  1,  1,  1, -1, -1,  1,  1,  1, -1, -1,  1, -1,  1,\n",
       "         1,  1,  1,  1,  1, -1,  1, -1, -1,  1, -1,  1,  1, -1,  1, -1,  1,\n",
       "         1, -1,  1,  1,  1,  1,  1,  1, -1,  1, -1,  1, -1, -1,  1,  1,  1,\n",
       "         1, -1,  1,  1,  1,  1,  1, -1, -1,  1, -1,  1, -1, -1, -1,  1,  1,\n",
       "        -1,  1, -1,  1,  1,  1,  1,  1,  1, -1,  1, -1, -1,  1,  1,  1,  1,\n",
       "         1,  1, -1, -1,  1,  1,  1, -1, -1, -1,  1,  1,  1, -1, -1,  1,  1,\n",
       "         1,  1, -1,  1, -1,  1,  1, -1,  1,  1,  1,  1, -1,  1, -1, -1,  1,\n",
       "         1,  1, -1,  1, -1, -1,  1,  1,  1,  1, -1,  1,  1,  1, -1, -1, -1,\n",
       "        -1, -1,  1,  1,  1,  1,  1,  1,  1,  1,  1,  1,  1, -1,  1,  1,  1,\n",
       "        -1,  1,  1, -1, -1,  1,  1,  1,  1,  1, -1,  1,  1,  1,  1,  1, -1,\n",
       "         1,  1, -1,  1, -1,  1, -1, -1,  1,  1, -1,  1, -1,  1, -1,  1,  1,\n",
       "         1, -1, -1, -1,  1, -1,  1,  1,  1,  1, -1, -1, -1,  1, -1,  1,  1,\n",
       "        -1, -1, -1,  1,  1,  1,  1, -1, -1, -1,  1,  1,  1,  1, -1,  1, -1,\n",
       "        -1, -1,  1, -1,  1, -1,  1, -1, -1,  1,  1,  1, -1,  1,  1,  1,  1,\n",
       "        -1,  1, -1, -1, -1,  1, -1,  1, -1, -1,  1,  1, -1,  1, -1,  1,  1,\n",
       "        -1, -1,  1,  1, -1,  1, -1,  1,  1,  1,  1, -1,  1,  1,  1,  1, -1,\n",
       "         1, -1,  1,  1,  1,  1, -1,  1,  1, -1, -1, -1, -1,  1, -1,  1,  1,\n",
       "         1,  1,  1,  1, -1,  1, -1, -1,  1,  1,  1, -1,  1, -1,  1, -1, -1,\n",
       "        -1,  1, -1,  1,  1, -1,  1,  1, -1,  1, -1,  1, -1,  1, -1,  1,  1,\n",
       "         1,  1, -1,  1,  1, -1, -1, -1,  1,  1, -1, -1, -1,  1,  1, -1, -1,\n",
       "        -1, -1,  1,  1,  1,  1,  1,  1, -1, -1, -1, -1,  1]),\n",
       " array([ 1,  1, -1,  1, -1,  1,  1,  1, -1,  1, -1,  1, -1,  1,  1, -1,  1,\n",
       "         1,  1,  1,  1, -1,  1,  1,  1,  1,  1,  1,  1, -1,  1,  1,  1, -1,\n",
       "         1,  1,  1, -1,  1,  1,  1, -1,  1,  1,  1,  1,  1,  1,  1,  1, -1,\n",
       "        -1,  1,  1,  1,  1,  1, -1,  1, -1,  1,  1,  1,  1,  1, -1,  1,  1,\n",
       "         1, -1,  1, -1,  1,  1,  1, -1,  1, -1,  1,  1, -1,  1,  1,  1, -1,\n",
       "        -1, -1, -1,  1,  1,  1, -1,  1,  1, -1,  1,  1,  1,  1,  1,  1,  1,\n",
       "         1,  1,  1,  1,  1,  1,  1, -1, -1,  1,  1,  1, -1, -1,  1, -1,  1,\n",
       "         1,  1,  1,  1,  1, -1,  1, -1, -1,  1, -1,  1,  1, -1,  1, -1,  1,\n",
       "         1, -1,  1,  1,  1,  1,  1,  1, -1,  1, -1,  1, -1, -1,  1,  1,  1,\n",
       "         1, -1,  1,  1,  1,  1,  1, -1, -1,  1, -1,  1, -1, -1, -1,  1,  1,\n",
       "        -1,  1, -1,  1,  1,  1,  1,  1,  1, -1,  1, -1, -1,  1,  1,  1,  1,\n",
       "         1,  1, -1, -1,  1,  1,  1, -1, -1, -1,  1,  1,  1, -1, -1,  1,  1,\n",
       "         1,  1, -1,  1, -1,  1,  1, -1,  1,  1,  1,  1, -1,  1, -1, -1,  1,\n",
       "         1,  1, -1,  1, -1, -1,  1,  1,  1,  1, -1,  1,  1,  1, -1, -1, -1,\n",
       "        -1, -1,  1,  1,  1,  1,  1,  1,  1,  1,  1,  1,  1, -1,  1,  1,  1,\n",
       "        -1,  1,  1, -1, -1,  1,  1,  1,  1,  1, -1,  1,  1,  1,  1,  1, -1,\n",
       "         1,  1, -1,  1, -1,  1, -1, -1,  1,  1, -1,  1, -1,  1, -1,  1,  1,\n",
       "         1, -1, -1, -1,  1, -1,  1,  1,  1,  1, -1, -1, -1,  1, -1,  1,  1,\n",
       "        -1, -1, -1,  1,  1,  1,  1, -1, -1, -1,  1,  1,  1,  1, -1,  1, -1,\n",
       "        -1, -1,  1, -1,  1, -1,  1, -1, -1,  1,  1,  1, -1,  1,  1,  1,  1,\n",
       "        -1,  1, -1, -1, -1,  1, -1,  1, -1, -1,  1,  1, -1,  1, -1,  1,  1,\n",
       "        -1, -1,  1,  1, -1,  1, -1,  1,  1,  1,  1, -1,  1,  1,  1,  1, -1,\n",
       "         1, -1,  1,  1,  1,  1, -1,  1,  1, -1, -1, -1, -1,  1, -1,  1,  1,\n",
       "         1,  1,  1,  1, -1,  1, -1, -1,  1,  1,  1, -1,  1, -1,  1, -1, -1,\n",
       "        -1,  1, -1,  1,  1, -1,  1,  1, -1,  1, -1,  1, -1,  1, -1,  1,  1,\n",
       "         1,  1, -1,  1,  1, -1, -1, -1,  1,  1, -1, -1, -1,  1,  1, -1, -1,\n",
       "        -1, -1,  1,  1,  1,  1,  1,  1, -1, -1, -1, -1,  1]),\n",
       " array([ 1,  1, -1,  1, -1,  1,  1,  1, -1,  1, -1,  1, -1,  1,  1, -1,  1,\n",
       "         1,  1,  1,  1, -1,  1,  1,  1,  1,  1,  1,  1, -1,  1,  1,  1, -1,\n",
       "         1,  1,  1, -1,  1,  1,  1, -1,  1,  1,  1,  1,  1,  1,  1,  1, -1,\n",
       "        -1,  1,  1,  1,  1,  1, -1,  1, -1,  1,  1,  1,  1,  1, -1,  1,  1,\n",
       "         1, -1,  1, -1,  1,  1,  1, -1,  1, -1,  1,  1, -1,  1,  1,  1, -1,\n",
       "        -1, -1, -1,  1,  1,  1, -1,  1,  1, -1,  1,  1,  1,  1,  1,  1,  1,\n",
       "         1,  1,  1,  1,  1,  1,  1, -1, -1,  1,  1,  1, -1, -1,  1, -1,  1,\n",
       "         1,  1,  1,  1,  1, -1,  1, -1, -1,  1, -1,  1,  1, -1,  1, -1,  1,\n",
       "         1, -1,  1,  1,  1,  1,  1,  1, -1,  1, -1,  1, -1, -1,  1,  1,  1,\n",
       "         1, -1,  1,  1,  1,  1,  1, -1, -1,  1, -1,  1, -1, -1, -1,  1,  1,\n",
       "        -1,  1, -1,  1,  1,  1,  1,  1,  1, -1,  1, -1, -1,  1,  1,  1,  1,\n",
       "         1,  1, -1, -1,  1,  1,  1, -1, -1, -1,  1,  1,  1, -1, -1,  1,  1,\n",
       "         1,  1, -1,  1, -1,  1,  1, -1,  1,  1,  1,  1, -1,  1, -1, -1,  1,\n",
       "         1,  1, -1,  1, -1, -1,  1,  1,  1,  1, -1,  1,  1,  1, -1, -1, -1,\n",
       "        -1, -1,  1,  1,  1,  1,  1,  1,  1,  1,  1,  1,  1, -1,  1,  1,  1,\n",
       "        -1,  1,  1, -1, -1,  1,  1,  1,  1,  1, -1,  1,  1,  1,  1,  1, -1,\n",
       "         1,  1, -1,  1, -1,  1, -1, -1,  1,  1, -1,  1, -1,  1, -1,  1,  1,\n",
       "         1, -1, -1, -1,  1, -1,  1,  1,  1,  1, -1, -1, -1,  1, -1,  1,  1,\n",
       "        -1, -1, -1,  1,  1,  1,  1, -1, -1, -1,  1,  1,  1,  1, -1,  1, -1,\n",
       "        -1, -1,  1, -1,  1, -1,  1, -1, -1,  1,  1,  1, -1,  1,  1,  1,  1,\n",
       "        -1,  1, -1, -1, -1,  1, -1,  1, -1, -1,  1,  1, -1,  1, -1,  1,  1,\n",
       "        -1, -1,  1,  1, -1,  1, -1,  1,  1,  1,  1, -1,  1,  1,  1,  1, -1,\n",
       "         1, -1,  1,  1,  1,  1, -1,  1,  1, -1, -1, -1, -1,  1, -1,  1,  1,\n",
       "         1,  1,  1,  1, -1,  1, -1, -1,  1,  1,  1, -1,  1, -1,  1, -1, -1,\n",
       "        -1,  1, -1,  1,  1, -1,  1,  1, -1,  1, -1,  1, -1,  1, -1,  1,  1,\n",
       "         1,  1, -1,  1,  1, -1, -1, -1,  1,  1, -1, -1, -1,  1,  1, -1, -1,\n",
       "        -1, -1,  1,  1,  1,  1,  1,  1, -1, -1, -1, -1,  1]),\n",
       " array([ 1,  1, -1,  1, -1,  1,  1,  1, -1,  1, -1,  1, -1,  1,  1, -1,  1,\n",
       "         1,  1,  1,  1, -1,  1,  1,  1,  1,  1,  1,  1, -1,  1,  1,  1, -1,\n",
       "         1,  1,  1, -1,  1,  1,  1, -1,  1,  1,  1,  1,  1,  1,  1,  1, -1,\n",
       "        -1,  1,  1,  1,  1,  1, -1,  1, -1,  1,  1,  1,  1,  1, -1,  1,  1,\n",
       "         1, -1,  1, -1,  1,  1,  1, -1,  1, -1,  1,  1, -1,  1,  1,  1, -1,\n",
       "        -1, -1, -1,  1,  1,  1, -1,  1,  1, -1,  1,  1,  1,  1,  1,  1,  1,\n",
       "         1,  1,  1,  1,  1,  1,  1, -1, -1,  1,  1,  1, -1, -1,  1, -1,  1,\n",
       "         1,  1,  1,  1,  1, -1,  1, -1, -1,  1, -1,  1,  1, -1,  1, -1,  1,\n",
       "         1, -1,  1,  1,  1,  1,  1,  1, -1,  1, -1,  1, -1, -1,  1,  1,  1,\n",
       "         1, -1,  1,  1,  1,  1,  1, -1, -1,  1, -1,  1, -1, -1, -1,  1,  1,\n",
       "        -1,  1, -1,  1,  1,  1,  1,  1,  1, -1,  1, -1, -1,  1,  1,  1,  1,\n",
       "         1,  1, -1, -1,  1,  1,  1, -1, -1, -1,  1,  1,  1, -1, -1,  1,  1,\n",
       "         1,  1, -1,  1, -1,  1,  1, -1,  1,  1,  1,  1, -1,  1, -1, -1,  1,\n",
       "         1,  1, -1,  1, -1, -1,  1,  1,  1,  1, -1,  1,  1,  1, -1, -1, -1,\n",
       "        -1, -1,  1,  1,  1,  1,  1,  1,  1,  1,  1,  1,  1, -1,  1,  1,  1,\n",
       "        -1,  1,  1, -1, -1,  1,  1,  1,  1,  1, -1,  1,  1,  1,  1,  1, -1,\n",
       "         1,  1, -1,  1, -1,  1, -1, -1,  1,  1, -1,  1, -1,  1, -1,  1,  1,\n",
       "         1, -1, -1, -1,  1, -1,  1,  1,  1,  1, -1, -1, -1,  1, -1,  1,  1,\n",
       "        -1, -1, -1,  1,  1,  1,  1, -1, -1, -1,  1,  1,  1,  1, -1,  1, -1,\n",
       "        -1, -1,  1, -1,  1, -1,  1, -1, -1,  1,  1,  1, -1,  1,  1,  1,  1,\n",
       "        -1,  1, -1, -1, -1,  1, -1,  1, -1, -1,  1,  1, -1,  1, -1,  1,  1,\n",
       "        -1, -1,  1,  1, -1,  1, -1,  1,  1,  1,  1, -1,  1,  1,  1,  1, -1,\n",
       "         1, -1,  1,  1,  1,  1, -1,  1,  1, -1, -1, -1, -1,  1, -1,  1,  1,\n",
       "         1,  1,  1,  1, -1,  1, -1, -1,  1,  1,  1, -1,  1, -1,  1, -1, -1,\n",
       "        -1,  1, -1,  1,  1, -1,  1,  1, -1,  1, -1,  1, -1,  1, -1,  1,  1,\n",
       "         1,  1, -1,  1,  1, -1, -1, -1,  1,  1, -1, -1, -1,  1,  1, -1, -1,\n",
       "        -1, -1,  1,  1,  1,  1,  1,  1, -1, -1, -1, -1,  1]),\n",
       " array([ 1,  1, -1,  1, -1,  1,  1,  1, -1,  1, -1,  1, -1,  1,  1, -1,  1,\n",
       "         1,  1,  1,  1, -1,  1,  1,  1,  1,  1,  1,  1, -1,  1,  1,  1, -1,\n",
       "         1,  1,  1, -1,  1,  1,  1, -1,  1,  1,  1,  1,  1,  1,  1,  1, -1,\n",
       "        -1,  1,  1,  1,  1,  1, -1,  1, -1,  1,  1,  1,  1,  1, -1,  1,  1,\n",
       "         1, -1,  1, -1,  1,  1,  1, -1,  1, -1,  1,  1, -1,  1,  1,  1, -1,\n",
       "        -1, -1, -1,  1,  1,  1, -1,  1,  1, -1,  1,  1,  1,  1,  1,  1,  1,\n",
       "         1,  1,  1,  1,  1,  1,  1, -1, -1,  1,  1,  1, -1, -1,  1, -1,  1,\n",
       "         1,  1,  1,  1,  1, -1,  1, -1, -1,  1, -1,  1,  1, -1,  1, -1,  1,\n",
       "         1, -1,  1,  1,  1,  1,  1,  1, -1,  1, -1,  1, -1, -1,  1,  1,  1,\n",
       "         1, -1,  1,  1,  1,  1,  1, -1, -1,  1, -1,  1, -1, -1, -1,  1,  1,\n",
       "        -1,  1, -1,  1,  1,  1,  1,  1,  1, -1,  1, -1, -1,  1,  1,  1,  1,\n",
       "         1,  1, -1, -1,  1,  1,  1, -1, -1, -1,  1,  1,  1, -1, -1,  1,  1,\n",
       "         1,  1, -1,  1, -1,  1,  1, -1,  1,  1,  1,  1, -1,  1, -1, -1,  1,\n",
       "         1,  1, -1,  1, -1, -1,  1,  1,  1,  1, -1,  1,  1,  1, -1, -1, -1,\n",
       "        -1, -1,  1,  1,  1,  1,  1,  1,  1,  1,  1,  1,  1, -1,  1,  1,  1,\n",
       "        -1,  1,  1, -1, -1,  1,  1,  1,  1,  1, -1,  1,  1,  1,  1,  1, -1,\n",
       "         1,  1, -1,  1, -1,  1, -1, -1,  1,  1, -1,  1, -1,  1, -1,  1,  1,\n",
       "         1, -1, -1, -1,  1, -1,  1,  1,  1,  1, -1, -1, -1,  1, -1,  1,  1,\n",
       "        -1, -1, -1,  1,  1,  1,  1, -1, -1, -1,  1,  1,  1,  1, -1,  1, -1,\n",
       "        -1, -1,  1, -1,  1, -1,  1, -1, -1,  1,  1,  1, -1,  1,  1,  1,  1,\n",
       "        -1,  1, -1, -1, -1,  1, -1,  1, -1, -1,  1,  1, -1,  1, -1,  1,  1,\n",
       "        -1, -1,  1,  1, -1,  1, -1,  1,  1,  1,  1, -1,  1,  1,  1,  1, -1,\n",
       "         1, -1,  1,  1,  1,  1, -1,  1,  1, -1, -1, -1, -1,  1, -1,  1,  1,\n",
       "         1,  1,  1,  1, -1,  1, -1, -1,  1,  1,  1, -1,  1, -1,  1, -1, -1,\n",
       "        -1,  1, -1,  1,  1, -1,  1,  1, -1,  1, -1,  1, -1,  1, -1,  1,  1,\n",
       "         1,  1, -1,  1,  1, -1, -1, -1,  1,  1, -1, -1, -1,  1,  1, -1, -1,\n",
       "        -1, -1,  1,  1,  1,  1,  1,  1, -1, -1, -1, -1,  1]),\n",
       " array([ 1,  1, -1,  1, -1,  1,  1,  1, -1,  1, -1,  1, -1,  1,  1, -1,  1,\n",
       "         1,  1,  1,  1, -1,  1,  1,  1,  1,  1,  1,  1, -1,  1,  1,  1, -1,\n",
       "         1,  1,  1, -1,  1,  1,  1, -1,  1,  1,  1,  1,  1,  1,  1,  1, -1,\n",
       "        -1,  1,  1,  1,  1,  1, -1,  1, -1,  1,  1,  1,  1,  1, -1,  1,  1,\n",
       "         1, -1,  1, -1,  1,  1,  1, -1,  1, -1,  1,  1, -1,  1,  1,  1, -1,\n",
       "        -1, -1, -1,  1,  1,  1, -1,  1,  1, -1,  1,  1,  1,  1,  1,  1,  1,\n",
       "         1,  1,  1,  1,  1,  1,  1, -1, -1,  1,  1,  1, -1, -1,  1, -1,  1,\n",
       "         1,  1,  1,  1,  1, -1,  1, -1, -1,  1, -1,  1,  1, -1,  1, -1,  1,\n",
       "         1, -1,  1,  1,  1,  1,  1,  1, -1,  1, -1,  1, -1, -1,  1,  1,  1,\n",
       "         1, -1,  1,  1,  1,  1,  1, -1, -1,  1, -1,  1, -1, -1, -1,  1,  1,\n",
       "        -1,  1, -1,  1,  1,  1,  1,  1,  1, -1,  1, -1, -1,  1,  1,  1,  1,\n",
       "         1,  1, -1, -1,  1,  1,  1, -1, -1, -1,  1,  1,  1, -1, -1,  1,  1,\n",
       "         1,  1, -1,  1, -1,  1,  1, -1,  1,  1,  1,  1, -1,  1, -1, -1,  1,\n",
       "         1,  1, -1,  1, -1, -1,  1,  1,  1,  1, -1,  1,  1,  1, -1, -1, -1,\n",
       "        -1, -1,  1,  1,  1,  1,  1,  1,  1,  1,  1,  1,  1, -1,  1,  1,  1,\n",
       "        -1,  1,  1, -1, -1,  1,  1,  1,  1,  1, -1,  1,  1,  1,  1,  1, -1,\n",
       "         1,  1, -1,  1, -1,  1, -1, -1,  1,  1, -1,  1, -1,  1, -1,  1,  1,\n",
       "         1, -1, -1, -1,  1, -1,  1,  1,  1,  1, -1, -1, -1,  1, -1,  1,  1,\n",
       "        -1, -1, -1,  1,  1,  1,  1, -1, -1, -1,  1,  1,  1,  1, -1,  1, -1,\n",
       "        -1, -1,  1, -1,  1, -1,  1, -1, -1,  1,  1,  1, -1,  1,  1,  1,  1,\n",
       "        -1,  1, -1, -1, -1,  1, -1,  1, -1, -1,  1,  1, -1,  1, -1,  1,  1,\n",
       "        -1, -1,  1,  1, -1,  1, -1,  1,  1,  1,  1, -1,  1,  1,  1,  1, -1,\n",
       "         1, -1,  1,  1,  1,  1, -1,  1,  1, -1, -1, -1, -1,  1, -1,  1,  1,\n",
       "         1,  1,  1,  1, -1,  1, -1, -1,  1,  1,  1, -1,  1, -1,  1, -1, -1,\n",
       "        -1,  1, -1,  1,  1, -1,  1,  1, -1,  1, -1,  1, -1,  1, -1,  1,  1,\n",
       "         1,  1, -1,  1,  1, -1, -1, -1,  1,  1, -1, -1, -1,  1,  1, -1, -1,\n",
       "        -1, -1,  1,  1,  1,  1,  1,  1, -1, -1, -1, -1,  1]),\n",
       " array([ 1,  1, -1,  1, -1,  1,  1,  1, -1,  1, -1,  1, -1,  1,  1, -1,  1,\n",
       "         1,  1,  1,  1, -1,  1,  1,  1,  1,  1,  1,  1, -1,  1,  1,  1, -1,\n",
       "         1,  1,  1, -1,  1,  1,  1, -1,  1,  1,  1,  1,  1,  1,  1,  1, -1,\n",
       "        -1,  1,  1,  1,  1,  1, -1,  1, -1,  1,  1,  1,  1,  1, -1,  1,  1,\n",
       "         1, -1,  1, -1,  1,  1,  1, -1,  1, -1,  1,  1, -1,  1,  1,  1, -1,\n",
       "        -1, -1, -1,  1,  1,  1, -1,  1,  1, -1,  1,  1,  1,  1,  1,  1,  1,\n",
       "         1,  1,  1,  1,  1,  1,  1, -1, -1,  1,  1,  1, -1, -1,  1, -1,  1,\n",
       "         1,  1,  1,  1,  1, -1,  1, -1, -1,  1, -1,  1,  1, -1,  1, -1,  1,\n",
       "         1, -1,  1,  1,  1,  1,  1,  1, -1,  1, -1,  1, -1, -1,  1,  1,  1,\n",
       "         1, -1,  1,  1,  1,  1,  1, -1, -1,  1, -1,  1, -1, -1, -1,  1,  1,\n",
       "        -1,  1, -1,  1,  1,  1,  1,  1,  1, -1,  1, -1, -1,  1,  1,  1,  1,\n",
       "         1,  1, -1, -1,  1,  1,  1, -1, -1, -1,  1,  1,  1, -1, -1,  1,  1,\n",
       "         1,  1, -1,  1, -1,  1,  1, -1,  1,  1,  1,  1, -1,  1, -1, -1,  1,\n",
       "         1,  1, -1,  1, -1, -1,  1,  1,  1,  1, -1,  1,  1,  1, -1, -1, -1,\n",
       "        -1, -1,  1,  1,  1,  1,  1,  1,  1,  1,  1,  1,  1, -1,  1,  1,  1,\n",
       "        -1,  1,  1, -1, -1,  1,  1,  1,  1,  1, -1,  1,  1,  1,  1,  1, -1,\n",
       "         1,  1, -1,  1, -1,  1, -1, -1,  1,  1, -1,  1, -1,  1, -1,  1,  1,\n",
       "         1, -1, -1, -1,  1, -1,  1,  1,  1,  1, -1, -1, -1,  1, -1,  1,  1,\n",
       "        -1, -1, -1,  1,  1,  1,  1, -1, -1, -1,  1,  1,  1,  1, -1,  1, -1,\n",
       "        -1, -1,  1, -1,  1, -1,  1, -1, -1,  1,  1,  1, -1,  1,  1,  1,  1,\n",
       "        -1,  1, -1, -1, -1,  1, -1,  1, -1, -1,  1,  1, -1,  1, -1,  1,  1,\n",
       "        -1, -1,  1,  1, -1,  1, -1,  1,  1,  1,  1, -1,  1,  1,  1,  1, -1,\n",
       "         1, -1,  1,  1,  1,  1, -1,  1,  1, -1, -1, -1, -1,  1, -1,  1,  1,\n",
       "         1,  1,  1,  1, -1,  1, -1, -1,  1,  1,  1, -1,  1, -1,  1, -1, -1,\n",
       "        -1,  1, -1,  1,  1, -1,  1,  1, -1,  1, -1,  1, -1,  1, -1,  1,  1,\n",
       "         1,  1, -1,  1,  1, -1, -1, -1,  1,  1, -1, -1, -1,  1,  1, -1, -1,\n",
       "        -1, -1,  1,  1,  1,  1,  1,  1, -1, -1, -1, -1,  1]),\n",
       " array([ 1,  1, -1,  1, -1,  1,  1,  1, -1,  1, -1,  1, -1,  1,  1, -1,  1,\n",
       "         1,  1,  1,  1, -1,  1,  1,  1,  1,  1,  1,  1, -1,  1,  1,  1, -1,\n",
       "         1,  1,  1, -1,  1,  1,  1, -1,  1,  1,  1,  1,  1,  1,  1,  1, -1,\n",
       "        -1,  1,  1,  1,  1,  1, -1,  1, -1,  1,  1,  1,  1,  1, -1,  1,  1,\n",
       "         1, -1,  1, -1,  1,  1,  1, -1,  1, -1,  1,  1, -1,  1,  1,  1, -1,\n",
       "        -1, -1, -1,  1,  1,  1, -1,  1,  1, -1,  1,  1,  1,  1,  1,  1,  1,\n",
       "         1,  1,  1,  1,  1,  1,  1, -1, -1,  1,  1,  1, -1, -1,  1, -1,  1,\n",
       "         1,  1,  1,  1,  1, -1,  1, -1, -1,  1, -1,  1,  1, -1,  1, -1,  1,\n",
       "         1, -1,  1,  1,  1,  1,  1,  1, -1,  1, -1,  1, -1, -1,  1,  1,  1,\n",
       "         1, -1,  1,  1,  1,  1,  1, -1, -1,  1, -1,  1, -1, -1, -1,  1,  1,\n",
       "        -1,  1, -1,  1,  1,  1,  1,  1,  1, -1,  1, -1, -1,  1,  1,  1,  1,\n",
       "         1,  1, -1, -1,  1,  1,  1, -1, -1, -1,  1,  1,  1, -1, -1,  1,  1,\n",
       "         1,  1, -1,  1, -1,  1,  1, -1,  1,  1,  1,  1, -1,  1, -1, -1,  1,\n",
       "         1,  1, -1,  1, -1, -1,  1,  1,  1,  1, -1,  1,  1,  1, -1, -1, -1,\n",
       "        -1, -1,  1,  1,  1,  1,  1,  1,  1,  1,  1,  1,  1, -1,  1,  1,  1,\n",
       "        -1,  1,  1, -1, -1,  1,  1,  1,  1,  1, -1,  1,  1,  1,  1,  1, -1,\n",
       "         1,  1, -1,  1, -1,  1, -1, -1,  1,  1, -1,  1, -1,  1, -1,  1,  1,\n",
       "         1, -1, -1, -1,  1, -1,  1,  1,  1,  1, -1, -1, -1,  1, -1,  1,  1,\n",
       "        -1, -1, -1,  1,  1,  1,  1, -1, -1, -1,  1,  1,  1,  1, -1,  1, -1,\n",
       "        -1, -1,  1, -1,  1, -1,  1, -1, -1,  1,  1,  1, -1,  1,  1,  1,  1,\n",
       "        -1,  1, -1, -1, -1,  1, -1,  1, -1, -1,  1,  1, -1,  1, -1,  1,  1,\n",
       "        -1, -1,  1,  1, -1,  1, -1,  1,  1,  1,  1, -1,  1,  1,  1,  1, -1,\n",
       "         1, -1,  1,  1,  1,  1, -1,  1,  1, -1, -1, -1, -1,  1, -1,  1,  1,\n",
       "         1,  1,  1,  1, -1,  1, -1, -1,  1,  1,  1, -1,  1, -1,  1, -1, -1,\n",
       "        -1,  1, -1,  1,  1, -1,  1,  1, -1,  1, -1,  1, -1,  1, -1,  1,  1,\n",
       "         1,  1, -1,  1,  1, -1, -1, -1,  1,  1, -1, -1, -1,  1,  1, -1, -1,\n",
       "        -1, -1,  1,  1,  1,  1,  1,  1, -1, -1, -1, -1,  1]),\n",
       " array([ 1,  1, -1,  1, -1,  1,  1,  1, -1,  1, -1,  1, -1,  1,  1, -1,  1,\n",
       "         1,  1,  1,  1, -1,  1,  1,  1,  1,  1,  1,  1, -1,  1,  1,  1, -1,\n",
       "         1,  1,  1, -1,  1,  1,  1, -1,  1,  1,  1,  1,  1,  1,  1,  1, -1,\n",
       "        -1,  1,  1,  1,  1,  1, -1,  1, -1,  1,  1,  1,  1,  1, -1,  1,  1,\n",
       "         1, -1,  1, -1,  1,  1,  1, -1,  1, -1,  1,  1, -1,  1,  1,  1, -1,\n",
       "        -1, -1, -1,  1,  1,  1, -1,  1,  1, -1,  1,  1,  1,  1,  1,  1,  1,\n",
       "         1,  1,  1,  1,  1,  1,  1, -1, -1,  1,  1,  1, -1, -1,  1, -1,  1,\n",
       "         1,  1,  1,  1,  1, -1,  1, -1, -1,  1, -1,  1,  1, -1,  1, -1,  1,\n",
       "         1, -1,  1,  1,  1,  1,  1,  1, -1,  1, -1,  1, -1, -1,  1,  1,  1,\n",
       "         1, -1,  1,  1,  1,  1,  1, -1, -1,  1, -1,  1, -1, -1, -1,  1,  1,\n",
       "        -1,  1, -1,  1,  1,  1,  1,  1,  1, -1,  1, -1, -1,  1,  1,  1,  1,\n",
       "         1,  1, -1, -1,  1,  1,  1, -1, -1, -1,  1,  1,  1, -1, -1,  1,  1,\n",
       "         1,  1, -1,  1, -1,  1,  1, -1,  1,  1,  1,  1, -1,  1, -1, -1,  1,\n",
       "         1,  1, -1,  1, -1, -1,  1,  1,  1,  1, -1,  1,  1,  1, -1, -1, -1,\n",
       "        -1, -1,  1,  1,  1,  1,  1,  1,  1,  1,  1,  1,  1, -1,  1,  1,  1,\n",
       "        -1,  1,  1, -1, -1,  1,  1,  1,  1,  1, -1,  1,  1,  1,  1,  1, -1,\n",
       "         1,  1, -1,  1, -1,  1, -1, -1,  1,  1, -1,  1, -1,  1, -1,  1,  1,\n",
       "         1, -1, -1, -1,  1, -1,  1,  1,  1,  1, -1, -1, -1,  1, -1,  1,  1,\n",
       "        -1, -1, -1,  1,  1,  1,  1, -1, -1, -1,  1,  1,  1,  1, -1,  1, -1,\n",
       "        -1, -1,  1, -1,  1, -1,  1, -1, -1,  1,  1,  1, -1,  1,  1,  1,  1,\n",
       "        -1,  1, -1, -1, -1,  1, -1,  1, -1, -1,  1,  1, -1,  1, -1,  1,  1,\n",
       "        -1, -1,  1,  1, -1,  1, -1,  1,  1,  1,  1, -1,  1,  1,  1,  1, -1,\n",
       "         1, -1,  1,  1,  1,  1, -1,  1,  1, -1, -1, -1, -1,  1, -1,  1,  1,\n",
       "         1,  1,  1,  1, -1,  1, -1, -1,  1,  1,  1, -1,  1, -1,  1, -1, -1,\n",
       "        -1,  1, -1,  1,  1, -1,  1,  1, -1,  1, -1,  1, -1,  1, -1,  1,  1,\n",
       "         1,  1, -1,  1,  1, -1, -1, -1,  1,  1, -1, -1, -1,  1,  1, -1, -1,\n",
       "        -1, -1,  1,  1,  1,  1,  1,  1, -1, -1, -1, -1,  1]),\n",
       " array([ 1,  1, -1,  1, -1,  1,  1,  1, -1,  1, -1,  1, -1,  1,  1, -1,  1,\n",
       "         1,  1,  1,  1, -1,  1,  1,  1,  1,  1,  1,  1, -1,  1,  1,  1, -1,\n",
       "         1,  1,  1, -1,  1,  1,  1, -1,  1,  1,  1,  1,  1,  1,  1,  1, -1,\n",
       "        -1,  1,  1,  1,  1,  1, -1,  1, -1,  1,  1,  1,  1,  1, -1,  1,  1,\n",
       "         1, -1,  1, -1,  1,  1,  1, -1,  1, -1,  1,  1, -1,  1,  1,  1, -1,\n",
       "        -1, -1, -1,  1,  1,  1, -1,  1,  1, -1,  1,  1,  1,  1,  1,  1,  1,\n",
       "         1,  1,  1,  1,  1,  1,  1, -1, -1,  1,  1,  1, -1, -1,  1, -1,  1,\n",
       "         1,  1,  1,  1,  1, -1,  1, -1, -1,  1, -1,  1,  1, -1,  1, -1,  1,\n",
       "         1, -1,  1,  1,  1,  1,  1,  1, -1,  1, -1,  1, -1, -1,  1,  1,  1,\n",
       "         1, -1,  1,  1,  1,  1,  1, -1, -1,  1, -1,  1, -1, -1, -1,  1,  1,\n",
       "        -1,  1, -1,  1,  1,  1,  1,  1,  1, -1,  1, -1, -1,  1,  1,  1,  1,\n",
       "         1,  1, -1, -1,  1,  1,  1, -1, -1, -1,  1,  1,  1, -1, -1,  1,  1,\n",
       "         1,  1, -1,  1, -1,  1,  1, -1,  1,  1,  1,  1, -1,  1, -1, -1,  1,\n",
       "         1,  1, -1,  1, -1, -1,  1,  1,  1,  1, -1,  1,  1,  1, -1, -1, -1,\n",
       "        -1, -1,  1,  1,  1,  1,  1,  1,  1,  1,  1,  1,  1, -1,  1,  1,  1,\n",
       "        -1,  1,  1, -1, -1,  1,  1,  1,  1,  1, -1,  1,  1,  1,  1,  1, -1,\n",
       "         1,  1, -1,  1, -1,  1, -1, -1,  1,  1, -1,  1, -1,  1, -1,  1,  1,\n",
       "         1, -1, -1, -1,  1, -1,  1,  1,  1,  1, -1, -1, -1,  1, -1,  1,  1,\n",
       "        -1, -1, -1,  1,  1,  1,  1, -1, -1, -1,  1,  1,  1,  1, -1,  1, -1,\n",
       "        -1, -1,  1, -1,  1, -1,  1, -1, -1,  1,  1,  1, -1,  1,  1,  1,  1,\n",
       "        -1,  1, -1, -1, -1,  1, -1,  1, -1, -1,  1,  1, -1,  1, -1,  1,  1,\n",
       "        -1, -1,  1,  1, -1,  1, -1,  1,  1,  1,  1, -1,  1,  1,  1,  1, -1,\n",
       "         1, -1,  1,  1,  1,  1, -1,  1,  1, -1, -1, -1, -1,  1, -1,  1,  1,\n",
       "         1,  1,  1,  1, -1,  1, -1, -1,  1,  1,  1, -1,  1, -1,  1, -1, -1,\n",
       "        -1,  1, -1,  1,  1, -1,  1,  1, -1,  1, -1,  1, -1,  1, -1,  1,  1,\n",
       "         1,  1, -1,  1,  1, -1, -1, -1,  1,  1, -1, -1, -1,  1,  1, -1, -1,\n",
       "        -1, -1,  1,  1,  1,  1,  1,  1, -1, -1, -1, -1,  1]),\n",
       " array([ 1,  1, -1,  1, -1,  1,  1,  1, -1,  1, -1,  1, -1,  1,  1, -1,  1,\n",
       "         1,  1,  1,  1, -1,  1,  1,  1,  1,  1,  1,  1, -1,  1,  1,  1, -1,\n",
       "         1,  1,  1, -1,  1,  1,  1, -1,  1,  1,  1,  1,  1,  1,  1,  1, -1,\n",
       "        -1,  1,  1,  1,  1,  1, -1,  1, -1,  1,  1,  1,  1,  1, -1,  1,  1,\n",
       "         1, -1,  1, -1,  1,  1,  1, -1,  1, -1,  1,  1, -1,  1,  1,  1, -1,\n",
       "        -1, -1, -1,  1,  1,  1, -1,  1,  1, -1,  1,  1,  1,  1,  1,  1,  1,\n",
       "         1,  1,  1,  1,  1,  1,  1, -1, -1,  1,  1,  1, -1, -1,  1, -1,  1,\n",
       "         1,  1,  1,  1,  1, -1,  1, -1, -1,  1, -1,  1,  1, -1,  1, -1,  1,\n",
       "         1, -1,  1,  1,  1,  1,  1,  1, -1,  1, -1,  1, -1, -1,  1,  1,  1,\n",
       "         1, -1,  1,  1,  1,  1,  1, -1, -1,  1, -1,  1, -1, -1, -1,  1,  1,\n",
       "        -1,  1, -1,  1,  1,  1,  1,  1,  1, -1,  1, -1, -1,  1,  1,  1,  1,\n",
       "         1,  1, -1, -1,  1,  1,  1, -1, -1, -1,  1,  1,  1, -1, -1,  1,  1,\n",
       "         1,  1, -1,  1, -1,  1,  1, -1,  1,  1,  1,  1, -1,  1, -1, -1,  1,\n",
       "         1,  1, -1,  1, -1, -1,  1,  1,  1,  1, -1,  1,  1,  1, -1, -1, -1,\n",
       "        -1, -1,  1,  1,  1,  1,  1,  1,  1,  1,  1,  1,  1, -1,  1,  1,  1,\n",
       "        -1,  1,  1, -1, -1,  1,  1,  1,  1,  1, -1,  1,  1,  1,  1,  1, -1,\n",
       "         1,  1, -1,  1, -1,  1, -1, -1,  1,  1, -1,  1, -1,  1, -1,  1,  1,\n",
       "         1, -1, -1, -1,  1, -1,  1,  1,  1,  1, -1, -1, -1,  1, -1,  1,  1,\n",
       "        -1, -1, -1,  1,  1,  1,  1, -1, -1, -1,  1,  1,  1,  1, -1,  1, -1,\n",
       "        -1, -1,  1, -1,  1, -1,  1, -1, -1,  1,  1,  1, -1,  1,  1,  1,  1,\n",
       "        -1,  1, -1, -1, -1,  1, -1,  1, -1, -1,  1,  1, -1,  1, -1,  1,  1,\n",
       "        -1, -1,  1,  1, -1,  1, -1,  1,  1,  1,  1, -1,  1,  1,  1,  1, -1,\n",
       "         1, -1,  1,  1,  1,  1, -1,  1,  1, -1, -1, -1, -1,  1, -1,  1,  1,\n",
       "         1,  1,  1,  1, -1,  1, -1, -1,  1,  1,  1, -1,  1, -1,  1, -1, -1,\n",
       "        -1,  1, -1,  1,  1, -1,  1,  1, -1,  1, -1,  1, -1,  1, -1,  1,  1,\n",
       "         1,  1, -1,  1,  1, -1, -1, -1,  1,  1, -1, -1, -1,  1,  1, -1, -1,\n",
       "        -1, -1,  1,  1,  1,  1,  1,  1, -1, -1, -1, -1,  1]),\n",
       " array([ 1,  1, -1,  1, -1,  1,  1,  1, -1,  1, -1,  1, -1,  1,  1, -1,  1,\n",
       "         1,  1,  1,  1, -1,  1,  1,  1,  1,  1,  1,  1, -1,  1,  1,  1, -1,\n",
       "         1,  1,  1, -1,  1,  1,  1, -1,  1,  1,  1,  1,  1,  1,  1,  1, -1,\n",
       "        -1,  1,  1,  1,  1,  1, -1,  1, -1,  1,  1,  1,  1,  1, -1,  1,  1,\n",
       "         1, -1,  1, -1,  1,  1,  1, -1,  1, -1,  1,  1, -1,  1,  1,  1, -1,\n",
       "        -1, -1, -1,  1,  1,  1, -1,  1,  1, -1,  1,  1,  1,  1,  1,  1,  1,\n",
       "         1,  1,  1,  1,  1,  1,  1, -1, -1,  1,  1,  1, -1, -1,  1, -1,  1,\n",
       "         1,  1,  1,  1,  1, -1,  1, -1, -1,  1, -1,  1,  1, -1,  1, -1,  1,\n",
       "         1, -1,  1,  1,  1,  1,  1,  1, -1,  1, -1,  1, -1, -1,  1,  1,  1,\n",
       "         1, -1,  1,  1,  1,  1,  1, -1, -1,  1, -1,  1, -1, -1, -1,  1,  1,\n",
       "        -1,  1, -1,  1,  1,  1,  1,  1,  1, -1,  1, -1, -1,  1,  1,  1,  1,\n",
       "         1,  1, -1, -1,  1,  1,  1, -1, -1, -1,  1,  1,  1, -1, -1,  1,  1,\n",
       "         1,  1, -1,  1, -1,  1,  1, -1,  1,  1,  1,  1, -1,  1, -1, -1,  1,\n",
       "         1,  1, -1,  1, -1, -1,  1,  1,  1,  1, -1,  1,  1,  1, -1, -1, -1,\n",
       "        -1, -1,  1,  1,  1,  1,  1,  1,  1,  1,  1,  1,  1, -1,  1,  1,  1,\n",
       "        -1,  1,  1, -1, -1,  1,  1,  1,  1,  1, -1,  1,  1,  1,  1,  1, -1,\n",
       "         1,  1, -1,  1, -1,  1, -1, -1,  1,  1, -1,  1, -1,  1, -1,  1,  1,\n",
       "         1, -1, -1, -1,  1, -1,  1,  1,  1,  1, -1, -1, -1,  1, -1,  1,  1,\n",
       "        -1, -1, -1,  1,  1,  1,  1, -1, -1, -1,  1,  1,  1,  1, -1,  1, -1,\n",
       "        -1, -1,  1, -1,  1, -1,  1, -1, -1,  1,  1,  1, -1,  1,  1,  1,  1,\n",
       "        -1,  1, -1, -1, -1,  1, -1,  1, -1, -1,  1,  1, -1,  1, -1,  1,  1,\n",
       "        -1, -1,  1,  1, -1,  1, -1,  1,  1,  1,  1, -1,  1,  1,  1,  1, -1,\n",
       "         1, -1,  1,  1,  1,  1, -1,  1,  1, -1, -1, -1, -1,  1, -1,  1,  1,\n",
       "         1,  1,  1,  1, -1,  1, -1, -1,  1,  1,  1, -1,  1, -1,  1, -1, -1,\n",
       "        -1,  1, -1,  1,  1, -1,  1,  1, -1,  1, -1,  1, -1,  1, -1,  1,  1,\n",
       "         1,  1, -1,  1,  1, -1, -1, -1,  1,  1, -1, -1, -1,  1,  1, -1, -1,\n",
       "        -1, -1,  1,  1,  1,  1,  1,  1, -1, -1, -1, -1,  1]),\n",
       " array([ 1,  1, -1,  1, -1,  1,  1,  1, -1,  1, -1,  1, -1,  1,  1, -1,  1,\n",
       "         1,  1,  1,  1, -1,  1,  1,  1,  1,  1,  1,  1, -1,  1,  1,  1, -1,\n",
       "         1,  1,  1, -1,  1,  1,  1, -1,  1,  1,  1,  1,  1,  1,  1,  1, -1,\n",
       "        -1,  1,  1,  1,  1,  1, -1,  1, -1,  1,  1,  1,  1,  1, -1,  1,  1,\n",
       "         1, -1,  1, -1,  1,  1,  1, -1,  1, -1,  1,  1, -1,  1,  1,  1, -1,\n",
       "        -1, -1, -1,  1,  1,  1, -1,  1,  1, -1,  1,  1,  1,  1,  1,  1,  1,\n",
       "         1,  1,  1,  1,  1,  1,  1, -1, -1,  1,  1,  1, -1, -1,  1, -1,  1,\n",
       "         1,  1,  1,  1,  1, -1,  1, -1, -1,  1, -1,  1,  1, -1,  1, -1,  1,\n",
       "         1, -1,  1,  1,  1,  1,  1,  1, -1,  1, -1,  1, -1, -1,  1,  1,  1,\n",
       "         1, -1,  1,  1,  1,  1,  1, -1, -1,  1, -1,  1, -1, -1, -1,  1,  1,\n",
       "        -1,  1, -1,  1,  1,  1,  1,  1,  1, -1,  1, -1, -1,  1,  1,  1,  1,\n",
       "         1,  1, -1, -1,  1,  1,  1, -1, -1, -1,  1,  1,  1, -1, -1,  1,  1,\n",
       "         1,  1, -1,  1, -1,  1,  1, -1,  1,  1,  1,  1, -1,  1, -1, -1,  1,\n",
       "         1,  1, -1,  1, -1, -1,  1,  1,  1,  1, -1,  1,  1,  1, -1, -1, -1,\n",
       "        -1, -1,  1,  1,  1,  1,  1,  1,  1,  1,  1,  1,  1, -1,  1,  1,  1,\n",
       "        -1,  1,  1, -1, -1,  1,  1,  1,  1,  1, -1,  1,  1,  1,  1,  1, -1,\n",
       "         1,  1, -1,  1, -1,  1, -1, -1,  1,  1, -1,  1, -1,  1, -1,  1,  1,\n",
       "         1, -1, -1, -1,  1, -1,  1,  1,  1,  1, -1, -1, -1,  1, -1,  1,  1,\n",
       "        -1, -1, -1,  1,  1,  1,  1, -1, -1, -1,  1,  1,  1,  1, -1,  1, -1,\n",
       "        -1, -1,  1, -1,  1, -1,  1, -1, -1,  1,  1,  1, -1,  1,  1,  1,  1,\n",
       "        -1,  1, -1, -1, -1,  1, -1,  1, -1, -1,  1,  1, -1,  1, -1,  1,  1,\n",
       "        -1, -1,  1,  1, -1,  1, -1,  1,  1,  1,  1, -1,  1,  1,  1,  1, -1,\n",
       "         1, -1,  1,  1,  1,  1, -1,  1,  1, -1, -1, -1, -1,  1, -1,  1,  1,\n",
       "         1,  1,  1,  1, -1,  1, -1, -1,  1,  1,  1, -1,  1, -1,  1, -1, -1,\n",
       "        -1,  1, -1,  1,  1, -1,  1,  1, -1,  1, -1,  1, -1,  1, -1,  1,  1,\n",
       "         1,  1, -1,  1,  1, -1, -1, -1,  1,  1, -1, -1, -1,  1,  1, -1, -1,\n",
       "        -1, -1,  1,  1,  1,  1,  1,  1, -1, -1, -1, -1,  1]),\n",
       " array([ 1,  1, -1,  1, -1,  1,  1,  1, -1,  1, -1,  1, -1,  1,  1, -1,  1,\n",
       "         1,  1,  1,  1, -1,  1,  1,  1,  1,  1,  1,  1, -1,  1,  1,  1, -1,\n",
       "         1,  1,  1, -1,  1,  1,  1, -1,  1,  1,  1,  1,  1,  1,  1,  1, -1,\n",
       "        -1,  1,  1,  1,  1,  1, -1,  1, -1,  1,  1,  1,  1,  1, -1,  1,  1,\n",
       "         1, -1,  1, -1,  1,  1,  1, -1,  1, -1,  1,  1, -1,  1,  1,  1, -1,\n",
       "        -1, -1, -1,  1,  1,  1, -1,  1,  1, -1,  1,  1,  1,  1,  1,  1,  1,\n",
       "         1,  1,  1,  1,  1,  1,  1, -1, -1,  1,  1,  1, -1, -1,  1, -1,  1,\n",
       "         1,  1,  1,  1,  1, -1,  1, -1, -1,  1, -1,  1,  1, -1,  1, -1,  1,\n",
       "         1, -1,  1,  1,  1,  1,  1,  1, -1,  1, -1,  1, -1, -1,  1,  1,  1,\n",
       "         1, -1,  1,  1,  1,  1,  1, -1, -1,  1, -1,  1, -1, -1, -1,  1,  1,\n",
       "        -1,  1, -1,  1,  1,  1,  1,  1,  1, -1,  1, -1, -1,  1,  1,  1,  1,\n",
       "         1,  1, -1, -1,  1,  1,  1, -1, -1, -1,  1,  1,  1, -1, -1,  1,  1,\n",
       "         1,  1, -1,  1, -1,  1,  1, -1,  1,  1,  1,  1, -1,  1, -1, -1,  1,\n",
       "         1,  1, -1,  1, -1, -1,  1,  1,  1,  1, -1,  1,  1,  1, -1, -1, -1,\n",
       "        -1, -1,  1,  1,  1,  1,  1,  1,  1,  1,  1,  1,  1, -1,  1,  1,  1,\n",
       "        -1,  1,  1, -1, -1,  1,  1,  1,  1,  1, -1,  1,  1,  1,  1,  1, -1,\n",
       "         1,  1, -1,  1, -1,  1, -1, -1,  1,  1, -1,  1, -1,  1, -1,  1,  1,\n",
       "         1, -1, -1, -1,  1, -1,  1,  1,  1,  1, -1, -1, -1,  1, -1,  1,  1,\n",
       "        -1, -1, -1,  1,  1,  1,  1, -1, -1, -1,  1,  1,  1,  1, -1,  1, -1,\n",
       "        -1, -1,  1, -1,  1, -1,  1, -1, -1,  1,  1,  1, -1,  1,  1,  1,  1,\n",
       "        -1,  1, -1, -1, -1,  1, -1,  1, -1, -1,  1,  1, -1,  1, -1,  1,  1,\n",
       "        -1, -1,  1,  1, -1,  1, -1,  1,  1,  1,  1, -1,  1,  1,  1,  1, -1,\n",
       "         1, -1,  1,  1,  1,  1, -1,  1,  1, -1, -1, -1, -1,  1, -1,  1,  1,\n",
       "         1,  1,  1,  1, -1,  1, -1, -1,  1,  1,  1, -1,  1, -1,  1, -1, -1,\n",
       "        -1,  1, -1,  1,  1, -1,  1,  1, -1,  1, -1,  1, -1,  1, -1,  1,  1,\n",
       "         1,  1, -1,  1,  1, -1, -1, -1,  1,  1, -1, -1, -1,  1,  1, -1, -1,\n",
       "        -1, -1,  1,  1,  1,  1,  1,  1, -1, -1, -1, -1,  1]),\n",
       " array([ 1,  1, -1,  1, -1,  1,  1,  1, -1,  1, -1,  1, -1,  1,  1, -1,  1,\n",
       "         1,  1,  1,  1, -1,  1,  1,  1,  1,  1,  1,  1, -1,  1,  1,  1, -1,\n",
       "         1,  1,  1, -1,  1,  1,  1, -1,  1,  1,  1,  1,  1,  1,  1,  1, -1,\n",
       "        -1,  1,  1,  1,  1,  1, -1,  1, -1,  1,  1,  1,  1,  1, -1,  1,  1,\n",
       "         1, -1,  1, -1,  1,  1,  1, -1,  1, -1,  1,  1, -1,  1,  1,  1, -1,\n",
       "        -1, -1, -1,  1,  1,  1, -1,  1,  1, -1,  1,  1,  1,  1,  1,  1,  1,\n",
       "         1,  1,  1,  1,  1,  1,  1, -1, -1,  1,  1,  1, -1, -1,  1, -1,  1,\n",
       "         1,  1,  1,  1,  1, -1,  1, -1, -1,  1, -1,  1,  1, -1,  1, -1,  1,\n",
       "         1, -1,  1,  1,  1,  1,  1,  1, -1,  1, -1,  1, -1, -1,  1,  1,  1,\n",
       "         1, -1,  1,  1,  1,  1,  1, -1, -1,  1, -1,  1, -1, -1, -1,  1,  1,\n",
       "        -1,  1, -1,  1,  1,  1,  1,  1,  1, -1,  1, -1, -1,  1,  1,  1,  1,\n",
       "         1,  1, -1, -1,  1,  1,  1, -1, -1, -1,  1,  1,  1, -1, -1,  1,  1,\n",
       "         1,  1, -1,  1, -1,  1,  1, -1,  1,  1,  1,  1, -1,  1, -1, -1,  1,\n",
       "         1,  1, -1,  1, -1, -1,  1,  1,  1,  1, -1,  1,  1,  1, -1, -1, -1,\n",
       "        -1, -1,  1,  1,  1,  1,  1,  1,  1,  1,  1,  1,  1, -1,  1,  1,  1,\n",
       "        -1,  1,  1, -1, -1,  1,  1,  1,  1,  1, -1,  1,  1,  1,  1,  1, -1,\n",
       "         1,  1, -1,  1, -1,  1, -1, -1,  1,  1, -1,  1, -1,  1, -1,  1,  1,\n",
       "         1, -1, -1, -1,  1, -1,  1,  1,  1,  1, -1, -1, -1,  1, -1,  1,  1,\n",
       "        -1, -1, -1,  1,  1,  1,  1, -1, -1, -1,  1,  1,  1,  1, -1,  1, -1,\n",
       "        -1, -1,  1, -1,  1, -1,  1, -1, -1,  1,  1,  1, -1,  1,  1,  1,  1,\n",
       "        -1,  1, -1, -1, -1,  1, -1,  1, -1, -1,  1,  1, -1,  1, -1,  1,  1,\n",
       "        -1, -1,  1,  1, -1,  1, -1,  1,  1,  1,  1, -1,  1,  1,  1,  1, -1,\n",
       "         1, -1,  1,  1,  1,  1, -1,  1,  1, -1, -1, -1, -1,  1, -1,  1,  1,\n",
       "         1,  1,  1,  1, -1,  1, -1, -1,  1,  1,  1, -1,  1, -1,  1, -1, -1,\n",
       "        -1,  1, -1,  1,  1, -1,  1,  1, -1,  1, -1,  1, -1,  1, -1,  1,  1,\n",
       "         1,  1, -1,  1,  1, -1, -1, -1,  1,  1, -1, -1, -1,  1,  1, -1, -1,\n",
       "        -1, -1,  1,  1,  1,  1,  1,  1, -1, -1, -1, -1,  1]),\n",
       " array([ 1,  1, -1,  1, -1,  1,  1,  1, -1,  1, -1,  1, -1,  1,  1, -1,  1,\n",
       "         1,  1,  1,  1, -1,  1,  1,  1,  1,  1,  1,  1, -1,  1,  1,  1, -1,\n",
       "         1,  1,  1, -1,  1,  1,  1, -1,  1,  1,  1,  1,  1,  1,  1,  1, -1,\n",
       "        -1,  1,  1,  1,  1,  1, -1,  1, -1,  1,  1,  1,  1,  1, -1,  1,  1,\n",
       "         1, -1,  1, -1,  1,  1,  1, -1,  1, -1,  1,  1, -1,  1,  1,  1, -1,\n",
       "        -1, -1, -1,  1,  1,  1, -1,  1,  1, -1,  1,  1,  1,  1,  1,  1,  1,\n",
       "         1,  1,  1,  1,  1,  1,  1, -1, -1,  1,  1,  1, -1, -1,  1, -1,  1,\n",
       "         1,  1,  1,  1,  1, -1,  1, -1, -1,  1, -1,  1,  1, -1,  1, -1,  1,\n",
       "         1, -1,  1,  1,  1,  1,  1,  1, -1,  1, -1,  1, -1, -1,  1,  1,  1,\n",
       "         1, -1,  1,  1,  1,  1,  1, -1, -1,  1, -1,  1, -1, -1, -1,  1,  1,\n",
       "        -1,  1, -1,  1,  1,  1,  1,  1,  1, -1,  1, -1, -1,  1,  1,  1,  1,\n",
       "         1,  1, -1, -1,  1,  1,  1, -1, -1, -1,  1,  1,  1, -1, -1,  1,  1,\n",
       "         1,  1, -1,  1, -1,  1,  1, -1,  1,  1,  1,  1, -1,  1, -1, -1,  1,\n",
       "         1,  1, -1,  1, -1, -1,  1,  1,  1,  1, -1,  1,  1,  1, -1, -1, -1,\n",
       "        -1, -1,  1,  1,  1,  1,  1,  1,  1,  1,  1,  1,  1, -1,  1,  1,  1,\n",
       "        -1,  1,  1, -1, -1,  1,  1,  1,  1,  1, -1,  1,  1,  1,  1,  1, -1,\n",
       "         1,  1, -1,  1, -1,  1, -1, -1,  1,  1, -1,  1, -1,  1, -1,  1,  1,\n",
       "         1, -1, -1, -1,  1, -1,  1,  1,  1,  1, -1, -1, -1,  1, -1,  1,  1,\n",
       "        -1, -1, -1,  1,  1,  1,  1, -1, -1, -1,  1,  1,  1,  1, -1,  1, -1,\n",
       "        -1, -1,  1, -1,  1, -1,  1, -1, -1,  1,  1,  1, -1,  1,  1,  1,  1,\n",
       "        -1,  1, -1, -1, -1,  1, -1,  1, -1, -1,  1,  1, -1,  1, -1,  1,  1,\n",
       "        -1, -1,  1,  1, -1,  1, -1,  1,  1,  1,  1, -1,  1,  1,  1,  1, -1,\n",
       "         1, -1,  1,  1,  1,  1, -1,  1,  1, -1, -1, -1, -1,  1, -1,  1,  1,\n",
       "         1,  1,  1,  1, -1,  1, -1, -1,  1,  1,  1, -1,  1, -1,  1, -1, -1,\n",
       "        -1,  1, -1,  1,  1, -1,  1,  1, -1,  1, -1,  1, -1,  1, -1,  1,  1,\n",
       "         1,  1, -1,  1,  1, -1, -1, -1,  1,  1, -1, -1, -1,  1,  1, -1, -1,\n",
       "        -1, -1,  1,  1,  1,  1,  1,  1, -1, -1, -1, -1,  1]),\n",
       " array([ 1,  1, -1,  1, -1,  1,  1,  1, -1,  1, -1,  1, -1,  1,  1, -1,  1,\n",
       "         1,  1,  1,  1, -1,  1,  1,  1,  1,  1,  1,  1, -1,  1,  1,  1, -1,\n",
       "         1,  1,  1, -1,  1,  1,  1, -1,  1,  1,  1,  1,  1,  1,  1,  1, -1,\n",
       "        -1,  1,  1,  1,  1,  1, -1,  1, -1,  1,  1,  1,  1,  1, -1,  1,  1,\n",
       "         1, -1,  1, -1,  1,  1,  1, -1,  1, -1,  1,  1, -1,  1,  1,  1, -1,\n",
       "        -1, -1, -1,  1,  1,  1, -1,  1,  1, -1,  1,  1,  1,  1,  1,  1,  1,\n",
       "         1,  1,  1,  1,  1,  1,  1, -1, -1,  1,  1,  1, -1, -1,  1, -1,  1,\n",
       "         1,  1,  1,  1,  1, -1,  1, -1, -1,  1, -1,  1,  1, -1,  1, -1,  1,\n",
       "         1, -1,  1,  1,  1,  1,  1,  1, -1,  1, -1,  1, -1, -1,  1,  1,  1,\n",
       "         1, -1,  1,  1,  1,  1,  1, -1, -1,  1, -1,  1, -1, -1, -1,  1,  1,\n",
       "        -1,  1, -1,  1,  1,  1,  1,  1,  1, -1,  1, -1, -1,  1,  1,  1,  1,\n",
       "         1,  1, -1, -1,  1,  1,  1, -1, -1, -1,  1,  1,  1, -1, -1,  1,  1,\n",
       "         1,  1, -1,  1, -1,  1,  1, -1,  1,  1,  1,  1, -1,  1, -1, -1,  1,\n",
       "         1,  1, -1,  1, -1, -1,  1,  1,  1,  1, -1,  1,  1,  1, -1, -1, -1,\n",
       "        -1, -1,  1,  1,  1,  1,  1,  1,  1,  1,  1,  1,  1, -1,  1,  1,  1,\n",
       "        -1,  1,  1, -1, -1,  1,  1,  1,  1,  1, -1,  1,  1,  1,  1,  1, -1,\n",
       "         1,  1, -1,  1, -1,  1, -1, -1,  1,  1, -1,  1, -1,  1, -1,  1,  1,\n",
       "         1, -1, -1, -1,  1, -1,  1,  1,  1,  1, -1, -1, -1,  1, -1,  1,  1,\n",
       "        -1, -1, -1,  1,  1,  1,  1, -1, -1, -1,  1,  1,  1,  1, -1,  1, -1,\n",
       "        -1, -1,  1, -1,  1, -1,  1, -1, -1,  1,  1,  1, -1,  1,  1,  1,  1,\n",
       "        -1,  1, -1, -1, -1,  1, -1,  1, -1, -1,  1,  1, -1,  1, -1,  1,  1,\n",
       "        -1, -1,  1,  1, -1,  1, -1,  1,  1,  1,  1, -1,  1,  1,  1,  1, -1,\n",
       "         1, -1,  1,  1,  1,  1, -1,  1,  1, -1, -1, -1, -1,  1, -1,  1,  1,\n",
       "         1,  1,  1,  1, -1,  1, -1, -1,  1,  1,  1, -1,  1, -1,  1, -1, -1,\n",
       "        -1,  1, -1,  1,  1, -1,  1,  1, -1,  1, -1,  1, -1,  1, -1,  1,  1,\n",
       "         1,  1, -1,  1,  1, -1, -1, -1,  1,  1, -1, -1, -1,  1,  1, -1, -1,\n",
       "        -1, -1,  1,  1,  1,  1,  1,  1, -1, -1, -1, -1,  1]),\n",
       " array([ 1,  1, -1,  1, -1,  1,  1,  1, -1,  1, -1,  1, -1,  1,  1, -1,  1,\n",
       "         1,  1,  1,  1, -1,  1,  1,  1,  1,  1,  1,  1, -1,  1,  1,  1, -1,\n",
       "         1,  1,  1, -1,  1,  1,  1, -1,  1,  1,  1,  1,  1,  1,  1,  1, -1,\n",
       "        -1,  1,  1,  1,  1,  1, -1,  1, -1,  1,  1,  1,  1,  1, -1,  1,  1,\n",
       "         1, -1,  1, -1,  1,  1,  1, -1,  1, -1,  1,  1, -1,  1,  1,  1, -1,\n",
       "        -1, -1, -1,  1,  1,  1, -1,  1,  1, -1,  1,  1,  1,  1,  1,  1,  1,\n",
       "         1,  1,  1,  1,  1,  1,  1, -1, -1,  1,  1,  1, -1, -1,  1, -1,  1,\n",
       "         1,  1,  1,  1,  1, -1,  1, -1, -1,  1, -1,  1,  1, -1,  1, -1,  1,\n",
       "         1, -1,  1,  1,  1,  1,  1,  1, -1,  1, -1,  1, -1, -1,  1,  1,  1,\n",
       "         1, -1,  1,  1,  1,  1,  1, -1, -1,  1, -1,  1, -1, -1, -1,  1,  1,\n",
       "        -1,  1, -1,  1,  1,  1,  1,  1,  1, -1,  1, -1, -1,  1,  1,  1,  1,\n",
       "         1,  1, -1, -1,  1,  1,  1, -1, -1, -1,  1,  1,  1, -1, -1,  1,  1,\n",
       "         1,  1, -1,  1, -1,  1,  1, -1,  1,  1,  1,  1, -1,  1, -1, -1,  1,\n",
       "         1,  1, -1,  1, -1, -1,  1,  1,  1,  1, -1,  1,  1,  1, -1, -1, -1,\n",
       "        -1, -1,  1,  1,  1,  1,  1,  1,  1,  1,  1,  1,  1, -1,  1,  1,  1,\n",
       "        -1,  1,  1, -1, -1,  1,  1,  1,  1,  1, -1,  1,  1,  1,  1,  1, -1,\n",
       "         1,  1, -1,  1, -1,  1, -1, -1,  1,  1, -1,  1, -1,  1, -1,  1,  1,\n",
       "         1, -1, -1, -1,  1, -1,  1,  1,  1,  1, -1, -1, -1,  1, -1,  1,  1,\n",
       "        -1, -1, -1,  1,  1,  1,  1, -1, -1, -1,  1,  1,  1,  1, -1,  1, -1,\n",
       "        -1, -1,  1, -1,  1, -1,  1, -1, -1,  1,  1,  1, -1,  1,  1,  1,  1,\n",
       "        -1,  1, -1, -1, -1,  1, -1,  1, -1, -1,  1,  1, -1,  1, -1,  1,  1,\n",
       "        -1, -1,  1,  1, -1,  1, -1,  1,  1,  1,  1, -1,  1,  1,  1,  1, -1,\n",
       "         1, -1,  1,  1,  1,  1, -1,  1,  1, -1, -1, -1, -1,  1, -1,  1,  1,\n",
       "         1,  1,  1,  1, -1,  1, -1, -1,  1,  1,  1, -1,  1, -1,  1, -1, -1,\n",
       "        -1,  1, -1,  1,  1, -1,  1,  1, -1,  1, -1,  1, -1,  1, -1,  1,  1,\n",
       "         1,  1, -1,  1,  1, -1, -1, -1,  1,  1, -1, -1, -1,  1,  1, -1, -1,\n",
       "        -1, -1,  1,  1,  1,  1,  1,  1, -1, -1, -1, -1,  1]),\n",
       " array([ 1,  1, -1,  1, -1,  1,  1,  1, -1,  1, -1,  1, -1,  1,  1, -1,  1,\n",
       "         1,  1,  1,  1, -1,  1,  1,  1,  1,  1,  1,  1, -1,  1,  1,  1, -1,\n",
       "         1,  1,  1, -1,  1,  1,  1, -1,  1,  1,  1,  1,  1,  1,  1,  1, -1,\n",
       "        -1,  1,  1,  1,  1,  1, -1,  1, -1,  1,  1,  1,  1,  1, -1,  1,  1,\n",
       "         1, -1,  1, -1,  1,  1,  1, -1,  1, -1,  1,  1, -1,  1,  1,  1, -1,\n",
       "        -1, -1, -1,  1,  1,  1, -1,  1,  1, -1,  1,  1,  1,  1,  1,  1,  1,\n",
       "         1,  1,  1,  1,  1,  1,  1, -1, -1,  1,  1,  1, -1, -1,  1, -1,  1,\n",
       "         1,  1,  1,  1,  1, -1,  1, -1, -1,  1, -1,  1,  1, -1,  1, -1,  1,\n",
       "         1, -1,  1,  1,  1,  1,  1,  1, -1,  1, -1,  1, -1, -1,  1,  1,  1,\n",
       "         1, -1,  1,  1,  1,  1,  1, -1, -1,  1, -1,  1, -1, -1, -1,  1,  1,\n",
       "        -1,  1, -1,  1,  1,  1,  1,  1,  1, -1,  1, -1, -1,  1,  1,  1,  1,\n",
       "         1,  1, -1, -1,  1,  1,  1, -1, -1, -1,  1,  1,  1, -1, -1,  1,  1,\n",
       "         1,  1, -1,  1, -1,  1,  1, -1,  1,  1,  1,  1, -1,  1, -1, -1,  1,\n",
       "         1,  1, -1,  1, -1, -1,  1,  1,  1,  1, -1,  1,  1,  1, -1, -1, -1,\n",
       "        -1, -1,  1,  1,  1,  1,  1,  1,  1,  1,  1,  1,  1, -1,  1,  1,  1,\n",
       "        -1,  1,  1, -1, -1,  1,  1,  1,  1,  1, -1,  1,  1,  1,  1,  1, -1,\n",
       "         1,  1, -1,  1, -1,  1, -1, -1,  1,  1, -1,  1, -1,  1, -1,  1,  1,\n",
       "         1, -1, -1, -1,  1, -1,  1,  1,  1,  1, -1, -1, -1,  1, -1,  1,  1,\n",
       "        -1, -1, -1,  1,  1,  1,  1, -1, -1, -1,  1,  1,  1,  1, -1,  1, -1,\n",
       "        -1, -1,  1, -1,  1, -1,  1, -1, -1,  1,  1,  1, -1,  1,  1,  1,  1,\n",
       "        -1,  1, -1, -1, -1,  1, -1,  1, -1, -1,  1,  1, -1,  1, -1,  1,  1,\n",
       "        -1, -1,  1,  1, -1,  1, -1,  1,  1,  1,  1, -1,  1,  1,  1,  1, -1,\n",
       "         1, -1,  1,  1,  1,  1, -1,  1,  1, -1, -1, -1, -1,  1, -1,  1,  1,\n",
       "         1,  1,  1,  1, -1,  1, -1, -1,  1,  1,  1, -1,  1, -1,  1, -1, -1,\n",
       "        -1,  1, -1,  1,  1, -1,  1,  1, -1,  1, -1,  1, -1,  1, -1,  1,  1,\n",
       "         1,  1, -1,  1,  1, -1, -1, -1,  1,  1, -1, -1, -1,  1,  1, -1, -1,\n",
       "        -1, -1,  1,  1,  1,  1,  1,  1, -1, -1, -1, -1,  1]),\n",
       " array([ 1,  1, -1,  1, -1,  1,  1,  1, -1,  1, -1,  1, -1,  1,  1, -1,  1,\n",
       "         1,  1,  1,  1, -1,  1,  1,  1,  1,  1,  1,  1, -1,  1,  1,  1, -1,\n",
       "         1,  1,  1, -1,  1,  1,  1, -1,  1,  1,  1,  1,  1,  1,  1,  1, -1,\n",
       "        -1,  1,  1,  1,  1,  1, -1,  1, -1,  1,  1,  1,  1,  1, -1,  1,  1,\n",
       "         1, -1,  1, -1,  1,  1,  1, -1,  1, -1,  1,  1, -1,  1,  1,  1, -1,\n",
       "        -1, -1, -1,  1,  1,  1, -1,  1,  1, -1,  1,  1,  1,  1,  1,  1,  1,\n",
       "         1,  1,  1,  1,  1,  1,  1, -1, -1,  1,  1,  1, -1, -1,  1, -1,  1,\n",
       "         1,  1,  1,  1,  1, -1,  1, -1, -1,  1, -1,  1,  1, -1,  1, -1,  1,\n",
       "         1, -1,  1,  1,  1,  1,  1,  1, -1,  1, -1,  1, -1, -1,  1,  1,  1,\n",
       "         1, -1,  1,  1,  1,  1,  1, -1, -1,  1, -1,  1, -1, -1, -1,  1,  1,\n",
       "        -1,  1, -1,  1,  1,  1,  1,  1,  1, -1,  1, -1, -1,  1,  1,  1,  1,\n",
       "         1,  1, -1, -1,  1,  1,  1, -1, -1, -1,  1,  1,  1, -1, -1,  1,  1,\n",
       "         1,  1, -1,  1, -1,  1,  1, -1,  1,  1,  1,  1, -1,  1, -1, -1,  1,\n",
       "         1,  1, -1,  1, -1, -1,  1,  1,  1,  1, -1,  1,  1,  1, -1, -1, -1,\n",
       "        -1, -1,  1,  1,  1,  1,  1,  1,  1,  1,  1,  1,  1, -1,  1,  1,  1,\n",
       "        -1,  1,  1, -1, -1,  1,  1,  1,  1,  1, -1,  1,  1,  1,  1,  1, -1,\n",
       "         1,  1, -1,  1, -1,  1, -1, -1,  1,  1, -1,  1, -1,  1, -1,  1,  1,\n",
       "         1, -1, -1, -1,  1, -1,  1,  1,  1,  1, -1, -1, -1,  1, -1,  1,  1,\n",
       "        -1, -1, -1,  1,  1,  1,  1, -1, -1, -1,  1,  1,  1,  1, -1,  1, -1,\n",
       "        -1, -1,  1, -1,  1, -1,  1, -1, -1,  1,  1,  1, -1,  1,  1,  1,  1,\n",
       "        -1,  1, -1, -1, -1,  1, -1,  1, -1, -1,  1,  1, -1,  1, -1,  1,  1,\n",
       "        -1, -1,  1,  1, -1,  1, -1,  1,  1,  1,  1, -1,  1,  1,  1,  1, -1,\n",
       "         1, -1,  1,  1,  1,  1, -1,  1,  1, -1, -1, -1, -1,  1, -1,  1,  1,\n",
       "         1,  1,  1,  1, -1,  1, -1, -1,  1,  1,  1, -1,  1, -1,  1, -1, -1,\n",
       "        -1,  1, -1,  1,  1, -1,  1,  1, -1,  1, -1,  1, -1,  1, -1,  1,  1,\n",
       "         1,  1, -1,  1,  1, -1, -1, -1,  1,  1, -1, -1, -1,  1,  1, -1, -1,\n",
       "        -1, -1,  1,  1,  1,  1,  1,  1, -1, -1, -1, -1,  1]),\n",
       " array([ 1,  1, -1,  1, -1,  1,  1,  1, -1,  1, -1,  1, -1,  1,  1, -1,  1,\n",
       "         1,  1,  1,  1, -1,  1,  1,  1,  1,  1,  1,  1, -1,  1,  1,  1, -1,\n",
       "         1,  1,  1, -1,  1,  1,  1, -1,  1,  1,  1,  1,  1,  1,  1,  1, -1,\n",
       "        -1,  1,  1,  1,  1,  1, -1,  1, -1,  1,  1,  1,  1,  1, -1,  1,  1,\n",
       "         1, -1,  1, -1,  1,  1,  1, -1,  1, -1,  1,  1, -1,  1,  1,  1, -1,\n",
       "        -1, -1, -1,  1,  1,  1, -1,  1,  1, -1,  1,  1,  1,  1,  1,  1,  1,\n",
       "         1,  1,  1,  1,  1,  1,  1, -1, -1,  1,  1,  1, -1, -1,  1, -1,  1,\n",
       "         1,  1,  1,  1,  1, -1,  1, -1, -1,  1, -1,  1,  1, -1,  1, -1,  1,\n",
       "         1, -1,  1,  1,  1,  1,  1,  1, -1,  1, -1,  1, -1, -1,  1,  1,  1,\n",
       "         1, -1,  1,  1,  1,  1,  1, -1, -1,  1, -1,  1, -1, -1, -1,  1,  1,\n",
       "        -1,  1, -1,  1,  1,  1,  1,  1,  1, -1,  1, -1, -1,  1,  1,  1,  1,\n",
       "         1,  1, -1, -1,  1,  1,  1, -1, -1, -1,  1,  1,  1, -1, -1,  1,  1,\n",
       "         1,  1, -1,  1, -1,  1,  1, -1,  1,  1,  1,  1, -1,  1, -1, -1,  1,\n",
       "         1,  1, -1,  1, -1, -1,  1,  1,  1,  1, -1,  1,  1,  1, -1, -1, -1,\n",
       "        -1, -1,  1,  1,  1,  1,  1,  1,  1,  1,  1,  1,  1, -1,  1,  1,  1,\n",
       "        -1,  1,  1, -1, -1,  1,  1,  1,  1,  1, -1,  1,  1,  1,  1,  1, -1,\n",
       "         1,  1, -1,  1, -1,  1, -1, -1,  1,  1, -1,  1, -1,  1, -1,  1,  1,\n",
       "         1, -1, -1, -1,  1, -1,  1,  1,  1,  1, -1, -1, -1,  1, -1,  1,  1,\n",
       "        -1, -1, -1,  1,  1,  1,  1, -1, -1, -1,  1,  1,  1,  1, -1,  1, -1,\n",
       "        -1, -1,  1, -1,  1, -1,  1, -1, -1,  1,  1,  1, -1,  1,  1,  1,  1,\n",
       "        -1,  1, -1, -1, -1,  1, -1,  1, -1, -1,  1,  1, -1,  1, -1,  1,  1,\n",
       "        -1, -1,  1,  1, -1,  1, -1,  1,  1,  1,  1, -1,  1,  1,  1,  1, -1,\n",
       "         1, -1,  1,  1,  1,  1, -1,  1,  1, -1, -1, -1, -1,  1, -1,  1,  1,\n",
       "         1,  1,  1,  1, -1,  1, -1, -1,  1,  1,  1, -1,  1, -1,  1, -1, -1,\n",
       "        -1,  1, -1,  1,  1, -1,  1,  1, -1,  1, -1,  1, -1,  1, -1,  1,  1,\n",
       "         1,  1, -1,  1,  1, -1, -1, -1,  1,  1, -1, -1, -1,  1,  1, -1, -1,\n",
       "        -1, -1,  1,  1,  1,  1,  1,  1, -1, -1, -1, -1,  1]),\n",
       " array([ 1,  1, -1,  1, -1,  1,  1,  1, -1,  1, -1,  1, -1,  1,  1, -1,  1,\n",
       "         1,  1,  1,  1, -1,  1,  1,  1,  1,  1,  1,  1, -1,  1,  1,  1, -1,\n",
       "         1,  1,  1, -1,  1,  1,  1, -1,  1,  1,  1,  1,  1,  1,  1,  1, -1,\n",
       "        -1,  1,  1,  1,  1,  1, -1,  1, -1,  1,  1,  1,  1,  1, -1,  1,  1,\n",
       "         1, -1,  1, -1,  1,  1,  1, -1,  1, -1,  1,  1, -1,  1,  1,  1, -1,\n",
       "        -1, -1, -1,  1,  1,  1, -1,  1,  1, -1,  1,  1,  1,  1,  1,  1,  1,\n",
       "         1,  1,  1,  1,  1,  1,  1, -1, -1,  1,  1,  1, -1, -1,  1, -1,  1,\n",
       "         1,  1,  1,  1,  1, -1,  1, -1, -1,  1, -1,  1,  1, -1,  1, -1,  1,\n",
       "         1, -1,  1,  1,  1,  1,  1,  1, -1,  1, -1,  1, -1, -1,  1,  1,  1,\n",
       "         1, -1,  1,  1,  1,  1,  1, -1, -1,  1, -1,  1, -1, -1, -1,  1,  1,\n",
       "        -1,  1, -1,  1,  1,  1,  1,  1,  1, -1,  1, -1, -1,  1,  1,  1,  1,\n",
       "         1,  1, -1, -1,  1,  1,  1, -1, -1, -1,  1,  1,  1, -1, -1,  1,  1,\n",
       "         1,  1, -1,  1, -1,  1,  1, -1,  1,  1,  1,  1, -1,  1, -1, -1,  1,\n",
       "         1,  1, -1,  1, -1, -1,  1,  1,  1,  1, -1,  1,  1,  1, -1, -1, -1,\n",
       "        -1, -1,  1,  1,  1,  1,  1,  1,  1,  1,  1,  1,  1, -1,  1,  1,  1,\n",
       "        -1,  1,  1, -1, -1,  1,  1,  1,  1,  1, -1,  1,  1,  1,  1,  1, -1,\n",
       "         1,  1, -1,  1, -1,  1, -1, -1,  1,  1, -1,  1, -1,  1, -1,  1,  1,\n",
       "         1, -1, -1, -1,  1, -1,  1,  1,  1,  1, -1, -1, -1,  1, -1,  1,  1,\n",
       "        -1, -1, -1,  1,  1,  1,  1, -1, -1, -1,  1,  1,  1,  1, -1,  1, -1,\n",
       "        -1, -1,  1, -1,  1, -1,  1, -1, -1,  1,  1,  1, -1,  1,  1,  1,  1,\n",
       "        -1,  1, -1, -1, -1,  1, -1,  1, -1, -1,  1,  1, -1,  1, -1,  1,  1,\n",
       "        -1, -1,  1,  1, -1,  1, -1,  1,  1,  1,  1, -1,  1,  1,  1,  1, -1,\n",
       "         1, -1,  1,  1,  1,  1, -1,  1,  1, -1, -1, -1, -1,  1, -1,  1,  1,\n",
       "         1,  1,  1,  1, -1,  1, -1, -1,  1,  1,  1, -1,  1, -1,  1, -1, -1,\n",
       "        -1,  1, -1,  1,  1, -1,  1,  1, -1,  1, -1,  1, -1,  1, -1,  1,  1,\n",
       "         1,  1, -1,  1,  1, -1, -1, -1,  1,  1, -1, -1, -1,  1,  1, -1, -1,\n",
       "        -1, -1,  1,  1,  1,  1,  1,  1, -1, -1, -1, -1,  1]),\n",
       " array([ 1,  1, -1,  1, -1,  1,  1,  1, -1,  1, -1,  1, -1,  1,  1, -1,  1,\n",
       "         1,  1,  1,  1, -1,  1,  1,  1,  1,  1,  1,  1, -1,  1,  1,  1, -1,\n",
       "         1,  1,  1, -1,  1,  1,  1, -1,  1,  1,  1,  1,  1,  1,  1,  1, -1,\n",
       "        -1,  1,  1,  1,  1,  1, -1,  1, -1,  1,  1,  1,  1,  1, -1,  1,  1,\n",
       "         1, -1,  1, -1,  1,  1,  1, -1,  1, -1,  1,  1, -1,  1,  1,  1, -1,\n",
       "        -1, -1, -1,  1,  1,  1, -1,  1,  1, -1,  1,  1,  1,  1,  1,  1,  1,\n",
       "         1,  1,  1,  1,  1,  1,  1, -1, -1,  1,  1,  1, -1, -1,  1, -1,  1,\n",
       "         1,  1,  1,  1,  1, -1,  1, -1, -1,  1, -1,  1,  1, -1,  1, -1,  1,\n",
       "         1, -1,  1,  1,  1,  1,  1,  1, -1,  1, -1,  1, -1, -1,  1,  1,  1,\n",
       "         1, -1,  1,  1,  1,  1,  1, -1, -1,  1, -1,  1, -1, -1, -1,  1,  1,\n",
       "        -1,  1, -1,  1,  1,  1,  1,  1,  1, -1,  1, -1, -1,  1,  1,  1,  1,\n",
       "         1,  1, -1, -1,  1,  1,  1, -1, -1, -1,  1,  1,  1, -1, -1,  1,  1,\n",
       "         1,  1, -1,  1, -1,  1,  1, -1,  1,  1,  1,  1, -1,  1, -1, -1,  1,\n",
       "         1,  1, -1,  1, -1, -1,  1,  1,  1,  1, -1,  1,  1,  1, -1, -1, -1,\n",
       "        -1, -1,  1,  1,  1,  1,  1,  1,  1,  1,  1,  1,  1, -1,  1,  1,  1,\n",
       "        -1,  1,  1, -1, -1,  1,  1,  1,  1,  1, -1,  1,  1,  1,  1,  1, -1,\n",
       "         1,  1, -1,  1, -1,  1, -1, -1,  1,  1, -1,  1, -1,  1, -1,  1,  1,\n",
       "         1, -1, -1, -1,  1, -1,  1,  1,  1,  1, -1, -1, -1,  1, -1,  1,  1,\n",
       "        -1, -1, -1,  1,  1,  1,  1, -1, -1, -1,  1,  1,  1,  1, -1,  1, -1,\n",
       "        -1, -1,  1, -1,  1, -1,  1, -1, -1,  1,  1,  1, -1,  1,  1,  1,  1,\n",
       "        -1,  1, -1, -1, -1,  1, -1,  1, -1, -1,  1,  1, -1,  1, -1,  1,  1,\n",
       "        -1, -1,  1,  1, -1,  1, -1,  1,  1,  1,  1, -1,  1,  1,  1,  1, -1,\n",
       "         1, -1,  1,  1,  1,  1, -1,  1,  1, -1, -1, -1, -1,  1, -1,  1,  1,\n",
       "         1,  1,  1,  1, -1,  1, -1, -1,  1,  1,  1, -1,  1, -1,  1, -1, -1,\n",
       "        -1,  1, -1,  1,  1, -1,  1,  1, -1,  1, -1,  1, -1,  1, -1,  1,  1,\n",
       "         1,  1, -1,  1,  1, -1, -1, -1,  1,  1, -1, -1, -1,  1,  1, -1, -1,\n",
       "        -1, -1,  1,  1,  1,  1,  1,  1, -1, -1, -1, -1,  1]),\n",
       " array([ 1,  1, -1,  1, -1,  1,  1,  1, -1,  1, -1,  1, -1,  1,  1, -1,  1,\n",
       "         1,  1,  1,  1, -1,  1,  1,  1,  1,  1,  1,  1, -1,  1,  1,  1, -1,\n",
       "         1,  1,  1, -1,  1,  1,  1, -1,  1,  1,  1,  1,  1,  1,  1,  1, -1,\n",
       "        -1,  1,  1,  1,  1,  1, -1,  1, -1,  1,  1,  1,  1,  1, -1,  1,  1,\n",
       "         1, -1,  1, -1,  1,  1,  1, -1,  1, -1,  1,  1, -1,  1,  1,  1, -1,\n",
       "        -1, -1, -1,  1,  1,  1, -1,  1,  1, -1,  1,  1,  1,  1,  1,  1,  1,\n",
       "         1,  1,  1,  1,  1,  1,  1, -1, -1,  1,  1,  1, -1, -1,  1, -1,  1,\n",
       "         1,  1,  1,  1,  1, -1,  1, -1, -1,  1, -1,  1,  1, -1,  1, -1,  1,\n",
       "         1, -1,  1,  1,  1,  1,  1,  1, -1,  1, -1,  1, -1, -1,  1,  1,  1,\n",
       "         1, -1,  1,  1,  1,  1,  1, -1, -1,  1, -1,  1, -1, -1, -1,  1,  1,\n",
       "        -1,  1, -1,  1,  1,  1,  1,  1,  1, -1,  1, -1, -1,  1,  1,  1,  1,\n",
       "         1,  1, -1, -1,  1,  1,  1, -1, -1, -1,  1,  1,  1, -1, -1,  1,  1,\n",
       "         1,  1, -1,  1, -1,  1,  1, -1,  1,  1,  1,  1, -1,  1, -1, -1,  1,\n",
       "         1,  1, -1,  1, -1, -1,  1,  1,  1,  1, -1,  1,  1,  1, -1, -1, -1,\n",
       "        -1, -1,  1,  1,  1,  1,  1,  1,  1,  1,  1,  1,  1, -1,  1,  1,  1,\n",
       "        -1,  1,  1, -1, -1,  1,  1,  1,  1,  1, -1,  1,  1,  1,  1,  1, -1,\n",
       "         1,  1, -1,  1, -1,  1, -1, -1,  1,  1, -1,  1, -1,  1, -1,  1,  1,\n",
       "         1, -1, -1, -1,  1, -1,  1,  1,  1,  1, -1, -1, -1,  1, -1,  1,  1,\n",
       "        -1, -1, -1,  1,  1,  1,  1, -1, -1, -1,  1,  1,  1,  1, -1,  1, -1,\n",
       "        -1, -1,  1, -1,  1, -1,  1, -1, -1,  1,  1,  1, -1,  1,  1,  1,  1,\n",
       "        -1,  1, -1, -1, -1,  1, -1,  1, -1, -1,  1,  1, -1,  1, -1,  1,  1,\n",
       "        -1, -1,  1,  1, -1,  1, -1,  1,  1,  1,  1, -1,  1,  1,  1,  1, -1,\n",
       "         1, -1,  1,  1,  1,  1, -1,  1,  1, -1, -1, -1, -1,  1, -1,  1,  1,\n",
       "         1,  1,  1,  1, -1,  1, -1, -1,  1,  1,  1, -1,  1, -1,  1, -1, -1,\n",
       "        -1,  1, -1,  1,  1, -1,  1,  1, -1,  1, -1,  1, -1,  1, -1,  1,  1,\n",
       "         1,  1, -1,  1,  1, -1, -1, -1,  1,  1, -1, -1, -1,  1,  1, -1, -1,\n",
       "        -1, -1,  1,  1,  1,  1,  1,  1, -1, -1, -1, -1,  1]),\n",
       " array([ 1,  1, -1,  1, -1,  1,  1,  1, -1,  1, -1,  1, -1,  1,  1, -1,  1,\n",
       "         1,  1,  1,  1, -1,  1,  1,  1,  1,  1,  1,  1, -1,  1,  1,  1, -1,\n",
       "         1,  1,  1, -1,  1,  1,  1, -1,  1,  1,  1,  1,  1,  1,  1,  1, -1,\n",
       "        -1,  1,  1,  1,  1,  1, -1,  1, -1,  1,  1,  1,  1,  1, -1,  1,  1,\n",
       "         1, -1,  1, -1,  1,  1,  1, -1,  1, -1,  1,  1, -1,  1,  1,  1, -1,\n",
       "        -1, -1, -1,  1,  1,  1, -1,  1,  1, -1,  1,  1,  1,  1,  1,  1,  1,\n",
       "         1,  1,  1,  1,  1,  1,  1, -1, -1,  1,  1,  1, -1, -1,  1, -1,  1,\n",
       "         1,  1,  1,  1,  1, -1,  1, -1, -1,  1, -1,  1,  1, -1,  1, -1,  1,\n",
       "         1, -1,  1,  1,  1,  1,  1,  1, -1,  1, -1,  1, -1, -1,  1,  1,  1,\n",
       "         1, -1,  1,  1,  1,  1,  1, -1, -1,  1, -1,  1, -1, -1, -1,  1,  1,\n",
       "        -1,  1, -1,  1,  1,  1,  1,  1,  1, -1,  1, -1, -1,  1,  1,  1,  1,\n",
       "         1,  1, -1, -1,  1,  1,  1, -1, -1, -1,  1,  1,  1, -1, -1,  1,  1,\n",
       "         1,  1, -1,  1, -1,  1,  1, -1,  1,  1,  1,  1, -1,  1, -1, -1,  1,\n",
       "         1,  1, -1,  1, -1, -1,  1,  1,  1,  1, -1,  1,  1,  1, -1, -1, -1,\n",
       "        -1, -1,  1,  1,  1,  1,  1,  1,  1,  1,  1,  1,  1, -1,  1,  1,  1,\n",
       "        -1,  1,  1, -1, -1,  1,  1,  1,  1,  1, -1,  1,  1,  1,  1,  1, -1,\n",
       "         1,  1, -1,  1, -1,  1, -1, -1,  1,  1, -1,  1, -1,  1, -1,  1,  1,\n",
       "         1, -1, -1, -1,  1, -1,  1,  1,  1,  1, -1, -1, -1,  1, -1,  1,  1,\n",
       "        -1, -1, -1,  1,  1,  1,  1, -1, -1, -1,  1,  1,  1,  1, -1,  1, -1,\n",
       "        -1, -1,  1, -1,  1, -1,  1, -1, -1,  1,  1,  1, -1,  1,  1,  1,  1,\n",
       "        -1,  1, -1, -1, -1,  1, -1,  1, -1, -1,  1,  1, -1,  1, -1,  1,  1,\n",
       "        -1, -1,  1,  1, -1,  1, -1,  1,  1,  1,  1, -1,  1,  1,  1,  1, -1,\n",
       "         1, -1,  1,  1,  1,  1, -1,  1,  1, -1, -1, -1, -1,  1, -1,  1,  1,\n",
       "         1,  1,  1,  1, -1,  1, -1, -1,  1,  1,  1, -1,  1, -1,  1, -1, -1,\n",
       "        -1,  1, -1,  1,  1, -1,  1,  1, -1,  1, -1,  1, -1,  1, -1,  1,  1,\n",
       "         1,  1, -1,  1,  1, -1, -1, -1,  1,  1, -1, -1, -1,  1,  1, -1, -1,\n",
       "        -1, -1,  1,  1,  1,  1,  1,  1, -1, -1, -1, -1,  1]),\n",
       " array([ 1,  1, -1,  1, -1,  1,  1,  1, -1,  1, -1,  1, -1,  1,  1, -1,  1,\n",
       "         1,  1,  1,  1, -1,  1,  1,  1,  1,  1,  1,  1, -1,  1,  1,  1, -1,\n",
       "         1,  1,  1, -1,  1,  1,  1, -1,  1,  1,  1,  1,  1,  1,  1,  1, -1,\n",
       "        -1,  1,  1,  1,  1,  1, -1,  1, -1,  1,  1,  1,  1,  1, -1,  1,  1,\n",
       "         1, -1,  1, -1,  1,  1,  1, -1,  1, -1,  1,  1, -1,  1,  1,  1, -1,\n",
       "        -1, -1, -1,  1,  1,  1, -1,  1,  1, -1,  1,  1,  1,  1,  1,  1,  1,\n",
       "         1,  1,  1,  1,  1,  1,  1, -1, -1,  1,  1,  1, -1, -1,  1, -1,  1,\n",
       "         1,  1,  1,  1,  1, -1,  1, -1, -1,  1, -1,  1,  1, -1,  1, -1,  1,\n",
       "         1, -1,  1,  1,  1,  1,  1,  1, -1,  1, -1,  1, -1, -1,  1,  1,  1,\n",
       "         1, -1,  1,  1,  1,  1,  1, -1, -1,  1, -1,  1, -1, -1, -1,  1,  1,\n",
       "        -1,  1, -1,  1,  1,  1,  1,  1,  1, -1,  1, -1, -1,  1,  1,  1,  1,\n",
       "         1,  1, -1, -1,  1,  1,  1, -1, -1, -1,  1,  1,  1, -1, -1,  1,  1,\n",
       "         1,  1, -1,  1, -1,  1,  1, -1,  1,  1,  1,  1, -1,  1, -1, -1,  1,\n",
       "         1,  1, -1,  1, -1, -1,  1,  1,  1,  1, -1,  1,  1,  1, -1, -1, -1,\n",
       "        -1, -1,  1,  1,  1,  1,  1,  1,  1,  1,  1,  1,  1, -1,  1,  1,  1,\n",
       "        -1,  1,  1, -1, -1,  1,  1,  1,  1,  1, -1,  1,  1,  1,  1,  1, -1,\n",
       "         1,  1, -1,  1, -1,  1, -1, -1,  1,  1, -1,  1, -1,  1, -1,  1,  1,\n",
       "         1, -1, -1, -1,  1, -1,  1,  1,  1,  1, -1, -1, -1,  1, -1,  1,  1,\n",
       "        -1, -1, -1,  1,  1,  1,  1, -1, -1, -1,  1,  1,  1,  1, -1,  1, -1,\n",
       "        -1, -1,  1, -1,  1, -1,  1, -1, -1,  1,  1,  1, -1,  1,  1,  1,  1,\n",
       "        -1,  1, -1, -1, -1,  1, -1,  1, -1, -1,  1,  1, -1,  1, -1,  1,  1,\n",
       "        -1, -1,  1,  1, -1,  1, -1,  1,  1,  1,  1, -1,  1,  1,  1,  1, -1,\n",
       "         1, -1,  1,  1,  1,  1, -1,  1,  1, -1, -1, -1, -1,  1, -1,  1,  1,\n",
       "         1,  1,  1,  1, -1,  1, -1, -1,  1,  1,  1, -1,  1, -1,  1, -1, -1,\n",
       "        -1,  1, -1,  1,  1, -1,  1,  1, -1,  1, -1,  1, -1,  1, -1,  1,  1,\n",
       "         1,  1, -1,  1,  1, -1, -1, -1,  1,  1, -1, -1, -1,  1,  1, -1, -1,\n",
       "        -1, -1,  1,  1,  1,  1,  1,  1, -1, -1, -1, -1,  1]),\n",
       " array([ 1,  1, -1,  1, -1,  1,  1,  1, -1,  1, -1,  1, -1,  1,  1, -1,  1,\n",
       "         1,  1,  1,  1, -1,  1,  1,  1,  1,  1,  1,  1, -1,  1,  1,  1, -1,\n",
       "         1,  1,  1, -1,  1,  1,  1, -1,  1,  1,  1,  1,  1,  1,  1,  1, -1,\n",
       "        -1,  1,  1,  1,  1,  1, -1,  1, -1,  1,  1,  1,  1,  1, -1,  1,  1,\n",
       "         1, -1,  1, -1,  1,  1,  1, -1,  1, -1,  1,  1, -1,  1,  1,  1, -1,\n",
       "        -1, -1, -1,  1,  1,  1, -1,  1,  1, -1,  1,  1,  1,  1,  1,  1,  1,\n",
       "         1,  1,  1,  1,  1,  1,  1, -1, -1,  1,  1,  1, -1, -1,  1, -1,  1,\n",
       "         1,  1,  1,  1,  1, -1,  1, -1, -1,  1, -1,  1,  1, -1,  1, -1,  1,\n",
       "         1, -1,  1,  1,  1,  1,  1,  1, -1,  1, -1,  1, -1, -1,  1,  1,  1,\n",
       "         1, -1,  1,  1,  1,  1,  1, -1, -1,  1, -1,  1, -1, -1, -1,  1,  1,\n",
       "        -1,  1, -1,  1,  1,  1,  1,  1,  1, -1,  1, -1, -1,  1,  1,  1,  1,\n",
       "         1,  1, -1, -1,  1,  1,  1, -1, -1, -1,  1,  1,  1, -1, -1,  1,  1,\n",
       "         1,  1, -1,  1, -1,  1,  1, -1,  1,  1,  1,  1, -1,  1, -1, -1,  1,\n",
       "         1,  1, -1,  1, -1, -1,  1,  1,  1,  1, -1,  1,  1,  1, -1, -1, -1,\n",
       "        -1, -1,  1,  1,  1,  1,  1,  1,  1,  1,  1,  1,  1, -1,  1,  1,  1,\n",
       "        -1,  1,  1, -1, -1,  1,  1,  1,  1,  1, -1,  1,  1,  1,  1,  1, -1,\n",
       "         1,  1, -1,  1, -1,  1, -1, -1,  1,  1, -1,  1, -1,  1, -1,  1,  1,\n",
       "         1, -1, -1, -1,  1, -1,  1,  1,  1,  1, -1, -1, -1,  1, -1,  1,  1,\n",
       "        -1, -1, -1,  1,  1,  1,  1, -1, -1, -1,  1,  1,  1,  1, -1,  1, -1,\n",
       "        -1, -1,  1, -1,  1, -1,  1, -1, -1,  1,  1,  1, -1,  1,  1,  1,  1,\n",
       "        -1,  1, -1, -1, -1,  1, -1,  1, -1, -1,  1,  1, -1,  1, -1,  1,  1,\n",
       "        -1, -1,  1,  1, -1,  1, -1,  1,  1,  1,  1, -1,  1,  1,  1,  1, -1,\n",
       "         1, -1,  1,  1,  1,  1, -1,  1,  1, -1, -1, -1, -1,  1, -1,  1,  1,\n",
       "         1,  1,  1,  1, -1,  1, -1, -1,  1,  1,  1, -1,  1, -1,  1, -1, -1,\n",
       "        -1,  1, -1,  1,  1, -1,  1,  1, -1,  1, -1,  1, -1,  1, -1,  1,  1,\n",
       "         1,  1, -1,  1,  1, -1, -1, -1,  1,  1, -1, -1, -1,  1,  1, -1, -1,\n",
       "        -1, -1,  1,  1,  1,  1,  1,  1, -1, -1, -1, -1,  1]),\n",
       " array([ 1,  1, -1,  1, -1,  1,  1,  1, -1,  1, -1,  1, -1,  1,  1, -1,  1,\n",
       "         1,  1,  1,  1, -1,  1,  1,  1,  1,  1,  1,  1, -1,  1,  1,  1, -1,\n",
       "         1,  1,  1, -1,  1,  1,  1, -1,  1,  1,  1,  1,  1,  1,  1,  1, -1,\n",
       "        -1,  1,  1,  1,  1,  1, -1,  1, -1,  1,  1,  1,  1,  1, -1,  1,  1,\n",
       "         1, -1,  1, -1,  1,  1,  1, -1,  1, -1,  1,  1, -1,  1,  1,  1, -1,\n",
       "        -1, -1, -1,  1,  1,  1, -1,  1,  1, -1,  1,  1,  1,  1,  1,  1,  1,\n",
       "         1,  1,  1,  1,  1,  1,  1, -1, -1,  1,  1,  1, -1, -1,  1, -1,  1,\n",
       "         1,  1,  1,  1,  1, -1,  1, -1, -1,  1, -1,  1,  1, -1,  1, -1,  1,\n",
       "         1, -1,  1,  1,  1,  1,  1,  1, -1,  1, -1,  1, -1, -1,  1,  1,  1,\n",
       "         1, -1,  1,  1,  1,  1,  1, -1, -1,  1, -1,  1, -1, -1, -1,  1,  1,\n",
       "        -1,  1, -1,  1,  1,  1,  1,  1,  1, -1,  1, -1, -1,  1,  1,  1,  1,\n",
       "         1,  1, -1, -1,  1,  1,  1, -1, -1, -1,  1,  1,  1, -1, -1,  1,  1,\n",
       "         1,  1, -1,  1, -1,  1,  1, -1,  1,  1,  1,  1, -1,  1, -1, -1,  1,\n",
       "         1,  1, -1,  1, -1, -1,  1,  1,  1,  1, -1,  1,  1,  1, -1, -1, -1,\n",
       "        -1, -1,  1,  1,  1,  1,  1,  1,  1,  1,  1,  1,  1, -1,  1,  1,  1,\n",
       "        -1,  1,  1, -1, -1,  1,  1,  1,  1,  1, -1,  1,  1,  1,  1,  1, -1,\n",
       "         1,  1, -1,  1, -1,  1, -1, -1,  1,  1, -1,  1, -1,  1, -1,  1,  1,\n",
       "         1, -1, -1, -1,  1, -1,  1,  1,  1,  1, -1, -1, -1,  1, -1,  1,  1,\n",
       "        -1, -1, -1,  1,  1,  1,  1, -1, -1, -1,  1,  1,  1,  1, -1,  1, -1,\n",
       "        -1, -1,  1, -1,  1, -1,  1, -1, -1,  1,  1,  1, -1,  1,  1,  1,  1,\n",
       "        -1,  1, -1, -1, -1,  1, -1,  1, -1, -1,  1,  1, -1,  1, -1,  1,  1,\n",
       "        -1, -1,  1,  1, -1,  1, -1,  1,  1,  1,  1, -1,  1,  1,  1,  1, -1,\n",
       "         1, -1,  1,  1,  1,  1, -1,  1,  1, -1, -1, -1, -1,  1, -1,  1,  1,\n",
       "         1,  1,  1,  1, -1,  1, -1, -1,  1,  1,  1, -1,  1, -1,  1, -1, -1,\n",
       "        -1,  1, -1,  1,  1, -1,  1,  1, -1,  1, -1,  1, -1,  1, -1,  1,  1,\n",
       "         1,  1, -1,  1,  1, -1, -1, -1,  1,  1, -1, -1, -1,  1,  1, -1, -1,\n",
       "        -1, -1,  1,  1,  1,  1,  1,  1, -1, -1, -1, -1,  1])]"
      ]
     },
     "execution_count": 55,
     "metadata": {},
     "output_type": "execute_result"
    }
   ],
   "source": [
    "list(clf.staged_predict(X_train))"
   ]
  },
  {
   "cell_type": "code",
   "execution_count": 46,
   "id": "f24ef398",
   "metadata": {
    "ExecuteTime": {
     "end_time": "2023-01-25T14:22:15.347459Z",
     "start_time": "2023-01-25T14:22:15.320459Z"
    },
    "scrolled": true
   },
   "outputs": [
    {
     "data": {
      "text/plain": [
       "[0.9122807017543859,\n",
       " 0.9122807017543859,\n",
       " 0.956140350877193,\n",
       " 0.9649122807017544,\n",
       " 0.9649122807017544,\n",
       " 0.9736842105263158,\n",
       " 0.9736842105263158,\n",
       " 0.9649122807017544,\n",
       " 0.9649122807017544,\n",
       " 0.9736842105263158,\n",
       " 0.9649122807017544,\n",
       " 0.9649122807017544,\n",
       " 0.9649122807017544,\n",
       " 0.9736842105263158,\n",
       " 0.9649122807017544,\n",
       " 0.9649122807017544,\n",
       " 0.9649122807017544,\n",
       " 0.9736842105263158,\n",
       " 0.9649122807017544,\n",
       " 0.9649122807017544,\n",
       " 0.9649122807017544,\n",
       " 0.9649122807017544,\n",
       " 0.9649122807017544,\n",
       " 0.9649122807017544,\n",
       " 0.9736842105263158,\n",
       " 0.9736842105263158,\n",
       " 0.9736842105263158,\n",
       " 0.9736842105263158,\n",
       " 0.9736842105263158,\n",
       " 0.9736842105263158,\n",
       " 0.9736842105263158,\n",
       " 0.9736842105263158,\n",
       " 0.9736842105263158,\n",
       " 0.9736842105263158,\n",
       " 0.9736842105263158,\n",
       " 0.9736842105263158,\n",
       " 0.9736842105263158,\n",
       " 0.9736842105263158,\n",
       " 0.9736842105263158,\n",
       " 0.9736842105263158,\n",
       " 0.9736842105263158,\n",
       " 0.9736842105263158,\n",
       " 0.9736842105263158,\n",
       " 0.9736842105263158,\n",
       " 0.9736842105263158,\n",
       " 0.9736842105263158,\n",
       " 0.9736842105263158,\n",
       " 0.9736842105263158,\n",
       " 0.9736842105263158,\n",
       " 0.9736842105263158]"
      ]
     },
     "execution_count": 46,
     "metadata": {},
     "output_type": "execute_result"
    }
   ],
   "source": [
    "list(clf.staged_score(X_test, y_test))"
   ]
  },
  {
   "cell_type": "markdown",
   "id": "27cd11b2",
   "metadata": {},
   "source": [
    "## Display"
   ]
  },
  {
   "cell_type": "markdown",
   "id": "e632ab7e",
   "metadata": {
    "ExecuteTime": {
     "end_time": "2023-01-25T15:43:04.587762Z",
     "start_time": "2023-01-25T15:43:04.579777Z"
    }
   },
   "source": [
    "How was the AdaBoost score changing during the trenning?"
   ]
  },
  {
   "cell_type": "code",
   "execution_count": 52,
   "id": "244c151e",
   "metadata": {
    "ExecuteTime": {
     "end_time": "2023-01-25T15:39:51.483147Z",
     "start_time": "2023-01-25T15:39:51.372990Z"
    }
   },
   "outputs": [
    {
     "data": {
      "application/vnd.plotly.v1+json": {
       "config": {
        "plotlyServerURL": "https://plot.ly"
       },
       "data": [
        {
         "mode": "markers+lines",
         "type": "scatter",
         "y": [
          0.9208791208791208,
          0.9208791208791208,
          0.9472527472527472,
          0.9538461538461539,
          0.967032967032967,
          0.9736263736263736,
          0.9824175824175824,
          0.9846153846153847,
          0.9868131868131869,
          0.9868131868131869,
          0.9912087912087912,
          0.9956043956043956,
          0.9956043956043956,
          0.9956043956043956,
          0.9978021978021978,
          0.9978021978021978,
          0.9978021978021978,
          0.9978021978021978,
          0.9978021978021978,
          1,
          1,
          1,
          1,
          1,
          1,
          1,
          1,
          1,
          1,
          1,
          1,
          1,
          1,
          1,
          1,
          1,
          1,
          1,
          1,
          1,
          1,
          1,
          1,
          1,
          1,
          1,
          1,
          1,
          1,
          1
         ]
        }
       ],
       "layout": {
        "template": {
         "data": {
          "bar": [
           {
            "error_x": {
             "color": "#2a3f5f"
            },
            "error_y": {
             "color": "#2a3f5f"
            },
            "marker": {
             "line": {
              "color": "#E5ECF6",
              "width": 0.5
             },
             "pattern": {
              "fillmode": "overlay",
              "size": 10,
              "solidity": 0.2
             }
            },
            "type": "bar"
           }
          ],
          "barpolar": [
           {
            "marker": {
             "line": {
              "color": "#E5ECF6",
              "width": 0.5
             },
             "pattern": {
              "fillmode": "overlay",
              "size": 10,
              "solidity": 0.2
             }
            },
            "type": "barpolar"
           }
          ],
          "carpet": [
           {
            "aaxis": {
             "endlinecolor": "#2a3f5f",
             "gridcolor": "white",
             "linecolor": "white",
             "minorgridcolor": "white",
             "startlinecolor": "#2a3f5f"
            },
            "baxis": {
             "endlinecolor": "#2a3f5f",
             "gridcolor": "white",
             "linecolor": "white",
             "minorgridcolor": "white",
             "startlinecolor": "#2a3f5f"
            },
            "type": "carpet"
           }
          ],
          "choropleth": [
           {
            "colorbar": {
             "outlinewidth": 0,
             "ticks": ""
            },
            "type": "choropleth"
           }
          ],
          "contour": [
           {
            "colorbar": {
             "outlinewidth": 0,
             "ticks": ""
            },
            "colorscale": [
             [
              0,
              "#0d0887"
             ],
             [
              0.1111111111111111,
              "#46039f"
             ],
             [
              0.2222222222222222,
              "#7201a8"
             ],
             [
              0.3333333333333333,
              "#9c179e"
             ],
             [
              0.4444444444444444,
              "#bd3786"
             ],
             [
              0.5555555555555556,
              "#d8576b"
             ],
             [
              0.6666666666666666,
              "#ed7953"
             ],
             [
              0.7777777777777778,
              "#fb9f3a"
             ],
             [
              0.8888888888888888,
              "#fdca26"
             ],
             [
              1,
              "#f0f921"
             ]
            ],
            "type": "contour"
           }
          ],
          "contourcarpet": [
           {
            "colorbar": {
             "outlinewidth": 0,
             "ticks": ""
            },
            "type": "contourcarpet"
           }
          ],
          "heatmap": [
           {
            "colorbar": {
             "outlinewidth": 0,
             "ticks": ""
            },
            "colorscale": [
             [
              0,
              "#0d0887"
             ],
             [
              0.1111111111111111,
              "#46039f"
             ],
             [
              0.2222222222222222,
              "#7201a8"
             ],
             [
              0.3333333333333333,
              "#9c179e"
             ],
             [
              0.4444444444444444,
              "#bd3786"
             ],
             [
              0.5555555555555556,
              "#d8576b"
             ],
             [
              0.6666666666666666,
              "#ed7953"
             ],
             [
              0.7777777777777778,
              "#fb9f3a"
             ],
             [
              0.8888888888888888,
              "#fdca26"
             ],
             [
              1,
              "#f0f921"
             ]
            ],
            "type": "heatmap"
           }
          ],
          "heatmapgl": [
           {
            "colorbar": {
             "outlinewidth": 0,
             "ticks": ""
            },
            "colorscale": [
             [
              0,
              "#0d0887"
             ],
             [
              0.1111111111111111,
              "#46039f"
             ],
             [
              0.2222222222222222,
              "#7201a8"
             ],
             [
              0.3333333333333333,
              "#9c179e"
             ],
             [
              0.4444444444444444,
              "#bd3786"
             ],
             [
              0.5555555555555556,
              "#d8576b"
             ],
             [
              0.6666666666666666,
              "#ed7953"
             ],
             [
              0.7777777777777778,
              "#fb9f3a"
             ],
             [
              0.8888888888888888,
              "#fdca26"
             ],
             [
              1,
              "#f0f921"
             ]
            ],
            "type": "heatmapgl"
           }
          ],
          "histogram": [
           {
            "marker": {
             "pattern": {
              "fillmode": "overlay",
              "size": 10,
              "solidity": 0.2
             }
            },
            "type": "histogram"
           }
          ],
          "histogram2d": [
           {
            "colorbar": {
             "outlinewidth": 0,
             "ticks": ""
            },
            "colorscale": [
             [
              0,
              "#0d0887"
             ],
             [
              0.1111111111111111,
              "#46039f"
             ],
             [
              0.2222222222222222,
              "#7201a8"
             ],
             [
              0.3333333333333333,
              "#9c179e"
             ],
             [
              0.4444444444444444,
              "#bd3786"
             ],
             [
              0.5555555555555556,
              "#d8576b"
             ],
             [
              0.6666666666666666,
              "#ed7953"
             ],
             [
              0.7777777777777778,
              "#fb9f3a"
             ],
             [
              0.8888888888888888,
              "#fdca26"
             ],
             [
              1,
              "#f0f921"
             ]
            ],
            "type": "histogram2d"
           }
          ],
          "histogram2dcontour": [
           {
            "colorbar": {
             "outlinewidth": 0,
             "ticks": ""
            },
            "colorscale": [
             [
              0,
              "#0d0887"
             ],
             [
              0.1111111111111111,
              "#46039f"
             ],
             [
              0.2222222222222222,
              "#7201a8"
             ],
             [
              0.3333333333333333,
              "#9c179e"
             ],
             [
              0.4444444444444444,
              "#bd3786"
             ],
             [
              0.5555555555555556,
              "#d8576b"
             ],
             [
              0.6666666666666666,
              "#ed7953"
             ],
             [
              0.7777777777777778,
              "#fb9f3a"
             ],
             [
              0.8888888888888888,
              "#fdca26"
             ],
             [
              1,
              "#f0f921"
             ]
            ],
            "type": "histogram2dcontour"
           }
          ],
          "mesh3d": [
           {
            "colorbar": {
             "outlinewidth": 0,
             "ticks": ""
            },
            "type": "mesh3d"
           }
          ],
          "parcoords": [
           {
            "line": {
             "colorbar": {
              "outlinewidth": 0,
              "ticks": ""
             }
            },
            "type": "parcoords"
           }
          ],
          "pie": [
           {
            "automargin": true,
            "type": "pie"
           }
          ],
          "scatter": [
           {
            "fillpattern": {
             "fillmode": "overlay",
             "size": 10,
             "solidity": 0.2
            },
            "type": "scatter"
           }
          ],
          "scatter3d": [
           {
            "line": {
             "colorbar": {
              "outlinewidth": 0,
              "ticks": ""
             }
            },
            "marker": {
             "colorbar": {
              "outlinewidth": 0,
              "ticks": ""
             }
            },
            "type": "scatter3d"
           }
          ],
          "scattercarpet": [
           {
            "marker": {
             "colorbar": {
              "outlinewidth": 0,
              "ticks": ""
             }
            },
            "type": "scattercarpet"
           }
          ],
          "scattergeo": [
           {
            "marker": {
             "colorbar": {
              "outlinewidth": 0,
              "ticks": ""
             }
            },
            "type": "scattergeo"
           }
          ],
          "scattergl": [
           {
            "marker": {
             "colorbar": {
              "outlinewidth": 0,
              "ticks": ""
             }
            },
            "type": "scattergl"
           }
          ],
          "scattermapbox": [
           {
            "marker": {
             "colorbar": {
              "outlinewidth": 0,
              "ticks": ""
             }
            },
            "type": "scattermapbox"
           }
          ],
          "scatterpolar": [
           {
            "marker": {
             "colorbar": {
              "outlinewidth": 0,
              "ticks": ""
             }
            },
            "type": "scatterpolar"
           }
          ],
          "scatterpolargl": [
           {
            "marker": {
             "colorbar": {
              "outlinewidth": 0,
              "ticks": ""
             }
            },
            "type": "scatterpolargl"
           }
          ],
          "scatterternary": [
           {
            "marker": {
             "colorbar": {
              "outlinewidth": 0,
              "ticks": ""
             }
            },
            "type": "scatterternary"
           }
          ],
          "surface": [
           {
            "colorbar": {
             "outlinewidth": 0,
             "ticks": ""
            },
            "colorscale": [
             [
              0,
              "#0d0887"
             ],
             [
              0.1111111111111111,
              "#46039f"
             ],
             [
              0.2222222222222222,
              "#7201a8"
             ],
             [
              0.3333333333333333,
              "#9c179e"
             ],
             [
              0.4444444444444444,
              "#bd3786"
             ],
             [
              0.5555555555555556,
              "#d8576b"
             ],
             [
              0.6666666666666666,
              "#ed7953"
             ],
             [
              0.7777777777777778,
              "#fb9f3a"
             ],
             [
              0.8888888888888888,
              "#fdca26"
             ],
             [
              1,
              "#f0f921"
             ]
            ],
            "type": "surface"
           }
          ],
          "table": [
           {
            "cells": {
             "fill": {
              "color": "#EBF0F8"
             },
             "line": {
              "color": "white"
             }
            },
            "header": {
             "fill": {
              "color": "#C8D4E3"
             },
             "line": {
              "color": "white"
             }
            },
            "type": "table"
           }
          ]
         },
         "layout": {
          "annotationdefaults": {
           "arrowcolor": "#2a3f5f",
           "arrowhead": 0,
           "arrowwidth": 1
          },
          "autotypenumbers": "strict",
          "coloraxis": {
           "colorbar": {
            "outlinewidth": 0,
            "ticks": ""
           }
          },
          "colorscale": {
           "diverging": [
            [
             0,
             "#8e0152"
            ],
            [
             0.1,
             "#c51b7d"
            ],
            [
             0.2,
             "#de77ae"
            ],
            [
             0.3,
             "#f1b6da"
            ],
            [
             0.4,
             "#fde0ef"
            ],
            [
             0.5,
             "#f7f7f7"
            ],
            [
             0.6,
             "#e6f5d0"
            ],
            [
             0.7,
             "#b8e186"
            ],
            [
             0.8,
             "#7fbc41"
            ],
            [
             0.9,
             "#4d9221"
            ],
            [
             1,
             "#276419"
            ]
           ],
           "sequential": [
            [
             0,
             "#0d0887"
            ],
            [
             0.1111111111111111,
             "#46039f"
            ],
            [
             0.2222222222222222,
             "#7201a8"
            ],
            [
             0.3333333333333333,
             "#9c179e"
            ],
            [
             0.4444444444444444,
             "#bd3786"
            ],
            [
             0.5555555555555556,
             "#d8576b"
            ],
            [
             0.6666666666666666,
             "#ed7953"
            ],
            [
             0.7777777777777778,
             "#fb9f3a"
            ],
            [
             0.8888888888888888,
             "#fdca26"
            ],
            [
             1,
             "#f0f921"
            ]
           ],
           "sequentialminus": [
            [
             0,
             "#0d0887"
            ],
            [
             0.1111111111111111,
             "#46039f"
            ],
            [
             0.2222222222222222,
             "#7201a8"
            ],
            [
             0.3333333333333333,
             "#9c179e"
            ],
            [
             0.4444444444444444,
             "#bd3786"
            ],
            [
             0.5555555555555556,
             "#d8576b"
            ],
            [
             0.6666666666666666,
             "#ed7953"
            ],
            [
             0.7777777777777778,
             "#fb9f3a"
            ],
            [
             0.8888888888888888,
             "#fdca26"
            ],
            [
             1,
             "#f0f921"
            ]
           ]
          },
          "colorway": [
           "#636efa",
           "#EF553B",
           "#00cc96",
           "#ab63fa",
           "#FFA15A",
           "#19d3f3",
           "#FF6692",
           "#B6E880",
           "#FF97FF",
           "#FECB52"
          ],
          "font": {
           "color": "#2a3f5f"
          },
          "geo": {
           "bgcolor": "white",
           "lakecolor": "white",
           "landcolor": "#E5ECF6",
           "showlakes": true,
           "showland": true,
           "subunitcolor": "white"
          },
          "hoverlabel": {
           "align": "left"
          },
          "hovermode": "closest",
          "mapbox": {
           "style": "light"
          },
          "paper_bgcolor": "white",
          "plot_bgcolor": "#E5ECF6",
          "polar": {
           "angularaxis": {
            "gridcolor": "white",
            "linecolor": "white",
            "ticks": ""
           },
           "bgcolor": "#E5ECF6",
           "radialaxis": {
            "gridcolor": "white",
            "linecolor": "white",
            "ticks": ""
           }
          },
          "scene": {
           "xaxis": {
            "backgroundcolor": "#E5ECF6",
            "gridcolor": "white",
            "gridwidth": 2,
            "linecolor": "white",
            "showbackground": true,
            "ticks": "",
            "zerolinecolor": "white"
           },
           "yaxis": {
            "backgroundcolor": "#E5ECF6",
            "gridcolor": "white",
            "gridwidth": 2,
            "linecolor": "white",
            "showbackground": true,
            "ticks": "",
            "zerolinecolor": "white"
           },
           "zaxis": {
            "backgroundcolor": "#E5ECF6",
            "gridcolor": "white",
            "gridwidth": 2,
            "linecolor": "white",
            "showbackground": true,
            "ticks": "",
            "zerolinecolor": "white"
           }
          },
          "shapedefaults": {
           "line": {
            "color": "#2a3f5f"
           }
          },
          "ternary": {
           "aaxis": {
            "gridcolor": "white",
            "linecolor": "white",
            "ticks": ""
           },
           "baxis": {
            "gridcolor": "white",
            "linecolor": "white",
            "ticks": ""
           },
           "bgcolor": "#E5ECF6",
           "caxis": {
            "gridcolor": "white",
            "linecolor": "white",
            "ticks": ""
           }
          },
          "title": {
           "x": 0.05
          },
          "xaxis": {
           "automargin": true,
           "gridcolor": "white",
           "linecolor": "white",
           "ticks": "",
           "title": {
            "standoff": 15
           },
           "zerolinecolor": "white",
           "zerolinewidth": 2
          },
          "yaxis": {
           "automargin": true,
           "gridcolor": "white",
           "linecolor": "white",
           "ticks": "",
           "title": {
            "standoff": 15
           },
           "zerolinecolor": "white",
           "zerolinewidth": 2
          }
         }
        },
        "title": {
         "text": "AdaBoost score during trenning"
        },
        "xaxis": {
         "title": {
          "text": "Model iteration (added new weak learner)"
         }
        },
        "yaxis": {
         "title": {
          "text": "Model score"
         }
        }
       }
      },
      "text/html": [
       "<div>                            <div id=\"a7f2beb6-b190-4dc7-9c12-06a9390b32a0\" class=\"plotly-graph-div\" style=\"height:525px; width:100%;\"></div>            <script type=\"text/javascript\">                require([\"plotly\"], function(Plotly) {                    window.PLOTLYENV=window.PLOTLYENV || {};                                    if (document.getElementById(\"a7f2beb6-b190-4dc7-9c12-06a9390b32a0\")) {                    Plotly.newPlot(                        \"a7f2beb6-b190-4dc7-9c12-06a9390b32a0\",                        [{\"mode\":\"markers+lines\",\"y\":[0.9208791208791208,0.9208791208791208,0.9472527472527472,0.9538461538461539,0.967032967032967,0.9736263736263736,0.9824175824175824,0.9846153846153847,0.9868131868131869,0.9868131868131869,0.9912087912087912,0.9956043956043956,0.9956043956043956,0.9956043956043956,0.9978021978021978,0.9978021978021978,0.9978021978021978,0.9978021978021978,0.9978021978021978,1.0,1.0,1.0,1.0,1.0,1.0,1.0,1.0,1.0,1.0,1.0,1.0,1.0,1.0,1.0,1.0,1.0,1.0,1.0,1.0,1.0,1.0,1.0,1.0,1.0,1.0,1.0,1.0,1.0,1.0,1.0],\"type\":\"scatter\"}],                        {\"template\":{\"data\":{\"histogram2dcontour\":[{\"type\":\"histogram2dcontour\",\"colorbar\":{\"outlinewidth\":0,\"ticks\":\"\"},\"colorscale\":[[0.0,\"#0d0887\"],[0.1111111111111111,\"#46039f\"],[0.2222222222222222,\"#7201a8\"],[0.3333333333333333,\"#9c179e\"],[0.4444444444444444,\"#bd3786\"],[0.5555555555555556,\"#d8576b\"],[0.6666666666666666,\"#ed7953\"],[0.7777777777777778,\"#fb9f3a\"],[0.8888888888888888,\"#fdca26\"],[1.0,\"#f0f921\"]]}],\"choropleth\":[{\"type\":\"choropleth\",\"colorbar\":{\"outlinewidth\":0,\"ticks\":\"\"}}],\"histogram2d\":[{\"type\":\"histogram2d\",\"colorbar\":{\"outlinewidth\":0,\"ticks\":\"\"},\"colorscale\":[[0.0,\"#0d0887\"],[0.1111111111111111,\"#46039f\"],[0.2222222222222222,\"#7201a8\"],[0.3333333333333333,\"#9c179e\"],[0.4444444444444444,\"#bd3786\"],[0.5555555555555556,\"#d8576b\"],[0.6666666666666666,\"#ed7953\"],[0.7777777777777778,\"#fb9f3a\"],[0.8888888888888888,\"#fdca26\"],[1.0,\"#f0f921\"]]}],\"heatmap\":[{\"type\":\"heatmap\",\"colorbar\":{\"outlinewidth\":0,\"ticks\":\"\"},\"colorscale\":[[0.0,\"#0d0887\"],[0.1111111111111111,\"#46039f\"],[0.2222222222222222,\"#7201a8\"],[0.3333333333333333,\"#9c179e\"],[0.4444444444444444,\"#bd3786\"],[0.5555555555555556,\"#d8576b\"],[0.6666666666666666,\"#ed7953\"],[0.7777777777777778,\"#fb9f3a\"],[0.8888888888888888,\"#fdca26\"],[1.0,\"#f0f921\"]]}],\"heatmapgl\":[{\"type\":\"heatmapgl\",\"colorbar\":{\"outlinewidth\":0,\"ticks\":\"\"},\"colorscale\":[[0.0,\"#0d0887\"],[0.1111111111111111,\"#46039f\"],[0.2222222222222222,\"#7201a8\"],[0.3333333333333333,\"#9c179e\"],[0.4444444444444444,\"#bd3786\"],[0.5555555555555556,\"#d8576b\"],[0.6666666666666666,\"#ed7953\"],[0.7777777777777778,\"#fb9f3a\"],[0.8888888888888888,\"#fdca26\"],[1.0,\"#f0f921\"]]}],\"contourcarpet\":[{\"type\":\"contourcarpet\",\"colorbar\":{\"outlinewidth\":0,\"ticks\":\"\"}}],\"contour\":[{\"type\":\"contour\",\"colorbar\":{\"outlinewidth\":0,\"ticks\":\"\"},\"colorscale\":[[0.0,\"#0d0887\"],[0.1111111111111111,\"#46039f\"],[0.2222222222222222,\"#7201a8\"],[0.3333333333333333,\"#9c179e\"],[0.4444444444444444,\"#bd3786\"],[0.5555555555555556,\"#d8576b\"],[0.6666666666666666,\"#ed7953\"],[0.7777777777777778,\"#fb9f3a\"],[0.8888888888888888,\"#fdca26\"],[1.0,\"#f0f921\"]]}],\"surface\":[{\"type\":\"surface\",\"colorbar\":{\"outlinewidth\":0,\"ticks\":\"\"},\"colorscale\":[[0.0,\"#0d0887\"],[0.1111111111111111,\"#46039f\"],[0.2222222222222222,\"#7201a8\"],[0.3333333333333333,\"#9c179e\"],[0.4444444444444444,\"#bd3786\"],[0.5555555555555556,\"#d8576b\"],[0.6666666666666666,\"#ed7953\"],[0.7777777777777778,\"#fb9f3a\"],[0.8888888888888888,\"#fdca26\"],[1.0,\"#f0f921\"]]}],\"mesh3d\":[{\"type\":\"mesh3d\",\"colorbar\":{\"outlinewidth\":0,\"ticks\":\"\"}}],\"scatter\":[{\"fillpattern\":{\"fillmode\":\"overlay\",\"size\":10,\"solidity\":0.2},\"type\":\"scatter\"}],\"parcoords\":[{\"type\":\"parcoords\",\"line\":{\"colorbar\":{\"outlinewidth\":0,\"ticks\":\"\"}}}],\"scatterpolargl\":[{\"type\":\"scatterpolargl\",\"marker\":{\"colorbar\":{\"outlinewidth\":0,\"ticks\":\"\"}}}],\"bar\":[{\"error_x\":{\"color\":\"#2a3f5f\"},\"error_y\":{\"color\":\"#2a3f5f\"},\"marker\":{\"line\":{\"color\":\"#E5ECF6\",\"width\":0.5},\"pattern\":{\"fillmode\":\"overlay\",\"size\":10,\"solidity\":0.2}},\"type\":\"bar\"}],\"scattergeo\":[{\"type\":\"scattergeo\",\"marker\":{\"colorbar\":{\"outlinewidth\":0,\"ticks\":\"\"}}}],\"scatterpolar\":[{\"type\":\"scatterpolar\",\"marker\":{\"colorbar\":{\"outlinewidth\":0,\"ticks\":\"\"}}}],\"histogram\":[{\"marker\":{\"pattern\":{\"fillmode\":\"overlay\",\"size\":10,\"solidity\":0.2}},\"type\":\"histogram\"}],\"scattergl\":[{\"type\":\"scattergl\",\"marker\":{\"colorbar\":{\"outlinewidth\":0,\"ticks\":\"\"}}}],\"scatter3d\":[{\"type\":\"scatter3d\",\"line\":{\"colorbar\":{\"outlinewidth\":0,\"ticks\":\"\"}},\"marker\":{\"colorbar\":{\"outlinewidth\":0,\"ticks\":\"\"}}}],\"scattermapbox\":[{\"type\":\"scattermapbox\",\"marker\":{\"colorbar\":{\"outlinewidth\":0,\"ticks\":\"\"}}}],\"scatterternary\":[{\"type\":\"scatterternary\",\"marker\":{\"colorbar\":{\"outlinewidth\":0,\"ticks\":\"\"}}}],\"scattercarpet\":[{\"type\":\"scattercarpet\",\"marker\":{\"colorbar\":{\"outlinewidth\":0,\"ticks\":\"\"}}}],\"carpet\":[{\"aaxis\":{\"endlinecolor\":\"#2a3f5f\",\"gridcolor\":\"white\",\"linecolor\":\"white\",\"minorgridcolor\":\"white\",\"startlinecolor\":\"#2a3f5f\"},\"baxis\":{\"endlinecolor\":\"#2a3f5f\",\"gridcolor\":\"white\",\"linecolor\":\"white\",\"minorgridcolor\":\"white\",\"startlinecolor\":\"#2a3f5f\"},\"type\":\"carpet\"}],\"table\":[{\"cells\":{\"fill\":{\"color\":\"#EBF0F8\"},\"line\":{\"color\":\"white\"}},\"header\":{\"fill\":{\"color\":\"#C8D4E3\"},\"line\":{\"color\":\"white\"}},\"type\":\"table\"}],\"barpolar\":[{\"marker\":{\"line\":{\"color\":\"#E5ECF6\",\"width\":0.5},\"pattern\":{\"fillmode\":\"overlay\",\"size\":10,\"solidity\":0.2}},\"type\":\"barpolar\"}],\"pie\":[{\"automargin\":true,\"type\":\"pie\"}]},\"layout\":{\"autotypenumbers\":\"strict\",\"colorway\":[\"#636efa\",\"#EF553B\",\"#00cc96\",\"#ab63fa\",\"#FFA15A\",\"#19d3f3\",\"#FF6692\",\"#B6E880\",\"#FF97FF\",\"#FECB52\"],\"font\":{\"color\":\"#2a3f5f\"},\"hovermode\":\"closest\",\"hoverlabel\":{\"align\":\"left\"},\"paper_bgcolor\":\"white\",\"plot_bgcolor\":\"#E5ECF6\",\"polar\":{\"bgcolor\":\"#E5ECF6\",\"angularaxis\":{\"gridcolor\":\"white\",\"linecolor\":\"white\",\"ticks\":\"\"},\"radialaxis\":{\"gridcolor\":\"white\",\"linecolor\":\"white\",\"ticks\":\"\"}},\"ternary\":{\"bgcolor\":\"#E5ECF6\",\"aaxis\":{\"gridcolor\":\"white\",\"linecolor\":\"white\",\"ticks\":\"\"},\"baxis\":{\"gridcolor\":\"white\",\"linecolor\":\"white\",\"ticks\":\"\"},\"caxis\":{\"gridcolor\":\"white\",\"linecolor\":\"white\",\"ticks\":\"\"}},\"coloraxis\":{\"colorbar\":{\"outlinewidth\":0,\"ticks\":\"\"}},\"colorscale\":{\"sequential\":[[0.0,\"#0d0887\"],[0.1111111111111111,\"#46039f\"],[0.2222222222222222,\"#7201a8\"],[0.3333333333333333,\"#9c179e\"],[0.4444444444444444,\"#bd3786\"],[0.5555555555555556,\"#d8576b\"],[0.6666666666666666,\"#ed7953\"],[0.7777777777777778,\"#fb9f3a\"],[0.8888888888888888,\"#fdca26\"],[1.0,\"#f0f921\"]],\"sequentialminus\":[[0.0,\"#0d0887\"],[0.1111111111111111,\"#46039f\"],[0.2222222222222222,\"#7201a8\"],[0.3333333333333333,\"#9c179e\"],[0.4444444444444444,\"#bd3786\"],[0.5555555555555556,\"#d8576b\"],[0.6666666666666666,\"#ed7953\"],[0.7777777777777778,\"#fb9f3a\"],[0.8888888888888888,\"#fdca26\"],[1.0,\"#f0f921\"]],\"diverging\":[[0,\"#8e0152\"],[0.1,\"#c51b7d\"],[0.2,\"#de77ae\"],[0.3,\"#f1b6da\"],[0.4,\"#fde0ef\"],[0.5,\"#f7f7f7\"],[0.6,\"#e6f5d0\"],[0.7,\"#b8e186\"],[0.8,\"#7fbc41\"],[0.9,\"#4d9221\"],[1,\"#276419\"]]},\"xaxis\":{\"gridcolor\":\"white\",\"linecolor\":\"white\",\"ticks\":\"\",\"title\":{\"standoff\":15},\"zerolinecolor\":\"white\",\"automargin\":true,\"zerolinewidth\":2},\"yaxis\":{\"gridcolor\":\"white\",\"linecolor\":\"white\",\"ticks\":\"\",\"title\":{\"standoff\":15},\"zerolinecolor\":\"white\",\"automargin\":true,\"zerolinewidth\":2},\"scene\":{\"xaxis\":{\"backgroundcolor\":\"#E5ECF6\",\"gridcolor\":\"white\",\"linecolor\":\"white\",\"showbackground\":true,\"ticks\":\"\",\"zerolinecolor\":\"white\",\"gridwidth\":2},\"yaxis\":{\"backgroundcolor\":\"#E5ECF6\",\"gridcolor\":\"white\",\"linecolor\":\"white\",\"showbackground\":true,\"ticks\":\"\",\"zerolinecolor\":\"white\",\"gridwidth\":2},\"zaxis\":{\"backgroundcolor\":\"#E5ECF6\",\"gridcolor\":\"white\",\"linecolor\":\"white\",\"showbackground\":true,\"ticks\":\"\",\"zerolinecolor\":\"white\",\"gridwidth\":2}},\"shapedefaults\":{\"line\":{\"color\":\"#2a3f5f\"}},\"annotationdefaults\":{\"arrowcolor\":\"#2a3f5f\",\"arrowhead\":0,\"arrowwidth\":1},\"geo\":{\"bgcolor\":\"white\",\"landcolor\":\"#E5ECF6\",\"subunitcolor\":\"white\",\"showland\":true,\"showlakes\":true,\"lakecolor\":\"white\"},\"title\":{\"x\":0.05},\"mapbox\":{\"style\":\"light\"}}},\"title\":{\"text\":\"AdaBoost score during trenning\"},\"xaxis\":{\"title\":{\"text\":\"Model iteration (added new weak learner)\"}},\"yaxis\":{\"title\":{\"text\":\"Model score\"}}},                        {\"responsive\": true}                    ).then(function(){\n",
       "                            \n",
       "var gd = document.getElementById('a7f2beb6-b190-4dc7-9c12-06a9390b32a0');\n",
       "var x = new MutationObserver(function (mutations, observer) {{\n",
       "        var display = window.getComputedStyle(gd).display;\n",
       "        if (!display || display === 'none') {{\n",
       "            console.log([gd, 'removed!']);\n",
       "            Plotly.purge(gd);\n",
       "            observer.disconnect();\n",
       "        }}\n",
       "}});\n",
       "\n",
       "// Listen for the removal of the full notebook cells\n",
       "var notebookContainer = gd.closest('#notebook-container');\n",
       "if (notebookContainer) {{\n",
       "    x.observe(notebookContainer, {childList: true});\n",
       "}}\n",
       "\n",
       "// Listen for the clearing of the current output cell\n",
       "var outputEl = gd.closest('.output');\n",
       "if (outputEl) {{\n",
       "    x.observe(outputEl, {childList: true});\n",
       "}}\n",
       "\n",
       "                        })                };                });            </script>        </div>"
      ]
     },
     "metadata": {},
     "output_type": "display_data"
    }
   ],
   "source": [
    "y = list(clf.staged_score(X_train, y_train))\n",
    "\n",
    "fig = go.Figure(data=go.Scatter(y=y, mode='markers+lines'))\n",
    "fig.update_layout(title='AdaBoost score during trenning')\n",
    "fig.update_xaxes(title='Model iteration (added new weak learner)')\n",
    "fig.update_yaxes(title='Model score')\n",
    "fig.show()"
   ]
  },
  {
   "cell_type": "markdown",
   "id": "455b7765",
   "metadata": {},
   "source": [
    "How was the AdaBoost prediction changing for a specific element during trenning?"
   ]
  },
  {
   "cell_type": "code",
   "execution_count": 91,
   "id": "f3cb3b89",
   "metadata": {
    "ExecuteTime": {
     "end_time": "2023-01-25T15:53:31.796657Z",
     "start_time": "2023-01-25T15:53:31.761654Z"
    }
   },
   "outputs": [
    {
     "data": {
      "application/vnd.plotly.v1+json": {
       "config": {
        "plotlyServerURL": "https://plot.ly"
       },
       "data": [
        {
         "mode": "markers+lines",
         "type": "scatter",
         "y": [
          -1,
          -1,
          -1,
          -1,
          1,
          1,
          1,
          -1,
          1,
          -1,
          1,
          1,
          1,
          1,
          1,
          1,
          1,
          1,
          1,
          1,
          1,
          1,
          1,
          1,
          1,
          1,
          1,
          1,
          1,
          1,
          1,
          1,
          1,
          1,
          1,
          1,
          1,
          1,
          1,
          1,
          1,
          1,
          1,
          1,
          1,
          1,
          1,
          1,
          1,
          1
         ]
        }
       ],
       "layout": {
        "template": {
         "data": {
          "bar": [
           {
            "error_x": {
             "color": "#2a3f5f"
            },
            "error_y": {
             "color": "#2a3f5f"
            },
            "marker": {
             "line": {
              "color": "#E5ECF6",
              "width": 0.5
             },
             "pattern": {
              "fillmode": "overlay",
              "size": 10,
              "solidity": 0.2
             }
            },
            "type": "bar"
           }
          ],
          "barpolar": [
           {
            "marker": {
             "line": {
              "color": "#E5ECF6",
              "width": 0.5
             },
             "pattern": {
              "fillmode": "overlay",
              "size": 10,
              "solidity": 0.2
             }
            },
            "type": "barpolar"
           }
          ],
          "carpet": [
           {
            "aaxis": {
             "endlinecolor": "#2a3f5f",
             "gridcolor": "white",
             "linecolor": "white",
             "minorgridcolor": "white",
             "startlinecolor": "#2a3f5f"
            },
            "baxis": {
             "endlinecolor": "#2a3f5f",
             "gridcolor": "white",
             "linecolor": "white",
             "minorgridcolor": "white",
             "startlinecolor": "#2a3f5f"
            },
            "type": "carpet"
           }
          ],
          "choropleth": [
           {
            "colorbar": {
             "outlinewidth": 0,
             "ticks": ""
            },
            "type": "choropleth"
           }
          ],
          "contour": [
           {
            "colorbar": {
             "outlinewidth": 0,
             "ticks": ""
            },
            "colorscale": [
             [
              0,
              "#0d0887"
             ],
             [
              0.1111111111111111,
              "#46039f"
             ],
             [
              0.2222222222222222,
              "#7201a8"
             ],
             [
              0.3333333333333333,
              "#9c179e"
             ],
             [
              0.4444444444444444,
              "#bd3786"
             ],
             [
              0.5555555555555556,
              "#d8576b"
             ],
             [
              0.6666666666666666,
              "#ed7953"
             ],
             [
              0.7777777777777778,
              "#fb9f3a"
             ],
             [
              0.8888888888888888,
              "#fdca26"
             ],
             [
              1,
              "#f0f921"
             ]
            ],
            "type": "contour"
           }
          ],
          "contourcarpet": [
           {
            "colorbar": {
             "outlinewidth": 0,
             "ticks": ""
            },
            "type": "contourcarpet"
           }
          ],
          "heatmap": [
           {
            "colorbar": {
             "outlinewidth": 0,
             "ticks": ""
            },
            "colorscale": [
             [
              0,
              "#0d0887"
             ],
             [
              0.1111111111111111,
              "#46039f"
             ],
             [
              0.2222222222222222,
              "#7201a8"
             ],
             [
              0.3333333333333333,
              "#9c179e"
             ],
             [
              0.4444444444444444,
              "#bd3786"
             ],
             [
              0.5555555555555556,
              "#d8576b"
             ],
             [
              0.6666666666666666,
              "#ed7953"
             ],
             [
              0.7777777777777778,
              "#fb9f3a"
             ],
             [
              0.8888888888888888,
              "#fdca26"
             ],
             [
              1,
              "#f0f921"
             ]
            ],
            "type": "heatmap"
           }
          ],
          "heatmapgl": [
           {
            "colorbar": {
             "outlinewidth": 0,
             "ticks": ""
            },
            "colorscale": [
             [
              0,
              "#0d0887"
             ],
             [
              0.1111111111111111,
              "#46039f"
             ],
             [
              0.2222222222222222,
              "#7201a8"
             ],
             [
              0.3333333333333333,
              "#9c179e"
             ],
             [
              0.4444444444444444,
              "#bd3786"
             ],
             [
              0.5555555555555556,
              "#d8576b"
             ],
             [
              0.6666666666666666,
              "#ed7953"
             ],
             [
              0.7777777777777778,
              "#fb9f3a"
             ],
             [
              0.8888888888888888,
              "#fdca26"
             ],
             [
              1,
              "#f0f921"
             ]
            ],
            "type": "heatmapgl"
           }
          ],
          "histogram": [
           {
            "marker": {
             "pattern": {
              "fillmode": "overlay",
              "size": 10,
              "solidity": 0.2
             }
            },
            "type": "histogram"
           }
          ],
          "histogram2d": [
           {
            "colorbar": {
             "outlinewidth": 0,
             "ticks": ""
            },
            "colorscale": [
             [
              0,
              "#0d0887"
             ],
             [
              0.1111111111111111,
              "#46039f"
             ],
             [
              0.2222222222222222,
              "#7201a8"
             ],
             [
              0.3333333333333333,
              "#9c179e"
             ],
             [
              0.4444444444444444,
              "#bd3786"
             ],
             [
              0.5555555555555556,
              "#d8576b"
             ],
             [
              0.6666666666666666,
              "#ed7953"
             ],
             [
              0.7777777777777778,
              "#fb9f3a"
             ],
             [
              0.8888888888888888,
              "#fdca26"
             ],
             [
              1,
              "#f0f921"
             ]
            ],
            "type": "histogram2d"
           }
          ],
          "histogram2dcontour": [
           {
            "colorbar": {
             "outlinewidth": 0,
             "ticks": ""
            },
            "colorscale": [
             [
              0,
              "#0d0887"
             ],
             [
              0.1111111111111111,
              "#46039f"
             ],
             [
              0.2222222222222222,
              "#7201a8"
             ],
             [
              0.3333333333333333,
              "#9c179e"
             ],
             [
              0.4444444444444444,
              "#bd3786"
             ],
             [
              0.5555555555555556,
              "#d8576b"
             ],
             [
              0.6666666666666666,
              "#ed7953"
             ],
             [
              0.7777777777777778,
              "#fb9f3a"
             ],
             [
              0.8888888888888888,
              "#fdca26"
             ],
             [
              1,
              "#f0f921"
             ]
            ],
            "type": "histogram2dcontour"
           }
          ],
          "mesh3d": [
           {
            "colorbar": {
             "outlinewidth": 0,
             "ticks": ""
            },
            "type": "mesh3d"
           }
          ],
          "parcoords": [
           {
            "line": {
             "colorbar": {
              "outlinewidth": 0,
              "ticks": ""
             }
            },
            "type": "parcoords"
           }
          ],
          "pie": [
           {
            "automargin": true,
            "type": "pie"
           }
          ],
          "scatter": [
           {
            "fillpattern": {
             "fillmode": "overlay",
             "size": 10,
             "solidity": 0.2
            },
            "type": "scatter"
           }
          ],
          "scatter3d": [
           {
            "line": {
             "colorbar": {
              "outlinewidth": 0,
              "ticks": ""
             }
            },
            "marker": {
             "colorbar": {
              "outlinewidth": 0,
              "ticks": ""
             }
            },
            "type": "scatter3d"
           }
          ],
          "scattercarpet": [
           {
            "marker": {
             "colorbar": {
              "outlinewidth": 0,
              "ticks": ""
             }
            },
            "type": "scattercarpet"
           }
          ],
          "scattergeo": [
           {
            "marker": {
             "colorbar": {
              "outlinewidth": 0,
              "ticks": ""
             }
            },
            "type": "scattergeo"
           }
          ],
          "scattergl": [
           {
            "marker": {
             "colorbar": {
              "outlinewidth": 0,
              "ticks": ""
             }
            },
            "type": "scattergl"
           }
          ],
          "scattermapbox": [
           {
            "marker": {
             "colorbar": {
              "outlinewidth": 0,
              "ticks": ""
             }
            },
            "type": "scattermapbox"
           }
          ],
          "scatterpolar": [
           {
            "marker": {
             "colorbar": {
              "outlinewidth": 0,
              "ticks": ""
             }
            },
            "type": "scatterpolar"
           }
          ],
          "scatterpolargl": [
           {
            "marker": {
             "colorbar": {
              "outlinewidth": 0,
              "ticks": ""
             }
            },
            "type": "scatterpolargl"
           }
          ],
          "scatterternary": [
           {
            "marker": {
             "colorbar": {
              "outlinewidth": 0,
              "ticks": ""
             }
            },
            "type": "scatterternary"
           }
          ],
          "surface": [
           {
            "colorbar": {
             "outlinewidth": 0,
             "ticks": ""
            },
            "colorscale": [
             [
              0,
              "#0d0887"
             ],
             [
              0.1111111111111111,
              "#46039f"
             ],
             [
              0.2222222222222222,
              "#7201a8"
             ],
             [
              0.3333333333333333,
              "#9c179e"
             ],
             [
              0.4444444444444444,
              "#bd3786"
             ],
             [
              0.5555555555555556,
              "#d8576b"
             ],
             [
              0.6666666666666666,
              "#ed7953"
             ],
             [
              0.7777777777777778,
              "#fb9f3a"
             ],
             [
              0.8888888888888888,
              "#fdca26"
             ],
             [
              1,
              "#f0f921"
             ]
            ],
            "type": "surface"
           }
          ],
          "table": [
           {
            "cells": {
             "fill": {
              "color": "#EBF0F8"
             },
             "line": {
              "color": "white"
             }
            },
            "header": {
             "fill": {
              "color": "#C8D4E3"
             },
             "line": {
              "color": "white"
             }
            },
            "type": "table"
           }
          ]
         },
         "layout": {
          "annotationdefaults": {
           "arrowcolor": "#2a3f5f",
           "arrowhead": 0,
           "arrowwidth": 1
          },
          "autotypenumbers": "strict",
          "coloraxis": {
           "colorbar": {
            "outlinewidth": 0,
            "ticks": ""
           }
          },
          "colorscale": {
           "diverging": [
            [
             0,
             "#8e0152"
            ],
            [
             0.1,
             "#c51b7d"
            ],
            [
             0.2,
             "#de77ae"
            ],
            [
             0.3,
             "#f1b6da"
            ],
            [
             0.4,
             "#fde0ef"
            ],
            [
             0.5,
             "#f7f7f7"
            ],
            [
             0.6,
             "#e6f5d0"
            ],
            [
             0.7,
             "#b8e186"
            ],
            [
             0.8,
             "#7fbc41"
            ],
            [
             0.9,
             "#4d9221"
            ],
            [
             1,
             "#276419"
            ]
           ],
           "sequential": [
            [
             0,
             "#0d0887"
            ],
            [
             0.1111111111111111,
             "#46039f"
            ],
            [
             0.2222222222222222,
             "#7201a8"
            ],
            [
             0.3333333333333333,
             "#9c179e"
            ],
            [
             0.4444444444444444,
             "#bd3786"
            ],
            [
             0.5555555555555556,
             "#d8576b"
            ],
            [
             0.6666666666666666,
             "#ed7953"
            ],
            [
             0.7777777777777778,
             "#fb9f3a"
            ],
            [
             0.8888888888888888,
             "#fdca26"
            ],
            [
             1,
             "#f0f921"
            ]
           ],
           "sequentialminus": [
            [
             0,
             "#0d0887"
            ],
            [
             0.1111111111111111,
             "#46039f"
            ],
            [
             0.2222222222222222,
             "#7201a8"
            ],
            [
             0.3333333333333333,
             "#9c179e"
            ],
            [
             0.4444444444444444,
             "#bd3786"
            ],
            [
             0.5555555555555556,
             "#d8576b"
            ],
            [
             0.6666666666666666,
             "#ed7953"
            ],
            [
             0.7777777777777778,
             "#fb9f3a"
            ],
            [
             0.8888888888888888,
             "#fdca26"
            ],
            [
             1,
             "#f0f921"
            ]
           ]
          },
          "colorway": [
           "#636efa",
           "#EF553B",
           "#00cc96",
           "#ab63fa",
           "#FFA15A",
           "#19d3f3",
           "#FF6692",
           "#B6E880",
           "#FF97FF",
           "#FECB52"
          ],
          "font": {
           "color": "#2a3f5f"
          },
          "geo": {
           "bgcolor": "white",
           "lakecolor": "white",
           "landcolor": "#E5ECF6",
           "showlakes": true,
           "showland": true,
           "subunitcolor": "white"
          },
          "hoverlabel": {
           "align": "left"
          },
          "hovermode": "closest",
          "mapbox": {
           "style": "light"
          },
          "paper_bgcolor": "white",
          "plot_bgcolor": "#E5ECF6",
          "polar": {
           "angularaxis": {
            "gridcolor": "white",
            "linecolor": "white",
            "ticks": ""
           },
           "bgcolor": "#E5ECF6",
           "radialaxis": {
            "gridcolor": "white",
            "linecolor": "white",
            "ticks": ""
           }
          },
          "scene": {
           "xaxis": {
            "backgroundcolor": "#E5ECF6",
            "gridcolor": "white",
            "gridwidth": 2,
            "linecolor": "white",
            "showbackground": true,
            "ticks": "",
            "zerolinecolor": "white"
           },
           "yaxis": {
            "backgroundcolor": "#E5ECF6",
            "gridcolor": "white",
            "gridwidth": 2,
            "linecolor": "white",
            "showbackground": true,
            "ticks": "",
            "zerolinecolor": "white"
           },
           "zaxis": {
            "backgroundcolor": "#E5ECF6",
            "gridcolor": "white",
            "gridwidth": 2,
            "linecolor": "white",
            "showbackground": true,
            "ticks": "",
            "zerolinecolor": "white"
           }
          },
          "shapedefaults": {
           "line": {
            "color": "#2a3f5f"
           }
          },
          "ternary": {
           "aaxis": {
            "gridcolor": "white",
            "linecolor": "white",
            "ticks": ""
           },
           "baxis": {
            "gridcolor": "white",
            "linecolor": "white",
            "ticks": ""
           },
           "bgcolor": "#E5ECF6",
           "caxis": {
            "gridcolor": "white",
            "linecolor": "white",
            "ticks": ""
           }
          },
          "title": {
           "x": 0.05
          },
          "xaxis": {
           "automargin": true,
           "gridcolor": "white",
           "linecolor": "white",
           "ticks": "",
           "title": {
            "standoff": 15
           },
           "zerolinecolor": "white",
           "zerolinewidth": 2
          },
          "yaxis": {
           "automargin": true,
           "gridcolor": "white",
           "linecolor": "white",
           "ticks": "",
           "title": {
            "standoff": 15
           },
           "zerolinecolor": "white",
           "zerolinewidth": 2
          }
         }
        },
        "title": {
         "text": "AdaBoost prediction for x[3] during trenning"
        },
        "xaxis": {
         "title": {
          "text": "Model iteration (added new weak learner)"
         }
        },
        "yaxis": {
         "title": {
          "text": "Model prediction"
         }
        }
       }
      },
      "text/html": [
       "<div>                            <div id=\"a67cadc8-876e-44a7-8c00-50d560500f14\" class=\"plotly-graph-div\" style=\"height:525px; width:100%;\"></div>            <script type=\"text/javascript\">                require([\"plotly\"], function(Plotly) {                    window.PLOTLYENV=window.PLOTLYENV || {};                                    if (document.getElementById(\"a67cadc8-876e-44a7-8c00-50d560500f14\")) {                    Plotly.newPlot(                        \"a67cadc8-876e-44a7-8c00-50d560500f14\",                        [{\"mode\":\"markers+lines\",\"y\":[-1,-1,-1,-1,1,1,1,-1,1,-1,1,1,1,1,1,1,1,1,1,1,1,1,1,1,1,1,1,1,1,1,1,1,1,1,1,1,1,1,1,1,1,1,1,1,1,1,1,1,1,1],\"type\":\"scatter\"}],                        {\"template\":{\"data\":{\"histogram2dcontour\":[{\"type\":\"histogram2dcontour\",\"colorbar\":{\"outlinewidth\":0,\"ticks\":\"\"},\"colorscale\":[[0.0,\"#0d0887\"],[0.1111111111111111,\"#46039f\"],[0.2222222222222222,\"#7201a8\"],[0.3333333333333333,\"#9c179e\"],[0.4444444444444444,\"#bd3786\"],[0.5555555555555556,\"#d8576b\"],[0.6666666666666666,\"#ed7953\"],[0.7777777777777778,\"#fb9f3a\"],[0.8888888888888888,\"#fdca26\"],[1.0,\"#f0f921\"]]}],\"choropleth\":[{\"type\":\"choropleth\",\"colorbar\":{\"outlinewidth\":0,\"ticks\":\"\"}}],\"histogram2d\":[{\"type\":\"histogram2d\",\"colorbar\":{\"outlinewidth\":0,\"ticks\":\"\"},\"colorscale\":[[0.0,\"#0d0887\"],[0.1111111111111111,\"#46039f\"],[0.2222222222222222,\"#7201a8\"],[0.3333333333333333,\"#9c179e\"],[0.4444444444444444,\"#bd3786\"],[0.5555555555555556,\"#d8576b\"],[0.6666666666666666,\"#ed7953\"],[0.7777777777777778,\"#fb9f3a\"],[0.8888888888888888,\"#fdca26\"],[1.0,\"#f0f921\"]]}],\"heatmap\":[{\"type\":\"heatmap\",\"colorbar\":{\"outlinewidth\":0,\"ticks\":\"\"},\"colorscale\":[[0.0,\"#0d0887\"],[0.1111111111111111,\"#46039f\"],[0.2222222222222222,\"#7201a8\"],[0.3333333333333333,\"#9c179e\"],[0.4444444444444444,\"#bd3786\"],[0.5555555555555556,\"#d8576b\"],[0.6666666666666666,\"#ed7953\"],[0.7777777777777778,\"#fb9f3a\"],[0.8888888888888888,\"#fdca26\"],[1.0,\"#f0f921\"]]}],\"heatmapgl\":[{\"type\":\"heatmapgl\",\"colorbar\":{\"outlinewidth\":0,\"ticks\":\"\"},\"colorscale\":[[0.0,\"#0d0887\"],[0.1111111111111111,\"#46039f\"],[0.2222222222222222,\"#7201a8\"],[0.3333333333333333,\"#9c179e\"],[0.4444444444444444,\"#bd3786\"],[0.5555555555555556,\"#d8576b\"],[0.6666666666666666,\"#ed7953\"],[0.7777777777777778,\"#fb9f3a\"],[0.8888888888888888,\"#fdca26\"],[1.0,\"#f0f921\"]]}],\"contourcarpet\":[{\"type\":\"contourcarpet\",\"colorbar\":{\"outlinewidth\":0,\"ticks\":\"\"}}],\"contour\":[{\"type\":\"contour\",\"colorbar\":{\"outlinewidth\":0,\"ticks\":\"\"},\"colorscale\":[[0.0,\"#0d0887\"],[0.1111111111111111,\"#46039f\"],[0.2222222222222222,\"#7201a8\"],[0.3333333333333333,\"#9c179e\"],[0.4444444444444444,\"#bd3786\"],[0.5555555555555556,\"#d8576b\"],[0.6666666666666666,\"#ed7953\"],[0.7777777777777778,\"#fb9f3a\"],[0.8888888888888888,\"#fdca26\"],[1.0,\"#f0f921\"]]}],\"surface\":[{\"type\":\"surface\",\"colorbar\":{\"outlinewidth\":0,\"ticks\":\"\"},\"colorscale\":[[0.0,\"#0d0887\"],[0.1111111111111111,\"#46039f\"],[0.2222222222222222,\"#7201a8\"],[0.3333333333333333,\"#9c179e\"],[0.4444444444444444,\"#bd3786\"],[0.5555555555555556,\"#d8576b\"],[0.6666666666666666,\"#ed7953\"],[0.7777777777777778,\"#fb9f3a\"],[0.8888888888888888,\"#fdca26\"],[1.0,\"#f0f921\"]]}],\"mesh3d\":[{\"type\":\"mesh3d\",\"colorbar\":{\"outlinewidth\":0,\"ticks\":\"\"}}],\"scatter\":[{\"fillpattern\":{\"fillmode\":\"overlay\",\"size\":10,\"solidity\":0.2},\"type\":\"scatter\"}],\"parcoords\":[{\"type\":\"parcoords\",\"line\":{\"colorbar\":{\"outlinewidth\":0,\"ticks\":\"\"}}}],\"scatterpolargl\":[{\"type\":\"scatterpolargl\",\"marker\":{\"colorbar\":{\"outlinewidth\":0,\"ticks\":\"\"}}}],\"bar\":[{\"error_x\":{\"color\":\"#2a3f5f\"},\"error_y\":{\"color\":\"#2a3f5f\"},\"marker\":{\"line\":{\"color\":\"#E5ECF6\",\"width\":0.5},\"pattern\":{\"fillmode\":\"overlay\",\"size\":10,\"solidity\":0.2}},\"type\":\"bar\"}],\"scattergeo\":[{\"type\":\"scattergeo\",\"marker\":{\"colorbar\":{\"outlinewidth\":0,\"ticks\":\"\"}}}],\"scatterpolar\":[{\"type\":\"scatterpolar\",\"marker\":{\"colorbar\":{\"outlinewidth\":0,\"ticks\":\"\"}}}],\"histogram\":[{\"marker\":{\"pattern\":{\"fillmode\":\"overlay\",\"size\":10,\"solidity\":0.2}},\"type\":\"histogram\"}],\"scattergl\":[{\"type\":\"scattergl\",\"marker\":{\"colorbar\":{\"outlinewidth\":0,\"ticks\":\"\"}}}],\"scatter3d\":[{\"type\":\"scatter3d\",\"line\":{\"colorbar\":{\"outlinewidth\":0,\"ticks\":\"\"}},\"marker\":{\"colorbar\":{\"outlinewidth\":0,\"ticks\":\"\"}}}],\"scattermapbox\":[{\"type\":\"scattermapbox\",\"marker\":{\"colorbar\":{\"outlinewidth\":0,\"ticks\":\"\"}}}],\"scatterternary\":[{\"type\":\"scatterternary\",\"marker\":{\"colorbar\":{\"outlinewidth\":0,\"ticks\":\"\"}}}],\"scattercarpet\":[{\"type\":\"scattercarpet\",\"marker\":{\"colorbar\":{\"outlinewidth\":0,\"ticks\":\"\"}}}],\"carpet\":[{\"aaxis\":{\"endlinecolor\":\"#2a3f5f\",\"gridcolor\":\"white\",\"linecolor\":\"white\",\"minorgridcolor\":\"white\",\"startlinecolor\":\"#2a3f5f\"},\"baxis\":{\"endlinecolor\":\"#2a3f5f\",\"gridcolor\":\"white\",\"linecolor\":\"white\",\"minorgridcolor\":\"white\",\"startlinecolor\":\"#2a3f5f\"},\"type\":\"carpet\"}],\"table\":[{\"cells\":{\"fill\":{\"color\":\"#EBF0F8\"},\"line\":{\"color\":\"white\"}},\"header\":{\"fill\":{\"color\":\"#C8D4E3\"},\"line\":{\"color\":\"white\"}},\"type\":\"table\"}],\"barpolar\":[{\"marker\":{\"line\":{\"color\":\"#E5ECF6\",\"width\":0.5},\"pattern\":{\"fillmode\":\"overlay\",\"size\":10,\"solidity\":0.2}},\"type\":\"barpolar\"}],\"pie\":[{\"automargin\":true,\"type\":\"pie\"}]},\"layout\":{\"autotypenumbers\":\"strict\",\"colorway\":[\"#636efa\",\"#EF553B\",\"#00cc96\",\"#ab63fa\",\"#FFA15A\",\"#19d3f3\",\"#FF6692\",\"#B6E880\",\"#FF97FF\",\"#FECB52\"],\"font\":{\"color\":\"#2a3f5f\"},\"hovermode\":\"closest\",\"hoverlabel\":{\"align\":\"left\"},\"paper_bgcolor\":\"white\",\"plot_bgcolor\":\"#E5ECF6\",\"polar\":{\"bgcolor\":\"#E5ECF6\",\"angularaxis\":{\"gridcolor\":\"white\",\"linecolor\":\"white\",\"ticks\":\"\"},\"radialaxis\":{\"gridcolor\":\"white\",\"linecolor\":\"white\",\"ticks\":\"\"}},\"ternary\":{\"bgcolor\":\"#E5ECF6\",\"aaxis\":{\"gridcolor\":\"white\",\"linecolor\":\"white\",\"ticks\":\"\"},\"baxis\":{\"gridcolor\":\"white\",\"linecolor\":\"white\",\"ticks\":\"\"},\"caxis\":{\"gridcolor\":\"white\",\"linecolor\":\"white\",\"ticks\":\"\"}},\"coloraxis\":{\"colorbar\":{\"outlinewidth\":0,\"ticks\":\"\"}},\"colorscale\":{\"sequential\":[[0.0,\"#0d0887\"],[0.1111111111111111,\"#46039f\"],[0.2222222222222222,\"#7201a8\"],[0.3333333333333333,\"#9c179e\"],[0.4444444444444444,\"#bd3786\"],[0.5555555555555556,\"#d8576b\"],[0.6666666666666666,\"#ed7953\"],[0.7777777777777778,\"#fb9f3a\"],[0.8888888888888888,\"#fdca26\"],[1.0,\"#f0f921\"]],\"sequentialminus\":[[0.0,\"#0d0887\"],[0.1111111111111111,\"#46039f\"],[0.2222222222222222,\"#7201a8\"],[0.3333333333333333,\"#9c179e\"],[0.4444444444444444,\"#bd3786\"],[0.5555555555555556,\"#d8576b\"],[0.6666666666666666,\"#ed7953\"],[0.7777777777777778,\"#fb9f3a\"],[0.8888888888888888,\"#fdca26\"],[1.0,\"#f0f921\"]],\"diverging\":[[0,\"#8e0152\"],[0.1,\"#c51b7d\"],[0.2,\"#de77ae\"],[0.3,\"#f1b6da\"],[0.4,\"#fde0ef\"],[0.5,\"#f7f7f7\"],[0.6,\"#e6f5d0\"],[0.7,\"#b8e186\"],[0.8,\"#7fbc41\"],[0.9,\"#4d9221\"],[1,\"#276419\"]]},\"xaxis\":{\"gridcolor\":\"white\",\"linecolor\":\"white\",\"ticks\":\"\",\"title\":{\"standoff\":15},\"zerolinecolor\":\"white\",\"automargin\":true,\"zerolinewidth\":2},\"yaxis\":{\"gridcolor\":\"white\",\"linecolor\":\"white\",\"ticks\":\"\",\"title\":{\"standoff\":15},\"zerolinecolor\":\"white\",\"automargin\":true,\"zerolinewidth\":2},\"scene\":{\"xaxis\":{\"backgroundcolor\":\"#E5ECF6\",\"gridcolor\":\"white\",\"linecolor\":\"white\",\"showbackground\":true,\"ticks\":\"\",\"zerolinecolor\":\"white\",\"gridwidth\":2},\"yaxis\":{\"backgroundcolor\":\"#E5ECF6\",\"gridcolor\":\"white\",\"linecolor\":\"white\",\"showbackground\":true,\"ticks\":\"\",\"zerolinecolor\":\"white\",\"gridwidth\":2},\"zaxis\":{\"backgroundcolor\":\"#E5ECF6\",\"gridcolor\":\"white\",\"linecolor\":\"white\",\"showbackground\":true,\"ticks\":\"\",\"zerolinecolor\":\"white\",\"gridwidth\":2}},\"shapedefaults\":{\"line\":{\"color\":\"#2a3f5f\"}},\"annotationdefaults\":{\"arrowcolor\":\"#2a3f5f\",\"arrowhead\":0,\"arrowwidth\":1},\"geo\":{\"bgcolor\":\"white\",\"landcolor\":\"#E5ECF6\",\"subunitcolor\":\"white\",\"showland\":true,\"showlakes\":true,\"lakecolor\":\"white\"},\"title\":{\"x\":0.05},\"mapbox\":{\"style\":\"light\"}}},\"title\":{\"text\":\"AdaBoost prediction for x[3] during trenning\"},\"xaxis\":{\"title\":{\"text\":\"Model iteration (added new weak learner)\"}},\"yaxis\":{\"title\":{\"text\":\"Model prediction\"}}},                        {\"responsive\": true}                    ).then(function(){\n",
       "                            \n",
       "var gd = document.getElementById('a67cadc8-876e-44a7-8c00-50d560500f14');\n",
       "var x = new MutationObserver(function (mutations, observer) {{\n",
       "        var display = window.getComputedStyle(gd).display;\n",
       "        if (!display || display === 'none') {{\n",
       "            console.log([gd, 'removed!']);\n",
       "            Plotly.purge(gd);\n",
       "            observer.disconnect();\n",
       "        }}\n",
       "}});\n",
       "\n",
       "// Listen for the removal of the full notebook cells\n",
       "var notebookContainer = gd.closest('#notebook-container');\n",
       "if (notebookContainer) {{\n",
       "    x.observe(notebookContainer, {childList: true});\n",
       "}}\n",
       "\n",
       "// Listen for the clearing of the current output cell\n",
       "var outputEl = gd.closest('.output');\n",
       "if (outputEl) {{\n",
       "    x.observe(outputEl, {childList: true});\n",
       "}}\n",
       "\n",
       "                        })                };                });            </script>        </div>"
      ]
     },
     "metadata": {},
     "output_type": "display_data"
    }
   ],
   "source": [
    "i = 3\n",
    "y = np.array(list(clf.staged_predict(X_train[i:i+1]))).flatten()\n",
    "\n",
    "fig = go.Figure(data=go.Scatter(y=y, mode='markers+lines'))\n",
    "fig.update_layout(title=f'AdaBoost prediction for x[{i}] during trenning')\n",
    "fig.update_xaxes(title='Model iteration (added new weak learner)')\n",
    "fig.update_yaxes(title='Model prediction')\n",
    "fig.show()"
   ]
  },
  {
   "cell_type": "code",
   "execution_count": null,
   "id": "7636f8e8",
   "metadata": {
    "ExecuteTime": {
     "end_time": "2023-01-25T15:52:22.114888Z",
     "start_time": "2023-01-25T15:52:22.094837Z"
    }
   },
   "outputs": [],
   "source": []
  },
  {
   "cell_type": "code",
   "execution_count": null,
   "id": "b9e91fb0",
   "metadata": {},
   "outputs": [],
   "source": []
  }
 ],
 "metadata": {
  "kernelspec": {
   "display_name": "ML_from_scratch_venv",
   "language": "python",
   "name": "ml_from_scratch_venv"
  },
  "language_info": {
   "codemirror_mode": {
    "name": "ipython",
    "version": 3
   },
   "file_extension": ".py",
   "mimetype": "text/x-python",
   "name": "python",
   "nbconvert_exporter": "python",
   "pygments_lexer": "ipython3",
   "version": "3.8.6"
  },
  "toc": {
   "base_numbering": 1,
   "nav_menu": {},
   "number_sections": true,
   "sideBar": true,
   "skip_h1_title": false,
   "title_cell": "Table of Contents",
   "title_sidebar": "Contents",
   "toc_cell": false,
   "toc_position": {},
   "toc_section_display": true,
   "toc_window_display": false
  }
 },
 "nbformat": 4,
 "nbformat_minor": 5
}
