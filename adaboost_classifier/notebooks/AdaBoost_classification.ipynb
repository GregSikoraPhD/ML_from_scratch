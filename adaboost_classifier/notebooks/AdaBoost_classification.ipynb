{
 "cells": [
  {
   "cell_type": "code",
   "execution_count": 1,
   "id": "ece94e6e",
   "metadata": {
    "ExecuteTime": {
     "end_time": "2023-01-25T12:41:13.309934Z",
     "start_time": "2023-01-25T12:41:10.480556Z"
    }
   },
   "outputs": [],
   "source": [
    "import matplotlib.pyplot as plt\n",
    "import numpy as np\n",
    "import pandas as pd\n",
    "from collections import Counter\n",
    "from sklearn import datasets\n",
    "from sklearn.inspection import DecisionBoundaryDisplay\n",
    "from sklearn.model_selection import train_test_split\n",
    "from sklearn.tree import DecisionTreeClassifier, export_text, plot_tree, export_graphviz\n",
    "import graphviz\n",
    "import sys\n",
    "sys.path.insert(0, 'C:/Users/grzesiek/Documents/Data Science/PycharmProjects/ML_from_scratch/adaboost_classifier')"
   ]
  },
  {
   "cell_type": "markdown",
   "id": "7df7ea07",
   "metadata": {},
   "source": [
    "# AdaBoost from scratch"
   ]
  },
  {
   "cell_type": "code",
   "execution_count": 2,
   "id": "f5a24409",
   "metadata": {
    "ExecuteTime": {
     "end_time": "2023-01-25T12:41:14.342742Z",
     "start_time": "2023-01-25T12:41:14.324742Z"
    }
   },
   "outputs": [],
   "source": [
    "from adaboost_cls import accuracy, AdaboostCls"
   ]
  },
  {
   "cell_type": "code",
   "execution_count": 3,
   "id": "88cb0028",
   "metadata": {
    "ExecuteTime": {
     "end_time": "2023-01-25T12:41:15.892589Z",
     "start_time": "2023-01-25T12:41:15.864525Z"
    }
   },
   "outputs": [],
   "source": [
    "data = datasets.load_breast_cancer()\n",
    "X = data.data\n",
    "y = data.target\n",
    "\n",
    "y[y == 0] = -1\n",
    "X_train, X_test, y_train, y_test = train_test_split(X, y, test_size=0.2, random_state=5)"
   ]
  },
  {
   "cell_type": "code",
   "execution_count": 8,
   "id": "f512e04d",
   "metadata": {
    "ExecuteTime": {
     "end_time": "2023-01-25T12:42:45.638213Z",
     "start_time": "2023-01-25T12:42:28.264487Z"
    }
   },
   "outputs": [],
   "source": [
    "cls = AdaboostCls(n_cls=30)\n",
    "cls.fit(X_train, y_train)\n",
    "y_pred = cls.predict(X_test)"
   ]
  },
  {
   "cell_type": "code",
   "execution_count": 7,
   "id": "b2fc55ac",
   "metadata": {
    "ExecuteTime": {
     "end_time": "2023-01-25T12:42:22.080044Z",
     "start_time": "2023-01-25T12:42:22.065049Z"
    }
   },
   "outputs": [
    {
     "name": "stdout",
     "output_type": "stream",
     "text": [
      "Accuracy: 0.956140350877193\n"
     ]
    }
   ],
   "source": [
    "acc = accuracy(y_test, y_pred)\n",
    "print('Accuracy:', acc)"
   ]
  },
  {
   "cell_type": "markdown",
   "id": "1ee80efc",
   "metadata": {},
   "source": [
    "# AdaBoost from sklearn"
   ]
  },
  {
   "cell_type": "code",
   "execution_count": null,
   "id": "f15839bd",
   "metadata": {},
   "outputs": [],
   "source": []
  }
 ],
 "metadata": {
  "kernelspec": {
   "display_name": "ML_from_scratch_venv",
   "language": "python",
   "name": "ml_from_scratch_venv"
  },
  "language_info": {
   "codemirror_mode": {
    "name": "ipython",
    "version": 3
   },
   "file_extension": ".py",
   "mimetype": "text/x-python",
   "name": "python",
   "nbconvert_exporter": "python",
   "pygments_lexer": "ipython3",
   "version": "3.8.6"
  },
  "toc": {
   "base_numbering": 1,
   "nav_menu": {},
   "number_sections": true,
   "sideBar": true,
   "skip_h1_title": false,
   "title_cell": "Table of Contents",
   "title_sidebar": "Contents",
   "toc_cell": false,
   "toc_position": {},
   "toc_section_display": true,
   "toc_window_display": false
  }
 },
 "nbformat": 4,
 "nbformat_minor": 5
}
